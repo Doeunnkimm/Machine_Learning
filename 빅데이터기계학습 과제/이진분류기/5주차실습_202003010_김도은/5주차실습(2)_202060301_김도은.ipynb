{
  "cells": [
    {
      "cell_type": "markdown",
      "metadata": {
        "id": "l8N9a1kDF3wh"
      },
      "source": [
        "**3장 – 분류**\n",
        "\n",
        "_이 노트북은 3장의 모든 샘플 코드와 연습 문제 정답을 담고 있습니다._"
      ]
    },
    {
      "cell_type": "markdown",
      "metadata": {
        "id": "US6sFwH5F3wo"
      },
      "source": [
        "# 설정"
      ]
    },
    {
      "cell_type": "markdown",
      "metadata": {
        "id": "AT4obBzHF3wp"
      },
      "source": [
        "먼저 몇 개의 모듈을 임포트합니다. 맷플롯립 그래프를 인라인으로 출력하도록 만들고 그림을 저장하는 함수를 준비합니다. 또한 파이썬 버전이 3.5 이상인지 확인합니다(파이썬 2.x에서도 동작하지만 곧 지원이 중단되므로 파이썬 3을 사용하는 것이 좋습니다). 사이킷런 버전이 0.20 이상인지도 확인합니다."
      ]
    },
    {
      "cell_type": "code",
      "execution_count": 1,
      "metadata": {
        "execution": {
          "iopub.execute_input": "2021-11-03T03:32:14.273688Z",
          "iopub.status.busy": "2021-11-03T03:32:14.272928Z",
          "iopub.status.idle": "2021-11-03T03:32:15.536909Z",
          "shell.execute_reply": "2021-11-03T03:32:15.537445Z"
        },
        "id": "bjzjiUJHF3wr"
      },
      "outputs": [],
      "source": [
        "# 파이썬 ≥3.5 필수\n",
        "import sys\n",
        "assert sys.version_info >= (3, 5)\n",
        "\n",
        "# 사이킷런 ≥0.20 필수\n",
        "import sklearn\n",
        "assert sklearn.__version__ >= \"0.20\"\n",
        "\n",
        "# 공통 모듈 임포트\n",
        "import numpy as np\n",
        "import os\n",
        "\n",
        "# 노트북 실행 결과를 동일하게 유지하기 위해\n",
        "np.random.seed(42)\n",
        "\n",
        "# 깔끔한 그래프 출력을 위해\n",
        "%matplotlib inline\n",
        "import matplotlib as mpl\n",
        "import matplotlib.pyplot as plt"
      ]
    },
    {
      "cell_type": "markdown",
      "metadata": {
        "id": "RCZWrNGyF3wt"
      },
      "source": [
        "# MNIST"
      ]
    },
    {
      "cell_type": "code",
      "execution_count": 2,
      "metadata": {
        "colab": {
          "base_uri": "https://localhost:8080/"
        },
        "execution": {
          "iopub.execute_input": "2021-11-03T03:32:15.540675Z",
          "iopub.status.busy": "2021-11-03T03:32:15.540074Z",
          "iopub.status.idle": "2021-11-03T03:32:33.373965Z",
          "shell.execute_reply": "2021-11-03T03:32:33.374425Z"
        },
        "id": "XKMSbmMuF3wu",
        "outputId": "beada5e0-f13d-4fff-dbeb-ffa1cb7f9d6a"
      },
      "outputs": [
        {
          "data": {
            "text/plain": [
              "dict_keys(['data', 'target', 'frame', 'categories', 'feature_names', 'target_names', 'DESCR', 'details', 'url'])"
            ]
          },
          "execution_count": 2,
          "metadata": {},
          "output_type": "execute_result"
        }
      ],
      "source": [
        "from sklearn.datasets import fetch_openml\n",
        "mnist = fetch_openml('mnist_784', version=1, as_frame=False)\n",
        "mnist.keys()"
      ]
    },
    {
      "cell_type": "code",
      "execution_count": 3,
      "metadata": {
        "colab": {
          "base_uri": "https://localhost:8080/"
        },
        "execution": {
          "iopub.execute_input": "2021-11-03T03:32:33.377741Z",
          "iopub.status.busy": "2021-11-03T03:32:33.377101Z",
          "iopub.status.idle": "2021-11-03T03:32:33.380958Z",
          "shell.execute_reply": "2021-11-03T03:32:33.381483Z"
        },
        "id": "IFHE05zzF3wv",
        "outputId": "90f71d70-aafa-49bc-a37d-6bd0935944dc"
      },
      "outputs": [
        {
          "data": {
            "text/plain": [
              "(70000, 784)"
            ]
          },
          "execution_count": 3,
          "metadata": {},
          "output_type": "execute_result"
        }
      ],
      "source": [
        "X, y = mnist[\"data\"], mnist[\"target\"]\n",
        "X.shape"
      ]
    },
    {
      "cell_type": "code",
      "execution_count": 4,
      "metadata": {
        "colab": {
          "base_uri": "https://localhost:8080/",
          "height": 266
        },
        "execution": {
          "iopub.execute_input": "2021-11-03T03:32:33.412684Z",
          "iopub.status.busy": "2021-11-03T03:32:33.396664Z",
          "iopub.status.idle": "2021-11-03T03:32:33.641846Z",
          "shell.execute_reply": "2021-11-03T03:32:33.642468Z"
        },
        "id": "kFzkFR9-F3wx",
        "outputId": "10142925-cf4a-4b7b-882c-3ffb610e36a8"
      },
      "outputs": [
        {
          "data": {
            "text/plain": [
              "(-0.5, 27.5, 27.5, -0.5)"
            ]
          },
          "execution_count": 4,
          "metadata": {},
          "output_type": "execute_result"
        },
        {
          "data": {
            "image/png": "[encoded data removed]",
            "text/plain": [
              "<Figure size 432x288 with 1 Axes>"
            ]
          },
          "metadata": {
            "needs_background": "light"
          },
          "output_type": "display_data"
        }
      ],
      "source": [
        "%matplotlib inline\n",
        "import matplotlib as mpl\n",
        "import matplotlib.pyplot as plt\n",
        "\n",
        "some_digit = X[0]\n",
        "some_digit_image = some_digit.reshape(28, 28)\n",
        "plt.imshow(some_digit_image, cmap=mpl.cm.binary)\n",
        "plt.axis(\"off\")"
      ]
    },
    {
      "cell_type": "code",
      "execution_count": 5,
      "metadata": {
        "colab": {
          "base_uri": "https://localhost:8080/",
          "height": 35
        },
        "execution": {
          "iopub.execute_input": "2021-11-03T03:32:33.647673Z",
          "iopub.status.busy": "2021-11-03T03:32:33.647053Z",
          "iopub.status.idle": "2021-11-03T03:32:33.659510Z",
          "shell.execute_reply": "2021-11-03T03:32:33.658058Z"
        },
        "id": "lwnK5HngF3wy",
        "outputId": "32dcd7cf-8804-4cd8-ec05-03ccf910709d"
      },
      "outputs": [
        {
          "data": {
            "application/vnd.google.colaboratory.intrinsic+json": {
              "type": "string"
            },
            "text/plain": [
              "'5'"
            ]
          },
          "execution_count": 5,
          "metadata": {},
          "output_type": "execute_result"
        }
      ],
      "source": [
        "y[0]"
      ]
    },
    {
      "cell_type": "code",
      "execution_count": 10,
      "metadata": {
        "colab": {
          "base_uri": "https://localhost:8080/"
        },
        "execution": {
          "iopub.execute_input": "2021-11-03T03:32:33.668978Z",
          "iopub.status.busy": "2021-11-03T03:32:33.668378Z",
          "iopub.status.idle": "2021-11-03T03:32:33.672952Z",
          "shell.execute_reply": "2021-11-03T03:32:33.672062Z"
        },
        "id": "uYWuP9QaF3wy",
        "outputId": "85781ed3-4d81-4e6a-e24b-a15d564af7c9"
      },
      "outputs": [
        {
          "data": {
            "text/plain": [
              "array([5, 0, 4, ..., 4, 5, 6], dtype=uint8)"
            ]
          },
          "execution_count": 10,
          "metadata": {},
          "output_type": "execute_result"
        }
      ],
      "source": [
        "# 정답 데이터가 문자형이 아닌 숫자형으로 변환되게 됨\n",
        "# 하지 않게 되면 SGDClassifier를 실행했을 때 에러 발생\n",
        "y = y.astype(np.uint8)\n",
        "y"
      ]
    },
    {
      "cell_type": "code",
      "execution_count": 14,
      "metadata": {
        "execution": {
          "iopub.execute_input": "2021-11-03T03:32:34.627669Z",
          "iopub.status.busy": "2021-11-03T03:32:34.627082Z",
          "iopub.status.idle": "2021-11-03T03:32:34.630266Z",
          "shell.execute_reply": "2021-11-03T03:32:34.630664Z"
        },
        "id": "UtNEy4gdF3w0"
      },
      "outputs": [],
      "source": [
        "X_train, X_test, y_train, y_test = X[:60000], X[60000:], y[:60000], y[60000:]"
      ]
    },
    {
      "cell_type": "markdown",
      "metadata": {
        "id": "rIK5E3fSF3w0"
      },
      "source": [
        "# 이진 분류기 훈련"
      ]
    },
    {
      "cell_type": "code",
      "execution_count": 15,
      "metadata": {
        "execution": {
          "iopub.execute_input": "2021-11-03T03:32:34.634880Z",
          "iopub.status.busy": "2021-11-03T03:32:34.634296Z",
          "iopub.status.idle": "2021-11-03T03:32:34.637980Z",
          "shell.execute_reply": "2021-11-03T03:32:34.637484Z"
        },
        "id": "uX1Kp4raF3w0"
      },
      "outputs": [],
      "source": [
        "y_train_5 = (y_train == 5)\n",
        "y_test_5 = (y_test == 5)"
      ]
    },
    {
      "cell_type": "markdown",
      "metadata": {
        "id": "xQdHj5BvF3w1"
      },
      "source": [
        "**노트**: `max_iter`와 `tol` 같은 일부 매개변수는 사이킷런 다음 버전에서 기본값이 바뀝니다. 버전이 업데이트되더라도 결과가 바뀌지 않도록 아예 나중에 바뀔 기본값을 사용해 명시적으로 지정하겠습니다. 번거로움을 피하기 위해 책에는 따로 표시하지 않았습니다."
      ]
    },
    {
      "cell_type": "code",
      "execution_count": 16,
      "metadata": {
        "colab": {
          "base_uri": "https://localhost:8080/"
        },
        "execution": {
          "iopub.execute_input": "2021-11-03T03:32:34.642079Z",
          "iopub.status.busy": "2021-11-03T03:32:34.641480Z",
          "iopub.status.idle": "2021-11-03T03:32:56.362088Z",
          "shell.execute_reply": "2021-11-03T03:32:56.362537Z"
        },
        "id": "0OsLjd5cF3w1",
        "outputId": "8f774885-b3ba-4fdd-f903-9a3a727fbd7d"
      },
      "outputs": [
        {
          "data": {
            "text/plain": [
              "SGDClassifier(random_state=42)"
            ]
          },
          "execution_count": 16,
          "metadata": {},
          "output_type": "execute_result"
        }
      ],
      "source": [
        "from sklearn.linear_model import SGDClassifier\n",
        "\n",
        "sgd_clf = SGDClassifier(max_iter=1000, tol=1e-3, random_state=42)\n",
        "sgd_clf.fit(X_train, y_train_5)"
      ]
    },
    {
      "cell_type": "code",
      "execution_count": 17,
      "metadata": {
        "colab": {
          "base_uri": "https://localhost:8080/"
        },
        "execution": {
          "iopub.execute_input": "2021-11-03T03:32:56.366400Z",
          "iopub.status.busy": "2021-11-03T03:32:56.365756Z",
          "iopub.status.idle": "2021-11-03T03:32:56.371682Z",
          "shell.execute_reply": "2021-11-03T03:32:56.372082Z"
        },
        "id": "tOfGgVKuF3w1",
        "outputId": "0e95bc50-9dd7-4c59-d44f-175e7e942cf1"
      },
      "outputs": [
        {
          "data": {
            "text/plain": [
              "array([ True])"
            ]
          },
          "execution_count": 17,
          "metadata": {},
          "output_type": "execute_result"
        }
      ],
      "source": [
        "sgd_clf.predict([some_digit])"
      ]
    },
    {
      "cell_type": "code",
      "execution_count": 18,
      "metadata": {
        "colab": {
          "base_uri": "https://localhost:8080/"
        },
        "execution": {
          "iopub.execute_input": "2021-11-03T03:32:56.376737Z",
          "iopub.status.busy": "2021-11-03T03:32:56.375886Z",
          "iopub.status.idle": "2021-11-03T03:33:25.644040Z",
          "shell.execute_reply": "2021-11-03T03:33:25.643273Z"
        },
        "id": "DZiWJCrsF3w2",
        "outputId": "15fb822f-d268-4845-a8aa-77f9699b9eb3"
      },
      "outputs": [
        {
          "data": {
            "text/plain": [
              "array([0.95035, 0.96035, 0.9604 ])"
            ]
          },
          "execution_count": 18,
          "metadata": {},
          "output_type": "execute_result"
        }
      ],
      "source": [
        "from sklearn.model_selection import cross_val_score\n",
        "cross_val_score(sgd_clf, X_train, y_train_5, cv=3, scoring=\"accuracy\")"
      ]
    },
    {
      "cell_type": "markdown",
      "metadata": {
        "id": "6B41tOwRF3w2"
      },
      "source": [
        "# 성능 측정"
      ]
    },
    {
      "cell_type": "markdown",
      "metadata": {
        "id": "LpVeAGnxF3w3"
      },
      "source": [
        "## 오차 행렬"
      ]
    },
    {
      "cell_type": "code",
      "execution_count": 19,
      "metadata": {
        "execution": {
          "iopub.execute_input": "2021-11-03T03:34:02.960008Z",
          "iopub.status.busy": "2021-11-03T03:34:02.959076Z",
          "iopub.status.idle": "2021-11-03T03:34:32.091806Z",
          "shell.execute_reply": "2021-11-03T03:34:32.092609Z"
        },
        "id": "kMhWwdHSF3w3"
      },
      "outputs": [],
      "source": [
        "from sklearn.model_selection import cross_val_predict\n",
        "\n",
        "y_train_pred = cross_val_predict(sgd_clf, X_train, y_train_5, cv=3)"
      ]
    },
    {
      "cell_type": "code",
      "execution_count": 20,
      "metadata": {
        "colab": {
          "base_uri": "https://localhost:8080/"
        },
        "execution": {
          "iopub.execute_input": "2021-11-03T03:34:32.098479Z",
          "iopub.status.busy": "2021-11-03T03:34:32.096226Z",
          "iopub.status.idle": "2021-11-03T03:34:32.120779Z",
          "shell.execute_reply": "2021-11-03T03:34:32.121490Z"
        },
        "id": "QftaiN6eF3w3",
        "outputId": "ed226c72-70ff-46f1-a69e-4a092a844d4f"
      },
      "outputs": [
        {
          "data": {
            "text/plain": [
              "array([[53892,   687],\n",
              "       [ 1891,  3530]])"
            ]
          },
          "execution_count": 20,
          "metadata": {},
          "output_type": "execute_result"
        }
      ],
      "source": [
        "from sklearn.metrics import confusion_matrix\n",
        "\n",
        "confusion_matrix(y_train_5, y_train_pred)"
      ]
    },
    {
      "cell_type": "markdown",
      "metadata": {
        "id": "bIQOWXvOF3w4"
      },
      "source": [
        "## 정밀도와 재현율"
      ]
    },
    {
      "cell_type": "code",
      "execution_count": null,
      "metadata": {
        "execution": {
          "iopub.execute_input": "2021-11-03T03:34:32.160304Z",
          "iopub.status.busy": "2021-11-03T03:34:32.159270Z",
          "iopub.status.idle": "2021-11-03T03:34:32.215073Z",
          "shell.execute_reply": "2021-11-03T03:34:32.215513Z"
        },
        "id": "Go3PUbw5F3w4",
        "outputId": "84232f0b-febc-48e1-c89b-b57c741c6c39"
      },
      "outputs": [
        {
          "data": {
            "text/plain": [
              "0.8370879772350012"
            ]
          },
          "execution_count": 24,
          "metadata": {},
          "output_type": "execute_result"
        }
      ],
      "source": [
        "from sklearn.metrics import precision_score, recall_score\n",
        "\n",
        "precision_score(y_train_5, y_train_pred)"
      ]
    },
    {
      "cell_type": "code",
      "execution_count": null,
      "metadata": {
        "execution": {
          "iopub.execute_input": "2021-11-03T03:34:32.220412Z",
          "iopub.status.busy": "2021-11-03T03:34:32.219769Z",
          "iopub.status.idle": "2021-11-03T03:34:32.234206Z",
          "shell.execute_reply": "2021-11-03T03:34:32.233668Z"
        },
        "id": "j6TDHBCuF3w4",
        "outputId": "cd35e639-c228-4dfe-c57d-b9e68dab8384"
      },
      "outputs": [
        {
          "data": {
            "text/plain": [
              "0.8370879772350012"
            ]
          },
          "execution_count": 25,
          "metadata": {},
          "output_type": "execute_result"
        }
      ],
      "source": [
        "cm = confusion_matrix(y_train_5, y_train_pred)\n",
        "cm[1, 1] / (cm[0, 1] + cm[1, 1])"
      ]
    },
    {
      "cell_type": "code",
      "execution_count": null,
      "metadata": {
        "execution": {
          "iopub.execute_input": "2021-11-03T03:34:32.239169Z",
          "iopub.status.busy": "2021-11-03T03:34:32.238280Z",
          "iopub.status.idle": "2021-11-03T03:34:32.260924Z",
          "shell.execute_reply": "2021-11-03T03:34:32.261346Z"
        },
        "id": "7634MN2nF3w4",
        "outputId": "2fe54341-c64a-4ae1-e506-f79d0ab2559d"
      },
      "outputs": [
        {
          "data": {
            "text/plain": [
              "0.6511713705958311"
            ]
          },
          "execution_count": 26,
          "metadata": {},
          "output_type": "execute_result"
        }
      ],
      "source": [
        "recall_score(y_train_5, y_train_pred)"
      ]
    },
    {
      "cell_type": "code",
      "execution_count": null,
      "metadata": {
        "execution": {
          "iopub.execute_input": "2021-11-03T03:34:32.265801Z",
          "iopub.status.busy": "2021-11-03T03:34:32.265196Z",
          "iopub.status.idle": "2021-11-03T03:34:32.268826Z",
          "shell.execute_reply": "2021-11-03T03:34:32.268325Z"
        },
        "id": "RVteCtraF3w5",
        "outputId": "4eccbfb6-6401-4c0c-8a32-95cde9275a05"
      },
      "outputs": [
        {
          "data": {
            "text/plain": [
              "0.6511713705958311"
            ]
          },
          "execution_count": 27,
          "metadata": {},
          "output_type": "execute_result"
        }
      ],
      "source": [
        "cm[1, 1] / (cm[1, 0] + cm[1, 1])"
      ]
    },
    {
      "cell_type": "code",
      "execution_count": null,
      "metadata": {
        "execution": {
          "iopub.execute_input": "2021-11-03T03:34:32.272444Z",
          "iopub.status.busy": "2021-11-03T03:34:32.271863Z",
          "iopub.status.idle": "2021-11-03T03:34:32.293918Z",
          "shell.execute_reply": "2021-11-03T03:34:32.294315Z"
        },
        "id": "7foqlsgDF3w5",
        "outputId": "54e202b3-0420-4c26-ccb5-96d9e537e388"
      },
      "outputs": [
        {
          "data": {
            "text/plain": [
              "0.7325171197343846"
            ]
          },
          "execution_count": 28,
          "metadata": {},
          "output_type": "execute_result"
        }
      ],
      "source": [
        "from sklearn.metrics import f1_score\n",
        "\n",
        "f1_score(y_train_5, y_train_pred)"
      ]
    },
    {
      "cell_type": "code",
      "execution_count": null,
      "metadata": {
        "execution": {
          "iopub.execute_input": "2021-11-03T03:34:32.299202Z",
          "iopub.status.busy": "2021-11-03T03:34:32.298608Z",
          "iopub.status.idle": "2021-11-03T03:34:32.304017Z",
          "shell.execute_reply": "2021-11-03T03:34:32.304413Z"
        },
        "id": "sagIeH2NF3w6",
        "outputId": "0acc6ab7-fef3-4556-8d10-984ca7205481"
      },
      "outputs": [
        {
          "data": {
            "text/plain": [
              "0.7325171197343847"
            ]
          },
          "execution_count": 29,
          "metadata": {},
          "output_type": "execute_result"
        }
      ],
      "source": [
        "cm[1, 1] / (cm[1, 1] + (cm[1, 0] + cm[0, 1]) / 2)"
      ]
    },
    {
      "cell_type": "markdown",
      "metadata": {
        "id": "TgOMCgQ1F3w6"
      },
      "source": [
        "## 정밀도/재현율 트레이드오프"
      ]
    },
    {
      "cell_type": "code",
      "execution_count": 21,
      "metadata": {
        "colab": {
          "base_uri": "https://localhost:8080/"
        },
        "execution": {
          "iopub.execute_input": "2021-11-03T03:34:32.310401Z",
          "iopub.status.busy": "2021-11-03T03:34:32.309809Z",
          "iopub.status.idle": "2021-11-03T03:34:32.314372Z",
          "shell.execute_reply": "2021-11-03T03:34:32.314802Z"
        },
        "id": "tSxn9kbYF3w6",
        "outputId": "9fa6a7bd-41b3-46bd-8c05-9d8a515ebf58"
      },
      "outputs": [
        {
          "data": {
            "text/plain": [
              "array([2164.22030239])"
            ]
          },
          "execution_count": 21,
          "metadata": {},
          "output_type": "execute_result"
        }
      ],
      "source": [
        "y_scores = sgd_clf.decision_function([some_digit])\n",
        "y_scores"
      ]
    },
    {
      "cell_type": "code",
      "execution_count": 22,
      "metadata": {
        "execution": {
          "iopub.execute_input": "2021-11-03T03:34:32.320134Z",
          "iopub.status.busy": "2021-11-03T03:34:32.318541Z",
          "iopub.status.idle": "2021-11-03T03:34:32.320795Z",
          "shell.execute_reply": "2021-11-03T03:34:32.321218Z"
        },
        "id": "ZR0AuxmGF3w6"
      },
      "outputs": [],
      "source": [
        "threshold = 0\n",
        "y_some_digit_pred = (y_scores > threshold)"
      ]
    },
    {
      "cell_type": "code",
      "execution_count": 23,
      "metadata": {
        "colab": {
          "base_uri": "https://localhost:8080/"
        },
        "execution": {
          "iopub.execute_input": "2021-11-03T03:34:32.325627Z",
          "iopub.status.busy": "2021-11-03T03:34:32.324875Z",
          "iopub.status.idle": "2021-11-03T03:34:32.328513Z",
          "shell.execute_reply": "2021-11-03T03:34:32.328973Z"
        },
        "id": "ws5PxAMqF3w6",
        "outputId": "df7a8b78-6f66-4b8d-822d-325f17413be3"
      },
      "outputs": [
        {
          "data": {
            "text/plain": [
              "array([ True])"
            ]
          },
          "execution_count": 23,
          "metadata": {},
          "output_type": "execute_result"
        }
      ],
      "source": [
        "y_some_digit_pred"
      ]
    },
    {
      "cell_type": "code",
      "execution_count": 24,
      "metadata": {
        "colab": {
          "base_uri": "https://localhost:8080/"
        },
        "execution": {
          "iopub.execute_input": "2021-11-03T03:34:32.332170Z",
          "iopub.status.busy": "2021-11-03T03:34:32.331274Z",
          "iopub.status.idle": "2021-11-03T03:34:32.335954Z",
          "shell.execute_reply": "2021-11-03T03:34:32.336446Z"
        },
        "id": "LAgTZdRTF3w6",
        "outputId": "4a7ce2e5-3e09-4e7e-aa25-e5d3d734e23c"
      },
      "outputs": [
        {
          "data": {
            "text/plain": [
              "array([False])"
            ]
          },
          "execution_count": 24,
          "metadata": {},
          "output_type": "execute_result"
        }
      ],
      "source": [
        "threshold = 8000\n",
        "y_some_digit_pred = (y_scores > threshold)\n",
        "y_some_digit_pred"
      ]
    },
    {
      "cell_type": "code",
      "execution_count": 25,
      "metadata": {
        "execution": {
          "iopub.execute_input": "2021-11-03T03:34:32.339653Z",
          "iopub.status.busy": "2021-11-03T03:34:32.338770Z",
          "iopub.status.idle": "2021-11-03T03:35:01.502391Z",
          "shell.execute_reply": "2021-11-03T03:35:01.503266Z"
        },
        "id": "qshEHY0uF3w6"
      },
      "outputs": [],
      "source": [
        "y_scores = cross_val_predict(sgd_clf, X_train, y_train_5, cv=3,\n",
        "                             method=\"decision_function\")"
      ]
    },
    {
      "cell_type": "code",
      "execution_count": 26,
      "metadata": {
        "execution": {
          "iopub.execute_input": "2021-11-03T03:35:01.508559Z",
          "iopub.status.busy": "2021-11-03T03:35:01.507503Z",
          "iopub.status.idle": "2021-11-03T03:35:01.531806Z",
          "shell.execute_reply": "2021-11-03T03:35:01.532578Z"
        },
        "id": "o36oH1ngF3w7"
      },
      "outputs": [],
      "source": [
        "from sklearn.metrics import precision_recall_curve\n",
        "\n",
        "precisions, recalls, thresholds = precision_recall_curve(y_train_5, y_scores)"
      ]
    },
    {
      "cell_type": "code",
      "execution_count": 28,
      "metadata": {
        "colab": {
          "base_uri": "https://localhost:8080/",
          "height": 288
        },
        "execution": {
          "iopub.execute_input": "2021-11-03T03:35:01.548587Z",
          "iopub.status.busy": "2021-11-03T03:35:01.547475Z",
          "iopub.status.idle": "2021-11-03T03:35:02.148641Z",
          "shell.execute_reply": "2021-11-03T03:35:02.149094Z"
        },
        "id": "OT2X_5G9F3w7",
        "outputId": "a74b150f-e923-42fe-e2dc-7c295209e8eb"
      },
      "outputs": [
        {
          "data": {
            "image/png": "[encoded data removed]",
            "text/plain": [
              "<Figure size 576x288 with 1 Axes>"
            ]
          },
          "metadata": {
            "needs_background": "light"
          },
          "output_type": "display_data"
        }
      ],
      "source": [
        "def plot_precision_recall_vs_threshold(precisions, recalls, thresholds):\n",
        "    plt.plot(thresholds, precisions[:-1], \"b--\", label=\"Precision\", linewidth=2)\n",
        "    plt.plot(thresholds, recalls[:-1], \"g-\", label=\"Recall\", linewidth=2)\n",
        "    plt.legend(loc=\"center right\", fontsize=16) # Not shown in the book\n",
        "    plt.xlabel(\"Threshold\", fontsize=16)        # Not shown\n",
        "    plt.grid(True)                              # Not shown\n",
        "    plt.axis([-50000, 50000, 0, 1])             # Not shown\n",
        "\n",
        "\n",
        "\n",
        "recall_90_precision = recalls[np.argmax(precisions >= 0.90)]\n",
        "threshold_90_precision = thresholds[np.argmax(precisions >= 0.90)]\n",
        "\n",
        "\n",
        "plt.figure(figsize=(8, 4))                                                                  # Not shown\n",
        "plot_precision_recall_vs_threshold(precisions, recalls, thresholds)\n",
        "plt.plot([threshold_90_precision, threshold_90_precision], [0., 0.9], \"r:\")                 # Not shown\n",
        "plt.plot([-50000, threshold_90_precision], [0.9, 0.9], \"r:\")                                # Not shown\n",
        "plt.plot([-50000, threshold_90_precision], [recall_90_precision, recall_90_precision], \"r:\")# Not shown\n",
        "plt.plot([threshold_90_precision], [0.9], \"ro\")                                             # Not shown\n",
        "plt.plot([threshold_90_precision], [recall_90_precision], \"ro\")                             # Not shown                                           # Not shown\n",
        "plt.show()"
      ]
    },
    {
      "cell_type": "code",
      "execution_count": 30,
      "metadata": {
        "colab": {
          "base_uri": "https://localhost:8080/",
          "height": 397
        },
        "execution": {
          "iopub.execute_input": "2021-11-03T03:35:02.184892Z",
          "iopub.status.busy": "2021-11-03T03:35:02.182922Z",
          "iopub.status.idle": "2021-11-03T03:35:02.688438Z",
          "shell.execute_reply": "2021-11-03T03:35:02.688876Z"
        },
        "id": "aPJevqX-F3w7",
        "outputId": "24327a71-e2f0-4f24-f814-b7e97892b823"
      },
      "outputs": [
        {
          "data": {
            "image/png": "[encoded data removed]",
            "text/plain": [
              "<Figure size 576x432 with 1 Axes>"
            ]
          },
          "metadata": {
            "needs_background": "light"
          },
          "output_type": "display_data"
        }
      ],
      "source": [
        "def plot_precision_vs_recall(precisions, recalls):\n",
        "    plt.plot(recalls, precisions, \"b-\", linewidth=2)\n",
        "    plt.xlabel(\"Recall\", fontsize=16)\n",
        "    plt.ylabel(\"Precision\", fontsize=16)\n",
        "    plt.axis([0, 1, 0, 1])\n",
        "    plt.grid(True)\n",
        "\n",
        "plt.figure(figsize=(8, 6))\n",
        "plot_precision_vs_recall(precisions, recalls)\n",
        "plt.plot([recall_90_precision, recall_90_precision], [0., 0.9], \"r:\")\n",
        "plt.plot([0.0, recall_90_precision], [0.9, 0.9], \"r:\")\n",
        "plt.plot([recall_90_precision], [0.9], \"ro\")\n",
        "plt.show()"
      ]
    },
    {
      "cell_type": "markdown",
      "metadata": {
        "id": "jmMWbmlfF3w8"
      },
      "source": [
        "## ROC 곡선"
      ]
    },
    {
      "cell_type": "code",
      "execution_count": 31,
      "metadata": {
        "execution": {
          "iopub.execute_input": "2021-11-03T03:35:02.768368Z",
          "iopub.status.busy": "2021-11-03T03:35:02.767461Z",
          "iopub.status.idle": "2021-11-03T03:35:02.781793Z",
          "shell.execute_reply": "2021-11-03T03:35:02.781171Z"
        },
        "id": "nTsjDxIUF3w8"
      },
      "outputs": [],
      "source": [
        "from sklearn.metrics import roc_curve\n",
        "\n",
        "fpr, tpr, thresholds = roc_curve(y_train_5, y_scores)"
      ]
    },
    {
      "cell_type": "code",
      "execution_count": 32,
      "metadata": {
        "colab": {
          "base_uri": "https://localhost:8080/",
          "height": 397
        },
        "execution": {
          "iopub.execute_input": "2021-11-03T03:35:02.821717Z",
          "iopub.status.busy": "2021-11-03T03:35:02.820582Z",
          "iopub.status.idle": "2021-11-03T03:35:03.298014Z",
          "shell.execute_reply": "2021-11-03T03:35:03.298458Z"
        },
        "id": "-BE-jIYgF3w8",
        "outputId": "3e9fa500-7058-494b-db18-3866b9c1573f"
      },
      "outputs": [
        {
          "data": {
            "image/png": "[encoded data removed]",
            "text/plain": [
              "<Figure size 576x432 with 1 Axes>"
            ]
          },
          "metadata": {
            "needs_background": "light"
          },
          "output_type": "display_data"
        }
      ],
      "source": [
        "def plot_roc_curve(fpr, tpr, label=None):\n",
        "    plt.plot(fpr, tpr, linewidth=2, label=label)\n",
        "    plt.plot([0, 1], [0, 1], 'k--') # 대각 점선\n",
        "    plt.axis([0, 1, 0, 1])                                    # Not shown in the book\n",
        "    plt.xlabel('False Positive Rate (Fall-Out)', fontsize=16) # Not shown\n",
        "    plt.ylabel('True Positive Rate (Recall)', fontsize=16)    # Not shown\n",
        "    plt.grid(True)                                            # Not shown\n",
        "\n",
        "plt.figure(figsize=(8, 6))                                    # Not shown\n",
        "plot_roc_curve(fpr, tpr)\n",
        "fpr_90 = fpr[np.argmax(tpr >= recall_90_precision)]           # Not shown\n",
        "plt.plot([fpr_90, fpr_90], [0., recall_90_precision], \"r:\")   # Not shown\n",
        "plt.plot([0.0, fpr_90], [recall_90_precision, recall_90_precision], \"r:\")  # Not shown\n",
        "plt.plot([fpr_90], [recall_90_precision], \"ro\")               # Not shown                                 # Not shown\n",
        "plt.show()"
      ]
    },
    {
      "cell_type": "code",
      "execution_count": null,
      "metadata": {
        "execution": {
          "iopub.execute_input": "2021-11-03T03:35:03.303630Z",
          "iopub.status.busy": "2021-11-03T03:35:03.302717Z",
          "iopub.status.idle": "2021-11-03T03:35:03.325509Z",
          "shell.execute_reply": "2021-11-03T03:35:03.325942Z"
        },
        "id": "x1-8iupGF3w9",
        "outputId": "e6db155d-46a7-410a-ac5e-ad40dfe68297"
      },
      "outputs": [
        {
          "data": {
            "text/plain": [
              "0.9604938554008616"
            ]
          },
          "execution_count": 46,
          "metadata": {},
          "output_type": "execute_result"
        }
      ],
      "source": [
        "from sklearn.metrics import roc_auc_score\n",
        "\n",
        "roc_auc_score(y_train_5, y_scores)"
      ]
    },
    {
      "cell_type": "markdown",
      "metadata": {
        "id": "PzfhtvGIF3w9"
      },
      "source": [
        "**노트**: 사이킷런 0.22 버전에서 바뀔 기본 값을 사용해 `n_estimators=100`로 지정합니다."
      ]
    },
    {
      "cell_type": "code",
      "execution_count": null,
      "metadata": {
        "execution": {
          "iopub.execute_input": "2021-11-03T03:35:03.331569Z",
          "iopub.status.busy": "2021-11-03T03:35:03.330673Z",
          "iopub.status.idle": "2021-11-03T03:36:05.296924Z",
          "shell.execute_reply": "2021-11-03T03:36:05.297491Z"
        },
        "id": "MPQQrF72F3w9"
      },
      "outputs": [],
      "source": [
        "from sklearn.ensemble import RandomForestClassifier\n",
        "forest_clf = RandomForestClassifier(n_estimators=100, random_state=42)\n",
        "y_probas_forest = cross_val_predict(forest_clf, X_train, y_train_5, cv=3,\n",
        "                                    method=\"predict_proba\")"
      ]
    },
    {
      "cell_type": "code",
      "execution_count": null,
      "metadata": {
        "execution": {
          "iopub.execute_input": "2021-11-03T03:36:05.301420Z",
          "iopub.status.busy": "2021-11-03T03:36:05.300274Z",
          "iopub.status.idle": "2021-11-03T03:36:05.310105Z",
          "shell.execute_reply": "2021-11-03T03:36:05.310512Z"
        },
        "id": "e48bMw2OF3w9"
      },
      "outputs": [],
      "source": [
        "y_scores_forest = y_probas_forest[:, 1] # 점수 = 양성 클래스의 확률\n",
        "fpr_forest, tpr_forest, thresholds_forest = roc_curve(y_train_5,y_scores_forest)"
      ]
    },
    {
      "cell_type": "code",
      "execution_count": null,
      "metadata": {
        "execution": {
          "iopub.execute_input": "2021-11-03T03:36:05.314016Z",
          "iopub.status.busy": "2021-11-03T03:36:05.312811Z",
          "iopub.status.idle": "2021-11-03T03:36:05.870569Z",
          "shell.execute_reply": "2021-11-03T03:36:05.870044Z"
        },
        "id": "WX5SIpUYF3w9",
        "outputId": "040c9304-c809-4bd9-89f4-ac248b445842"
      },
      "outputs": [
        {
          "name": "stdout",
          "output_type": "stream",
          "text": [
            "그림 저장: roc_curve_comparison_plot\n"
          ]
        },
        {
          "data": {
            "image/png": "[encoded data removed]",
            "text/plain": [
              "<Figure size 576x432 with 1 Axes>"
            ]
          },
          "metadata": {
            "needs_background": "light"
          },
          "output_type": "display_data"
        }
      ],
      "source": [
        "recall_for_forest = tpr_forest[np.argmax(fpr_forest >= fpr_90)]\n",
        "\n",
        "plt.figure(figsize=(8, 6))\n",
        "plt.plot(fpr, tpr, \"b:\", linewidth=2, label=\"SGD\")\n",
        "plot_roc_curve(fpr_forest, tpr_forest, \"Random Forest\")\n",
        "plt.plot([fpr_90, fpr_90], [0., recall_90_precision], \"r:\")\n",
        "plt.plot([0.0, fpr_90], [recall_90_precision, recall_90_precision], \"r:\")\n",
        "plt.plot([fpr_90], [recall_90_precision], \"ro\")\n",
        "plt.plot([fpr_90, fpr_90], [0., recall_for_forest], \"r:\")\n",
        "plt.plot([fpr_90], [recall_for_forest], \"ro\")\n",
        "plt.grid(True)\n",
        "plt.legend(loc=\"lower right\", fontsize=16)\n",
        "save_fig(\"roc_curve_comparison_plot\")\n",
        "plt.show()"
      ]
    },
    {
      "cell_type": "code",
      "execution_count": null,
      "metadata": {
        "execution": {
          "iopub.execute_input": "2021-11-03T03:36:05.874878Z",
          "iopub.status.busy": "2021-11-03T03:36:05.874285Z",
          "iopub.status.idle": "2021-11-03T03:36:05.891082Z",
          "shell.execute_reply": "2021-11-03T03:36:05.890593Z"
        },
        "id": "eeRbHsVAF3w-",
        "outputId": "20bcdce3-519b-4588-eb9d-c0a635d74e38"
      },
      "outputs": [
        {
          "data": {
            "text/plain": [
              "0.9983436731328145"
            ]
          },
          "execution_count": 50,
          "metadata": {},
          "output_type": "execute_result"
        }
      ],
      "source": [
        "roc_auc_score(y_train_5, y_scores_forest)"
      ]
    },
    {
      "cell_type": "code",
      "execution_count": null,
      "metadata": {
        "execution": {
          "iopub.execute_input": "2021-11-03T03:36:05.895042Z",
          "iopub.status.busy": "2021-11-03T03:36:05.894465Z",
          "iopub.status.idle": "2021-11-03T03:37:08.383369Z",
          "shell.execute_reply": "2021-11-03T03:37:08.383806Z"
        },
        "id": "aeXYQGJ3F3w-",
        "outputId": "5efcb981-af60-426c-a759-016bb4121674"
      },
      "outputs": [
        {
          "data": {
            "text/plain": [
              "0.9905083315756169"
            ]
          },
          "execution_count": 51,
          "metadata": {},
          "output_type": "execute_result"
        }
      ],
      "source": [
        "y_train_pred_forest = cross_val_predict(forest_clf, X_train, y_train_5, cv=3)\n",
        "precision_score(y_train_5, y_train_pred_forest)"
      ]
    },
    {
      "cell_type": "code",
      "execution_count": null,
      "metadata": {
        "execution": {
          "iopub.execute_input": "2021-11-03T03:37:08.387892Z",
          "iopub.status.busy": "2021-11-03T03:37:08.387312Z",
          "iopub.status.idle": "2021-11-03T03:37:08.409205Z",
          "shell.execute_reply": "2021-11-03T03:37:08.408673Z"
        },
        "id": "_cJUBh-uF3w-",
        "outputId": "94fc6d25-2d6b-4e37-f1dd-1a8f93895dd6"
      },
      "outputs": [
        {
          "data": {
            "text/plain": [
              "0.8662608374838591"
            ]
          },
          "execution_count": 52,
          "metadata": {},
          "output_type": "execute_result"
        }
      ],
      "source": [
        "recall_score(y_train_5, y_train_pred_forest)"
      ]
    },
    {
      "cell_type": "markdown",
      "metadata": {
        "id": "ryR0gM4pF3w-"
      },
      "source": [
        "# 다중 분류"
      ]
    },
    {
      "cell_type": "code",
      "execution_count": null,
      "metadata": {
        "execution": {
          "iopub.execute_input": "2021-11-03T03:37:08.414358Z",
          "iopub.status.busy": "2021-11-03T03:37:08.413731Z",
          "iopub.status.idle": "2021-11-03T03:37:08.899441Z",
          "shell.execute_reply": "2021-11-03T03:37:08.899879Z"
        },
        "id": "V2XLN8aRF3w-",
        "outputId": "e927412b-cddf-480e-c2ce-1eed56f2231e"
      },
      "outputs": [
        {
          "data": {
            "text/plain": [
              "array([5], dtype=uint8)"
            ]
          },
          "execution_count": 53,
          "metadata": {},
          "output_type": "execute_result"
        }
      ],
      "source": [
        "from sklearn.svm import SVC\n",
        "\n",
        "svm_clf = SVC(gamma=\"auto\", random_state=42)\n",
        "svm_clf.fit(X_train[:1000], y_train[:1000]) # y_train_5이 아니라 y_train입니다\n",
        "svm_clf.predict([some_digit])"
      ]
    },
    {
      "cell_type": "code",
      "execution_count": null,
      "metadata": {
        "execution": {
          "iopub.execute_input": "2021-11-03T03:37:08.904203Z",
          "iopub.status.busy": "2021-11-03T03:37:08.903599Z",
          "iopub.status.idle": "2021-11-03T03:37:08.909561Z",
          "shell.execute_reply": "2021-11-03T03:37:08.909003Z"
        },
        "id": "ZymJWj9yF3w-",
        "outputId": "9d5f4a2e-4c1f-43a6-b1ca-c6c52655c6c7"
      },
      "outputs": [
        {
          "data": {
            "text/plain": [
              "array([[ 2.81585438,  7.09167958,  3.82972099,  0.79365551,  5.8885703 ,\n",
              "         9.29718395,  1.79862509,  8.10392157, -0.228207  ,  4.83753243]])"
            ]
          },
          "execution_count": 54,
          "metadata": {},
          "output_type": "execute_result"
        }
      ],
      "source": [
        "some_digit_scores = svm_clf.decision_function([some_digit])\n",
        "some_digit_scores"
      ]
    },
    {
      "cell_type": "code",
      "execution_count": null,
      "metadata": {
        "execution": {
          "iopub.execute_input": "2021-11-03T03:37:08.914203Z",
          "iopub.status.busy": "2021-11-03T03:37:08.913375Z",
          "iopub.status.idle": "2021-11-03T03:37:08.916442Z",
          "shell.execute_reply": "2021-11-03T03:37:08.916868Z"
        },
        "id": "WjOfOtj1F3w-",
        "outputId": "77ff5e47-9453-4e5d-a6eb-2be0a8754aa0"
      },
      "outputs": [
        {
          "data": {
            "text/plain": [
              "5"
            ]
          },
          "execution_count": 55,
          "metadata": {},
          "output_type": "execute_result"
        }
      ],
      "source": [
        "np.argmax(some_digit_scores)"
      ]
    },
    {
      "cell_type": "code",
      "execution_count": null,
      "metadata": {
        "execution": {
          "iopub.execute_input": "2021-11-03T03:37:08.920927Z",
          "iopub.status.busy": "2021-11-03T03:37:08.920302Z",
          "iopub.status.idle": "2021-11-03T03:37:08.922786Z",
          "shell.execute_reply": "2021-11-03T03:37:08.923203Z"
        },
        "id": "5WvB04goF3w_",
        "outputId": "eff3b329-2dea-4f31-fbd3-51d595e36eae"
      },
      "outputs": [
        {
          "data": {
            "text/plain": [
              "array([0, 1, 2, 3, 4, 5, 6, 7, 8, 9], dtype=uint8)"
            ]
          },
          "execution_count": 56,
          "metadata": {},
          "output_type": "execute_result"
        }
      ],
      "source": [
        "svm_clf.classes_"
      ]
    },
    {
      "cell_type": "code",
      "execution_count": null,
      "metadata": {
        "execution": {
          "iopub.execute_input": "2021-11-03T03:37:08.927483Z",
          "iopub.status.busy": "2021-11-03T03:37:08.926904Z",
          "iopub.status.idle": "2021-11-03T03:37:08.929585Z",
          "shell.execute_reply": "2021-11-03T03:37:08.930003Z"
        },
        "id": "6H2rBRQBF3w_",
        "outputId": "384141ed-0f6d-4e2d-89b6-1276d763f5a6"
      },
      "outputs": [
        {
          "data": {
            "text/plain": [
              "5"
            ]
          },
          "execution_count": 57,
          "metadata": {},
          "output_type": "execute_result"
        }
      ],
      "source": [
        "svm_clf.classes_[5]"
      ]
    },
    {
      "cell_type": "code",
      "execution_count": null,
      "metadata": {
        "execution": {
          "iopub.execute_input": "2021-11-03T03:37:08.934387Z",
          "iopub.status.busy": "2021-11-03T03:37:08.933805Z",
          "iopub.status.idle": "2021-11-03T03:37:11.880713Z",
          "shell.execute_reply": "2021-11-03T03:37:11.881113Z"
        },
        "id": "dOo5Q9rtF3w_",
        "outputId": "ff359b6a-5691-46f0-d1e1-21c46c217854"
      },
      "outputs": [
        {
          "data": {
            "text/plain": [
              "array([5], dtype=uint8)"
            ]
          },
          "execution_count": 58,
          "metadata": {},
          "output_type": "execute_result"
        }
      ],
      "source": [
        "from sklearn.multiclass import OneVsRestClassifier\n",
        "ovr_clf = OneVsRestClassifier(SVC(gamma=\"auto\", random_state=42))\n",
        "ovr_clf.fit(X_train[:1000], y_train[:1000])\n",
        "ovr_clf.predict([some_digit])"
      ]
    },
    {
      "cell_type": "code",
      "execution_count": null,
      "metadata": {
        "execution": {
          "iopub.execute_input": "2021-11-03T03:37:11.886033Z",
          "iopub.status.busy": "2021-11-03T03:37:11.885437Z",
          "iopub.status.idle": "2021-11-03T03:37:11.887975Z",
          "shell.execute_reply": "2021-11-03T03:37:11.888410Z"
        },
        "id": "gmEevi2CF3w_",
        "outputId": "271e481f-68de-4e71-8f90-95403668ef0c"
      },
      "outputs": [
        {
          "data": {
            "text/plain": [
              "10"
            ]
          },
          "execution_count": 59,
          "metadata": {},
          "output_type": "execute_result"
        }
      ],
      "source": [
        "len(ovr_clf.estimators_)"
      ]
    },
    {
      "cell_type": "code",
      "execution_count": null,
      "metadata": {
        "execution": {
          "iopub.execute_input": "2021-11-03T03:37:11.892347Z",
          "iopub.status.busy": "2021-11-03T03:37:11.891740Z",
          "iopub.status.idle": "2021-11-03T03:40:10.143544Z",
          "shell.execute_reply": "2021-11-03T03:40:10.143975Z"
        },
        "id": "4dAR070vF3w_",
        "outputId": "53c6e242-ded6-4c81-df26-37879b39f867"
      },
      "outputs": [
        {
          "data": {
            "text/plain": [
              "array([3], dtype=uint8)"
            ]
          },
          "execution_count": 60,
          "metadata": {},
          "output_type": "execute_result"
        }
      ],
      "source": [
        "sgd_clf.fit(X_train, y_train)\n",
        "sgd_clf.predict([some_digit])"
      ]
    },
    {
      "cell_type": "code",
      "execution_count": null,
      "metadata": {
        "execution": {
          "iopub.execute_input": "2021-11-03T03:40:10.146772Z",
          "iopub.status.busy": "2021-11-03T03:40:10.146199Z",
          "iopub.status.idle": "2021-11-03T03:40:10.150261Z",
          "shell.execute_reply": "2021-11-03T03:40:10.150672Z"
        },
        "id": "Y6ay1KY9F3w_",
        "outputId": "66d4aa82-91a7-40e6-f0f0-35b267bb234a"
      },
      "outputs": [
        {
          "data": {
            "text/plain": [
              "array([[-31893.03095419, -34419.69069632,  -9530.63950739,\n",
              "          1823.73154031, -22320.14822878,  -1385.80478895,\n",
              "        -26188.91070951, -16147.51323997,  -4604.35491274,\n",
              "        -12050.767298  ]])"
            ]
          },
          "execution_count": 61,
          "metadata": {},
          "output_type": "execute_result"
        }
      ],
      "source": [
        "sgd_clf.decision_function([some_digit])"
      ]
    },
    {
      "cell_type": "markdown",
      "metadata": {
        "id": "2vvOhBxUF3w_"
      },
      "source": [
        "**경고**: 사용하는 하드웨어에 따라 다음 두 셀을 실행하는데 30분 또는 그 이상 걸릴 수 있습니다."
      ]
    },
    {
      "cell_type": "code",
      "execution_count": null,
      "metadata": {
        "execution": {
          "iopub.execute_input": "2021-11-03T03:40:10.153393Z",
          "iopub.status.busy": "2021-11-03T03:40:10.152736Z",
          "iopub.status.idle": "2021-11-03T03:45:02.837036Z",
          "shell.execute_reply": "2021-11-03T03:45:02.837827Z"
        },
        "id": "EJ_-Hc1CF3xA",
        "outputId": "1ca9ccf1-81dc-4a68-e6c3-99f88c9423f3"
      },
      "outputs": [
        {
          "data": {
            "text/plain": [
              "array([0.87365, 0.85835, 0.8689 ])"
            ]
          },
          "execution_count": 62,
          "metadata": {},
          "output_type": "execute_result"
        }
      ],
      "source": [
        "cross_val_score(sgd_clf, X_train, y_train, cv=3, scoring=\"accuracy\")"
      ]
    },
    {
      "cell_type": "code",
      "execution_count": null,
      "metadata": {
        "execution": {
          "iopub.execute_input": "2021-11-03T03:45:02.841954Z",
          "iopub.status.busy": "2021-11-03T03:45:02.841060Z",
          "iopub.status.idle": "2021-11-03T03:57:59.266880Z",
          "shell.execute_reply": "2021-11-03T03:57:59.267546Z"
        },
        "id": "eemeI1FGF3xA",
        "outputId": "5419e0ae-e7b3-4ca3-8b01-1891f0160247"
      },
      "outputs": [
        {
          "data": {
            "text/plain": [
              "array([0.8983, 0.891 , 0.9018])"
            ]
          },
          "execution_count": 63,
          "metadata": {},
          "output_type": "execute_result"
        }
      ],
      "source": [
        "from sklearn.preprocessing import StandardScaler\n",
        "scaler = StandardScaler()\n",
        "X_train_scaled = scaler.fit_transform(X_train.astype(np.float64))\n",
        "cross_val_score(sgd_clf, X_train_scaled, y_train, cv=3, scoring=\"accuracy\")"
      ]
    },
    {
      "cell_type": "markdown",
      "metadata": {
        "id": "es7Jj4gWF3xA"
      },
      "source": [
        "# 에러 분석"
      ]
    },
    {
      "cell_type": "code",
      "execution_count": null,
      "metadata": {
        "execution": {
          "iopub.execute_input": "2021-11-03T03:57:59.271662Z",
          "iopub.status.busy": "2021-11-03T03:57:59.270835Z",
          "iopub.status.idle": "2021-11-03T04:10:54.132632Z",
          "shell.execute_reply": "2021-11-03T04:10:54.133405Z"
        },
        "id": "bUi0DNm_F3xA",
        "outputId": "96e44cd3-a4eb-4e56-af38-8a9e3c4bd435"
      },
      "outputs": [
        {
          "data": {
            "text/plain": [
              "array([[5577,    0,   22,    5,    8,   43,   36,    6,  225,    1],\n",
              "       [   0, 6400,   37,   24,    4,   44,    4,    7,  212,   10],\n",
              "       [  27,   27, 5220,   92,   73,   27,   67,   36,  378,   11],\n",
              "       [  22,   17,  117, 5227,    2,  203,   27,   40,  403,   73],\n",
              "       [  12,   14,   41,    9, 5182,   12,   34,   27,  347,  164],\n",
              "       [  27,   15,   30,  168,   53, 4444,   75,   14,  535,   60],\n",
              "       [  30,   15,   42,    3,   44,   97, 5552,    3,  131,    1],\n",
              "       [  21,   10,   51,   30,   49,   12,    3, 5684,  195,  210],\n",
              "       [  17,   63,   48,   86,    3,  126,   25,   10, 5429,   44],\n",
              "       [  25,   18,   30,   64,  118,   36,    1,  179,  371, 5107]])"
            ]
          },
          "execution_count": 64,
          "metadata": {},
          "output_type": "execute_result"
        }
      ],
      "source": [
        "y_train_pred = cross_val_predict(sgd_clf, X_train_scaled, y_train, cv=3)\n",
        "conf_mx = confusion_matrix(y_train, y_train_pred)\n",
        "conf_mx"
      ]
    },
    {
      "cell_type": "markdown",
      "metadata": {
        "id": "n6HKj29sF3xA"
      },
      "source": [
        "사이킷런 0.22 버전부터는 `sklearn.metrics.plot_confusion_matrix()` 함수를 사용할 수 있습니다."
      ]
    },
    {
      "cell_type": "code",
      "execution_count": null,
      "metadata": {
        "execution": {
          "iopub.execute_input": "2021-11-03T04:10:54.137694Z",
          "iopub.status.busy": "2021-11-03T04:10:54.136836Z",
          "iopub.status.idle": "2021-11-03T04:10:54.142606Z",
          "shell.execute_reply": "2021-11-03T04:10:54.143334Z"
        },
        "id": "iE2Ea4yFF3xA"
      },
      "outputs": [],
      "source": [
        "def plot_confusion_matrix(matrix):\n",
        "    \"\"\"If you prefer color and a colorbar\"\"\"\n",
        "    fig = plt.figure(figsize=(8,8))\n",
        "    ax = fig.add_subplot(111)\n",
        "    cax = ax.matshow(matrix)\n",
        "    fig.colorbar(cax)"
      ]
    },
    {
      "cell_type": "code",
      "execution_count": null,
      "metadata": {
        "execution": {
          "iopub.execute_input": "2021-11-03T04:10:54.147196Z",
          "iopub.status.busy": "2021-11-03T04:10:54.146359Z",
          "iopub.status.idle": "2021-11-03T04:10:54.459737Z",
          "shell.execute_reply": "2021-11-03T04:10:54.460355Z"
        },
        "id": "X6O3j3JWF3xA",
        "outputId": "6d4dd490-44ad-42a9-d296-8901ec318bdc"
      },
      "outputs": [
        {
          "name": "stdout",
          "output_type": "stream",
          "text": [
            "그림 저장: confusion_matrix_plot\n"
          ]
        },
        {
          "data": {
            "image/png": "[encoded data removed]",
            "text/plain": [
              "<Figure size 288x288 with 1 Axes>"
            ]
          },
          "metadata": {
            "needs_background": "light"
          },
          "output_type": "display_data"
        }
      ],
      "source": [
        "plt.matshow(conf_mx, cmap=plt.cm.gray)\n",
        "save_fig(\"confusion_matrix_plot\", tight_layout=False)\n",
        "plt.show()"
      ]
    },
    {
      "cell_type": "code",
      "execution_count": null,
      "metadata": {
        "execution": {
          "iopub.execute_input": "2021-11-03T04:10:54.463645Z",
          "iopub.status.busy": "2021-11-03T04:10:54.462827Z",
          "iopub.status.idle": "2021-11-03T04:10:54.465648Z",
          "shell.execute_reply": "2021-11-03T04:10:54.466297Z"
        },
        "id": "TTM9TukJF3xA"
      },
      "outputs": [],
      "source": [
        "row_sums = conf_mx.sum(axis=1, keepdims=True)\n",
        "norm_conf_mx = conf_mx / row_sums"
      ]
    },
    {
      "cell_type": "code",
      "execution_count": null,
      "metadata": {
        "execution": {
          "iopub.execute_input": "2021-11-03T04:10:54.469426Z",
          "iopub.status.busy": "2021-11-03T04:10:54.468564Z",
          "iopub.status.idle": "2021-11-03T04:10:54.733288Z",
          "shell.execute_reply": "2021-11-03T04:10:54.733921Z"
        },
        "id": "da3ux5NjF3xB",
        "outputId": "eb34349f-7025-4753-d6de-2070608f33f8"
      },
      "outputs": [
        {
          "name": "stdout",
          "output_type": "stream",
          "text": [
            "그림 저장: confusion_matrix_errors_plot\n"
          ]
        },
        {
          "data": {
            "image/png": "[encoded data removed]",
            "text/plain": [
              "<Figure size 288x288 with 1 Axes>"
            ]
          },
          "metadata": {
            "needs_background": "light"
          },
          "output_type": "display_data"
        }
      ],
      "source": [
        "np.fill_diagonal(norm_conf_mx, 0)\n",
        "plt.matshow(norm_conf_mx, cmap=plt.cm.gray)\n",
        "save_fig(\"confusion_matrix_errors_plot\", tight_layout=False)\n",
        "plt.show()"
      ]
    },
    {
      "cell_type": "code",
      "execution_count": null,
      "metadata": {
        "execution": {
          "iopub.execute_input": "2021-11-03T04:10:54.737225Z",
          "iopub.status.busy": "2021-11-03T04:10:54.736371Z",
          "iopub.status.idle": "2021-11-03T04:10:55.613074Z",
          "shell.execute_reply": "2021-11-03T04:10:55.613759Z"
        },
        "id": "YNq9PKfZF3xB",
        "outputId": "af104629-05ad-4afa-ba40-6befb0fc4434"
      },
      "outputs": [
        {
          "name": "stdout",
          "output_type": "stream",
          "text": [
            "그림 저장: error_analysis_digits_plot\n"
          ]
        },
        {
          "data": {
            "image/png": "[encoded data removed]",
            "text/plain": [
              "<Figure size 576x576 with 4 Axes>"
            ]
          },
          "metadata": {
            "needs_background": "light"
          },
          "output_type": "display_data"
        }
      ],
      "source": [
        "cl_a, cl_b = 3, 5\n",
        "X_aa = X_train[(y_train == cl_a) & (y_train_pred == cl_a)]\n",
        "X_ab = X_train[(y_train == cl_a) & (y_train_pred == cl_b)]\n",
        "X_ba = X_train[(y_train == cl_b) & (y_train_pred == cl_a)]\n",
        "X_bb = X_train[(y_train == cl_b) & (y_train_pred == cl_b)]\n",
        "\n",
        "plt.figure(figsize=(8,8))\n",
        "plt.subplot(221); plot_digits(X_aa[:25], images_per_row=5)\n",
        "plt.subplot(222); plot_digits(X_ab[:25], images_per_row=5)\n",
        "plt.subplot(223); plot_digits(X_ba[:25], images_per_row=5)\n",
        "plt.subplot(224); plot_digits(X_bb[:25], images_per_row=5)\n",
        "save_fig(\"error_analysis_digits_plot\")\n",
        "plt.show()"
      ]
    },
    {
      "cell_type": "markdown",
      "metadata": {
        "id": "yZB2WzoBF3xB"
      },
      "source": [
        "# 다중 레이블 분류"
      ]
    },
    {
      "cell_type": "code",
      "execution_count": null,
      "metadata": {
        "execution": {
          "iopub.execute_input": "2021-11-03T04:10:55.617350Z",
          "iopub.status.busy": "2021-11-03T04:10:55.616472Z",
          "iopub.status.idle": "2021-11-03T04:10:55.664866Z",
          "shell.execute_reply": "2021-11-03T04:10:55.665559Z"
        },
        "id": "R3QGT4avF3xB",
        "outputId": "f6cf405e-d084-4792-8811-296f6318d9e8"
      },
      "outputs": [
        {
          "data": {
            "text/plain": [
              "KNeighborsClassifier()"
            ]
          },
          "execution_count": 70,
          "metadata": {},
          "output_type": "execute_result"
        }
      ],
      "source": [
        "from sklearn.neighbors import KNeighborsClassifier\n",
        "\n",
        "y_train_large = (y_train >= 7)\n",
        "y_train_odd = (y_train % 2 == 1)\n",
        "y_multilabel = np.c_[y_train_large, y_train_odd]\n",
        "\n",
        "knn_clf = KNeighborsClassifier()\n",
        "knn_clf.fit(X_train, y_multilabel)"
      ]
    },
    {
      "cell_type": "code",
      "execution_count": null,
      "metadata": {
        "execution": {
          "iopub.execute_input": "2021-11-03T04:10:55.668840Z",
          "iopub.status.busy": "2021-11-03T04:10:55.667997Z",
          "iopub.status.idle": "2021-11-03T04:10:55.766572Z",
          "shell.execute_reply": "2021-11-03T04:10:55.767213Z"
        },
        "id": "YEXWJ4OJF3xB",
        "outputId": "5078d323-1832-484e-a467-dede9dbcdaf1"
      },
      "outputs": [
        {
          "data": {
            "text/plain": [
              "array([[False,  True]])"
            ]
          },
          "execution_count": 71,
          "metadata": {},
          "output_type": "execute_result"
        }
      ],
      "source": [
        "knn_clf.predict([some_digit])"
      ]
    },
    {
      "cell_type": "markdown",
      "metadata": {
        "id": "pf27Fb2fF3xB"
      },
      "source": [
        "**경고**: 다음 셀은 실행하는데 매우 오래 걸립니다(하드웨어에 따라 몇 시간이 걸릴 수 있습니다)."
      ]
    },
    {
      "cell_type": "code",
      "execution_count": null,
      "metadata": {
        "execution": {
          "iopub.execute_input": "2021-11-03T04:10:55.770744Z",
          "iopub.status.busy": "2021-11-03T04:10:55.769903Z",
          "iopub.status.idle": "2021-11-03T04:12:23.950858Z",
          "shell.execute_reply": "2021-11-03T04:12:23.950197Z"
        },
        "id": "Wc3I3oV8F3xB",
        "outputId": "a32a90de-187b-4681-a33e-30101b67a89c"
      },
      "outputs": [
        {
          "data": {
            "text/plain": [
              "0.976410265560605"
            ]
          },
          "execution_count": 72,
          "metadata": {},
          "output_type": "execute_result"
        }
      ],
      "source": [
        "y_train_knn_pred = cross_val_predict(knn_clf, X_train, y_multilabel, cv=3)\n",
        "f1_score(y_multilabel, y_train_knn_pred, average=\"macro\")"
      ]
    },
    {
      "cell_type": "markdown",
      "metadata": {
        "id": "QIPsCw4oF3xC"
      },
      "source": [
        "# 다중 출력 분류"
      ]
    },
    {
      "cell_type": "code",
      "execution_count": null,
      "metadata": {
        "execution": {
          "iopub.execute_input": "2021-11-03T04:12:23.955385Z",
          "iopub.status.busy": "2021-11-03T04:12:23.954811Z",
          "iopub.status.idle": "2021-11-03T04:12:24.851268Z",
          "shell.execute_reply": "2021-11-03T04:12:24.851726Z"
        },
        "id": "0NN0rv1WF3xC"
      },
      "outputs": [],
      "source": [
        "noise = np.random.randint(0, 100, (len(X_train), 784))\n",
        "X_train_mod = X_train + noise\n",
        "noise = np.random.randint(0, 100, (len(X_test), 784))\n",
        "X_test_mod = X_test + noise\n",
        "y_train_mod = X_train\n",
        "y_test_mod = X_test"
      ]
    },
    {
      "cell_type": "code",
      "execution_count": null,
      "metadata": {
        "execution": {
          "iopub.execute_input": "2021-11-03T04:12:24.888437Z",
          "iopub.status.busy": "2021-11-03T04:12:24.870052Z",
          "iopub.status.idle": "2021-11-03T04:12:25.133803Z",
          "shell.execute_reply": "2021-11-03T04:12:25.134556Z"
        },
        "id": "e_c84GxMF3xC",
        "outputId": "266bfb98-c291-4707-dabe-dab100324a99",
        "scrolled": true
      },
      "outputs": [
        {
          "name": "stdout",
          "output_type": "stream",
          "text": [
            "그림 저장: noisy_digit_example_plot\n"
          ]
        },
        {
          "data": {
            "image/png": "[encoded data removed]",
            "text/plain": [
              "<Figure size 432x288 with 2 Axes>"
            ]
          },
          "metadata": {
            "needs_background": "light"
          },
          "output_type": "display_data"
        }
      ],
      "source": [
        "some_index = 0\n",
        "plt.subplot(121); plot_digit(X_test_mod[some_index])\n",
        "plt.subplot(122); plot_digit(y_test_mod[some_index])\n",
        "save_fig(\"noisy_digit_example_plot\")\n",
        "plt.show()"
      ]
    },
    {
      "cell_type": "code",
      "execution_count": null,
      "metadata": {
        "execution": {
          "iopub.execute_input": "2021-11-03T04:12:25.138463Z",
          "iopub.status.busy": "2021-11-03T04:12:25.137454Z",
          "iopub.status.idle": "2021-11-03T04:12:32.512997Z",
          "shell.execute_reply": "2021-11-03T04:12:32.513757Z"
        },
        "id": "8DT9CZifF3xC",
        "outputId": "e96704a0-340c-4310-c691-50b74f8a6b9b"
      },
      "outputs": [
        {
          "name": "stdout",
          "output_type": "stream",
          "text": [
            "그림 저장: cleaned_digit_example_plot\n"
          ]
        },
        {
          "data": {
            "image/png": "[encoded data removed]",
            "text/plain": [
              "<Figure size 432x288 with 1 Axes>"
            ]
          },
          "metadata": {
            "needs_background": "light"
          },
          "output_type": "display_data"
        }
      ],
      "source": [
        "knn_clf.fit(X_train_mod, y_train_mod)\n",
        "clean_digit = knn_clf.predict([X_test_mod[some_index]])\n",
        "plot_digit(clean_digit)\n",
        "save_fig(\"cleaned_digit_example_plot\")"
      ]
    },
    {
      "cell_type": "markdown",
      "metadata": {
        "id": "lvysDQ92F3xC"
      },
      "source": [
        "# 추가 내용"
      ]
    },
    {
      "cell_type": "markdown",
      "metadata": {
        "id": "DpfpgpZUF3xC"
      },
      "source": [
        "## 더미 (즉 랜덤) 분류기"
      ]
    },
    {
      "cell_type": "code",
      "execution_count": null,
      "metadata": {
        "execution": {
          "iopub.execute_input": "2021-11-03T04:12:32.519912Z",
          "iopub.status.busy": "2021-11-03T04:12:32.518901Z",
          "iopub.status.idle": "2021-11-03T04:12:33.048487Z",
          "shell.execute_reply": "2021-11-03T04:12:33.048911Z"
        },
        "id": "L3P-PyyuF3xC"
      },
      "outputs": [],
      "source": [
        "from sklearn.dummy import DummyClassifier\n",
        "# 0.24버전부터 strategy의 기본값이 'stratified'에서 'prior'로 바뀌므로 명시적으로 지정합니다.\n",
        "dmy_clf = DummyClassifier(strategy='prior')\n",
        "y_probas_dmy = cross_val_predict(dmy_clf, X_train, y_train_5, cv=3, method=\"predict_proba\")\n",
        "y_scores_dmy = y_probas_dmy[:, 1]"
      ]
    },
    {
      "cell_type": "code",
      "execution_count": null,
      "metadata": {
        "execution": {
          "iopub.execute_input": "2021-11-03T04:12:33.052991Z",
          "iopub.status.busy": "2021-11-03T04:12:33.052404Z",
          "iopub.status.idle": "2021-11-03T04:12:33.182776Z",
          "shell.execute_reply": "2021-11-03T04:12:33.183552Z"
        },
        "id": "Yd86X5jFF3xC",
        "outputId": "b882def4-77de-4f90-db3f-34ba56dbbaef",
        "scrolled": false
      },
      "outputs": [
        {
          "data": {
            "image/png": "[encoded data removed]",
            "text/plain": [
              "<Figure size 432x288 with 1 Axes>"
            ]
          },
          "metadata": {
            "needs_background": "light"
          },
          "output_type": "display_data"
        }
      ],
      "source": [
        "fprr, tprr, thresholdsr = roc_curve(y_train_5, y_scores_dmy)\n",
        "plot_roc_curve(fprr, tprr)"
      ]
    },
    {
      "cell_type": "markdown",
      "metadata": {
        "id": "lbalGYWTF3xD"
      },
      "source": [
        "## KNN 분류기"
      ]
    },
    {
      "cell_type": "code",
      "execution_count": null,
      "metadata": {
        "execution": {
          "iopub.execute_input": "2021-11-03T04:12:33.189375Z",
          "iopub.status.busy": "2021-11-03T04:12:33.188321Z",
          "iopub.status.idle": "2021-11-03T04:12:33.232316Z",
          "shell.execute_reply": "2021-11-03T04:12:33.231796Z"
        },
        "id": "T5nQHITHF3xD",
        "outputId": "8ee267cd-29d6-427d-c51e-0abf1538c43d"
      },
      "outputs": [
        {
          "data": {
            "text/plain": [
              "KNeighborsClassifier(n_neighbors=4, weights='distance')"
            ]
          },
          "execution_count": 78,
          "metadata": {},
          "output_type": "execute_result"
        }
      ],
      "source": [
        "from sklearn.neighbors import KNeighborsClassifier\n",
        "knn_clf = KNeighborsClassifier(weights='distance', n_neighbors=4)\n",
        "knn_clf.fit(X_train, y_train)"
      ]
    },
    {
      "cell_type": "code",
      "execution_count": null,
      "metadata": {
        "execution": {
          "iopub.execute_input": "2021-11-03T04:12:33.236117Z",
          "iopub.status.busy": "2021-11-03T04:12:33.235556Z",
          "iopub.status.idle": "2021-11-03T04:12:54.148731Z",
          "shell.execute_reply": "2021-11-03T04:12:54.149487Z"
        },
        "id": "VlPY0JRRF3xD"
      },
      "outputs": [],
      "source": [
        "y_knn_pred = knn_clf.predict(X_test)"
      ]
    },
    {
      "cell_type": "code",
      "execution_count": null,
      "metadata": {
        "execution": {
          "iopub.execute_input": "2021-11-03T04:12:54.153800Z",
          "iopub.status.busy": "2021-11-03T04:12:54.153165Z",
          "iopub.status.idle": "2021-11-03T04:12:54.157655Z",
          "shell.execute_reply": "2021-11-03T04:12:54.158285Z"
        },
        "id": "o3CYgWeCF3xD",
        "outputId": "4cc5b070-9c0e-49ae-a21c-efab7e5d698b"
      },
      "outputs": [
        {
          "data": {
            "text/plain": [
              "0.9714"
            ]
          },
          "execution_count": 80,
          "metadata": {},
          "output_type": "execute_result"
        }
      ],
      "source": [
        "from sklearn.metrics import accuracy_score\n",
        "accuracy_score(y_test, y_knn_pred)"
      ]
    },
    {
      "cell_type": "code",
      "execution_count": null,
      "metadata": {
        "execution": {
          "iopub.execute_input": "2021-11-03T04:12:54.173514Z",
          "iopub.status.busy": "2021-11-03T04:12:54.162590Z",
          "iopub.status.idle": "2021-11-03T04:12:54.216758Z",
          "shell.execute_reply": "2021-11-03T04:12:54.217176Z"
        },
        "id": "luAQ4x6eF3xD",
        "outputId": "abb683e4-f6ad-43f4-f9fd-51a5265604c3"
      },
      "outputs": [
        {
          "data": {
            "image/png": "[encoded data removed]",
            "text/plain": [
              "<Figure size 432x288 with 1 Axes>"
            ]
          },
          "metadata": {
            "needs_background": "light"
          },
          "output_type": "display_data"
        }
      ],
      "source": [
        "from scipy.ndimage.interpolation import shift\n",
        "def shift_digit(digit_array, dx, dy, new=0):\n",
        "    return shift(digit_array.reshape(28, 28), [dy, dx], cval=new).reshape(784)\n",
        "\n",
        "plot_digit(shift_digit(some_digit, 5, 1, new=100))"
      ]
    },
    {
      "cell_type": "code",
      "execution_count": null,
      "metadata": {
        "execution": {
          "iopub.execute_input": "2021-11-03T04:12:54.222730Z",
          "iopub.status.busy": "2021-11-03T04:12:54.221971Z",
          "iopub.status.idle": "2021-11-03T04:13:28.787779Z",
          "shell.execute_reply": "2021-11-03T04:13:28.788200Z"
        },
        "id": "iDilnDg4F3xD",
        "outputId": "019b7627-af08-4d02-8f53-be45056066fb"
      },
      "outputs": [
        {
          "data": {
            "text/plain": [
              "((300000, 784), (300000,))"
            ]
          },
          "execution_count": 82,
          "metadata": {},
          "output_type": "execute_result"
        }
      ],
      "source": [
        "X_train_expanded = [X_train]\n",
        "y_train_expanded = [y_train]\n",
        "for dx, dy in ((1, 0), (-1, 0), (0, 1), (0, -1)):\n",
        "    shifted_images = np.apply_along_axis(shift_digit, axis=1, arr=X_train, dx=dx, dy=dy)\n",
        "    X_train_expanded.append(shifted_images)\n",
        "    y_train_expanded.append(y_train)\n",
        "\n",
        "X_train_expanded = np.concatenate(X_train_expanded)\n",
        "y_train_expanded = np.concatenate(y_train_expanded)\n",
        "X_train_expanded.shape, y_train_expanded.shape"
      ]
    },
    {
      "cell_type": "code",
      "execution_count": null,
      "metadata": {
        "execution": {
          "iopub.execute_input": "2021-11-03T04:13:28.791886Z",
          "iopub.status.busy": "2021-11-03T04:13:28.791310Z",
          "iopub.status.idle": "2021-11-03T04:13:28.976780Z",
          "shell.execute_reply": "2021-11-03T04:13:28.977213Z"
        },
        "id": "m4aw5I3gF3xH",
        "outputId": "048331cb-8901-4b06-d705-09cfb6d73806"
      },
      "outputs": [
        {
          "data": {
            "text/plain": [
              "KNeighborsClassifier(n_neighbors=4, weights='distance')"
            ]
          },
          "execution_count": 83,
          "metadata": {},
          "output_type": "execute_result"
        }
      ],
      "source": [
        "knn_clf.fit(X_train_expanded, y_train_expanded)"
      ]
    },
    {
      "cell_type": "code",
      "execution_count": null,
      "metadata": {
        "execution": {
          "iopub.execute_input": "2021-11-03T04:13:28.980877Z",
          "iopub.status.busy": "2021-11-03T04:13:28.980295Z",
          "iopub.status.idle": "2021-11-03T04:15:23.869603Z",
          "shell.execute_reply": "2021-11-03T04:15:23.868842Z"
        },
        "id": "OZVlhEppF3xH"
      },
      "outputs": [],
      "source": [
        "y_knn_expanded_pred = knn_clf.predict(X_test)"
      ]
    },
    {
      "cell_type": "code",
      "execution_count": null,
      "metadata": {
        "execution": {
          "iopub.execute_input": "2021-11-03T04:15:23.872749Z",
          "iopub.status.busy": "2021-11-03T04:15:23.872155Z",
          "iopub.status.idle": "2021-11-03T04:15:23.876618Z",
          "shell.execute_reply": "2021-11-03T04:15:23.877024Z"
        },
        "id": "25oEdFh9F3xH",
        "outputId": "0b84a558-2c9d-4c9b-b54e-0350215ba542"
      },
      "outputs": [
        {
          "data": {
            "text/plain": [
              "0.9763"
            ]
          },
          "execution_count": 85,
          "metadata": {},
          "output_type": "execute_result"
        }
      ],
      "source": [
        "accuracy_score(y_test, y_knn_expanded_pred)"
      ]
    },
    {
      "cell_type": "code",
      "execution_count": null,
      "metadata": {
        "execution": {
          "iopub.execute_input": "2021-11-03T04:15:23.880558Z",
          "iopub.status.busy": "2021-11-03T04:15:23.879365Z",
          "iopub.status.idle": "2021-11-03T04:15:24.328995Z",
          "shell.execute_reply": "2021-11-03T04:15:24.329792Z"
        },
        "id": "JUuLw-vrF3xI",
        "outputId": "58c6351f-9631-41d5-d9a3-d621dff73e4b"
      },
      "outputs": [
        {
          "data": {
            "text/plain": [
              "array([[0.24579675, 0.        , 0.        , 0.        , 0.        ,\n",
              "        0.        , 0.        , 0.        , 0.        , 0.75420325]])"
            ]
          },
          "execution_count": 86,
          "metadata": {},
          "output_type": "execute_result"
        }
      ],
      "source": [
        "ambiguous_digit = X_test[2589]\n",
        "knn_clf.predict_proba([ambiguous_digit])"
      ]
    },
    {
      "cell_type": "code",
      "execution_count": null,
      "metadata": {
        "execution": {
          "iopub.execute_input": "2021-11-03T04:15:24.346323Z",
          "iopub.status.busy": "2021-11-03T04:15:24.344862Z",
          "iopub.status.idle": "2021-11-03T04:15:24.422148Z",
          "shell.execute_reply": "2021-11-03T04:15:24.422911Z"
        },
        "id": "aph-HYjsF3xI",
        "outputId": "59eadbaf-6ed3-46db-889d-45eb4911501a"
      },
      "outputs": [
        {
          "data": {
            "image/png": "[encoded data removed]",
            "text/plain": [
              "<Figure size 432x288 with 1 Axes>"
            ]
          },
          "metadata": {
            "needs_background": "light"
          },
          "output_type": "display_data"
        }
      ],
      "source": [
        "plot_digit(ambiguous_digit)"
      ]
    },
    {
      "cell_type": "markdown",
      "metadata": {
        "collapsed": true,
        "id": "X7bkXwG_F3xI"
      },
      "source": [
        "# 연습문제 해답"
      ]
    },
    {
      "cell_type": "markdown",
      "metadata": {
        "id": "wd0op17HF3xI"
      },
      "source": [
        "## 1. 97% 정확도의 MNIST 분류기"
      ]
    },
    {
      "cell_type": "markdown",
      "metadata": {
        "id": "xSu2PNXmF3xI"
      },
      "source": [
        "**경고**: 사용하는 하드웨어에 따라 다음 셀을 실행하는데 16시간 또는 그 이상 걸릴 수 있습니다."
      ]
    },
    {
      "cell_type": "code",
      "execution_count": null,
      "metadata": {
        "execution": {
          "iopub.execute_input": "2021-11-03T04:15:24.427536Z",
          "iopub.status.busy": "2021-11-03T04:15:24.426520Z",
          "iopub.status.idle": "2021-11-03T04:25:17.993151Z",
          "shell.execute_reply": "2021-11-03T04:25:17.992326Z"
        },
        "id": "mPeBkbeyF3xI",
        "outputId": "fb3a496f-045c-4ef7-d6f0-ef3f1a1da756"
      },
      "outputs": [
        {
          "name": "stdout",
          "output_type": "stream",
          "text": [
            "Fitting 5 folds for each of 6 candidates, totalling 30 fits\n",
            "[CV 1/5] END ....n_neighbors=3, weights=uniform;, score=0.972 total time=  17.8s\n",
            "[CV 2/5] END ....n_neighbors=3, weights=uniform;, score=0.971 total time=  17.4s\n",
            "[CV 3/5] END ....n_neighbors=3, weights=uniform;, score=0.969 total time=  17.9s\n",
            "[CV 4/5] END ....n_neighbors=3, weights=uniform;, score=0.969 total time=  17.4s\n",
            "[CV 5/5] END ....n_neighbors=3, weights=uniform;, score=0.970 total time=  17.7s\n",
            "[CV 1/5] END ...n_neighbors=3, weights=distance;, score=0.972 total time=  17.2s\n",
            "[CV 2/5] END ...n_neighbors=3, weights=distance;, score=0.972 total time=  17.6s\n",
            "[CV 3/5] END ...n_neighbors=3, weights=distance;, score=0.970 total time=  16.7s\n",
            "[CV 4/5] END ...n_neighbors=3, weights=distance;, score=0.970 total time=  17.4s\n",
            "[CV 5/5] END ...n_neighbors=3, weights=distance;, score=0.971 total time=  17.1s\n",
            "[CV 1/5] END ....n_neighbors=4, weights=uniform;, score=0.969 total time=  20.7s\n",
            "[CV 2/5] END ....n_neighbors=4, weights=uniform;, score=0.968 total time=  21.0s\n",
            "[CV 3/5] END ....n_neighbors=4, weights=uniform;, score=0.968 total time=  21.0s\n",
            "[CV 4/5] END ....n_neighbors=4, weights=uniform;, score=0.967 total time=  21.0s\n",
            "[CV 5/5] END ....n_neighbors=4, weights=uniform;, score=0.970 total time=  21.4s\n",
            "[CV 1/5] END ...n_neighbors=4, weights=distance;, score=0.973 total time=  20.7s\n",
            "[CV 2/5] END ...n_neighbors=4, weights=distance;, score=0.972 total time=  20.8s\n",
            "[CV 3/5] END ...n_neighbors=4, weights=distance;, score=0.970 total time=  20.5s\n",
            "[CV 4/5] END ...n_neighbors=4, weights=distance;, score=0.971 total time=  21.0s\n",
            "[CV 5/5] END ...n_neighbors=4, weights=distance;, score=0.972 total time=  21.3s\n",
            "[CV 1/5] END ....n_neighbors=5, weights=uniform;, score=0.970 total time=  20.9s\n",
            "[CV 2/5] END ....n_neighbors=5, weights=uniform;, score=0.970 total time=  21.3s\n",
            "[CV 3/5] END ....n_neighbors=5, weights=uniform;, score=0.969 total time=  20.6s\n",
            "[CV 4/5] END ....n_neighbors=5, weights=uniform;, score=0.968 total time=  20.9s\n",
            "[CV 5/5] END ....n_neighbors=5, weights=uniform;, score=0.969 total time=  21.3s\n",
            "[CV 1/5] END ...n_neighbors=5, weights=distance;, score=0.970 total time=  20.7s\n",
            "[CV 2/5] END ...n_neighbors=5, weights=distance;, score=0.971 total time=  20.9s\n",
            "[CV 3/5] END ...n_neighbors=5, weights=distance;, score=0.970 total time=  21.0s\n",
            "[CV 4/5] END ...n_neighbors=5, weights=distance;, score=0.969 total time=  20.9s\n",
            "[CV 5/5] END ...n_neighbors=5, weights=distance;, score=0.971 total time=  21.2s\n"
          ]
        },
        {
          "data": {
            "text/plain": [
              "GridSearchCV(cv=5, estimator=KNeighborsClassifier(),\n",
              "             param_grid=[{'n_neighbors': [3, 4, 5],\n",
              "                          'weights': ['uniform', 'distance']}],\n",
              "             verbose=3)"
            ]
          },
          "execution_count": 88,
          "metadata": {},
          "output_type": "execute_result"
        }
      ],
      "source": [
        "from sklearn.model_selection import GridSearchCV\n",
        "\n",
        "param_grid = [{'weights': [\"uniform\", \"distance\"], 'n_neighbors': [3, 4, 5]}]\n",
        "\n",
        "knn_clf = KNeighborsClassifier()\n",
        "grid_search = GridSearchCV(knn_clf, param_grid, cv=5, verbose=3)\n",
        "grid_search.fit(X_train, y_train)"
      ]
    },
    {
      "cell_type": "code",
      "execution_count": null,
      "metadata": {
        "execution": {
          "iopub.execute_input": "2021-11-03T04:25:17.998494Z",
          "iopub.status.busy": "2021-11-03T04:25:17.995720Z",
          "iopub.status.idle": "2021-11-03T04:25:18.000893Z",
          "shell.execute_reply": "2021-11-03T04:25:18.001330Z"
        },
        "id": "lNXAPENFF3xJ",
        "outputId": "a7f44945-02d3-46f2-a528-5bed5b21dacc"
      },
      "outputs": [
        {
          "data": {
            "text/plain": [
              "{'n_neighbors': 4, 'weights': 'distance'}"
            ]
          },
          "execution_count": 89,
          "metadata": {},
          "output_type": "execute_result"
        }
      ],
      "source": [
        "grid_search.best_params_"
      ]
    },
    {
      "cell_type": "code",
      "execution_count": null,
      "metadata": {
        "execution": {
          "iopub.execute_input": "2021-11-03T04:25:18.006017Z",
          "iopub.status.busy": "2021-11-03T04:25:18.005446Z",
          "iopub.status.idle": "2021-11-03T04:25:18.008242Z",
          "shell.execute_reply": "2021-11-03T04:25:18.008634Z"
        },
        "id": "yIonYLt2F3xJ",
        "outputId": "af434f05-0738-4363-d78e-09be08e58077"
      },
      "outputs": [
        {
          "data": {
            "text/plain": [
              "0.9716166666666666"
            ]
          },
          "execution_count": 90,
          "metadata": {},
          "output_type": "execute_result"
        }
      ],
      "source": [
        "grid_search.best_score_"
      ]
    },
    {
      "cell_type": "code",
      "execution_count": null,
      "metadata": {
        "execution": {
          "iopub.execute_input": "2021-11-03T04:25:18.012983Z",
          "iopub.status.busy": "2021-11-03T04:25:18.012423Z",
          "iopub.status.idle": "2021-11-03T04:25:39.327867Z",
          "shell.execute_reply": "2021-11-03T04:25:39.328312Z"
        },
        "id": "6gNmcq-IF3xJ",
        "outputId": "1607c577-3d93-4797-c973-6a0fa04c3ddc"
      },
      "outputs": [
        {
          "data": {
            "text/plain": [
              "0.9714"
            ]
          },
          "execution_count": 91,
          "metadata": {},
          "output_type": "execute_result"
        }
      ],
      "source": [
        "from sklearn.metrics import accuracy_score\n",
        "\n",
        "y_pred = grid_search.predict(X_test)\n",
        "accuracy_score(y_test, y_pred)"
      ]
    },
    {
      "cell_type": "markdown",
      "metadata": {
        "id": "OLZ-4HF1F3xJ"
      },
      "source": [
        "## 2. 데이터 증식"
      ]
    },
    {
      "cell_type": "code",
      "execution_count": null,
      "metadata": {
        "execution": {
          "iopub.execute_input": "2021-11-03T04:25:39.331021Z",
          "iopub.status.busy": "2021-11-03T04:25:39.330458Z",
          "iopub.status.idle": "2021-11-03T04:25:39.332953Z",
          "shell.execute_reply": "2021-11-03T04:25:39.333410Z"
        },
        "id": "viVNVGuFF3xJ"
      },
      "outputs": [],
      "source": [
        "from scipy.ndimage.interpolation import shift"
      ]
    },
    {
      "cell_type": "code",
      "execution_count": null,
      "metadata": {
        "execution": {
          "iopub.execute_input": "2021-11-03T04:25:39.335825Z",
          "iopub.status.busy": "2021-11-03T04:25:39.335240Z",
          "iopub.status.idle": "2021-11-03T04:25:39.338439Z",
          "shell.execute_reply": "2021-11-03T04:25:39.338847Z"
        },
        "id": "-S5WdI5KF3xJ"
      },
      "outputs": [],
      "source": [
        "def shift_image(image, dx, dy):\n",
        "    image = image.reshape((28, 28))\n",
        "    shifted_image = shift(image, [dy, dx], cval=0, mode=\"constant\")\n",
        "    return shifted_image.reshape([-1])"
      ]
    },
    {
      "cell_type": "code",
      "execution_count": null,
      "metadata": {
        "execution": {
          "iopub.execute_input": "2021-11-03T04:25:39.341257Z",
          "iopub.status.busy": "2021-11-03T04:25:39.340665Z",
          "iopub.status.idle": "2021-11-03T04:25:39.653482Z",
          "shell.execute_reply": "2021-11-03T04:25:39.653938Z"
        },
        "id": "XKhQqtfdF3xJ",
        "outputId": "8293aa99-860a-4a12-e8b8-a28abed578a4"
      },
      "outputs": [
        {
          "data": {
            "image/png": "[encoded data removed]",
            "text/plain": [
              "<Figure size 864x216 with 3 Axes>"
            ]
          },
          "metadata": {
            "needs_background": "light"
          },
          "output_type": "display_data"
        }
      ],
      "source": [
        "image = X_train[1000]\n",
        "shifted_image_down = shift_image(image, 0, 5)\n",
        "shifted_image_left = shift_image(image, -5, 0)\n",
        "\n",
        "plt.figure(figsize=(12,3))\n",
        "plt.subplot(131)\n",
        "plt.title(\"Original\", fontsize=14)\n",
        "plt.imshow(image.reshape(28, 28), interpolation=\"nearest\", cmap=\"Greys\")\n",
        "plt.subplot(132)\n",
        "plt.title(\"Shifted down\", fontsize=14)\n",
        "plt.imshow(shifted_image_down.reshape(28, 28), interpolation=\"nearest\", cmap=\"Greys\")\n",
        "plt.subplot(133)\n",
        "plt.title(\"Shifted left\", fontsize=14)\n",
        "plt.imshow(shifted_image_left.reshape(28, 28), interpolation=\"nearest\", cmap=\"Greys\")\n",
        "plt.show()"
      ]
    },
    {
      "cell_type": "code",
      "execution_count": null,
      "metadata": {
        "execution": {
          "iopub.execute_input": "2021-11-03T04:25:39.656527Z",
          "iopub.status.busy": "2021-11-03T04:25:39.655949Z",
          "iopub.status.idle": "2021-11-03T04:26:14.361859Z",
          "shell.execute_reply": "2021-11-03T04:26:14.362346Z"
        },
        "id": "q-twa77RF3xK"
      },
      "outputs": [],
      "source": [
        "X_train_augmented = [image for image in X_train]\n",
        "y_train_augmented = [label for label in y_train]\n",
        "\n",
        "for dx, dy in ((1, 0), (-1, 0), (0, 1), (0, -1)):\n",
        "    for image, label in zip(X_train, y_train):\n",
        "        X_train_augmented.append(shift_image(image, dx, dy))\n",
        "        y_train_augmented.append(label)\n",
        "\n",
        "X_train_augmented = np.array(X_train_augmented)\n",
        "y_train_augmented = np.array(y_train_augmented)"
      ]
    },
    {
      "cell_type": "code",
      "execution_count": null,
      "metadata": {
        "execution": {
          "iopub.execute_input": "2021-11-03T04:26:14.365077Z",
          "iopub.status.busy": "2021-11-03T04:26:14.364513Z",
          "iopub.status.idle": "2021-11-03T04:26:15.192546Z",
          "shell.execute_reply": "2021-11-03T04:26:15.193011Z"
        },
        "id": "9oPhKGN9F3xK"
      },
      "outputs": [],
      "source": [
        "shuffle_idx = np.random.permutation(len(X_train_augmented))\n",
        "X_train_augmented = X_train_augmented[shuffle_idx]\n",
        "y_train_augmented = y_train_augmented[shuffle_idx]"
      ]
    },
    {
      "cell_type": "code",
      "execution_count": null,
      "metadata": {
        "execution": {
          "iopub.execute_input": "2021-11-03T04:26:15.195923Z",
          "iopub.status.busy": "2021-11-03T04:26:15.195355Z",
          "iopub.status.idle": "2021-11-03T04:26:15.198817Z",
          "shell.execute_reply": "2021-11-03T04:26:15.198293Z"
        },
        "id": "ugUdAT0BF3xK"
      },
      "outputs": [],
      "source": [
        "knn_clf = KNeighborsClassifier(**grid_search.best_params_)"
      ]
    },
    {
      "cell_type": "code",
      "execution_count": null,
      "metadata": {
        "execution": {
          "iopub.execute_input": "2021-11-03T04:26:15.202339Z",
          "iopub.status.busy": "2021-11-03T04:26:15.201771Z",
          "iopub.status.idle": "2021-11-03T04:26:15.385066Z",
          "shell.execute_reply": "2021-11-03T04:26:15.385545Z"
        },
        "id": "SdcuPvchF3xK",
        "outputId": "562b32ee-b2f3-42fe-cda6-64358c3c0722"
      },
      "outputs": [
        {
          "data": {
            "text/plain": [
              "KNeighborsClassifier(n_neighbors=4, weights='distance')"
            ]
          },
          "execution_count": 98,
          "metadata": {},
          "output_type": "execute_result"
        }
      ],
      "source": [
        "knn_clf.fit(X_train_augmented, y_train_augmented)"
      ]
    },
    {
      "cell_type": "markdown",
      "metadata": {
        "id": "PKhjEq5zF3xK"
      },
      "source": [
        "**경고**: 사용하는 하드웨어에 따라 다음 셀을 실행하는데 1시간 또는 그 이상 걸릴 수 있습니다."
      ]
    },
    {
      "cell_type": "code",
      "execution_count": null,
      "metadata": {
        "execution": {
          "iopub.execute_input": "2021-11-03T04:26:15.389467Z",
          "iopub.status.busy": "2021-11-03T04:26:15.388876Z",
          "iopub.status.idle": "2021-11-03T04:28:14.264164Z",
          "shell.execute_reply": "2021-11-03T04:28:14.263638Z"
        },
        "id": "QXBqzIZrF3xK",
        "outputId": "34ccb8c2-2635-4d54-c77e-d39555cdc80a"
      },
      "outputs": [
        {
          "data": {
            "text/plain": [
              "0.9763"
            ]
          },
          "execution_count": 99,
          "metadata": {},
          "output_type": "execute_result"
        }
      ],
      "source": [
        "y_pred = knn_clf.predict(X_test)\n",
        "accuracy_score(y_test, y_pred)"
      ]
    },
    {
      "cell_type": "markdown",
      "metadata": {
        "id": "zvTJGaSVF3xK"
      },
      "source": [
        "간단히 데이터를 증식해서 0.5% 정확도를 높였습니다. :)"
      ]
    },
    {
      "cell_type": "markdown",
      "metadata": {
        "id": "gkaGihzEF3xL"
      },
      "source": [
        "## 3. 타이타닉 데이터셋 도전"
      ]
    },
    {
      "cell_type": "markdown",
      "metadata": {
        "id": "Z9iaPgTSF3xL"
      },
      "source": [
        "승객의 나이, 성별, 승객 등급, 승선 위치 같은 속성을 기반으로 하여 승객의 생존 여부를 예측하는 것이 목표입니다."
      ]
    },
    {
      "cell_type": "markdown",
      "metadata": {
        "id": "vCkv57seF3xL"
      },
      "source": [
        "먼저 데이터를 로드해 보죠:"
      ]
    },
    {
      "cell_type": "code",
      "execution_count": null,
      "metadata": {
        "execution": {
          "iopub.execute_input": "2021-11-03T04:28:14.270508Z",
          "iopub.status.busy": "2021-11-03T04:28:14.269925Z",
          "iopub.status.idle": "2021-11-03T04:28:14.272805Z",
          "shell.execute_reply": "2021-11-03T04:28:14.272004Z"
        },
        "id": "TcvHGlYWF3xL"
      },
      "outputs": [],
      "source": [
        "import os\n",
        "import urllib.request\n",
        "\n",
        "TITANIC_PATH = os.path.join(\"datasets\", \"titanic\")\n",
        "DOWNLOAD_URL = \"https://raw.githubusercontent.com/rickiepark/handson-ml2/master/datasets/titanic/\"\n",
        "\n",
        "def fetch_titanic_data(url=DOWNLOAD_URL, path=TITANIC_PATH):\n",
        "    if not os.path.isdir(path):\n",
        "        os.makedirs(path)\n",
        "    for filename in (\"train.csv\", \"test.csv\"):\n",
        "        filepath = os.path.join(path, filename)\n",
        "        if not os.path.isfile(filepath):\n",
        "            print(\"Downloading\", filename)\n",
        "            urllib.request.urlretrieve(url + filename, filepath)\n",
        "\n",
        "fetch_titanic_data()   "
      ]
    },
    {
      "cell_type": "code",
      "execution_count": null,
      "metadata": {
        "execution": {
          "iopub.execute_input": "2021-11-03T04:28:14.276998Z",
          "iopub.status.busy": "2021-11-03T04:28:14.276427Z",
          "iopub.status.idle": "2021-11-03T04:28:14.452746Z",
          "shell.execute_reply": "2021-11-03T04:28:14.451925Z"
        },
        "id": "Or42Mz96F3xL"
      },
      "outputs": [],
      "source": [
        "import pandas as pd\n",
        "\n",
        "def load_titanic_data(filename, titanic_path=TITANIC_PATH):\n",
        "    csv_path = os.path.join(titanic_path, filename)\n",
        "    return pd.read_csv(csv_path)"
      ]
    },
    {
      "cell_type": "code",
      "execution_count": null,
      "metadata": {
        "execution": {
          "iopub.execute_input": "2021-11-03T04:28:14.457532Z",
          "iopub.status.busy": "2021-11-03T04:28:14.456518Z",
          "iopub.status.idle": "2021-11-03T04:28:14.467409Z",
          "shell.execute_reply": "2021-11-03T04:28:14.466907Z"
        },
        "id": "pKRkDSQzF3xL"
      },
      "outputs": [],
      "source": [
        "train_data = load_titanic_data(\"train.csv\")\n",
        "test_data = load_titanic_data(\"test.csv\")"
      ]
    },
    {
      "cell_type": "markdown",
      "metadata": {
        "id": "0KbkOq3NF3xL"
      },
      "source": [
        "데이터는 이미 훈련 세트와 테스트 세트로 분리되어 있습니다. 그러나 테스트 데이터는 레이블을 가지고 있지 않습니다: 훈련 데이터를 이용하여 가능한 최고의 모델을 만들고 테스트 데이터에 대한 예측을 캐글(Kaggle)에 업로드하여 최종 점수를 확인하는 것이 목표입니다."
      ]
    },
    {
      "cell_type": "markdown",
      "metadata": {
        "id": "VtnfqG30F3xL"
      },
      "source": [
        "훈련 세트에서 맨 위 몇 개의 열을 살펴 보겠습니다:"
      ]
    },
    {
      "cell_type": "code",
      "execution_count": null,
      "metadata": {
        "execution": {
          "iopub.execute_input": "2021-11-03T04:28:14.480043Z",
          "iopub.status.busy": "2021-11-03T04:28:14.479467Z",
          "iopub.status.idle": "2021-11-03T04:28:14.484957Z",
          "shell.execute_reply": "2021-11-03T04:28:14.485386Z"
        },
        "id": "w1n2IY4rF3xM",
        "outputId": "fcb7e81b-a9fe-41a8-954b-b522e57dc455"
      },
      "outputs": [
        {
          "data": {
            "text/html": [
              "<div>\n",
              "<style scoped>\n",
              "    .dataframe tbody tr th:only-of-type {\n",
              "        vertical-align: middle;\n",
              "    }\n",
              "\n",
              "    .dataframe tbody tr th {\n",
              "        vertical-align: top;\n",
              "    }\n",
              "\n",
              "    .dataframe thead th {\n",
              "        text-align: right;\n",
              "    }\n",
              "</style>\n",
              "<table border=\"1\" class=\"dataframe\">\n",
              "  <thead>\n",
              "    <tr style=\"text-align: right;\">\n",
              "      <th></th>\n",
              "      <th>PassengerId</th>\n",
              "      <th>Survived</th>\n",
              "      <th>Pclass</th>\n",
              "      <th>Name</th>\n",
              "      <th>Sex</th>\n",
              "      <th>Age</th>\n",
              "      <th>SibSp</th>\n",
              "      <th>Parch</th>\n",
              "      <th>Ticket</th>\n",
              "      <th>Fare</th>\n",
              "      <th>Cabin</th>\n",
              "      <th>Embarked</th>\n",
              "    </tr>\n",
              "  </thead>\n",
              "  <tbody>\n",
              "    <tr>\n",
              "      <th>0</th>\n",
              "      <td>1</td>\n",
              "      <td>0</td>\n",
              "      <td>3</td>\n",
              "      <td>Braund, Mr. Owen Harris</td>\n",
              "      <td>male</td>\n",
              "      <td>22.0</td>\n",
              "      <td>1</td>\n",
              "      <td>0</td>\n",
              "      <td>A/5 21171</td>\n",
              "      <td>7.2500</td>\n",
              "      <td>NaN</td>\n",
              "      <td>S</td>\n",
              "    </tr>\n",
              "    <tr>\n",
              "      <th>1</th>\n",
              "      <td>2</td>\n",
              "      <td>1</td>\n",
              "      <td>1</td>\n",
              "      <td>Cumings, Mrs. John Bradley (Florence Briggs Th...</td>\n",
              "      <td>female</td>\n",
              "      <td>38.0</td>\n",
              "      <td>1</td>\n",
              "      <td>0</td>\n",
              "      <td>PC 17599</td>\n",
              "      <td>71.2833</td>\n",
              "      <td>C85</td>\n",
              "      <td>C</td>\n",
              "    </tr>\n",
              "    <tr>\n",
              "      <th>2</th>\n",
              "      <td>3</td>\n",
              "      <td>1</td>\n",
              "      <td>3</td>\n",
              "      <td>Heikkinen, Miss. Laina</td>\n",
              "      <td>female</td>\n",
              "      <td>26.0</td>\n",
              "      <td>0</td>\n",
              "      <td>0</td>\n",
              "      <td>STON/O2. 3101282</td>\n",
              "      <td>7.9250</td>\n",
              "      <td>NaN</td>\n",
              "      <td>S</td>\n",
              "    </tr>\n",
              "    <tr>\n",
              "      <th>3</th>\n",
              "      <td>4</td>\n",
              "      <td>1</td>\n",
              "      <td>1</td>\n",
              "      <td>Futrelle, Mrs. Jacques Heath (Lily May Peel)</td>\n",
              "      <td>female</td>\n",
              "      <td>35.0</td>\n",
              "      <td>1</td>\n",
              "      <td>0</td>\n",
              "      <td>113803</td>\n",
              "      <td>53.1000</td>\n",
              "      <td>C123</td>\n",
              "      <td>S</td>\n",
              "    </tr>\n",
              "    <tr>\n",
              "      <th>4</th>\n",
              "      <td>5</td>\n",
              "      <td>0</td>\n",
              "      <td>3</td>\n",
              "      <td>Allen, Mr. William Henry</td>\n",
              "      <td>male</td>\n",
              "      <td>35.0</td>\n",
              "      <td>0</td>\n",
              "      <td>0</td>\n",
              "      <td>373450</td>\n",
              "      <td>8.0500</td>\n",
              "      <td>NaN</td>\n",
              "      <td>S</td>\n",
              "    </tr>\n",
              "  </tbody>\n",
              "</table>\n",
              "</div>"
            ],
            "text/plain": [
              "   PassengerId  Survived  Pclass  \\\n",
              "0            1         0       3   \n",
              "1            2         1       1   \n",
              "2            3         1       3   \n",
              "3            4         1       1   \n",
              "4            5         0       3   \n",
              "\n",
              "                                                Name     Sex   Age  SibSp  \\\n",
              "0                            Braund, Mr. Owen Harris    male  22.0      1   \n",
              "1  Cumings, Mrs. John Bradley (Florence Briggs Th...  female  38.0      1   \n",
              "2                             Heikkinen, Miss. Laina  female  26.0      0   \n",
              "3       Futrelle, Mrs. Jacques Heath (Lily May Peel)  female  35.0      1   \n",
              "4                           Allen, Mr. William Henry    male  35.0      0   \n",
              "\n",
              "   Parch            Ticket     Fare Cabin Embarked  \n",
              "0      0         A/5 21171   7.2500   NaN        S  \n",
              "1      0          PC 17599  71.2833   C85        C  \n",
              "2      0  STON/O2. 3101282   7.9250   NaN        S  \n",
              "3      0            113803  53.1000  C123        S  \n",
              "4      0            373450   8.0500   NaN        S  "
            ]
          },
          "execution_count": 103,
          "metadata": {},
          "output_type": "execute_result"
        }
      ],
      "source": [
        "train_data.head()"
      ]
    },
    {
      "cell_type": "markdown",
      "metadata": {
        "id": "uWOBywzSF3xM"
      },
      "source": [
        "속성은 다음과 같은 의미를 가집니다:\n",
        "* **PassengerId**: 각 승객의 고유 식별자.\n",
        "* **Survived**: 타깃입니다. 0은 생존하지 못한 것이고 1은 생존을 의미합니다.\n",
        "* **Pclass**: 승객 등급. 1, 2, 3등석.\n",
        "* **Name**, **Sex**, **Age**: 이름 그대로 의미입니다.\n",
        "* **SibSp**: 함께 탑승한 형제, 배우자의 수.\n",
        "* **Parch**: 함께 탑승한 자녀, 부모의 수.\n",
        "* **Ticket**: 티켓 아이디\n",
        "* **Fare**: 티켓 요금 (파운드)\n",
        "* **Cabin**: 객실 번호\n",
        "* **Embarked**: 승객이 탑승한 곳. C(Cherbourg), Q(Queenstown), S(Southampton)"
      ]
    },
    {
      "cell_type": "markdown",
      "metadata": {
        "id": "zLSCENhuF3xM"
      },
      "source": [
        "`PassengerId` 열을 인덱스 열로 지정하겠습니다:"
      ]
    },
    {
      "cell_type": "code",
      "execution_count": null,
      "metadata": {
        "execution": {
          "iopub.execute_input": "2021-11-03T04:28:14.491670Z",
          "iopub.status.busy": "2021-11-03T04:28:14.491094Z",
          "iopub.status.idle": "2021-11-03T04:28:14.494665Z",
          "shell.execute_reply": "2021-11-03T04:28:14.494178Z"
        },
        "id": "nWmYT5rxF3xM"
      },
      "outputs": [],
      "source": [
        "train_data = train_data.set_index(\"PassengerId\")\n",
        "test_data = test_data.set_index(\"PassengerId\")"
      ]
    },
    {
      "cell_type": "markdown",
      "metadata": {
        "id": "vOp4yu8FF3xM"
      },
      "source": [
        "누락된 데이터가 얼마나 되는지 알아보겠습니다:"
      ]
    },
    {
      "cell_type": "code",
      "execution_count": null,
      "metadata": {
        "execution": {
          "iopub.execute_input": "2021-11-03T04:28:14.508161Z",
          "iopub.status.busy": "2021-11-03T04:28:14.498138Z",
          "iopub.status.idle": "2021-11-03T04:28:14.511844Z",
          "shell.execute_reply": "2021-11-03T04:28:14.511309Z"
        },
        "id": "AFsTZU_aF3xM",
        "outputId": "51dfbee7-cf02-4de3-d2fa-b3bc8478f8b5"
      },
      "outputs": [
        {
          "name": "stdout",
          "output_type": "stream",
          "text": [
            "<class 'pandas.core.frame.DataFrame'>\n",
            "Int64Index: 891 entries, 1 to 891\n",
            "Data columns (total 11 columns):\n",
            " #   Column    Non-Null Count  Dtype  \n",
            "---  ------    --------------  -----  \n",
            " 0   Survived  891 non-null    int64  \n",
            " 1   Pclass    891 non-null    int64  \n",
            " 2   Name      891 non-null    object \n",
            " 3   Sex       891 non-null    object \n",
            " 4   Age       714 non-null    float64\n",
            " 5   SibSp     891 non-null    int64  \n",
            " 6   Parch     891 non-null    int64  \n",
            " 7   Ticket    891 non-null    object \n",
            " 8   Fare      891 non-null    float64\n",
            " 9   Cabin     204 non-null    object \n",
            " 10  Embarked  889 non-null    object \n",
            "dtypes: float64(2), int64(4), object(5)\n",
            "memory usage: 83.5+ KB\n"
          ]
        }
      ],
      "source": [
        "train_data.info()"
      ]
    },
    {
      "cell_type": "code",
      "execution_count": null,
      "metadata": {
        "execution": {
          "iopub.execute_input": "2021-11-03T04:28:14.517218Z",
          "iopub.status.busy": "2021-11-03T04:28:14.516213Z",
          "iopub.status.idle": "2021-11-03T04:28:14.520273Z",
          "shell.execute_reply": "2021-11-03T04:28:14.519664Z"
        },
        "id": "0bpn4aShF3xM",
        "outputId": "f386fb7a-d3d8-458a-886f-3a0284028387"
      },
      "outputs": [
        {
          "data": {
            "text/plain": [
              "27.0"
            ]
          },
          "execution_count": 106,
          "metadata": {},
          "output_type": "execute_result"
        }
      ],
      "source": [
        "train_data[train_data[\"Sex\"]==\"female\"][\"Age\"].median()"
      ]
    },
    {
      "cell_type": "markdown",
      "metadata": {
        "id": "CYafsDSMF3xM"
      },
      "source": [
        "좋습니다. **Age**, **Cabin**, **Embarked** 속성의 일부가 null입니다(891개의 non-null 보다 작습니다). 특히 **Cabin**은 77%가 null입니다. 일단 **Cabin**은 무시하고 나머지를 활용하겠습니다. **Age**는 19%가 null이므로 이를 어떻게 처리할지 결정해야 합니다. null을 중간 나이로 바꾸는 것이 괜찮아 보입니다. 다른 열을 사용하여 나이를 예측하는 것(예를 들어, 1등석의 중간 나이는 37, 2등석은 29, 3등석은 24입니다)이 조금 현명해 보일 수 있지만 단순함을 위해 전체의 중간 나이를 사용하겠습니다."
      ]
    },
    {
      "cell_type": "markdown",
      "metadata": {
        "id": "l8CmvTTiF3xN"
      },
      "source": [
        "**Name**과 **Ticket** 속성도 값을 가지고 있지만 머신러닝 모델이 사용할 수 있는 숫자로 변환하는 것이 조금 까다롭습니다. 그래서 지금은 이 두 속성을 무시하겠습니다."
      ]
    },
    {
      "cell_type": "markdown",
      "metadata": {
        "id": "vUJPYGKFF3xN"
      },
      "source": [
        "통계치를 살펴 보겠습니다:"
      ]
    },
    {
      "cell_type": "code",
      "execution_count": null,
      "metadata": {
        "execution": {
          "iopub.execute_input": "2021-11-03T04:28:14.528151Z",
          "iopub.status.busy": "2021-11-03T04:28:14.526926Z",
          "iopub.status.idle": "2021-11-03T04:28:14.545407Z",
          "shell.execute_reply": "2021-11-03T04:28:14.544889Z"
        },
        "id": "nlfXdFeeF3xN",
        "outputId": "3ce894a0-f963-4abd-f2e9-d768570f0702"
      },
      "outputs": [
        {
          "data": {
            "text/html": [
              "<div>\n",
              "<style scoped>\n",
              "    .dataframe tbody tr th:only-of-type {\n",
              "        vertical-align: middle;\n",
              "    }\n",
              "\n",
              "    .dataframe tbody tr th {\n",
              "        vertical-align: top;\n",
              "    }\n",
              "\n",
              "    .dataframe thead th {\n",
              "        text-align: right;\n",
              "    }\n",
              "</style>\n",
              "<table border=\"1\" class=\"dataframe\">\n",
              "  <thead>\n",
              "    <tr style=\"text-align: right;\">\n",
              "      <th></th>\n",
              "      <th>Survived</th>\n",
              "      <th>Pclass</th>\n",
              "      <th>Age</th>\n",
              "      <th>SibSp</th>\n",
              "      <th>Parch</th>\n",
              "      <th>Fare</th>\n",
              "    </tr>\n",
              "  </thead>\n",
              "  <tbody>\n",
              "    <tr>\n",
              "      <th>count</th>\n",
              "      <td>891.000000</td>\n",
              "      <td>891.000000</td>\n",
              "      <td>714.000000</td>\n",
              "      <td>891.000000</td>\n",
              "      <td>891.000000</td>\n",
              "      <td>891.000000</td>\n",
              "    </tr>\n",
              "    <tr>\n",
              "      <th>mean</th>\n",
              "      <td>0.383838</td>\n",
              "      <td>2.308642</td>\n",
              "      <td>29.699118</td>\n",
              "      <td>0.523008</td>\n",
              "      <td>0.381594</td>\n",
              "      <td>32.204208</td>\n",
              "    </tr>\n",
              "    <tr>\n",
              "      <th>std</th>\n",
              "      <td>0.486592</td>\n",
              "      <td>0.836071</td>\n",
              "      <td>14.526497</td>\n",
              "      <td>1.102743</td>\n",
              "      <td>0.806057</td>\n",
              "      <td>49.693429</td>\n",
              "    </tr>\n",
              "    <tr>\n",
              "      <th>min</th>\n",
              "      <td>0.000000</td>\n",
              "      <td>1.000000</td>\n",
              "      <td>0.420000</td>\n",
              "      <td>0.000000</td>\n",
              "      <td>0.000000</td>\n",
              "      <td>0.000000</td>\n",
              "    </tr>\n",
              "    <tr>\n",
              "      <th>25%</th>\n",
              "      <td>0.000000</td>\n",
              "      <td>2.000000</td>\n",
              "      <td>20.125000</td>\n",
              "      <td>0.000000</td>\n",
              "      <td>0.000000</td>\n",
              "      <td>7.910400</td>\n",
              "    </tr>\n",
              "    <tr>\n",
              "      <th>50%</th>\n",
              "      <td>0.000000</td>\n",
              "      <td>3.000000</td>\n",
              "      <td>28.000000</td>\n",
              "      <td>0.000000</td>\n",
              "      <td>0.000000</td>\n",
              "      <td>14.454200</td>\n",
              "    </tr>\n",
              "    <tr>\n",
              "      <th>75%</th>\n",
              "      <td>1.000000</td>\n",
              "      <td>3.000000</td>\n",
              "      <td>38.000000</td>\n",
              "      <td>1.000000</td>\n",
              "      <td>0.000000</td>\n",
              "      <td>31.000000</td>\n",
              "    </tr>\n",
              "    <tr>\n",
              "      <th>max</th>\n",
              "      <td>1.000000</td>\n",
              "      <td>3.000000</td>\n",
              "      <td>80.000000</td>\n",
              "      <td>8.000000</td>\n",
              "      <td>6.000000</td>\n",
              "      <td>512.329200</td>\n",
              "    </tr>\n",
              "  </tbody>\n",
              "</table>\n",
              "</div>"
            ],
            "text/plain": [
              "         Survived      Pclass         Age       SibSp       Parch        Fare\n",
              "count  891.000000  891.000000  714.000000  891.000000  891.000000  891.000000\n",
              "mean     0.383838    2.308642   29.699118    0.523008    0.381594   32.204208\n",
              "std      0.486592    0.836071   14.526497    1.102743    0.806057   49.693429\n",
              "min      0.000000    1.000000    0.420000    0.000000    0.000000    0.000000\n",
              "25%      0.000000    2.000000   20.125000    0.000000    0.000000    7.910400\n",
              "50%      0.000000    3.000000   28.000000    0.000000    0.000000   14.454200\n",
              "75%      1.000000    3.000000   38.000000    1.000000    0.000000   31.000000\n",
              "max      1.000000    3.000000   80.000000    8.000000    6.000000  512.329200"
            ]
          },
          "execution_count": 107,
          "metadata": {},
          "output_type": "execute_result"
        }
      ],
      "source": [
        "train_data.describe()"
      ]
    },
    {
      "cell_type": "markdown",
      "metadata": {
        "id": "cxTzB0NOF3xN"
      },
      "source": [
        "* 이크, 38%만 **Survived**입니다. 😭 거의 40%에 가까우므로 정확도를 사용해 모델을 평가해도 괜찮을 것 같습니다.\n",
        "* 평균 **Fare**는 32.20 파운드라 그렇게 비싸보이지는 않습니다(아마 요금을 많이 반환해 주었기 때문일 것입니다)\n",
        "* 평균 **Age**는 30보다 작습니다."
      ]
    },
    {
      "cell_type": "markdown",
      "metadata": {
        "id": "BgUcrep6F3xN"
      },
      "source": [
        "타깃이 0과 1로 이루어졌는지 확인합니다:"
      ]
    },
    {
      "cell_type": "code",
      "execution_count": null,
      "metadata": {
        "execution": {
          "iopub.execute_input": "2021-11-03T04:28:14.550349Z",
          "iopub.status.busy": "2021-11-03T04:28:14.549778Z",
          "iopub.status.idle": "2021-11-03T04:28:14.554996Z",
          "shell.execute_reply": "2021-11-03T04:28:14.554475Z"
        },
        "id": "hhTsTio9F3xN",
        "outputId": "96d4eaaf-c5e9-489d-f568-d43ee624ef3d"
      },
      "outputs": [
        {
          "data": {
            "text/plain": [
              "0    549\n",
              "1    342\n",
              "Name: Survived, dtype: int64"
            ]
          },
          "execution_count": 108,
          "metadata": {},
          "output_type": "execute_result"
        }
      ],
      "source": [
        "train_data[\"Survived\"].value_counts()"
      ]
    },
    {
      "cell_type": "markdown",
      "metadata": {
        "id": "ontymNLtF3xO"
      },
      "source": [
        "범주형 특성들을 확인해 보겠습니다:"
      ]
    },
    {
      "cell_type": "code",
      "execution_count": null,
      "metadata": {
        "execution": {
          "iopub.execute_input": "2021-11-03T04:28:14.559850Z",
          "iopub.status.busy": "2021-11-03T04:28:14.559285Z",
          "iopub.status.idle": "2021-11-03T04:28:14.563733Z",
          "shell.execute_reply": "2021-11-03T04:28:14.563240Z"
        },
        "id": "PYLW4WLCF3xO",
        "outputId": "568045f3-ef10-4d9e-be83-7f811b026718"
      },
      "outputs": [
        {
          "data": {
            "text/plain": [
              "3    491\n",
              "1    216\n",
              "2    184\n",
              "Name: Pclass, dtype: int64"
            ]
          },
          "execution_count": 109,
          "metadata": {},
          "output_type": "execute_result"
        }
      ],
      "source": [
        "train_data[\"Pclass\"].value_counts()"
      ]
    },
    {
      "cell_type": "code",
      "execution_count": null,
      "metadata": {
        "execution": {
          "iopub.execute_input": "2021-11-03T04:28:14.568606Z",
          "iopub.status.busy": "2021-11-03T04:28:14.568016Z",
          "iopub.status.idle": "2021-11-03T04:28:14.571429Z",
          "shell.execute_reply": "2021-11-03T04:28:14.570929Z"
        },
        "id": "MbuS_xj2F3xO",
        "outputId": "fc3a6a3d-abce-48e9-cc94-d74c3e4efa69"
      },
      "outputs": [
        {
          "data": {
            "text/plain": [
              "male      577\n",
              "female    314\n",
              "Name: Sex, dtype: int64"
            ]
          },
          "execution_count": 110,
          "metadata": {},
          "output_type": "execute_result"
        }
      ],
      "source": [
        "train_data[\"Sex\"].value_counts()"
      ]
    },
    {
      "cell_type": "code",
      "execution_count": null,
      "metadata": {
        "execution": {
          "iopub.execute_input": "2021-11-03T04:28:14.576478Z",
          "iopub.status.busy": "2021-11-03T04:28:14.575852Z",
          "iopub.status.idle": "2021-11-03T04:28:14.579103Z",
          "shell.execute_reply": "2021-11-03T04:28:14.578617Z"
        },
        "id": "P5DnNAedF3xO",
        "outputId": "5e716b68-e747-4061-cea3-ef9b267c1478"
      },
      "outputs": [
        {
          "data": {
            "text/plain": [
              "S    644\n",
              "C    168\n",
              "Q     77\n",
              "Name: Embarked, dtype: int64"
            ]
          },
          "execution_count": 111,
          "metadata": {},
          "output_type": "execute_result"
        }
      ],
      "source": [
        "train_data[\"Embarked\"].value_counts()"
      ]
    },
    {
      "cell_type": "markdown",
      "metadata": {
        "id": "QTO4iEc0F3xO"
      },
      "source": [
        "**Embarked** 특성은 승객이 탑승한 곳을 알려 줍니다: C=Cherbourg, Q=Queenstown, S=Southampton."
      ]
    },
    {
      "cell_type": "markdown",
      "metadata": {
        "id": "7UMVbWyJF3xO"
      },
      "source": [
        "수치 특성을 위한 파이프라인부터 시작해서 전처리 파이프라인을 만들어 보죠:"
      ]
    },
    {
      "cell_type": "code",
      "execution_count": null,
      "metadata": {
        "execution": {
          "iopub.execute_input": "2021-11-03T04:28:14.583436Z",
          "iopub.status.busy": "2021-11-03T04:28:14.582559Z",
          "iopub.status.idle": "2021-11-03T04:28:14.587061Z",
          "shell.execute_reply": "2021-11-03T04:28:14.586297Z"
        },
        "id": "sND5i9-gF3xO"
      },
      "outputs": [],
      "source": [
        "from sklearn.pipeline import Pipeline\n",
        "from sklearn.impute import SimpleImputer\n",
        "from sklearn.preprocessing import StandardScaler\n",
        "\n",
        "num_pipeline = Pipeline([\n",
        "        (\"imputer\", SimpleImputer(strategy=\"median\")),\n",
        "        (\"scaler\", StandardScaler())\n",
        "    ])"
      ]
    },
    {
      "cell_type": "markdown",
      "metadata": {
        "id": "5-ixMNjuF3xP"
      },
      "source": [
        "이제 범주형 특성을 위한 파이프라인을 만듭니다:"
      ]
    },
    {
      "cell_type": "code",
      "execution_count": null,
      "metadata": {
        "execution": {
          "iopub.execute_input": "2021-11-03T04:28:14.590719Z",
          "iopub.status.busy": "2021-11-03T04:28:14.590053Z",
          "iopub.status.idle": "2021-11-03T04:28:14.592479Z",
          "shell.execute_reply": "2021-11-03T04:28:14.591973Z"
        },
        "id": "sOgI0HjRF3xP"
      },
      "outputs": [],
      "source": [
        "from sklearn.preprocessing import OneHotEncoder"
      ]
    },
    {
      "cell_type": "code",
      "execution_count": null,
      "metadata": {
        "execution": {
          "iopub.execute_input": "2021-11-03T04:28:14.596428Z",
          "iopub.status.busy": "2021-11-03T04:28:14.595785Z",
          "iopub.status.idle": "2021-11-03T04:28:14.598383Z",
          "shell.execute_reply": "2021-11-03T04:28:14.597603Z"
        },
        "id": "LzsHUE6MF3xP"
      },
      "outputs": [],
      "source": [
        "cat_pipeline = Pipeline([\n",
        "        (\"imputer\", SimpleImputer(strategy=\"most_frequent\")),\n",
        "        (\"cat_encoder\", OneHotEncoder(sparse=False)),\n",
        "    ])"
      ]
    },
    {
      "cell_type": "markdown",
      "metadata": {
        "id": "x6o81fThF3xP"
      },
      "source": [
        "마지막으로 숫자와 범주형 파이프라인을 연결합니다:"
      ]
    },
    {
      "cell_type": "code",
      "execution_count": null,
      "metadata": {
        "execution": {
          "iopub.execute_input": "2021-11-03T04:28:14.602478Z",
          "iopub.status.busy": "2021-11-03T04:28:14.601901Z",
          "iopub.status.idle": "2021-11-03T04:28:14.605462Z",
          "shell.execute_reply": "2021-11-03T04:28:14.604927Z"
        },
        "id": "oDkVzkSMF3xP"
      },
      "outputs": [],
      "source": [
        "from sklearn.compose import ColumnTransformer\n",
        "\n",
        "num_attribs = [\"Age\", \"SibSp\", \"Parch\", \"Fare\"]\n",
        "cat_attribs = [\"Pclass\", \"Sex\", \"Embarked\"]\n",
        "\n",
        "preprocess_pipeline = ColumnTransformer([\n",
        "        (\"num\", num_pipeline, num_attribs),\n",
        "        (\"cat\", cat_pipeline, cat_attribs),\n",
        "    ])"
      ]
    },
    {
      "cell_type": "markdown",
      "metadata": {
        "id": "JbFc_YhOF3xP"
      },
      "source": [
        "좋습니다! 이제 원본 데이터를 받아 머신러닝 모델에 주입할 숫자 입력 특성을 출력하는 전처리 파이프라인을 만들었습니다."
      ]
    },
    {
      "cell_type": "code",
      "execution_count": null,
      "metadata": {
        "execution": {
          "iopub.execute_input": "2021-11-03T04:28:14.613105Z",
          "iopub.status.busy": "2021-11-03T04:28:14.612510Z",
          "iopub.status.idle": "2021-11-03T04:28:14.625521Z",
          "shell.execute_reply": "2021-11-03T04:28:14.624984Z"
        },
        "id": "aNPQp7fGF3xP",
        "outputId": "7b0b9d20-ae9e-4bf9-8dfb-b7cec4cedebf"
      },
      "outputs": [
        {
          "data": {
            "text/plain": [
              "array([[-0.56573646,  0.43279337, -0.47367361, ...,  0.        ,\n",
              "         0.        ,  1.        ],\n",
              "       [ 0.66386103,  0.43279337, -0.47367361, ...,  1.        ,\n",
              "         0.        ,  0.        ],\n",
              "       [-0.25833709, -0.4745452 , -0.47367361, ...,  0.        ,\n",
              "         0.        ,  1.        ],\n",
              "       ...,\n",
              "       [-0.1046374 ,  0.43279337,  2.00893337, ...,  0.        ,\n",
              "         0.        ,  1.        ],\n",
              "       [-0.25833709, -0.4745452 , -0.47367361, ...,  1.        ,\n",
              "         0.        ,  0.        ],\n",
              "       [ 0.20276197, -0.4745452 , -0.47367361, ...,  0.        ,\n",
              "         1.        ,  0.        ]])"
            ]
          },
          "execution_count": 116,
          "metadata": {},
          "output_type": "execute_result"
        }
      ],
      "source": [
        "X_train = preprocess_pipeline.fit_transform(\n",
        "    train_data[num_attribs + cat_attribs])\n",
        "X_train"
      ]
    },
    {
      "cell_type": "markdown",
      "metadata": {
        "id": "ciDWqfXMF3xP"
      },
      "source": [
        "레이블을 가져옵니다:"
      ]
    },
    {
      "cell_type": "code",
      "execution_count": null,
      "metadata": {
        "execution": {
          "iopub.execute_input": "2021-11-03T04:28:14.628875Z",
          "iopub.status.busy": "2021-11-03T04:28:14.628308Z",
          "iopub.status.idle": "2021-11-03T04:28:14.630811Z",
          "shell.execute_reply": "2021-11-03T04:28:14.630285Z"
        },
        "id": "2T2wrCXBF3xQ"
      },
      "outputs": [],
      "source": [
        "y_train = train_data[\"Survived\"]"
      ]
    },
    {
      "cell_type": "markdown",
      "metadata": {
        "id": "ZSTnGdhMF3xQ"
      },
      "source": [
        "이제 분류기를 훈련시킬 차례입니다. 먼저 `RandomForestClassifier`를 사용해 보겠습니다:"
      ]
    },
    {
      "cell_type": "code",
      "execution_count": null,
      "metadata": {
        "execution": {
          "iopub.execute_input": "2021-11-03T04:28:14.645017Z",
          "iopub.status.busy": "2021-11-03T04:28:14.636245Z",
          "iopub.status.idle": "2021-11-03T04:28:14.794139Z",
          "shell.execute_reply": "2021-11-03T04:28:14.794563Z"
        },
        "id": "baoAyVWuF3xQ",
        "outputId": "f8ede31a-a4be-4f8f-a151-421b7880d51b"
      },
      "outputs": [
        {
          "data": {
            "text/plain": [
              "RandomForestClassifier(random_state=42)"
            ]
          },
          "execution_count": 118,
          "metadata": {},
          "output_type": "execute_result"
        }
      ],
      "source": [
        "from sklearn.ensemble import RandomForestClassifier\n",
        "\n",
        "forest_clf = RandomForestClassifier(n_estimators=100, random_state=42)\n",
        "forest_clf.fit(X_train, y_train)"
      ]
    },
    {
      "cell_type": "markdown",
      "metadata": {
        "id": "D3s74RaBF3xQ"
      },
      "source": [
        "모델이 잘 훈련된 것 같습니다. 이를 사용해서 테스트 세트에 대한 예측을 만듭니다:"
      ]
    },
    {
      "cell_type": "code",
      "execution_count": null,
      "metadata": {
        "execution": {
          "iopub.execute_input": "2021-11-03T04:28:14.797261Z",
          "iopub.status.busy": "2021-11-03T04:28:14.796678Z",
          "iopub.status.idle": "2021-11-03T04:28:14.820797Z",
          "shell.execute_reply": "2021-11-03T04:28:14.821192Z"
        },
        "id": "T0CcyAFJF3xQ"
      },
      "outputs": [],
      "source": [
        "X_test = preprocess_pipeline.transform(test_data[num_attribs + cat_attribs])\n",
        "y_pred = forest_clf.predict(X_test)"
      ]
    },
    {
      "cell_type": "markdown",
      "metadata": {
        "id": "hT_O9q-uF3xQ"
      },
      "source": [
        "이 예측 결과를 (캐글에서 기대하는 형태인) CSV 파일로 만들어 업로드하고 평가를 받아볼 수 있습니다. 하지만 그냥 좋을거라 기대하는 것보다 교차 검증으로 모델이 얼마나 좋은지 평가하는 것이 좋습니다."
      ]
    },
    {
      "cell_type": "code",
      "execution_count": null,
      "metadata": {
        "execution": {
          "iopub.execute_input": "2021-11-03T04:28:14.823890Z",
          "iopub.status.busy": "2021-11-03T04:28:14.823313Z",
          "iopub.status.idle": "2021-11-03T04:28:16.429802Z",
          "shell.execute_reply": "2021-11-03T04:28:16.430235Z"
        },
        "id": "uU4-MphvF3xQ",
        "outputId": "d4dfd497-815b-4525-f824-e624afc6b360"
      },
      "outputs": [
        {
          "data": {
            "text/plain": [
              "0.8092759051186016"
            ]
          },
          "execution_count": 120,
          "metadata": {},
          "output_type": "execute_result"
        }
      ],
      "source": [
        "from sklearn.model_selection import cross_val_score\n",
        "\n",
        "forest_scores = cross_val_score(forest_clf, X_train, y_train, cv=10)\n",
        "forest_scores.mean()"
      ]
    },
    {
      "cell_type": "markdown",
      "metadata": {
        "id": "Er4VAEP7F3xQ"
      },
      "source": [
        "아주 나쁘지 않네요! 캐글에서 타이타닉 경연 대회의 [리더보드](https://www.kaggle.com/c/titanic/leaderboard)에서 상위 2% 안에 든 점수를 볼 수 있습니다. 와우! 어떤 사람들은 100%를 달성했습니다. 하지만 타이타닉의 [희생자 목록](https://www.encyclopedia-titanica.org/titanic-victims/)을 쉽게 찾을 수 있으므로 머신러닝을 사용하지 않고도 이런 정확도를 달성할 수 있습니다! 😆"
      ]
    },
    {
      "cell_type": "markdown",
      "metadata": {
        "id": "hKQwKINSF3xR"
      },
      "source": [
        "`SVC`를 적용해 보겠습니다:"
      ]
    },
    {
      "cell_type": "code",
      "execution_count": null,
      "metadata": {
        "execution": {
          "iopub.execute_input": "2021-11-03T04:28:16.434420Z",
          "iopub.status.busy": "2021-11-03T04:28:16.432871Z",
          "iopub.status.idle": "2021-11-03T04:28:16.689760Z",
          "shell.execute_reply": "2021-11-03T04:28:16.690179Z"
        },
        "id": "U0wEt0MyF3xR",
        "outputId": "f054bdda-0193-42a8-bce4-a0f217bf0e62"
      },
      "outputs": [
        {
          "data": {
            "text/plain": [
              "0.8249313358302123"
            ]
          },
          "execution_count": 121,
          "metadata": {},
          "output_type": "execute_result"
        }
      ],
      "source": [
        "from sklearn.svm import SVC\n",
        "\n",
        "svm_clf = SVC(gamma=\"auto\")\n",
        "svm_scores = cross_val_score(svm_clf, X_train, y_train, cv=10)\n",
        "svm_scores.mean()"
      ]
    },
    {
      "cell_type": "markdown",
      "metadata": {
        "id": "fu4pdzzDF3xR"
      },
      "source": [
        "좋네요! 이 모델이 훨씬 나아보입니다."
      ]
    },
    {
      "cell_type": "markdown",
      "metadata": {
        "id": "T95ho1mnF3xR"
      },
      "source": [
        "하지만 10 폴드 교차 검증에 대한 평균 정확도를 보는 대신 모델에서 얻은 10개의 점수를 1사분위, 3사분위를 명료하게 표현해주는 상자 수염 그림(box-and-whisker) 그래프를 만들어 보겠습니다(이 방식을 제안해 준 Nevin Yilmaz에게 감사합니다). `boxplot()` 함수는 이상치(플라이어(flier)라고 부릅니다)를 감지하고 수염 부분에 이를 포함시키지 않습니다. 1사분위가 $Q_1$이고 3사분위가 $Q_3$이라면 사분위수 범위는 $IQR = Q_3 - Q_1$가 됩니다(이 값이 박스의 높이가 됩니다). $Q_1 - 1.5 \\times IQR$ 보다 낮거나 $Q3 + 1.5 \\times IQR$ 보다 높은 점수는 이상치로 간주됩니다."
      ]
    },
    {
      "cell_type": "code",
      "execution_count": null,
      "metadata": {
        "execution": {
          "iopub.execute_input": "2021-11-03T04:28:16.713478Z",
          "iopub.status.busy": "2021-11-03T04:28:16.709152Z",
          "iopub.status.idle": "2021-11-03T04:28:16.818696Z",
          "shell.execute_reply": "2021-11-03T04:28:16.819087Z"
        },
        "id": "G52vOwMGF3xR",
        "outputId": "3cdf83e9-7329-417f-a898-f388258e5511"
      },
      "outputs": [
        {
          "data": {
            "image/png": "[encoded data removed]",
            "text/plain": [
              "<Figure size 576x288 with 1 Axes>"
            ]
          },
          "metadata": {
            "needs_background": "light"
          },
          "output_type": "display_data"
        }
      ],
      "source": [
        "import matplotlib.pyplot as plt\n",
        "\n",
        "plt.figure(figsize=(8, 4))\n",
        "plt.plot([1]*10, svm_scores, \".\")\n",
        "plt.plot([2]*10, forest_scores, \".\")\n",
        "plt.boxplot([svm_scores, forest_scores], labels=(\"SVM\",\"Random Forest\"))\n",
        "plt.ylabel(\"Accuracy\", fontsize=14)\n",
        "plt.show()"
      ]
    },
    {
      "cell_type": "markdown",
      "metadata": {
        "id": "pJl5QnyQF3xR"
      },
      "source": [
        "랜덤 포레스트 분류기가 10개의 폴드 중 하나에서 매우 높은 점수를 얻었지만 넓게 퍼져 있기 때문에 전체적인 평균 점수는 낮습니다. 따라서 SVM 분류기가 일반화를 더 잘하는 것 같습니다."
      ]
    },
    {
      "cell_type": "markdown",
      "metadata": {
        "id": "O-iHwPlMF3xR"
      },
      "source": [
        "이 결과를 더 향상시키려면:\n",
        "* 교차 검증과 그리드 탐색을 사용하여 더 많은 모델을 비교하고 하이퍼파라미터를 튜닝하세요.\n",
        "* 특성 공학을 더 시도해 보세요, 예를 들면:\n",
        "  * 수치 특성을 범주형 특성으로 바꾸어 보세요: 예를 들어, 나이대가 다른 경우 다른 생존 비율을 가질 수 있습니다(아래 참조). 그러므로 나이 구간을 범주로 만들어 나이 대신 사용하는 것이 도움이 될 수 있스니다. 비슷하게 생존자의 30%가 혼자 여행하는 사람이기 때문에 이들을 위한 특별한 범주를 만드는 것이 도움이 될 수 있습니다(아래 참조).\n",
        "  * **SibSp**와 **Parch**을 이 두 특성의 합으로 바꿉니다.\n",
        "  * **Survived** 특성과 관련된 이름을 구별해 보세요.\n",
        "  * **Cabin** 열을 사용하세요. 예를 들어 첫 글자를 범주형 속성처럼 다룰 수 있습니다."
      ]
    },
    {
      "cell_type": "code",
      "execution_count": null,
      "metadata": {
        "execution": {
          "iopub.execute_input": "2021-11-03T04:28:16.832623Z",
          "iopub.status.busy": "2021-11-03T04:28:16.832026Z",
          "iopub.status.idle": "2021-11-03T04:28:16.837541Z",
          "shell.execute_reply": "2021-11-03T04:28:16.837933Z"
        },
        "id": "_uJiuqmGF3xR",
        "outputId": "01bc3229-21d2-4391-9824-d85c2de1325a"
      },
      "outputs": [
        {
          "data": {
            "text/html": [
              "<div>\n",
              "<style scoped>\n",
              "    .dataframe tbody tr th:only-of-type {\n",
              "        vertical-align: middle;\n",
              "    }\n",
              "\n",
              "    .dataframe tbody tr th {\n",
              "        vertical-align: top;\n",
              "    }\n",
              "\n",
              "    .dataframe thead th {\n",
              "        text-align: right;\n",
              "    }\n",
              "</style>\n",
              "<table border=\"1\" class=\"dataframe\">\n",
              "  <thead>\n",
              "    <tr style=\"text-align: right;\">\n",
              "      <th></th>\n",
              "      <th>Survived</th>\n",
              "    </tr>\n",
              "    <tr>\n",
              "      <th>AgeBucket</th>\n",
              "      <th></th>\n",
              "    </tr>\n",
              "  </thead>\n",
              "  <tbody>\n",
              "    <tr>\n",
              "      <th>0.0</th>\n",
              "      <td>0.576923</td>\n",
              "    </tr>\n",
              "    <tr>\n",
              "      <th>15.0</th>\n",
              "      <td>0.362745</td>\n",
              "    </tr>\n",
              "    <tr>\n",
              "      <th>30.0</th>\n",
              "      <td>0.423256</td>\n",
              "    </tr>\n",
              "    <tr>\n",
              "      <th>45.0</th>\n",
              "      <td>0.404494</td>\n",
              "    </tr>\n",
              "    <tr>\n",
              "      <th>60.0</th>\n",
              "      <td>0.240000</td>\n",
              "    </tr>\n",
              "    <tr>\n",
              "      <th>75.0</th>\n",
              "      <td>1.000000</td>\n",
              "    </tr>\n",
              "  </tbody>\n",
              "</table>\n",
              "</div>"
            ],
            "text/plain": [
              "           Survived\n",
              "AgeBucket          \n",
              "0.0        0.576923\n",
              "15.0       0.362745\n",
              "30.0       0.423256\n",
              "45.0       0.404494\n",
              "60.0       0.240000\n",
              "75.0       1.000000"
            ]
          },
          "execution_count": 123,
          "metadata": {},
          "output_type": "execute_result"
        }
      ],
      "source": [
        "train_data[\"AgeBucket\"] = train_data[\"Age\"] // 15 * 15\n",
        "train_data[[\"AgeBucket\", \"Survived\"]].groupby(['AgeBucket']).mean()"
      ]
    },
    {
      "cell_type": "code",
      "execution_count": null,
      "metadata": {
        "execution": {
          "iopub.execute_input": "2021-11-03T04:28:16.848086Z",
          "iopub.status.busy": "2021-11-03T04:28:16.844650Z",
          "iopub.status.idle": "2021-11-03T04:28:16.851410Z",
          "shell.execute_reply": "2021-11-03T04:28:16.850884Z"
        },
        "id": "SsD9p08tF3xS",
        "outputId": "de17da82-8d82-4eb5-fcae-bdff38218e6e"
      },
      "outputs": [
        {
          "data": {
            "text/html": [
              "<div>\n",
              "<style scoped>\n",
              "    .dataframe tbody tr th:only-of-type {\n",
              "        vertical-align: middle;\n",
              "    }\n",
              "\n",
              "    .dataframe tbody tr th {\n",
              "        vertical-align: top;\n",
              "    }\n",
              "\n",
              "    .dataframe thead th {\n",
              "        text-align: right;\n",
              "    }\n",
              "</style>\n",
              "<table border=\"1\" class=\"dataframe\">\n",
              "  <thead>\n",
              "    <tr style=\"text-align: right;\">\n",
              "      <th></th>\n",
              "      <th>Survived</th>\n",
              "    </tr>\n",
              "    <tr>\n",
              "      <th>RelativesOnboard</th>\n",
              "      <th></th>\n",
              "    </tr>\n",
              "  </thead>\n",
              "  <tbody>\n",
              "    <tr>\n",
              "      <th>0</th>\n",
              "      <td>0.303538</td>\n",
              "    </tr>\n",
              "    <tr>\n",
              "      <th>1</th>\n",
              "      <td>0.552795</td>\n",
              "    </tr>\n",
              "    <tr>\n",
              "      <th>2</th>\n",
              "      <td>0.578431</td>\n",
              "    </tr>\n",
              "    <tr>\n",
              "      <th>3</th>\n",
              "      <td>0.724138</td>\n",
              "    </tr>\n",
              "    <tr>\n",
              "      <th>4</th>\n",
              "      <td>0.200000</td>\n",
              "    </tr>\n",
              "    <tr>\n",
              "      <th>5</th>\n",
              "      <td>0.136364</td>\n",
              "    </tr>\n",
              "    <tr>\n",
              "      <th>6</th>\n",
              "      <td>0.333333</td>\n",
              "    </tr>\n",
              "    <tr>\n",
              "      <th>7</th>\n",
              "      <td>0.000000</td>\n",
              "    </tr>\n",
              "    <tr>\n",
              "      <th>10</th>\n",
              "      <td>0.000000</td>\n",
              "    </tr>\n",
              "  </tbody>\n",
              "</table>\n",
              "</div>"
            ],
            "text/plain": [
              "                  Survived\n",
              "RelativesOnboard          \n",
              "0                 0.303538\n",
              "1                 0.552795\n",
              "2                 0.578431\n",
              "3                 0.724138\n",
              "4                 0.200000\n",
              "5                 0.136364\n",
              "6                 0.333333\n",
              "7                 0.000000\n",
              "10                0.000000"
            ]
          },
          "execution_count": 124,
          "metadata": {},
          "output_type": "execute_result"
        }
      ],
      "source": [
        "train_data[\"RelativesOnboard\"] = train_data[\"SibSp\"] + train_data[\"Parch\"]\n",
        "train_data[[\"RelativesOnboard\", \"Survived\"]].groupby(['RelativesOnboard']).mean()"
      ]
    },
    {
      "cell_type": "markdown",
      "metadata": {
        "id": "m3sIhEUUF3xS"
      },
      "source": [
        "## 4. 스팸 필터"
      ]
    },
    {
      "cell_type": "markdown",
      "metadata": {
        "id": "KaMJUSr5F3xS"
      },
      "source": [
        "먼저 데이터를 다운받습니다:"
      ]
    },
    {
      "cell_type": "code",
      "execution_count": null,
      "metadata": {
        "execution": {
          "iopub.execute_input": "2021-11-03T04:28:16.857519Z",
          "iopub.status.busy": "2021-11-03T04:28:16.856892Z",
          "iopub.status.idle": "2021-11-03T04:28:16.859477Z",
          "shell.execute_reply": "2021-11-03T04:28:16.858912Z"
        },
        "id": "8E9y_ifIF3xS"
      },
      "outputs": [],
      "source": [
        "import os\n",
        "import tarfile\n",
        "import urllib.request\n",
        "\n",
        "DOWNLOAD_ROOT = \"http://spamassassin.apache.org/old/publiccorpus/\"\n",
        "HAM_URL = DOWNLOAD_ROOT + \"20030228_easy_ham.tar.bz2\"\n",
        "SPAM_URL = DOWNLOAD_ROOT + \"20030228_spam.tar.bz2\"\n",
        "SPAM_PATH = os.path.join(\"datasets\", \"spam\")\n",
        "\n",
        "def fetch_spam_data(ham_url=HAM_URL, spam_url=SPAM_URL, spam_path=SPAM_PATH):\n",
        "    if not os.path.isdir(spam_path):\n",
        "        os.makedirs(spam_path)\n",
        "    for filename, url in ((\"ham.tar.bz2\", ham_url), (\"spam.tar.bz2\", spam_url)):\n",
        "        path = os.path.join(spam_path, filename)\n",
        "        if not os.path.isfile(path):\n",
        "            urllib.request.urlretrieve(url, path)\n",
        "        tar_bz2_file = tarfile.open(path)\n",
        "        tar_bz2_file.extractall(path=spam_path)\n",
        "        tar_bz2_file.close()"
      ]
    },
    {
      "cell_type": "code",
      "execution_count": null,
      "metadata": {
        "execution": {
          "iopub.execute_input": "2021-11-03T04:28:16.862864Z",
          "iopub.status.busy": "2021-11-03T04:28:16.862304Z",
          "iopub.status.idle": "2021-11-03T04:28:17.958863Z",
          "shell.execute_reply": "2021-11-03T04:28:17.959350Z"
        },
        "id": "Ldfa1fCYF3xS"
      },
      "outputs": [],
      "source": [
        "fetch_spam_data()"
      ]
    },
    {
      "cell_type": "markdown",
      "metadata": {
        "id": "kDw1OFefF3xS"
      },
      "source": [
        "다음, 모든 이메일을 읽어 들입니다:"
      ]
    },
    {
      "cell_type": "code",
      "execution_count": null,
      "metadata": {
        "execution": {
          "iopub.execute_input": "2021-11-03T04:28:17.962176Z",
          "iopub.status.busy": "2021-11-03T04:28:17.961602Z",
          "iopub.status.idle": "2021-11-03T04:28:17.968334Z",
          "shell.execute_reply": "2021-11-03T04:28:17.968743Z"
        },
        "id": "BVqD2hcJF3xS"
      },
      "outputs": [],
      "source": [
        "HAM_DIR = os.path.join(SPAM_PATH, \"easy_ham\")\n",
        "SPAM_DIR = os.path.join(SPAM_PATH, \"spam\")\n",
        "ham_filenames = [name for name in sorted(os.listdir(HAM_DIR)) if len(name) > 20]\n",
        "spam_filenames = [name for name in sorted(os.listdir(SPAM_DIR)) if len(name) > 20]"
      ]
    },
    {
      "cell_type": "code",
      "execution_count": null,
      "metadata": {
        "execution": {
          "iopub.execute_input": "2021-11-03T04:28:17.971224Z",
          "iopub.status.busy": "2021-11-03T04:28:17.970659Z",
          "iopub.status.idle": "2021-11-03T04:28:17.974643Z",
          "shell.execute_reply": "2021-11-03T04:28:17.974163Z"
        },
        "id": "JmxLsO0eF3xS",
        "outputId": "8d5573a6-4f06-40ae-8516-fa971be81a15"
      },
      "outputs": [
        {
          "data": {
            "text/plain": [
              "2500"
            ]
          },
          "execution_count": 128,
          "metadata": {},
          "output_type": "execute_result"
        }
      ],
      "source": [
        "len(ham_filenames)"
      ]
    },
    {
      "cell_type": "code",
      "execution_count": null,
      "metadata": {
        "execution": {
          "iopub.execute_input": "2021-11-03T04:28:17.978792Z",
          "iopub.status.busy": "2021-11-03T04:28:17.978135Z",
          "iopub.status.idle": "2021-11-03T04:28:17.980915Z",
          "shell.execute_reply": "2021-11-03T04:28:17.981360Z"
        },
        "id": "b6NDOT0dF3xS",
        "outputId": "1243d9e7-7c86-4643-abce-f92bbf39d305"
      },
      "outputs": [
        {
          "data": {
            "text/plain": [
              "500"
            ]
          },
          "execution_count": 129,
          "metadata": {},
          "output_type": "execute_result"
        }
      ],
      "source": [
        "len(spam_filenames)"
      ]
    },
    {
      "cell_type": "markdown",
      "metadata": {
        "id": "1W3ROhPaF3xT"
      },
      "source": [
        "파이썬의 `email` 모듈을 사용해 이메일을 파싱합니다(헤더, 인코딩 등을 처리합니다):"
      ]
    },
    {
      "cell_type": "code",
      "execution_count": null,
      "metadata": {
        "execution": {
          "iopub.execute_input": "2021-11-03T04:28:17.986027Z",
          "iopub.status.busy": "2021-11-03T04:28:17.985446Z",
          "iopub.status.idle": "2021-11-03T04:28:17.993620Z",
          "shell.execute_reply": "2021-11-03T04:28:17.994009Z"
        },
        "id": "O6p4wszSF3xT"
      },
      "outputs": [],
      "source": [
        "import email\n",
        "import email.policy\n",
        "\n",
        "def load_email(is_spam, filename, spam_path=SPAM_PATH):\n",
        "    directory = \"spam\" if is_spam else \"easy_ham\"\n",
        "    with open(os.path.join(spam_path, directory, filename), \"rb\") as f:\n",
        "        return email.parser.BytesParser(policy=email.policy.default).parse(f)"
      ]
    },
    {
      "cell_type": "code",
      "execution_count": null,
      "metadata": {
        "execution": {
          "iopub.execute_input": "2021-11-03T04:28:18.001130Z",
          "iopub.status.busy": "2021-11-03T04:28:17.999380Z",
          "iopub.status.idle": "2021-11-03T04:28:20.251689Z",
          "shell.execute_reply": "2021-11-03T04:28:20.251008Z"
        },
        "id": "rQ6eD9RjF3xT"
      },
      "outputs": [],
      "source": [
        "ham_emails = [load_email(is_spam=False, filename=name) for name in ham_filenames]\n",
        "spam_emails = [load_email(is_spam=True, filename=name) for name in spam_filenames]"
      ]
    },
    {
      "cell_type": "markdown",
      "metadata": {
        "id": "0q5xjVMhF3xT"
      },
      "source": [
        "데이터가 어떻게 구성되어 있는지 감을 잡기 위해 햄 메일과 스팸 메일을 하나씩 보겠습니다:"
      ]
    },
    {
      "cell_type": "code",
      "execution_count": null,
      "metadata": {
        "execution": {
          "iopub.execute_input": "2021-11-03T04:28:20.256222Z",
          "iopub.status.busy": "2021-11-03T04:28:20.255658Z",
          "iopub.status.idle": "2021-11-03T04:28:20.258581Z",
          "shell.execute_reply": "2021-11-03T04:28:20.258106Z"
        },
        "id": "prIZ3v11F3xT",
        "outputId": "7fe4006f-5599-407b-acac-0093bcaac031"
      },
      "outputs": [
        {
          "name": "stdout",
          "output_type": "stream",
          "text": [
            "Martin A posted:\n",
            "Tassos Papadopoulos, the Greek sculptor behind the plan, judged that the\n",
            " limestone of Mount Kerdylio, 70 miles east of Salonika and not far from the\n",
            " Mount Athos monastic community, was ideal for the patriotic sculpture. \n",
            " \n",
            " As well as Alexander's granite features, 240 ft high and 170 ft wide, a\n",
            " museum, a restored amphitheatre and car park for admiring crowds are\n",
            "planned\n",
            "---------------------\n",
            "So is this mountain limestone or granite?\n",
            "If it's limestone, it'll weather pretty fast.\n",
            "\n",
            "------------------------ Yahoo! Groups Sponsor ---------------------~-->\n",
            "4 DVDs Free +s&p Join Now\n",
            "http://us.click.yahoo.com/pt6YBB/NXiEAA/mG3HAA/7gSolB/TM\n",
            "---------------------------------------------------------------------~->\n",
            "\n",
            "To unsubscribe from this group, send an email to:\n",
            "forteana-unsubscribe@egroups.com\n",
            "\n",
            " \n",
            "\n",
            "Your use of Yahoo! Groups is subject to http://docs.yahoo.com/info/terms/\n"
          ]
        }
      ],
      "source": [
        "print(ham_emails[1].get_content().strip())"
      ]
    },
    {
      "cell_type": "code",
      "execution_count": null,
      "metadata": {
        "execution": {
          "iopub.execute_input": "2021-11-03T04:28:20.262771Z",
          "iopub.status.busy": "2021-11-03T04:28:20.262191Z",
          "iopub.status.idle": "2021-11-03T04:28:20.265118Z",
          "shell.execute_reply": "2021-11-03T04:28:20.264660Z"
        },
        "id": "aLSsVoyZF3xT",
        "outputId": "6e8e1809-dcd8-404d-cd90-d2dbcf6c336d"
      },
      "outputs": [
        {
          "name": "stdout",
          "output_type": "stream",
          "text": [
            "Help wanted.  We are a 14 year old fortune 500 company, that is\n",
            "growing at a tremendous rate.  We are looking for individuals who\n",
            "want to work from home.\n",
            "\n",
            "This is an opportunity to make an excellent income.  No experience\n",
            "is required.  We will train you.\n",
            "\n",
            "So if you are looking to be employed from home with a career that has\n",
            "vast opportunities, then go:\n",
            "\n",
            "http://www.basetel.com/wealthnow\n",
            "\n",
            "We are looking for energetic and self motivated people.  If that is you\n",
            "than click on the link and fill out the form, and one of our\n",
            "employement specialist will contact you.\n",
            "\n",
            "To be removed from our link simple go to:\n",
            "\n",
            "http://www.basetel.com/remove.html\n",
            "\n",
            "\n",
            "4139vOLW7-758DoDY1425FRhM1-764SMFc8513fCsLl40\n"
          ]
        }
      ],
      "source": [
        "print(spam_emails[6].get_content().strip())"
      ]
    },
    {
      "cell_type": "markdown",
      "metadata": {
        "id": "7sIKPZZoF3xT"
      },
      "source": [
        "어떤 이메일은 이미지나 첨부 파일을 가진 멀티파트(multipart)입니다(메일에 포함되어 있을수 있습니다). 어떤 파일들이 있는지 살펴 보겠습니다:"
      ]
    },
    {
      "cell_type": "code",
      "execution_count": null,
      "metadata": {
        "execution": {
          "iopub.execute_input": "2021-11-03T04:28:20.269656Z",
          "iopub.status.busy": "2021-11-03T04:28:20.269058Z",
          "iopub.status.idle": "2021-11-03T04:28:20.271568Z",
          "shell.execute_reply": "2021-11-03T04:28:20.271054Z"
        },
        "id": "F9tcShpzF3xT"
      },
      "outputs": [],
      "source": [
        "def get_email_structure(email):\n",
        "    if isinstance(email, str):\n",
        "        return email\n",
        "    payload = email.get_payload()\n",
        "    if isinstance(payload, list):\n",
        "        return \"multipart({})\".format(\", \".join([\n",
        "            get_email_structure(sub_email)\n",
        "            for sub_email in payload\n",
        "        ]))\n",
        "    else:\n",
        "        return email.get_content_type()"
      ]
    },
    {
      "cell_type": "code",
      "execution_count": null,
      "metadata": {
        "execution": {
          "iopub.execute_input": "2021-11-03T04:28:20.275922Z",
          "iopub.status.busy": "2021-11-03T04:28:20.275350Z",
          "iopub.status.idle": "2021-11-03T04:28:20.278581Z",
          "shell.execute_reply": "2021-11-03T04:28:20.278960Z"
        },
        "id": "9Gdrq1j7F3xT"
      },
      "outputs": [],
      "source": [
        "from collections import Counter\n",
        "\n",
        "def structures_counter(emails):\n",
        "    structures = Counter()\n",
        "    for email in emails:\n",
        "        structure = get_email_structure(email)\n",
        "        structures[structure] += 1\n",
        "    return structures"
      ]
    },
    {
      "cell_type": "code",
      "execution_count": null,
      "metadata": {
        "execution": {
          "iopub.execute_input": "2021-11-03T04:28:20.307388Z",
          "iopub.status.busy": "2021-11-03T04:28:20.297011Z",
          "iopub.status.idle": "2021-11-03T04:28:20.596605Z",
          "shell.execute_reply": "2021-11-03T04:28:20.597037Z"
        },
        "id": "zPy1heDiF3xU",
        "outputId": "7832e2a1-b99b-4f86-d1b3-06b442d24855"
      },
      "outputs": [
        {
          "data": {
            "text/plain": [
              "[('text/plain', 2408),\n",
              " ('multipart(text/plain, application/pgp-signature)', 66),\n",
              " ('multipart(text/plain, text/html)', 8),\n",
              " ('multipart(text/plain, text/plain)', 4),\n",
              " ('multipart(text/plain)', 3),\n",
              " ('multipart(text/plain, application/octet-stream)', 2),\n",
              " ('multipart(text/plain, text/enriched)', 1),\n",
              " ('multipart(text/plain, application/ms-tnef, text/plain)', 1),\n",
              " ('multipart(multipart(text/plain, text/plain, text/plain), application/pgp-signature)',\n",
              "  1),\n",
              " ('multipart(text/plain, video/mng)', 1),\n",
              " ('multipart(text/plain, multipart(text/plain))', 1),\n",
              " ('multipart(text/plain, application/x-pkcs7-signature)', 1),\n",
              " ('multipart(text/plain, multipart(text/plain, text/plain), text/rfc822-headers)',\n",
              "  1),\n",
              " ('multipart(text/plain, multipart(text/plain, text/plain), multipart(multipart(text/plain, application/x-pkcs7-signature)))',\n",
              "  1),\n",
              " ('multipart(text/plain, application/x-java-applet)', 1)]"
            ]
          },
          "execution_count": 136,
          "metadata": {},
          "output_type": "execute_result"
        }
      ],
      "source": [
        "structures_counter(ham_emails).most_common()"
      ]
    },
    {
      "cell_type": "code",
      "execution_count": null,
      "metadata": {
        "execution": {
          "iopub.execute_input": "2021-11-03T04:28:20.606934Z",
          "iopub.status.busy": "2021-11-03T04:28:20.606354Z",
          "iopub.status.idle": "2021-11-03T04:28:20.708519Z",
          "shell.execute_reply": "2021-11-03T04:28:20.707965Z"
        },
        "id": "Ys0ANjhjF3xU",
        "outputId": "a0091aa9-2adc-4e89-b71b-9b808f66e593"
      },
      "outputs": [
        {
          "data": {
            "text/plain": [
              "[('text/plain', 218),\n",
              " ('text/html', 183),\n",
              " ('multipart(text/plain, text/html)', 45),\n",
              " ('multipart(text/html)', 20),\n",
              " ('multipart(text/plain)', 19),\n",
              " ('multipart(multipart(text/html))', 5),\n",
              " ('multipart(text/plain, image/jpeg)', 3),\n",
              " ('multipart(text/html, application/octet-stream)', 2),\n",
              " ('multipart(text/plain, application/octet-stream)', 1),\n",
              " ('multipart(text/html, text/plain)', 1),\n",
              " ('multipart(multipart(text/html), application/octet-stream, image/jpeg)', 1),\n",
              " ('multipart(multipart(text/plain, text/html), image/gif)', 1),\n",
              " ('multipart/alternative', 1)]"
            ]
          },
          "execution_count": 137,
          "metadata": {},
          "output_type": "execute_result"
        }
      ],
      "source": [
        "structures_counter(spam_emails).most_common()"
      ]
    },
    {
      "cell_type": "markdown",
      "metadata": {
        "id": "aIG3VSCXF3xU"
      },
      "source": [
        "햄 메일은 평범한 텍스트가 많고 스팸은 HTML일 경우가 많습니다. 적은 수의 햄 이메일이 PGP로 서명되어 있지만 스팸 메일에는 없습니다. 요약하면 이메일 구조는 유용한 정보입니다."
      ]
    },
    {
      "cell_type": "markdown",
      "metadata": {
        "id": "bXBM4DriF3xU"
      },
      "source": [
        "이제 이메일 헤더를 살펴보겠습니다:"
      ]
    },
    {
      "cell_type": "code",
      "execution_count": null,
      "metadata": {
        "execution": {
          "iopub.execute_input": "2021-11-03T04:28:20.715015Z",
          "iopub.status.busy": "2021-11-03T04:28:20.713816Z",
          "iopub.status.idle": "2021-11-03T04:28:20.720975Z",
          "shell.execute_reply": "2021-11-03T04:28:20.720460Z"
        },
        "id": "XqtKFa_AF3xU",
        "outputId": "5a5cf0ed-a933-4d0e-c9fd-f3078bc29421"
      },
      "outputs": [
        {
          "name": "stdout",
          "output_type": "stream",
          "text": [
            "Return-Path : <12a1mailbot1@web.de>\n",
            "Delivered-To : zzzz@localhost.spamassassin.taint.org\n",
            "Received : from localhost (localhost [127.0.0.1])\tby phobos.labs.spamassassin.taint.org (Postfix) with ESMTP id 136B943C32\tfor <zzzz@localhost>; Thu, 22 Aug 2002 08:17:21 -0400 (EDT)\n",
            "Received : from mail.webnote.net [193.120.211.219]\tby localhost with POP3 (fetchmail-5.9.0)\tfor zzzz@localhost (single-drop); Thu, 22 Aug 2002 13:17:21 +0100 (IST)\n",
            "Received : from dd_it7 ([210.97.77.167])\tby webnote.net (8.9.3/8.9.3) with ESMTP id NAA04623\tfor <zzzz@spamassassin.taint.org>; Thu, 22 Aug 2002 13:09:41 +0100\n",
            "From : 12a1mailbot1@web.de\n",
            "Received : from r-smtp.korea.com - 203.122.2.197 by dd_it7  with Microsoft SMTPSVC(5.5.1775.675.6);\t Sat, 24 Aug 2002 09:42:10 +0900\n",
            "To : dcek1a1@netsgo.com\n",
            "Subject : Life Insurance - Why Pay More?\n",
            "Date : Wed, 21 Aug 2002 20:31:57 -1600\n",
            "MIME-Version : 1.0\n",
            "Message-ID : <0103c1042001882DD_IT7@dd_it7>\n",
            "Content-Type : text/html; charset=\"iso-8859-1\"\n",
            "Content-Transfer-Encoding : quoted-printable\n"
          ]
        }
      ],
      "source": [
        "for header, value in spam_emails[0].items():\n",
        "    print(header,\":\",value)"
      ]
    },
    {
      "cell_type": "markdown",
      "metadata": {
        "id": "eAxKik-qF3xU"
      },
      "source": [
        "보낸사람의 이메일 주소와 같이 헤더에는 유용한 정보가 많이 있지만 여기서는 `Subject` 헤더만 다뤄 보겠습니다:"
      ]
    },
    {
      "cell_type": "code",
      "execution_count": null,
      "metadata": {
        "execution": {
          "iopub.execute_input": "2021-11-03T04:28:20.725882Z",
          "iopub.status.busy": "2021-11-03T04:28:20.725064Z",
          "iopub.status.idle": "2021-11-03T04:28:20.728659Z",
          "shell.execute_reply": "2021-11-03T04:28:20.729052Z"
        },
        "id": "BOVrom7gF3xU",
        "outputId": "747b5ad2-e5a6-4b01-93d5-63956b760818"
      },
      "outputs": [
        {
          "data": {
            "text/plain": [
              "'Life Insurance - Why Pay More?'"
            ]
          },
          "execution_count": 139,
          "metadata": {},
          "output_type": "execute_result"
        }
      ],
      "source": [
        "spam_emails[0][\"Subject\"]"
      ]
    },
    {
      "cell_type": "markdown",
      "metadata": {
        "id": "FEuBt9IAF3xU"
      },
      "source": [
        "좋습니다. 데이터에를 더 살펴보기 전에 훈련 세트와 테스트 세트로 나누도록 하겠습니다:"
      ]
    },
    {
      "cell_type": "code",
      "execution_count": null,
      "metadata": {
        "execution": {
          "iopub.execute_input": "2021-11-03T04:28:20.740792Z",
          "iopub.status.busy": "2021-11-03T04:28:20.739808Z",
          "iopub.status.idle": "2021-11-03T04:28:20.743614Z",
          "shell.execute_reply": "2021-11-03T04:28:20.743133Z"
        },
        "id": "c2uHar8PF3xU"
      },
      "outputs": [],
      "source": [
        "import numpy as np\n",
        "from sklearn.model_selection import train_test_split\n",
        "\n",
        "X = np.array(ham_emails + spam_emails, dtype=object)\n",
        "y = np.array([0] * len(ham_emails) + [1] * len(spam_emails))\n",
        "\n",
        "X_train, X_test, y_train, y_test = train_test_split(X, y, test_size=0.2, random_state=42)"
      ]
    },
    {
      "cell_type": "markdown",
      "metadata": {
        "id": "4ve9gUrKF3xU"
      },
      "source": [
        "이제 전처리 함수를 작성하겠습니다. 먼저 HTML을 일반 텍스트로 변환하는 함수가 필요합니다. 이 작업에는 당연히 [BeautifulSoup](https://www.crummy.com/software/BeautifulSoup/) 라이브러리를 사용하는게 좋지만 의존성을 줄이기 위해서 정규식을 사용하여 대강 만들어 보겠습니다([un̨ho͞ly radiańcé destro҉ying all enli̍̈́̂̈́ghtenment](https://stackoverflow.com/a/1732454/38626)의 위험에도 불구하고). 다음 함수는 `<head>` 섹션을 삭제하고 모든 `<a>` 태그를 HYPERLINK 문자로 바꿉니다. 그런 다음 모든 HTML 태그를 제거하고 텍스트만 남깁니다. 보기 편하게 여러개의 개행 문자를 하나로 만들고 (`&gt;`나 `&nbsp;` 같은) html 엔티티를 복원합니다:"
      ]
    },
    {
      "cell_type": "code",
      "execution_count": null,
      "metadata": {
        "execution": {
          "iopub.execute_input": "2021-11-03T04:28:20.748751Z",
          "iopub.status.busy": "2021-11-03T04:28:20.748163Z",
          "iopub.status.idle": "2021-11-03T04:28:20.751505Z",
          "shell.execute_reply": "2021-11-03T04:28:20.751027Z"
        },
        "id": "GCKdGNXSF3xV"
      },
      "outputs": [],
      "source": [
        "import re\n",
        "from html import unescape\n",
        "\n",
        "def html_to_plain_text(html):\n",
        "    text = re.sub('<head.*?>.*?</head>', '', html, flags=re.M | re.S | re.I)\n",
        "    text = re.sub('<a\\s.*?>', ' HYPERLINK ', text, flags=re.M | re.S | re.I)\n",
        "    text = re.sub('<.*?>', '', text, flags=re.M | re.S)\n",
        "    text = re.sub(r'(\\s*\\n)+', '\\n', text, flags=re.M | re.S)\n",
        "    return unescape(text)"
      ]
    },
    {
      "cell_type": "markdown",
      "metadata": {
        "id": "6YKyHxMdF3xV"
      },
      "source": [
        "잘 작동하는지 확인해 보겠습니다. 다음은 HTML 스팸입니다:"
      ]
    },
    {
      "cell_type": "code",
      "execution_count": null,
      "metadata": {
        "execution": {
          "iopub.execute_input": "2021-11-03T04:28:20.765192Z",
          "iopub.status.busy": "2021-11-03T04:28:20.759883Z",
          "iopub.status.idle": "2021-11-03T04:28:20.835366Z",
          "shell.execute_reply": "2021-11-03T04:28:20.835790Z"
        },
        "id": "0wPZtmcqF3xV",
        "outputId": "895f8edc-d3d7-423d-944e-5f4484a34e76"
      },
      "outputs": [
        {
          "name": "stdout",
          "output_type": "stream",
          "text": [
            "<HTML><HEAD><TITLE></TITLE><META http-equiv=\"Content-Type\" content=\"text/html; charset=windows-1252\"><STYLE>A:link {TEX-DECORATION: none}A:active {TEXT-DECORATION: none}A:visited {TEXT-DECORATION: none}A:hover {COLOR: #0033ff; TEXT-DECORATION: underline}</STYLE><META content=\"MSHTML 6.00.2713.1100\" name=\"GENERATOR\"></HEAD>\n",
            "<BODY text=\"#000000\" vLink=\"#0033ff\" link=\"#0033ff\" bgColor=\"#CCCC99\"><TABLE borderColor=\"#660000\" cellSpacing=\"0\" cellPadding=\"0\" border=\"0\" width=\"100%\"><TR><TD bgColor=\"#CCCC99\" valign=\"top\" colspan=\"2\" height=\"27\">\n",
            "<font size=\"6\" face=\"Arial, Helvetica, sans-serif\" color=\"#660000\">\n",
            "<b>OTC</b></font></TD></TR><TR><TD height=\"2\" bgcolor=\"#6a694f\">\n",
            "<font size=\"5\" face=\"Times New Roman, Times, serif\" color=\"#FFFFFF\">\n",
            "<b>&nbsp;Newsletter</b></font></TD><TD height=\"2\" bgcolor=\"#6a694f\"><div align=\"right\"><font color=\"#FFFFFF\">\n",
            "<b>Discover Tomorrow's Winners&nbsp;</b></font></div></TD></TR><TR><TD height=\"25\" colspan=\"2\" bgcolor=\"#CCCC99\"><table width=\"100%\" border=\"0\"  ...\n"
          ]
        }
      ],
      "source": [
        "html_spam_emails = [email for email in X_train[y_train==1]\n",
        "                    if get_email_structure(email) == \"text/html\"]\n",
        "sample_html_spam = html_spam_emails[7]\n",
        "print(sample_html_spam.get_content().strip()[:1000], \"...\")"
      ]
    },
    {
      "cell_type": "markdown",
      "metadata": {
        "id": "7h_zCD2GF3xV"
      },
      "source": [
        "변환된 텍스트입니다:"
      ]
    },
    {
      "cell_type": "code",
      "execution_count": null,
      "metadata": {
        "execution": {
          "iopub.execute_input": "2021-11-03T04:28:20.842725Z",
          "iopub.status.busy": "2021-11-03T04:28:20.841461Z",
          "iopub.status.idle": "2021-11-03T04:28:20.844780Z",
          "shell.execute_reply": "2021-11-03T04:28:20.844265Z"
        },
        "id": "7vsoZBk-F3xV",
        "outputId": "013ddf87-a079-4fc3-8dad-7a0a1be94e81"
      },
      "outputs": [
        {
          "name": "stdout",
          "output_type": "stream",
          "text": [
            "\n",
            "OTC\n",
            " Newsletter\n",
            "Discover Tomorrow's Winners \n",
            "For Immediate Release\n",
            "Cal-Bay (Stock Symbol: CBYI)\n",
            "Watch for analyst \"Strong Buy Recommendations\" and several advisory newsletters picking CBYI.  CBYI has filed to be traded on the OTCBB, share prices historically INCREASE when companies get listed on this larger trading exchange. CBYI is trading around 25 cents and should skyrocket to $2.66 - $3.25 a share in the near future.\n",
            "Put CBYI on your watch list, acquire a position TODAY.\n",
            "REASONS TO INVEST IN CBYI\n",
            "A profitable company and is on track to beat ALL earnings estimates!\n",
            "One of the FASTEST growing distributors in environmental & safety equipment instruments.\n",
            "Excellent management team, several EXCLUSIVE contracts.  IMPRESSIVE client list including the U.S. Air Force, Anheuser-Busch, Chevron Refining and Mitsubishi Heavy Industries, GE-Energy & Environmental Research.\n",
            "RAPIDLY GROWING INDUSTRY\n",
            "Industry revenues exceed $900 million, estimates indicate that there could be as much as $25 billi ...\n"
          ]
        }
      ],
      "source": [
        "print(html_to_plain_text(sample_html_spam.get_content())[:1000], \"...\")"
      ]
    },
    {
      "cell_type": "markdown",
      "metadata": {
        "id": "QblgvipcF3xV"
      },
      "source": [
        "아주 좋습니다! 이제 포맷에 상관없이 이메일을 입력으로 받아서 일반 텍스트를 출력하는 함수를 만들겠습니다:"
      ]
    },
    {
      "cell_type": "code",
      "execution_count": null,
      "metadata": {
        "execution": {
          "iopub.execute_input": "2021-11-03T04:28:20.850617Z",
          "iopub.status.busy": "2021-11-03T04:28:20.849423Z",
          "iopub.status.idle": "2021-11-03T04:28:20.851259Z",
          "shell.execute_reply": "2021-11-03T04:28:20.851686Z"
        },
        "id": "fAxL5EXwF3xV"
      },
      "outputs": [],
      "source": [
        "def email_to_text(email):\n",
        "    html = None\n",
        "    for part in email.walk():\n",
        "        ctype = part.get_content_type()\n",
        "        if not ctype in (\"text/plain\", \"text/html\"):\n",
        "            continue\n",
        "        try:\n",
        "            content = part.get_content()\n",
        "        except: # in case of encoding issues\n",
        "            content = str(part.get_payload())\n",
        "        if ctype == \"text/plain\":\n",
        "            return content\n",
        "        else:\n",
        "            html = content\n",
        "    if html:\n",
        "        return html_to_plain_text(html)"
      ]
    },
    {
      "cell_type": "code",
      "execution_count": null,
      "metadata": {
        "execution": {
          "iopub.execute_input": "2021-11-03T04:28:20.856642Z",
          "iopub.status.busy": "2021-11-03T04:28:20.855881Z",
          "iopub.status.idle": "2021-11-03T04:28:20.858564Z",
          "shell.execute_reply": "2021-11-03T04:28:20.858980Z"
        },
        "id": "s7FcI6yfF3xV",
        "outputId": "67a29b47-06eb-436e-d2ea-2d99032aebe1"
      },
      "outputs": [
        {
          "name": "stdout",
          "output_type": "stream",
          "text": [
            "\n",
            "OTC\n",
            " Newsletter\n",
            "Discover Tomorrow's Winners \n",
            "For Immediate Release\n",
            "Cal-Bay (Stock Symbol: CBYI)\n",
            "Wat ...\n"
          ]
        }
      ],
      "source": [
        "print(email_to_text(sample_html_spam)[:100], \"...\")"
      ]
    },
    {
      "cell_type": "markdown",
      "metadata": {
        "id": "YEQaPq1ZF3xV"
      },
      "source": [
        "어간 추출을 해보죠! 이 작업을 하려면 자연어 처리 툴킷([NLTK](http://www.nltk.org/))을 설치해야 합니다. 다음 명령으로 간단히 설치할 수 있습니다(먼저 virtualenv 환경을 활성화시켜야 합니다. 별도의 환경이 없다면 어드민 권한이 필요할지 모릅니다. 아니면 `--user` 옵션을 사용하세요):\n",
        "\n",
        "`$ pip install nltk`"
      ]
    },
    {
      "cell_type": "code",
      "execution_count": null,
      "metadata": {
        "execution": {
          "iopub.execute_input": "2021-11-03T04:28:20.863401Z",
          "iopub.status.busy": "2021-11-03T04:28:20.862692Z",
          "iopub.status.idle": "2021-11-03T04:28:21.107068Z",
          "shell.execute_reply": "2021-11-03T04:28:21.106539Z"
        },
        "id": "90rWQIn6F3xV",
        "outputId": "f6a8a940-a196-4df7-f736-3f69226ce96e"
      },
      "outputs": [
        {
          "name": "stdout",
          "output_type": "stream",
          "text": [
            "Computations => comput\n",
            "Computation => comput\n",
            "Computing => comput\n",
            "Computed => comput\n",
            "Compute => comput\n",
            "Compulsive => compuls\n"
          ]
        }
      ],
      "source": [
        "try:\n",
        "    import nltk\n",
        "\n",
        "    stemmer = nltk.PorterStemmer()\n",
        "    for word in (\"Computations\", \"Computation\", \"Computing\", \"Computed\", \"Compute\", \"Compulsive\"):\n",
        "        print(word, \"=>\", stemmer.stem(word))\n",
        "except ImportError:\n",
        "    print(\"Error: stemming requires the NLTK module.\")\n",
        "    stemmer = None"
      ]
    },
    {
      "cell_type": "markdown",
      "metadata": {
        "id": "N6y1HFd4F3xW"
      },
      "source": [
        "인터넷 주소는 \"URL\" 문자로 바꾸겠습니다. [정규식](https://mathiasbynens.be/demo/url-regex)을 하드 코딩할 수도 있지만 [urlextract](https://github.com/lipoja/URLExtract) 라이브러리를 사용하겠습니다. 다음 명령으로 설치합니다(먼저 virtualenv 환경을 활성화시켜야 합니다. 별도의 환경이 없다면 어드민 권한이 필요할지 모릅니다. 아니면 `--user` 옵션을 사용하세요):\n",
        "\n",
        "`$ pip install urlextract`"
      ]
    },
    {
      "cell_type": "code",
      "execution_count": null,
      "metadata": {
        "execution": {
          "iopub.execute_input": "2021-11-03T04:28:21.115501Z",
          "iopub.status.busy": "2021-11-03T04:28:21.114344Z",
          "iopub.status.idle": "2021-11-03T04:28:21.116123Z",
          "shell.execute_reply": "2021-11-03T04:28:21.116543Z"
        },
        "id": "cQR0Vj4QF3xW"
      },
      "outputs": [],
      "source": [
        "# 코랩에서 이 노트북을 실행하려면 먼저 pip install urlextract을 실행합니다\n",
        "try:\n",
        "    import google.colab\n",
        "    %pip install -q -U urlextract\n",
        "except ImportError:\n",
        "    pass # 코랩에서는 실행되지 않음"
      ]
    },
    {
      "cell_type": "markdown",
      "metadata": {
        "id": "rFgGVb7TF3xW"
      },
      "source": [
        "**노트:** 주피터 노트북에서는 항상 `!pip` 대신 `%pip`를 사용해야 합니다. `!pip`는 다른 환경에 라이브러리를 설치할 수 있기 때문입니다. 반면 `%pip`는 현재 실행 중인 환경에 설치됩니다."
      ]
    },
    {
      "cell_type": "code",
      "execution_count": null,
      "metadata": {
        "execution": {
          "iopub.execute_input": "2021-11-03T04:28:21.120656Z",
          "iopub.status.busy": "2021-11-03T04:28:21.120064Z",
          "iopub.status.idle": "2021-11-03T04:28:21.268470Z",
          "shell.execute_reply": "2021-11-03T04:28:21.268892Z"
        },
        "id": "aXrd8VsbF3xW",
        "outputId": "4dfece76-f39f-44ec-8637-909318c2b3b0"
      },
      "outputs": [
        {
          "name": "stdout",
          "output_type": "stream",
          "text": [
            "['github.com', 'https://youtu.be/7Pq-S557XQU?t=3m32s']\n"
          ]
        }
      ],
      "source": [
        "try:\n",
        "    import urlextract # 루트 도메인 이름을 다운로드하기 위해 인터넷 연결이 필요할지 모릅니다\n",
        "    \n",
        "    url_extractor = urlextract.URLExtract()\n",
        "    print(url_extractor.find_urls(\"Will it detect github.com and https://youtu.be/7Pq-S557XQU?t=3m32s\"))\n",
        "except ImportError:\n",
        "    print(\"Error: replacing URLs requires the urlextract module.\")\n",
        "    url_extractor = None"
      ]
    },
    {
      "cell_type": "markdown",
      "metadata": {
        "id": "jFW0LD9GF3xW"
      },
      "source": [
        "이들을 모두 하나의 변환기로 연결하여 이메일을 단어 카운트로 바꿀 것입니다. 파이썬의 `split()` 메서드를 사용하면 구둣점과 단어 경계를 기준으로 문장을 단어로 바꿉니다. 이 방법이 많은 언어에 통하지만 전부는 아닙니다. 예를 들어 중국어와 일본어는 일반적으로 단어 사이에 공백을 두지 않습니다. 베트남어는 음절 사이에 공백을 두기도 합니다. 여기서는 데이터셋이 (거의) 영어로 되어 있기 때문에 문제없습니다."
      ]
    },
    {
      "cell_type": "code",
      "execution_count": null,
      "metadata": {
        "execution": {
          "iopub.execute_input": "2021-11-03T04:28:21.278776Z",
          "iopub.status.busy": "2021-11-03T04:28:21.277526Z",
          "iopub.status.idle": "2021-11-03T04:28:21.279412Z",
          "shell.execute_reply": "2021-11-03T04:28:21.279817Z"
        },
        "id": "MKNS8L2QF3xW"
      },
      "outputs": [],
      "source": [
        "from sklearn.base import BaseEstimator, TransformerMixin\n",
        "\n",
        "class EmailToWordCounterTransformer(BaseEstimator, TransformerMixin):\n",
        "    def __init__(self, strip_headers=True, lower_case=True, remove_punctuation=True,\n",
        "                 replace_urls=True, replace_numbers=True, stemming=True):\n",
        "        self.strip_headers = strip_headers\n",
        "        self.lower_case = lower_case\n",
        "        self.remove_punctuation = remove_punctuation\n",
        "        self.replace_urls = replace_urls\n",
        "        self.replace_numbers = replace_numbers\n",
        "        self.stemming = stemming\n",
        "    def fit(self, X, y=None):\n",
        "        return self\n",
        "    def transform(self, X, y=None):\n",
        "        X_transformed = []\n",
        "        for email in X:\n",
        "            text = email_to_text(email) or \"\"\n",
        "            if self.lower_case:\n",
        "                text = text.lower()\n",
        "            if self.replace_urls and url_extractor is not None:\n",
        "                urls = list(set(url_extractor.find_urls(text)))\n",
        "                urls.sort(key=lambda url: len(url), reverse=True)\n",
        "                for url in urls:\n",
        "                    text = text.replace(url, \" URL \")\n",
        "            if self.replace_numbers:\n",
        "                text = re.sub(r'\\d+(?:\\.\\d*)?(?:[eE][+-]?\\d+)?', 'NUMBER', text)\n",
        "            if self.remove_punctuation:\n",
        "                text = re.sub(r'\\W+', ' ', text, flags=re.M)\n",
        "            word_counts = Counter(text.split())\n",
        "            if self.stemming and stemmer is not None:\n",
        "                stemmed_word_counts = Counter()\n",
        "                for word, count in word_counts.items():\n",
        "                    stemmed_word = stemmer.stem(word)\n",
        "                    stemmed_word_counts[stemmed_word] += count\n",
        "                word_counts = stemmed_word_counts\n",
        "            X_transformed.append(word_counts)\n",
        "        return np.array(X_transformed)"
      ]
    },
    {
      "cell_type": "markdown",
      "metadata": {
        "id": "OkZd7zKxF3xW"
      },
      "source": [
        "이 변환기를 몇 개의 이메일에 적용해 보겠습니다:"
      ]
    },
    {
      "cell_type": "code",
      "execution_count": null,
      "metadata": {
        "execution": {
          "iopub.execute_input": "2021-11-03T04:28:21.304579Z",
          "iopub.status.busy": "2021-11-03T04:28:21.301700Z",
          "iopub.status.idle": "2021-11-03T04:28:21.307873Z",
          "shell.execute_reply": "2021-11-03T04:28:21.308267Z"
        },
        "id": "TfxlW5-kF3xW",
        "outputId": "bb2897cc-90b7-475d-d62b-0cbf7ba0724a"
      },
      "outputs": [
        {
          "data": {
            "text/plain": [
              "array([Counter({'chuck': 1, 'murcko': 1, 'wrote': 1, 'stuff': 1, 'yawn': 1, 'r': 1}),\n",
              "       Counter({'the': 11, 'of': 9, 'and': 8, 'all': 3, 'christian': 3, 'to': 3, 'by': 3, 'jefferson': 2, 'i': 2, 'have': 2, 'superstit': 2, 'one': 2, 'on': 2, 'been': 2, 'ha': 2, 'half': 2, 'rogueri': 2, 'teach': 2, 'jesu': 2, 'some': 1, 'interest': 1, 'quot': 1, 'url': 1, 'thoma': 1, 'examin': 1, 'known': 1, 'word': 1, 'do': 1, 'not': 1, 'find': 1, 'in': 1, 'our': 1, 'particular': 1, 'redeem': 1, 'featur': 1, 'they': 1, 'are': 1, 'alik': 1, 'found': 1, 'fabl': 1, 'mytholog': 1, 'million': 1, 'innoc': 1, 'men': 1, 'women': 1, 'children': 1, 'sinc': 1, 'introduct': 1, 'burnt': 1, 'tortur': 1, 'fine': 1, 'imprison': 1, 'what': 1, 'effect': 1, 'thi': 1, 'coercion': 1, 'make': 1, 'world': 1, 'fool': 1, 'other': 1, 'hypocrit': 1, 'support': 1, 'error': 1, 'over': 1, 'earth': 1, 'six': 1, 'histor': 1, 'american': 1, 'john': 1, 'e': 1, 'remsburg': 1, 'letter': 1, 'william': 1, 'short': 1, 'again': 1, 'becom': 1, 'most': 1, 'pervert': 1, 'system': 1, 'that': 1, 'ever': 1, 'shone': 1, 'man': 1, 'absurd': 1, 'untruth': 1, 'were': 1, 'perpetr': 1, 'upon': 1, 'a': 1, 'larg': 1, 'band': 1, 'dupe': 1, 'import': 1, 'led': 1, 'paul': 1, 'first': 1, 'great': 1, 'corrupt': 1}),\n",
              "       Counter({'url': 4, 's': 3, 'group': 3, 'to': 3, 'in': 2, 'forteana': 2, 'martin': 2, 'an': 2, 'and': 2, 'we': 2, 'is': 2, 'yahoo': 2, 'unsubscrib': 2, 'y': 1, 'adamson': 1, 'wrote': 1, 'for': 1, 'altern': 1, 'rather': 1, 'more': 1, 'factual': 1, 'base': 1, 'rundown': 1, 'on': 1, 'hamza': 1, 'career': 1, 'includ': 1, 'hi': 1, 'belief': 1, 'that': 1, 'all': 1, 'non': 1, 'muslim': 1, 'yemen': 1, 'should': 1, 'be': 1, 'murder': 1, 'outright': 1, 'know': 1, 'how': 1, 'unbias': 1, 'memri': 1, 'don': 1, 't': 1, 'html': 1, 'rob': 1, 'sponsor': 1, 'number': 1, 'dvd': 1, 'free': 1, 'p': 1, 'join': 1, 'now': 1, 'from': 1, 'thi': 1, 'send': 1, 'email': 1, 'egroup': 1, 'com': 1, 'your': 1, 'use': 1, 'of': 1, 'subject': 1})],\n",
              "      dtype=object)"
            ]
          },
          "execution_count": 150,
          "metadata": {},
          "output_type": "execute_result"
        }
      ],
      "source": [
        "X_few = X_train[:3]\n",
        "X_few_wordcounts = EmailToWordCounterTransformer().fit_transform(X_few)\n",
        "X_few_wordcounts"
      ]
    },
    {
      "cell_type": "markdown",
      "metadata": {
        "id": "vw6ollp8F3xW"
      },
      "source": [
        "제대로 작동하는 것 같네요!"
      ]
    },
    {
      "cell_type": "markdown",
      "metadata": {
        "id": "FebcGLQUF3xX"
      },
      "source": [
        "이제 단어 카운트를 벡터로 변환해야 합니다. 이를 위해서 또 다른 변환기를 만들겠습니다. 이 변환기는 (자주 나타나는 단어 순으로 정렬된) 어휘 목록을 구축하는 `fit()` 메서드와 어휘 목록을 사용해 단어를 벡터로 바꾸는 `transform()` 메서드를 가집니다. 출력은 희소 행렬이 됩니다."
      ]
    },
    {
      "cell_type": "code",
      "execution_count": null,
      "metadata": {
        "execution": {
          "iopub.execute_input": "2021-11-03T04:28:21.315765Z",
          "iopub.status.busy": "2021-11-03T04:28:21.315161Z",
          "iopub.status.idle": "2021-11-03T04:28:21.318010Z",
          "shell.execute_reply": "2021-11-03T04:28:21.318398Z"
        },
        "id": "WBMLQKvfF3xX"
      },
      "outputs": [],
      "source": [
        "from scipy.sparse import csr_matrix\n",
        "\n",
        "class WordCounterToVectorTransformer(BaseEstimator, TransformerMixin):\n",
        "    def __init__(self, vocabulary_size=1000):\n",
        "        self.vocabulary_size = vocabulary_size\n",
        "    def fit(self, X, y=None):\n",
        "        total_count = Counter()\n",
        "        for word_count in X:\n",
        "            for word, count in word_count.items():\n",
        "                total_count[word] += min(count, 10)\n",
        "        most_common = total_count.most_common()[:self.vocabulary_size]\n",
        "        self.vocabulary_ = {word: index + 1 for index, (word, count) in enumerate(most_common)}\n",
        "        return self\n",
        "    def transform(self, X, y=None):\n",
        "        rows = []\n",
        "        cols = []\n",
        "        data = []\n",
        "        for row, word_count in enumerate(X):\n",
        "            for word, count in word_count.items():\n",
        "                rows.append(row)\n",
        "                cols.append(self.vocabulary_.get(word, 0))\n",
        "                data.append(count)\n",
        "        return csr_matrix((data, (rows, cols)), shape=(len(X), self.vocabulary_size + 1))"
      ]
    },
    {
      "cell_type": "code",
      "execution_count": null,
      "metadata": {
        "execution": {
          "iopub.execute_input": "2021-11-03T04:28:21.322292Z",
          "iopub.status.busy": "2021-11-03T04:28:21.321726Z",
          "iopub.status.idle": "2021-11-03T04:28:21.327139Z",
          "shell.execute_reply": "2021-11-03T04:28:21.327637Z"
        },
        "id": "DzWC-OxrF3xX",
        "outputId": "0e6a8e46-228d-42eb-ab4d-a3efe6393438"
      },
      "outputs": [
        {
          "data": {
            "text/plain": [
              "<3x11 sparse matrix of type '<class 'numpy.int64'>'\n",
              "\twith 20 stored elements in Compressed Sparse Row format>"
            ]
          },
          "execution_count": 152,
          "metadata": {},
          "output_type": "execute_result"
        }
      ],
      "source": [
        "vocab_transformer = WordCounterToVectorTransformer(vocabulary_size=10)\n",
        "X_few_vectors = vocab_transformer.fit_transform(X_few_wordcounts)\n",
        "X_few_vectors"
      ]
    },
    {
      "cell_type": "code",
      "execution_count": null,
      "metadata": {
        "execution": {
          "iopub.execute_input": "2021-11-03T04:28:21.331544Z",
          "iopub.status.busy": "2021-11-03T04:28:21.329715Z",
          "iopub.status.idle": "2021-11-03T04:28:21.334546Z",
          "shell.execute_reply": "2021-11-03T04:28:21.334077Z"
        },
        "id": "PRh_NFpCF3xX",
        "outputId": "140a7708-8575-4b89-b141-4afbf5d364ae"
      },
      "outputs": [
        {
          "data": {
            "text/plain": [
              "array([[ 6,  0,  0,  0,  0,  0,  0,  0,  0,  0,  0],\n",
              "       [99, 11,  9,  8,  3,  1,  3,  1,  3,  2,  3],\n",
              "       [67,  0,  1,  2,  3,  4,  1,  2,  0,  1,  0]])"
            ]
          },
          "execution_count": 153,
          "metadata": {},
          "output_type": "execute_result"
        }
      ],
      "source": [
        "X_few_vectors.toarray()"
      ]
    },
    {
      "cell_type": "markdown",
      "metadata": {
        "id": "Wccu5toEF3xX"
      },
      "source": [
        "이 행렬은 무엇을 의미하나요? 세 번째 행의 첫 번째 열의 65는 세 번째 이메일이 어휘 목록에 없는 단어를 65개 가지고 있다는 뜻입니다. 그 다음의 0은 어휘 목록에 있는 첫 번째 단어가 한 번도 등장하지 않는다는 뜻이고 그 다음의 1은 한 번 나타난다는 뜻입니다. 이 단어들이 무엇인지 확인하려면 어휘 목록을 보면 됩니다. 첫 번째 단어는 \"the\"이고 두 번째 단어는 \"of\"입니다."
      ]
    },
    {
      "cell_type": "code",
      "execution_count": null,
      "metadata": {
        "execution": {
          "iopub.execute_input": "2021-11-03T04:28:21.339014Z",
          "iopub.status.busy": "2021-11-03T04:28:21.338431Z",
          "iopub.status.idle": "2021-11-03T04:28:21.341409Z",
          "shell.execute_reply": "2021-11-03T04:28:21.341812Z"
        },
        "id": "ssOO_YP_F3xX",
        "outputId": "40b19bcf-5aa9-4f77-acd2-7b184296ef2e",
        "scrolled": true
      },
      "outputs": [
        {
          "data": {
            "text/plain": [
              "{'the': 1,\n",
              " 'of': 2,\n",
              " 'and': 3,\n",
              " 'to': 4,\n",
              " 'url': 5,\n",
              " 'all': 6,\n",
              " 'in': 7,\n",
              " 'christian': 8,\n",
              " 'on': 9,\n",
              " 'by': 10}"
            ]
          },
          "execution_count": 154,
          "metadata": {},
          "output_type": "execute_result"
        }
      ],
      "source": [
        "vocab_transformer.vocabulary_"
      ]
    },
    {
      "cell_type": "markdown",
      "metadata": {
        "id": "3itdeEVaF3xX"
      },
      "source": [
        "이제 스팸 분류기를 훈련시킬 준비를 마쳤습니다! 전체 데이터셋을 변환시켜보죠:"
      ]
    },
    {
      "cell_type": "code",
      "execution_count": null,
      "metadata": {
        "execution": {
          "iopub.execute_input": "2021-11-03T04:28:21.421052Z",
          "iopub.status.busy": "2021-11-03T04:28:21.376325Z",
          "iopub.status.idle": "2021-11-03T04:28:59.043544Z",
          "shell.execute_reply": "2021-11-03T04:28:59.042934Z"
        },
        "id": "gSqbVKoGF3xX"
      },
      "outputs": [],
      "source": [
        "from sklearn.pipeline import Pipeline\n",
        "\n",
        "preprocess_pipeline = Pipeline([\n",
        "    (\"email_to_wordcount\", EmailToWordCounterTransformer()),\n",
        "    (\"wordcount_to_vector\", WordCounterToVectorTransformer()),\n",
        "])\n",
        "\n",
        "X_train_transformed = preprocess_pipeline.fit_transform(X_train)"
      ]
    },
    {
      "cell_type": "markdown",
      "metadata": {
        "id": "omtaE-7TF3xX"
      },
      "source": [
        "**Note**: to be future-proof, we set `solver=\"lbfgs\"` since this will be the default value in Scikit-Learn 0.22."
      ]
    },
    {
      "cell_type": "code",
      "execution_count": null,
      "metadata": {
        "execution": {
          "iopub.execute_input": "2021-11-03T04:28:59.049446Z",
          "iopub.status.busy": "2021-11-03T04:28:59.048743Z",
          "iopub.status.idle": "2021-11-03T04:28:59.908517Z",
          "shell.execute_reply": "2021-11-03T04:28:59.908930Z"
        },
        "id": "CIJTWxkJF3xY",
        "outputId": "e9f74061-4596-47c6-f946-8003ac819a71"
      },
      "outputs": [
        {
          "name": "stderr",
          "output_type": "stream",
          "text": [
            "[Parallel(n_jobs=1)]: Using backend SequentialBackend with 1 concurrent workers.\n",
            "[Parallel(n_jobs=1)]: Done   1 out of   1 | elapsed:    0.2s remaining:    0.0s\n"
          ]
        },
        {
          "name": "stdout",
          "output_type": "stream",
          "text": [
            "[CV] END ................................ score: (test=0.981) total time=   0.2s\n",
            "[CV] END ................................ score: (test=0.984) total time=   0.3s\n"
          ]
        },
        {
          "name": "stderr",
          "output_type": "stream",
          "text": [
            "[Parallel(n_jobs=1)]: Done   2 out of   2 | elapsed:    0.5s remaining:    0.0s\n"
          ]
        },
        {
          "name": "stdout",
          "output_type": "stream",
          "text": [
            "[CV] END ................................ score: (test=0.991) total time=   0.4s\n"
          ]
        },
        {
          "name": "stderr",
          "output_type": "stream",
          "text": [
            "[Parallel(n_jobs=1)]: Done   3 out of   3 | elapsed:    0.9s finished\n"
          ]
        },
        {
          "data": {
            "text/plain": [
              "0.9854166666666666"
            ]
          },
          "execution_count": 156,
          "metadata": {},
          "output_type": "execute_result"
        }
      ],
      "source": [
        "from sklearn.linear_model import LogisticRegression\n",
        "from sklearn.model_selection import cross_val_score\n",
        "\n",
        "log_clf = LogisticRegression(solver=\"lbfgs\", max_iter=1000, random_state=42)\n",
        "score = cross_val_score(log_clf, X_train_transformed, y_train, cv=3, verbose=3)\n",
        "score.mean()"
      ]
    },
    {
      "cell_type": "markdown",
      "metadata": {
        "id": "QOVGPFlIF3xY"
      },
      "source": [
        "98.5%가 넘네요. 첫 번째 시도치고 나쁘지 않습니다! :) 그러나 이 데이터셋은 비교적 쉬운 문제입니다. 더 어려운 데이터셋에 적용해 보면 결과가 그리 높지 않을 것입니다. 여러개의 모델을 시도해 보고 제일 좋은 것을 골라 교차 검증으로 세밀하게 튜닝해 보세요.\n",
        "\n",
        "하지만 전체 내용을 파악했으므로 여기서 멈추겠습니다. 테스트 세트에서 정밀도/재현율을 출력해 보겠습니다:"
      ]
    },
    {
      "cell_type": "code",
      "execution_count": null,
      "metadata": {
        "execution": {
          "iopub.execute_input": "2021-11-03T04:28:59.911895Z",
          "iopub.status.busy": "2021-11-03T04:28:59.911311Z",
          "iopub.status.idle": "2021-11-03T04:29:11.793159Z",
          "shell.execute_reply": "2021-11-03T04:29:11.793726Z"
        },
        "id": "XgVcSjdsF3xY",
        "outputId": "8847d038-d956-4438-92f3-965422e3f79f"
      },
      "outputs": [
        {
          "name": "stdout",
          "output_type": "stream",
          "text": [
            "정밀도: 95.88%\n",
            "재현율: 97.89%\n"
          ]
        }
      ],
      "source": [
        "from sklearn.metrics import precision_score, recall_score\n",
        "\n",
        "X_test_transformed = preprocess_pipeline.transform(X_test)\n",
        "\n",
        "log_clf = LogisticRegression(solver=\"lbfgs\", max_iter=1000, random_state=42)\n",
        "log_clf.fit(X_train_transformed, y_train)\n",
        "\n",
        "y_pred = log_clf.predict(X_test_transformed)\n",
        "\n",
        "print(\"정밀도: {:.2f}%\".format(100 * precision_score(y_test, y_pred)))\n",
        "print(\"재현율: {:.2f}%\".format(100 * recall_score(y_test, y_pred)))"
      ]
    }
  ],
  "metadata": {
    "colab": {
      "collapsed_sections": [
        "ryR0gM4pF3w-",
        "es7Jj4gWF3xA",
        "yZB2WzoBF3xB",
        "QIPsCw4oF3xC",
        "lvysDQ92F3xC",
        "DpfpgpZUF3xC",
        "lbalGYWTF3xD",
        "X7bkXwG_F3xI",
        "wd0op17HF3xI",
        "OLZ-4HF1F3xJ",
        "gkaGihzEF3xL",
        "m3sIhEUUF3xS"
      ],
      "provenance": []
    },
    "kernelspec": {
      "display_name": "Python 3",
      "language": "python",
      "name": "python3"
    },
    "language_info": {
      "codemirror_mode": {
        "name": "ipython",
        "version": 3
      },
      "file_extension": ".py",
      "mimetype": "text/x-python",
      "name": "python",
      "nbconvert_exporter": "python",
      "pygments_lexer": "ipython3",
      "version": "3.7.3"
    },
    "nav_menu": {},
    "toc": {
      "navigate_menu": true,
      "number_sections": true,
      "sideBar": true,
      "threshold": 6,
      "toc_cell": false,
      "toc_section_display": "block",
      "toc_window_display": false
    }
  },
  "nbformat": 4,
  "nbformat_minor": 0
}
