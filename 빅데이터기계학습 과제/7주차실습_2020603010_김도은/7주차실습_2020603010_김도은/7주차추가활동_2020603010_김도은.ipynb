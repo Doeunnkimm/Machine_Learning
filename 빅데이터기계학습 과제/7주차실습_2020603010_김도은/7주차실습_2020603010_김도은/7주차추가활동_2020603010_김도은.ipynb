{
  "nbformat": 4,
  "nbformat_minor": 0,
  "metadata": {
    "colab": {
      "provenance": [],
      "collapsed_sections": []
    },
    "kernelspec": {
      "name": "python3",
      "display_name": "Python 3"
    },
    "language_info": {
      "name": "python"
    }
  },
  "cells": [
    {
      "cell_type": "markdown",
      "source": [
        "# 데이터 불러오기\n",
        "* 3추차 실습 파일에서 참고했음"
      ],
      "metadata": {
        "id": "TVx3UvYeNDHH"
      }
    },
    {
      "cell_type": "code",
      "source": [
        "import sys\n",
        "import sklearn\n",
        "import numpy as np\n",
        "import os\n",
        "%matplotlib inline\n",
        "import matplotlib.pyplot as plt\n",
        "import os\n",
        "import tarfile\n",
        "import urllib.request\n",
        "import pandas as pd"
      ],
      "metadata": {
        "id": "KvxgnKaxNyLv"
      },
      "execution_count": 38,
      "outputs": []
    },
    {
      "cell_type": "code",
      "source": [
        "DOWNLOAD_ROOT = \"https://raw.githubusercontent.com/rickiepark/handson-ml2/master/\"\n",
        "HOUSING_PATH = os.path.join(\"datasets\", \"housing\")\n",
        "HOUSING_URL = DOWNLOAD_ROOT + \"datasets/housing/housing.tgz\"\n",
        "\n",
        "def fetch_housing_data(housing_url=HOUSING_URL, housing_path=HOUSING_PATH):\n",
        "    if not os.path.isdir(housing_path):\n",
        "        os.makedirs(housing_path)\n",
        "    tgz_path = os.path.join(housing_path, \"housing.tgz\")\n",
        "    urllib.request.urlretrieve(housing_url, tgz_path)\n",
        "    housing_tgz = tarfile.open(tgz_path)\n",
        "    housing_tgz.extractall(path=housing_path)\n",
        "    housing_tgz.close()\n",
        "\n",
        "# housing 파일 불러오기\n",
        "def load_housing_data(housing_path=HOUSING_PATH):\n",
        "    csv_path = os.path.join(housing_path, \"housing.csv\")\n",
        "    return pd.read_csv(csv_path)"
      ],
      "metadata": {
        "id": "TPDI1EZYNQzp"
      },
      "execution_count": 39,
      "outputs": []
    },
    {
      "cell_type": "code",
      "source": [
        "fetch_housing_data()\n",
        "housing = load_housing_data()"
      ],
      "metadata": {
        "id": "RaCBuGnDNmQR"
      },
      "execution_count": 40,
      "outputs": []
    },
    {
      "cell_type": "code",
      "source": [
        "housing"
      ],
      "metadata": {
        "colab": {
          "base_uri": "https://localhost:8080/",
          "height": 487
        },
        "id": "uU57vOx1PCy1",
        "outputId": "6033885f-d4d5-4ad6-af2a-02993ec8ec0d"
      },
      "execution_count": 41,
      "outputs": [
        {
          "output_type": "execute_result",
          "data": {
            "text/plain": [
              "       longitude  latitude  housing_median_age  total_rooms  total_bedrooms  \\\n",
              "0        -122.23     37.88                41.0        880.0           129.0   \n",
              "1        -122.22     37.86                21.0       7099.0          1106.0   \n",
              "2        -122.24     37.85                52.0       1467.0           190.0   \n",
              "3        -122.25     37.85                52.0       1274.0           235.0   \n",
              "4        -122.25     37.85                52.0       1627.0           280.0   \n",
              "...          ...       ...                 ...          ...             ...   \n",
              "20635    -121.09     39.48                25.0       1665.0           374.0   \n",
              "20636    -121.21     39.49                18.0        697.0           150.0   \n",
              "20637    -121.22     39.43                17.0       2254.0           485.0   \n",
              "20638    -121.32     39.43                18.0       1860.0           409.0   \n",
              "20639    -121.24     39.37                16.0       2785.0           616.0   \n",
              "\n",
              "       population  households  median_income  median_house_value  \\\n",
              "0           322.0       126.0         8.3252            452600.0   \n",
              "1          2401.0      1138.0         8.3014            358500.0   \n",
              "2           496.0       177.0         7.2574            352100.0   \n",
              "3           558.0       219.0         5.6431            341300.0   \n",
              "4           565.0       259.0         3.8462            342200.0   \n",
              "...           ...         ...            ...                 ...   \n",
              "20635       845.0       330.0         1.5603             78100.0   \n",
              "20636       356.0       114.0         2.5568             77100.0   \n",
              "20637      1007.0       433.0         1.7000             92300.0   \n",
              "20638       741.0       349.0         1.8672             84700.0   \n",
              "20639      1387.0       530.0         2.3886             89400.0   \n",
              "\n",
              "      ocean_proximity  \n",
              "0            NEAR BAY  \n",
              "1            NEAR BAY  \n",
              "2            NEAR BAY  \n",
              "3            NEAR BAY  \n",
              "4            NEAR BAY  \n",
              "...               ...  \n",
              "20635          INLAND  \n",
              "20636          INLAND  \n",
              "20637          INLAND  \n",
              "20638          INLAND  \n",
              "20639          INLAND  \n",
              "\n",
              "[20640 rows x 10 columns]"
            ],
            "text/html": [
              "\n",
              "  <div id=\"df-cd466f24-5d55-4525-9cfe-b6ec1e6894e9\">\n",
              "    <div class=\"colab-df-container\">\n",
              "      <div>\n",
              "<style scoped>\n",
              "    .dataframe tbody tr th:only-of-type {\n",
              "        vertical-align: middle;\n",
              "    }\n",
              "\n",
              "    .dataframe tbody tr th {\n",
              "        vertical-align: top;\n",
              "    }\n",
              "\n",
              "    .dataframe thead th {\n",
              "        text-align: right;\n",
              "    }\n",
              "</style>\n",
              "<table border=\"1\" class=\"dataframe\">\n",
              "  <thead>\n",
              "    <tr style=\"text-align: right;\">\n",
              "      <th></th>\n",
              "      <th>longitude</th>\n",
              "      <th>latitude</th>\n",
              "      <th>housing_median_age</th>\n",
              "      <th>total_rooms</th>\n",
              "      <th>total_bedrooms</th>\n",
              "      <th>population</th>\n",
              "      <th>households</th>\n",
              "      <th>median_income</th>\n",
              "      <th>median_house_value</th>\n",
              "      <th>ocean_proximity</th>\n",
              "    </tr>\n",
              "  </thead>\n",
              "  <tbody>\n",
              "    <tr>\n",
              "      <th>0</th>\n",
              "      <td>-122.23</td>\n",
              "      <td>37.88</td>\n",
              "      <td>41.0</td>\n",
              "      <td>880.0</td>\n",
              "      <td>129.0</td>\n",
              "      <td>322.0</td>\n",
              "      <td>126.0</td>\n",
              "      <td>8.3252</td>\n",
              "      <td>452600.0</td>\n",
              "      <td>NEAR BAY</td>\n",
              "    </tr>\n",
              "    <tr>\n",
              "      <th>1</th>\n",
              "      <td>-122.22</td>\n",
              "      <td>37.86</td>\n",
              "      <td>21.0</td>\n",
              "      <td>7099.0</td>\n",
              "      <td>1106.0</td>\n",
              "      <td>2401.0</td>\n",
              "      <td>1138.0</td>\n",
              "      <td>8.3014</td>\n",
              "      <td>358500.0</td>\n",
              "      <td>NEAR BAY</td>\n",
              "    </tr>\n",
              "    <tr>\n",
              "      <th>2</th>\n",
              "      <td>-122.24</td>\n",
              "      <td>37.85</td>\n",
              "      <td>52.0</td>\n",
              "      <td>1467.0</td>\n",
              "      <td>190.0</td>\n",
              "      <td>496.0</td>\n",
              "      <td>177.0</td>\n",
              "      <td>7.2574</td>\n",
              "      <td>352100.0</td>\n",
              "      <td>NEAR BAY</td>\n",
              "    </tr>\n",
              "    <tr>\n",
              "      <th>3</th>\n",
              "      <td>-122.25</td>\n",
              "      <td>37.85</td>\n",
              "      <td>52.0</td>\n",
              "      <td>1274.0</td>\n",
              "      <td>235.0</td>\n",
              "      <td>558.0</td>\n",
              "      <td>219.0</td>\n",
              "      <td>5.6431</td>\n",
              "      <td>341300.0</td>\n",
              "      <td>NEAR BAY</td>\n",
              "    </tr>\n",
              "    <tr>\n",
              "      <th>4</th>\n",
              "      <td>-122.25</td>\n",
              "      <td>37.85</td>\n",
              "      <td>52.0</td>\n",
              "      <td>1627.0</td>\n",
              "      <td>280.0</td>\n",
              "      <td>565.0</td>\n",
              "      <td>259.0</td>\n",
              "      <td>3.8462</td>\n",
              "      <td>342200.0</td>\n",
              "      <td>NEAR BAY</td>\n",
              "    </tr>\n",
              "    <tr>\n",
              "      <th>...</th>\n",
              "      <td>...</td>\n",
              "      <td>...</td>\n",
              "      <td>...</td>\n",
              "      <td>...</td>\n",
              "      <td>...</td>\n",
              "      <td>...</td>\n",
              "      <td>...</td>\n",
              "      <td>...</td>\n",
              "      <td>...</td>\n",
              "      <td>...</td>\n",
              "    </tr>\n",
              "    <tr>\n",
              "      <th>20635</th>\n",
              "      <td>-121.09</td>\n",
              "      <td>39.48</td>\n",
              "      <td>25.0</td>\n",
              "      <td>1665.0</td>\n",
              "      <td>374.0</td>\n",
              "      <td>845.0</td>\n",
              "      <td>330.0</td>\n",
              "      <td>1.5603</td>\n",
              "      <td>78100.0</td>\n",
              "      <td>INLAND</td>\n",
              "    </tr>\n",
              "    <tr>\n",
              "      <th>20636</th>\n",
              "      <td>-121.21</td>\n",
              "      <td>39.49</td>\n",
              "      <td>18.0</td>\n",
              "      <td>697.0</td>\n",
              "      <td>150.0</td>\n",
              "      <td>356.0</td>\n",
              "      <td>114.0</td>\n",
              "      <td>2.5568</td>\n",
              "      <td>77100.0</td>\n",
              "      <td>INLAND</td>\n",
              "    </tr>\n",
              "    <tr>\n",
              "      <th>20637</th>\n",
              "      <td>-121.22</td>\n",
              "      <td>39.43</td>\n",
              "      <td>17.0</td>\n",
              "      <td>2254.0</td>\n",
              "      <td>485.0</td>\n",
              "      <td>1007.0</td>\n",
              "      <td>433.0</td>\n",
              "      <td>1.7000</td>\n",
              "      <td>92300.0</td>\n",
              "      <td>INLAND</td>\n",
              "    </tr>\n",
              "    <tr>\n",
              "      <th>20638</th>\n",
              "      <td>-121.32</td>\n",
              "      <td>39.43</td>\n",
              "      <td>18.0</td>\n",
              "      <td>1860.0</td>\n",
              "      <td>409.0</td>\n",
              "      <td>741.0</td>\n",
              "      <td>349.0</td>\n",
              "      <td>1.8672</td>\n",
              "      <td>84700.0</td>\n",
              "      <td>INLAND</td>\n",
              "    </tr>\n",
              "    <tr>\n",
              "      <th>20639</th>\n",
              "      <td>-121.24</td>\n",
              "      <td>39.37</td>\n",
              "      <td>16.0</td>\n",
              "      <td>2785.0</td>\n",
              "      <td>616.0</td>\n",
              "      <td>1387.0</td>\n",
              "      <td>530.0</td>\n",
              "      <td>2.3886</td>\n",
              "      <td>89400.0</td>\n",
              "      <td>INLAND</td>\n",
              "    </tr>\n",
              "  </tbody>\n",
              "</table>\n",
              "<p>20640 rows × 10 columns</p>\n",
              "</div>\n",
              "      <button class=\"colab-df-convert\" onclick=\"convertToInteractive('df-cd466f24-5d55-4525-9cfe-b6ec1e6894e9')\"\n",
              "              title=\"Convert this dataframe to an interactive table.\"\n",
              "              style=\"display:none;\">\n",
              "        \n",
              "  <svg xmlns=\"http://www.w3.org/2000/svg\" height=\"24px\"viewBox=\"0 0 24 24\"\n",
              "       width=\"24px\">\n",
              "    <path d=\"M0 0h24v24H0V0z\" fill=\"none\"/>\n",
              "    <path d=\"M18.56 5.44l.94 2.06.94-2.06 2.06-.94-2.06-.94-.94-2.06-.94 2.06-2.06.94zm-11 1L8.5 8.5l.94-2.06 2.06-.94-2.06-.94L8.5 2.5l-.94 2.06-2.06.94zm10 10l.94 2.06.94-2.06 2.06-.94-2.06-.94-.94-2.06-.94 2.06-2.06.94z\"/><path d=\"M17.41 7.96l-1.37-1.37c-.4-.4-.92-.59-1.43-.59-.52 0-1.04.2-1.43.59L10.3 9.45l-7.72 7.72c-.78.78-.78 2.05 0 2.83L4 21.41c.39.39.9.59 1.41.59.51 0 1.02-.2 1.41-.59l7.78-7.78 2.81-2.81c.8-.78.8-2.07 0-2.86zM5.41 20L4 18.59l7.72-7.72 1.47 1.35L5.41 20z\"/>\n",
              "  </svg>\n",
              "      </button>\n",
              "      \n",
              "  <style>\n",
              "    .colab-df-container {\n",
              "      display:flex;\n",
              "      flex-wrap:wrap;\n",
              "      gap: 12px;\n",
              "    }\n",
              "\n",
              "    .colab-df-convert {\n",
              "      background-color: #E8F0FE;\n",
              "      border: none;\n",
              "      border-radius: 50%;\n",
              "      cursor: pointer;\n",
              "      display: none;\n",
              "      fill: #1967D2;\n",
              "      height: 32px;\n",
              "      padding: 0 0 0 0;\n",
              "      width: 32px;\n",
              "    }\n",
              "\n",
              "    .colab-df-convert:hover {\n",
              "      background-color: #E2EBFA;\n",
              "      box-shadow: 0px 1px 2px rgba(60, 64, 67, 0.3), 0px 1px 3px 1px rgba(60, 64, 67, 0.15);\n",
              "      fill: #174EA6;\n",
              "    }\n",
              "\n",
              "    [theme=dark] .colab-df-convert {\n",
              "      background-color: #3B4455;\n",
              "      fill: #D2E3FC;\n",
              "    }\n",
              "\n",
              "    [theme=dark] .colab-df-convert:hover {\n",
              "      background-color: #434B5C;\n",
              "      box-shadow: 0px 1px 3px 1px rgba(0, 0, 0, 0.15);\n",
              "      filter: drop-shadow(0px 1px 2px rgba(0, 0, 0, 0.3));\n",
              "      fill: #FFFFFF;\n",
              "    }\n",
              "  </style>\n",
              "\n",
              "      <script>\n",
              "        const buttonEl =\n",
              "          document.querySelector('#df-cd466f24-5d55-4525-9cfe-b6ec1e6894e9 button.colab-df-convert');\n",
              "        buttonEl.style.display =\n",
              "          google.colab.kernel.accessAllowed ? 'block' : 'none';\n",
              "\n",
              "        async function convertToInteractive(key) {\n",
              "          const element = document.querySelector('#df-cd466f24-5d55-4525-9cfe-b6ec1e6894e9');\n",
              "          const dataTable =\n",
              "            await google.colab.kernel.invokeFunction('convertToInteractive',\n",
              "                                                     [key], {});\n",
              "          if (!dataTable) return;\n",
              "\n",
              "          const docLinkHtml = 'Like what you see? Visit the ' +\n",
              "            '<a target=\"_blank\" href=https://colab.research.google.com/notebooks/data_table.ipynb>data table notebook</a>'\n",
              "            + ' to learn more about interactive tables.';\n",
              "          element.innerHTML = '';\n",
              "          dataTable['output_type'] = 'display_data';\n",
              "          await google.colab.output.renderOutput(dataTable, element);\n",
              "          const docLink = document.createElement('div');\n",
              "          docLink.innerHTML = docLinkHtml;\n",
              "          element.appendChild(docLink);\n",
              "        }\n",
              "      </script>\n",
              "    </div>\n",
              "  </div>\n",
              "  "
            ]
          },
          "metadata": {},
          "execution_count": 41
        }
      ]
    },
    {
      "cell_type": "code",
      "source": [
        "housing.info()"
      ],
      "metadata": {
        "colab": {
          "base_uri": "https://localhost:8080/"
        },
        "id": "_2YF_NZMSGcT",
        "outputId": "7f5663ce-8d0c-4abc-b7c1-39caf63f8f62"
      },
      "execution_count": 42,
      "outputs": [
        {
          "output_type": "stream",
          "name": "stdout",
          "text": [
            "<class 'pandas.core.frame.DataFrame'>\n",
            "RangeIndex: 20640 entries, 0 to 20639\n",
            "Data columns (total 10 columns):\n",
            " #   Column              Non-Null Count  Dtype  \n",
            "---  ------              --------------  -----  \n",
            " 0   longitude           20640 non-null  float64\n",
            " 1   latitude            20640 non-null  float64\n",
            " 2   housing_median_age  20640 non-null  float64\n",
            " 3   total_rooms         20640 non-null  float64\n",
            " 4   total_bedrooms      20433 non-null  float64\n",
            " 5   population          20640 non-null  float64\n",
            " 6   households          20640 non-null  float64\n",
            " 7   median_income       20640 non-null  float64\n",
            " 8   median_house_value  20640 non-null  float64\n",
            " 9   ocean_proximity     20640 non-null  object \n",
            "dtypes: float64(9), object(1)\n",
            "memory usage: 1.6+ MB\n"
          ]
        }
      ]
    },
    {
      "cell_type": "markdown",
      "source": [
        "# 전처리"
      ],
      "metadata": {
        "id": "G5Kvr91KQ3Vl"
      }
    },
    {
      "cell_type": "code",
      "source": [
        "# 결측치 확인\n",
        "housing.isnull().sum()"
      ],
      "metadata": {
        "colab": {
          "base_uri": "https://localhost:8080/"
        },
        "id": "WQ-V_tWnQ53O",
        "outputId": "d47c2c88-1106-413a-db2e-d63005d7a27b"
      },
      "execution_count": 43,
      "outputs": [
        {
          "output_type": "execute_result",
          "data": {
            "text/plain": [
              "longitude               0\n",
              "latitude                0\n",
              "housing_median_age      0\n",
              "total_rooms             0\n",
              "total_bedrooms        207\n",
              "population              0\n",
              "households              0\n",
              "median_income           0\n",
              "median_house_value      0\n",
              "ocean_proximity         0\n",
              "dtype: int64"
            ]
          },
          "metadata": {},
          "execution_count": 43
        }
      ]
    },
    {
      "cell_type": "code",
      "source": [
        "housing['total_bedrooms'] = housing['total_bedrooms'].fillna(0)"
      ],
      "metadata": {
        "id": "eqG53wnBRcbh"
      },
      "execution_count": 44,
      "outputs": []
    },
    {
      "cell_type": "code",
      "source": [
        "housing.isnull().sum()\n",
        "# 결측치가 잘 처리 되었음을 알 수 있음"
      ],
      "metadata": {
        "colab": {
          "base_uri": "https://localhost:8080/"
        },
        "id": "E8_qVcdhR8aO",
        "outputId": "8a07a40e-28cb-4a5f-cb26-cc6bafb4501e"
      },
      "execution_count": 45,
      "outputs": [
        {
          "output_type": "execute_result",
          "data": {
            "text/plain": [
              "longitude             0\n",
              "latitude              0\n",
              "housing_median_age    0\n",
              "total_rooms           0\n",
              "total_bedrooms        0\n",
              "population            0\n",
              "households            0\n",
              "median_income         0\n",
              "median_house_value    0\n",
              "ocean_proximity       0\n",
              "dtype: int64"
            ]
          },
          "metadata": {},
          "execution_count": 45
        }
      ]
    },
    {
      "cell_type": "code",
      "source": [
        "# 문자형 변수 전처리\n",
        "# 어떤 값들이 존재하는지 확인\n",
        "housing['ocean_proximity'].value_counts()"
      ],
      "metadata": {
        "colab": {
          "base_uri": "https://localhost:8080/"
        },
        "id": "sFMvSY04SKSX",
        "outputId": "6c6ce83c-9a58-471a-9404-8032da0bf619"
      },
      "execution_count": 46,
      "outputs": [
        {
          "output_type": "execute_result",
          "data": {
            "text/plain": [
              "<1H OCEAN     9136\n",
              "INLAND        6551\n",
              "NEAR OCEAN    2658\n",
              "NEAR BAY      2290\n",
              "ISLAND           5\n",
              "Name: ocean_proximity, dtype: int64"
            ]
          },
          "metadata": {},
          "execution_count": 46
        }
      ]
    },
    {
      "cell_type": "markdown",
      "source": [
        "# train, test 데이터 나누기"
      ],
      "metadata": {
        "id": "nT9apslgNqId"
      }
    },
    {
      "cell_type": "code",
      "source": [
        "from sklearn.model_selection import train_test_split\n",
        "X_train, X_test, y_train, y_test = train_test_split(housing.drop('median_house_value',1), housing['median_house_value'], test_size=0.2, random_state=11)"
      ],
      "metadata": {
        "colab": {
          "base_uri": "https://localhost:8080/"
        },
        "id": "AL429NVWOe04",
        "outputId": "00e87902-8b3d-4734-ca57-766e1bf338b5"
      },
      "execution_count": 47,
      "outputs": [
        {
          "output_type": "stream",
          "name": "stderr",
          "text": [
            "/usr/local/lib/python3.7/dist-packages/ipykernel_launcher.py:2: FutureWarning: In a future version of pandas all arguments of DataFrame.drop except for the argument 'labels' will be keyword-only\n",
            "  \n"
          ]
        }
      ]
    },
    {
      "cell_type": "code",
      "source": [
        "X_train.shape, y_train.shape"
      ],
      "metadata": {
        "colab": {
          "base_uri": "https://localhost:8080/"
        },
        "id": "qi6_fOIfOmeK",
        "outputId": "1b3e723c-4c85-486b-9f4d-c9fec14f2778"
      },
      "execution_count": 48,
      "outputs": [
        {
          "output_type": "execute_result",
          "data": {
            "text/plain": [
              "((16512, 9), (16512,))"
            ]
          },
          "metadata": {},
          "execution_count": 48
        }
      ]
    },
    {
      "cell_type": "markdown",
      "source": [
        "# 표준화 및 인코딩\n",
        "* 경사 하강법을 사용할 것이기 떄문에 특성들의 스케일을 맞춰주는 작업을 수행"
      ],
      "metadata": {
        "id": "Fq7KjrcnP3fs"
      }
    },
    {
      "cell_type": "code",
      "source": [
        "# ColumnTransformer로 표준화와 인코딩 전처리\n",
        "from sklearn.compose import ColumnTransformer\n",
        "from sklearn.preprocessing import StandardScaler\n",
        "from sklearn.preprocessing import OneHotEncoder\n",
        "\n",
        "obj_features = ['ocean_proximity']\n",
        "num_features = ['longitude', 'latitude', 'housing_median_age', 'total_rooms', 'total_bedrooms',\n",
        "                'population', 'households', 'median_income']\n",
        "\n",
        "ct = ColumnTransformer([\n",
        "    ('encoding', OneHotEncoder(), obj_features),\n",
        "    ('scaling', StandardScaler(), num_features)\n",
        "])\n",
        "\n",
        "X_train = ct.fit_transform(X_train)\n",
        "X_test = ct.transform(X_test)"
      ],
      "metadata": {
        "id": "hfxm2dckSV-C"
      },
      "execution_count": 49,
      "outputs": []
    },
    {
      "cell_type": "markdown",
      "source": [
        "# 모델 학습"
      ],
      "metadata": {
        "id": "tfCwUrDVQzp_"
      }
    },
    {
      "cell_type": "markdown",
      "source": [
        "## 실험1 : epoch=50, t0=1, t1=50\n",
        "* 기본(하이퍼파리미터 설정 X)"
      ],
      "metadata": {
        "id": "Uz5q77P-U9gs"
      }
    },
    {
      "cell_type": "code",
      "source": [
        "X_train.shape, y_train.shape"
      ],
      "metadata": {
        "colab": {
          "base_uri": "https://localhost:8080/"
        },
        "id": "lL2BjB6Knhkv",
        "outputId": "7601129e-b094-4ca1-e7c9-caa96de85388"
      },
      "execution_count": null,
      "outputs": [
        {
          "output_type": "execute_result",
          "data": {
            "text/plain": [
              "((16512, 13), (16512,))"
            ]
          },
          "metadata": {},
          "execution_count": 304
        }
      ]
    },
    {
      "cell_type": "code",
      "source": [
        "n_epochs = 50\n",
        "t0, t1 = 5, 50\n",
        "\n",
        "# 학습 스케줄 : 매 반복에서 학습률을 결정\n",
        "def learning_schedule(t):\n",
        "  return t0 / (t+t1)\n",
        "\n",
        "theta = np.random.randn(13, 1) # random initialiazation\n",
        "m = len(X_train)\n",
        "\n",
        "for epoch in range(n_epochs): # 에포크만큼 반복\n",
        "  for i in range(m):\n",
        "    random_index = pd.Series(np.random.randint(m))\n",
        "\n",
        "    # X_train = X_train.reshape(-1, 2)\n",
        "    y_train = np.array(y_train)\n",
        "    y_train = y_train.reshape(-1, 1)\n",
        "\n",
        "    xi = X_train[int(random_index):int(random_index)+1]\n",
        "    yi = y_train[int(random_index):int(random_index)+1]\n",
        "\n",
        "    gradients = 2 * xi.T.dot(xi.dot(theta) - yi) # .T : transpose 역할\n",
        "    eta = learning_schedule(epoch * m + i)\n",
        "    theta = theta - eta * gradients"
      ],
      "metadata": {
        "id": "lv9y3rEdVj6G"
      },
      "execution_count": null,
      "outputs": []
    },
    {
      "cell_type": "code",
      "source": [
        "theta # 위에서 구한 최적의 파라미터"
      ],
      "metadata": {
        "colab": {
          "base_uri": "https://localhost:8080/"
        },
        "id": "w3oGJDPNfaF4",
        "outputId": "109aa995-6449-4432-a6ba-02ed2928120d"
      },
      "execution_count": null,
      "outputs": [
        {
          "output_type": "execute_result",
          "data": {
            "text/plain": [
              "array([[220690.26387433],\n",
              "       [178210.42255795],\n",
              "       [  2964.16391299],\n",
              "       [215803.47215306],\n",
              "       [225294.87084072],\n",
              "       [-49822.75404632],\n",
              "       [-50035.27005176],\n",
              "       [ 13984.29650363],\n",
              "       [-15729.58258004],\n",
              "       [ 53107.19506377],\n",
              "       [-42253.24640035],\n",
              "       [ 10681.90543001],\n",
              "       [ 75914.6512855 ]])"
            ]
          },
          "metadata": {},
          "execution_count": 306
        }
      ]
    },
    {
      "cell_type": "code",
      "source": [
        "X_train.shape, y_train.shape"
      ],
      "metadata": {
        "colab": {
          "base_uri": "https://localhost:8080/"
        },
        "id": "ye5ShkYnmE7N",
        "outputId": "621a1f7b-5247-42ca-f832-8f7a424e6920"
      },
      "execution_count": null,
      "outputs": [
        {
          "output_type": "execute_result",
          "data": {
            "text/plain": [
              "((16512, 13), (16512, 1))"
            ]
          },
          "metadata": {},
          "execution_count": 307
        }
      ]
    },
    {
      "cell_type": "code",
      "source": [
        "from sklearn.linear_model import SGDRegressor\n",
        "\n",
        "sgd_reg = SGDRegressor(max_iter=50, tol=1e-3, penalty=None, eta0=0.1, random_state=11)\n",
        "sgd_reg.fit(X_train, y_train)"
      ],
      "metadata": {
        "colab": {
          "base_uri": "https://localhost:8080/"
        },
        "id": "0G22Bk8KiyM1",
        "outputId": "4c0ac8bf-abcd-4697-f779-792d65cc762a"
      },
      "execution_count": 50,
      "outputs": [
        {
          "output_type": "execute_result",
          "data": {
            "text/plain": [
              "SGDRegressor(eta0=0.1, max_iter=50, penalty=None, random_state=11)"
            ]
          },
          "metadata": {},
          "execution_count": 50
        }
      ]
    },
    {
      "cell_type": "code",
      "source": [
        "sgd_reg.intercept_, sgd_reg.coef_"
      ],
      "metadata": {
        "colab": {
          "base_uri": "https://localhost:8080/"
        },
        "id": "1jwEhM92l4RL",
        "outputId": "e5c218a8-6730-48ad-df3e-50984b7c6b55"
      },
      "execution_count": 51,
      "outputs": [
        {
          "output_type": "execute_result",
          "data": {
            "text/plain": [
              "(array([179471.48190401]),\n",
              " array([ 42699.18336616,  -1375.48193094,  57226.91993128,  33869.16326763,\n",
              "         47051.69726987, -56120.06875587, -54210.8494644 ,  10239.51833401,\n",
              "        -15285.16696716,  21724.06335833, -50680.351125  ,  45427.82984477,\n",
              "         72838.6470348 ]))"
            ]
          },
          "metadata": {},
          "execution_count": 51
        }
      ]
    },
    {
      "cell_type": "markdown",
      "source": [
        "> SGDRegressor로 학습시킨 파라미터 근처에 도달할 수 있었음을 알 수 있음\n",
        "\n",
        "> 다만, 세부적인 튜닝 및 에포크 수 변경으로 더욱 최적인 해를 찾아볼 필요가 있음"
      ],
      "metadata": {
        "id": "LVE7X2nCnxRe"
      }
    },
    {
      "cell_type": "code",
      "source": [
        "from sklearn.metrics import mean_squared_error\n",
        "\n",
        "sgd_reg_params = np.concatenate((sgd_reg.intercept_, sgd_reg.coef_), axis=0)\n",
        "theta_ravel = theta.ravel()\n",
        "theta_a = np.append(theta, np.array([0]))\n",
        "\n",
        "params_error_1 = mean_squared_error(sgd_reg_params, theta_a)\n",
        "params_error_1"
      ],
      "metadata": {
        "colab": {
          "base_uri": "https://localhost:8080/"
        },
        "id": "hyxTrTmYrj0e",
        "outputId": "700853c2-a561-4ac4-88f6-ddf8f6e981ca"
      },
      "execution_count": null,
      "outputs": [
        {
          "output_type": "execute_result",
          "data": {
            "text/plain": [
              "8800002003.72048"
            ]
          },
          "metadata": {},
          "execution_count": 312
        }
      ]
    },
    {
      "cell_type": "markdown",
      "source": [
        "## 실험2 : epoch=100, t0-5, t1=100"
      ],
      "metadata": {
        "id": "vntBUnXXpMBo"
      }
    },
    {
      "cell_type": "code",
      "source": [
        "n_epochs = 100\n",
        "t0, t1 = 5, 100\n",
        "\n",
        "# 학습 스케줄 : 매 반복에서 학습률을 결정\n",
        "def learning_schedule(t):\n",
        "  return t0 / (t+t1)\n",
        "\n",
        "theta = np.random.randn(13, 1) # random initialiazation\n",
        "m = len(X_train)\n",
        "\n",
        "for epoch in range(n_epochs): # 에포크만큼 반복\n",
        "  for i in range(m):\n",
        "    random_index = pd.Series(np.random.randint(m))\n",
        "\n",
        "    # X_train = X_train.reshape(-1, 2)\n",
        "    y_train = np.array(y_train)\n",
        "    y_train = y_train.reshape(-1, 1)\n",
        "\n",
        "    xi = X_train[int(random_index):int(random_index)+1]\n",
        "    yi = y_train[int(random_index):int(random_index)+1]\n",
        "\n",
        "    gradients = 2 * xi.T.dot(xi.dot(theta) - yi) # .T : transpose 역할\n",
        "    eta = learning_schedule(epoch * m + i)\n",
        "    theta = theta - eta * gradients"
      ],
      "metadata": {
        "id": "DgAJxCB5pxk9"
      },
      "execution_count": null,
      "outputs": []
    },
    {
      "cell_type": "code",
      "source": [
        "theta"
      ],
      "metadata": {
        "colab": {
          "base_uri": "https://localhost:8080/"
        },
        "id": "yVtQ-bRbq9bG",
        "outputId": "a099134e-22a6-4475-81dd-15f6a80469ff"
      },
      "execution_count": null,
      "outputs": [
        {
          "output_type": "execute_result",
          "data": {
            "text/plain": [
              "array([[218429.77915997],\n",
              "       [184567.87309641],\n",
              "       [  4490.5211729 ],\n",
              "       [211745.07784462],\n",
              "       [219518.722576  ],\n",
              "       [-63547.212684  ],\n",
              "       [-64924.17166398],\n",
              "       [ 14005.35251287],\n",
              "       [ -8384.22625733],\n",
              "       [ 33129.8507061 ],\n",
              "       [-45846.38352507],\n",
              "       [ 25086.24393207],\n",
              "       [ 73670.63027326]])"
            ]
          },
          "metadata": {},
          "execution_count": 314
        }
      ]
    },
    {
      "cell_type": "code",
      "source": [
        "theta_ravel = theta.ravel()\n",
        "theta_a = np.append(theta, np.array([0]))\n",
        "\n",
        "params_error_2 = mean_squared_error(sgd_reg_params, theta_a)\n",
        "params_error_2"
      ],
      "metadata": {
        "colab": {
          "base_uri": "https://localhost:8080/"
        },
        "id": "0FqU1F_cvW1u",
        "outputId": "45fd9534-e194-45a6-eeb5-3dbe44cd4e2e"
      },
      "execution_count": null,
      "outputs": [
        {
          "output_type": "execute_result",
          "data": {
            "text/plain": [
              "8860285527.581581"
            ]
          },
          "metadata": {},
          "execution_count": 315
        }
      ]
    },
    {
      "cell_type": "markdown",
      "source": [
        "> 에포크를 늘리고 학습률을 더 작게 해주었음에도 성능차이는 거의 없었음. 오히려 조금 늘었음"
      ],
      "metadata": {
        "id": "0mqkYhhgvkMM"
      }
    },
    {
      "cell_type": "markdown",
      "source": [
        "## 실험3 : epoch=500, t0=1, t1=300"
      ],
      "metadata": {
        "id": "anWSJ1EVveEY"
      }
    },
    {
      "cell_type": "code",
      "source": [
        "n_epochs = 500\n",
        "t0, t1 = 1, 300\n",
        "\n",
        "# 학습 스케줄 : 매 반복에서 학습률을 결정\n",
        "def learning_schedule(t):\n",
        "  return t0 / (t+t1)\n",
        "\n",
        "theta = np.random.randn(13, 1) # random initialiazation\n",
        "m = len(X_train)\n",
        "\n",
        "for epoch in range(n_epochs): # 에포크만큼 반복\n",
        "  for i in range(m):\n",
        "    random_index = pd.Series(np.random.randint(m))\n",
        "\n",
        "    # X_train = X_train.reshape(-1, 2)\n",
        "    y_train = np.array(y_train)\n",
        "    y_train = y_train.reshape(-1, 1)\n",
        "\n",
        "    xi = X_train[int(random_index):int(random_index)+1]\n",
        "    yi = y_train[int(random_index):int(random_index)+1]\n",
        "\n",
        "    gradients = 2 * xi.T.dot(xi.dot(theta) - yi) # .T : transpose 역할\n",
        "    eta = learning_schedule(epoch * m + i)\n",
        "    theta = theta - eta * gradients"
      ],
      "metadata": {
        "id": "EyTtdREyv3eF"
      },
      "execution_count": null,
      "outputs": []
    },
    {
      "cell_type": "code",
      "source": [
        "theta"
      ],
      "metadata": {
        "colab": {
          "base_uri": "https://localhost:8080/"
        },
        "id": "kLFRMqc0v5xl",
        "outputId": "bd408ea9-9d81-4584-cf0f-649f3077aea2"
      },
      "execution_count": null,
      "outputs": [
        {
          "output_type": "execute_result",
          "data": {
            "text/plain": [
              "array([[223496.38900311],\n",
              "       [174978.80384381],\n",
              "       [  1255.55129226],\n",
              "       [185938.13526365],\n",
              "       [212747.73682185],\n",
              "       [-50537.29709591],\n",
              "       [-46609.9111791 ],\n",
              "       [ 16740.20675833],\n",
              "       [ -4813.37221731],\n",
              "       [ 32114.71254466],\n",
              "       [-45564.78632084],\n",
              "       [ 24259.72018442],\n",
              "       [ 74043.96053499]])"
            ]
          },
          "metadata": {},
          "execution_count": 317
        }
      ]
    },
    {
      "cell_type": "code",
      "source": [
        "theta_ravel = theta.ravel()\n",
        "theta_a = np.append(theta, np.array([0]))\n",
        "\n",
        "params_error_3 = mean_squared_error(sgd_reg_params, theta_a)\n",
        "params_error_3"
      ],
      "metadata": {
        "colab": {
          "base_uri": "https://localhost:8080/"
        },
        "id": "BRspe9n1v7_h",
        "outputId": "d9fddf9e-015d-44e9-e155-1d78c9c89a9a"
      },
      "execution_count": null,
      "outputs": [
        {
          "output_type": "execute_result",
          "data": {
            "text/plain": [
              "7752094318.935706"
            ]
          },
          "metadata": {},
          "execution_count": 318
        }
      ]
    },
    {
      "cell_type": "markdown",
      "source": [
        "> 에포크와 학습 스케줄 변화를 크게 주었더니 오차값에서도 유의미하게 감소했음"
      ],
      "metadata": {
        "id": "qTcR1-0W2IBX"
      }
    },
    {
      "cell_type": "markdown",
      "source": [
        "# SGDRegressor 모델 학습 곡선"
      ],
      "metadata": {
        "id": "lrMSEK4GxZCa"
      }
    },
    {
      "cell_type": "code",
      "source": [
        "from sklearn.metrics import mean_squared_error\n",
        "\n",
        "def plot_learning_curves(model, X, y):\n",
        "    X_train, X_val, y_train, y_val = train_test_split(X, y, test_size=0.2, random_state=11)\n",
        "\n",
        "    # 정규화 및 표준화\n",
        "    X_train = ct.fit_transform(X_train)\n",
        "    X_val = ct.transform(X_val)\n",
        "\n",
        "    train_errors, val_errors = [], []\n",
        "    for m in range(1, len(X_train) + 1):\n",
        "        model.fit(X_train[:m], y_train[:m])\n",
        "        y_train_predict = model.predict(X_train[:m])\n",
        "        y_val_predict = model.predict(X_val)\n",
        "        train_errors.append(mean_squared_error(y_train[:m], y_train_predict))\n",
        "        val_errors.append(mean_squared_error(y_val, y_val_predict))\n",
        "\n",
        "    plt.plot(np.sqrt(train_errors), \"r-+\", linewidth=2, label=\"train\")\n",
        "    plt.plot(np.sqrt(val_errors), \"b-\", linewidth=3, label=\"val\")"
      ],
      "metadata": {
        "id": "wcAwr_0o2h9a"
      },
      "execution_count": null,
      "outputs": []
    },
    {
      "cell_type": "code",
      "source": [
        "X = housing.drop('median_house_value', 1)\n",
        "y = housing['median_house_value']\n",
        "\n",
        "# 보기 좋지 않은 불필요한 콘솔창 지우는 모듈\n",
        "from google.colab import output"
      ],
      "metadata": {
        "colab": {
          "base_uri": "https://localhost:8080/"
        },
        "id": "w9NRQvgfXPoF",
        "outputId": "a2566269-0919-441f-8e46-eb96c4c0c7df"
      },
      "execution_count": null,
      "outputs": [
        {
          "output_type": "stream",
          "name": "stderr",
          "text": [
            "/usr/local/lib/python3.7/dist-packages/ipykernel_launcher.py:1: FutureWarning: In a future version of pandas all arguments of DataFrame.drop except for the argument 'labels' will be keyword-only\n",
            "  \"\"\"Entry point for launching an IPython kernel.\n"
          ]
        }
      ]
    },
    {
      "cell_type": "code",
      "source": [
        "plot_learning_curves(sgd_reg, X, y)\n",
        "\n",
        "# 콘솔 화면 지우기\n",
        "output.clear()"
      ],
      "metadata": {
        "colab": {
          "base_uri": "https://localhost:8080/",
          "height": 269
        },
        "id": "UesTKT2d21ek",
        "outputId": "bbb1e746-723d-4053-c01d-fa2b926c4ffc"
      },
      "execution_count": null,
      "outputs": [
        {
          "output_type": "display_data",
          "data": {
            "text/plain": [
              "<Figure size 432x288 with 1 Axes>"
            ],
            "image/png": "[encoded data removed]"
          },
          "metadata": {
            "needs_background": "light"
          }
        }
      ]
    },
    {
      "cell_type": "markdown",
      "source": [
        "# 조기 종료 이용해보기"
      ],
      "metadata": {
        "id": "ZsO_Aa2LYqOY"
      }
    },
    {
      "cell_type": "code",
      "source": [
        "from copy import deepcopy\n",
        "\n",
        "sgd_reg = SGDRegressor(max_iter=50, tol=1e-3, warm_start=True,\n",
        "                       penalty=None, learning_rate=\"constant\", eta0=0.1, random_state=11)\n",
        "\n",
        "X_train, X_test, y_train, y_test = train_test_split(X, y, test_size=0.2, random_state=11)\n",
        "\n",
        "X_train_poly_scaled = ct.fit_transform(X_train)\n",
        "X_val_poly_scaled = ct.transform(X_test)\n",
        "\n",
        "minimum_val_error = float(\"inf\")\n",
        "best_epoch = None\n",
        "best_model = None\n",
        "for epoch in range(1000):\n",
        "    sgd_reg.fit(X_train_poly_scaled, y_train)  # 중지된 곳에서 다시 시작합니다\n",
        "    y_val_predict = sgd_reg.predict(X_val_poly_scaled)\n",
        "    val_error = mean_squared_error(y_test, y_val_predict)\n",
        "    if val_error < minimum_val_error:\n",
        "        minimum_val_error = val_error\n",
        "        best_epoch = epoch\n",
        "        best_model = deepcopy(sgd_reg)"
      ],
      "metadata": {
        "id": "K15boL61xiPR"
      },
      "execution_count": 52,
      "outputs": []
    },
    {
      "cell_type": "code",
      "source": [
        "best_epoch, best_model"
      ],
      "metadata": {
        "colab": {
          "base_uri": "https://localhost:8080/"
        },
        "id": "vlYCnmj5ygq-",
        "outputId": "f1f06490-f8dc-419f-ff44-67a3814d68a1"
      },
      "execution_count": 53,
      "outputs": [
        {
          "output_type": "execute_result",
          "data": {
            "text/plain": [
              "(344,\n",
              " SGDRegressor(eta0=0.1, learning_rate='constant', max_iter=50, penalty=None,\n",
              "              random_state=11, warm_start=True))"
            ]
          },
          "metadata": {},
          "execution_count": 53
        }
      ]
    },
    {
      "cell_type": "code",
      "source": [
        "sgd_reg.intercept_, sgd_reg.coef_"
      ],
      "metadata": {
        "colab": {
          "base_uri": "https://localhost:8080/"
        },
        "id": "DD8UlP2N0d5Z",
        "outputId": "7329c7c3-158f-4a49-e14a-56ed3e3856b7"
      },
      "execution_count": 54,
      "outputs": [
        {
          "output_type": "execute_result",
          "data": {
            "text/plain": [
              "(array([-11734.52910928]),\n",
              " array([  396989.3256687 ,   204821.06880359, -1195761.96414571,\n",
              "          220673.93635347,   361543.09604657,   -62664.57371093,\n",
              "         -163149.94030402,  -127683.71679841,   325069.82712123,\n",
              "          878968.58826029,   659510.05872039,   138430.17902945,\n",
              "          386502.3333078 ]))"
            ]
          },
          "metadata": {},
          "execution_count": 54
        }
      ]
    },
    {
      "cell_type": "markdown",
      "source": [
        "* 조기종료를 사용하지 않고 학습시켰을 때 파라미터\n",
        "```\n",
        "(array([179471.48190401]),\n",
        " array([ 42699.18336616,  -1375.48193094,  57226.91993128,  33869.16326763,\n",
        "         47051.69726987, -56120.06875587, -54210.8494644 ,  10239.51833401,\n",
        "        -15285.16696716,  21724.06335833, -50680.351125  ,  45427.82984477,\n",
        "         72838.6470348 ]))\n",
        "```"
      ],
      "metadata": {
        "id": "99JdZ67T1luJ"
      }
    },
    {
      "cell_type": "markdown",
      "source": [
        "* epoch=300일 때 파라미터\n",
        "```\n",
        "array([[223496.38900311],\n",
        "       [174978.80384381],\n",
        "       [  1255.55129226],\n",
        "       [185938.13526365],\n",
        "       [212747.73682185],\n",
        "       [-50537.29709591],\n",
        "       [-46609.9111791 ],\n",
        "       [ 16740.20675833],\n",
        "       [ -4813.37221731],\n",
        "       [ 32114.71254466],\n",
        "       [-45564.78632084],\n",
        "       [ 24259.72018442],\n",
        "       [ 74043.96053499]])\n",
        "```"
      ],
      "metadata": {
        "id": "2kIn-TS22EEs"
      }
    },
    {
      "cell_type": "markdown",
      "source": [
        "> 확률적으로 경사하는 하강법이어서 그런지 매 학습시 안정적으로 학습되진 않았음"
      ],
      "metadata": {
        "id": "C1CrFyRP1lrk"
      }
    }
  ]
}