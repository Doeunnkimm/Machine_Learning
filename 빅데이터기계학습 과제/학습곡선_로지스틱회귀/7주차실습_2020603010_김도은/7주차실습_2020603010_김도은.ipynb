{
  "cells": [
    {
      "cell_type": "markdown",
      "metadata": {
        "id": "5yhUgLtvdYzo"
      },
      "source": [
        "**4장 – 모델 훈련**"
      ]
    },
    {
      "cell_type": "markdown",
      "metadata": {
        "id": "lyjeMhwkdYzq"
      },
      "source": [
        "_이 노트북은 4장에 있는 모든 샘플 코드와 연습문제 해답을 가지고 있습니다._"
      ]
    },
    {
      "cell_type": "markdown",
      "metadata": {
        "id": "PHhXAJ-UdYzr"
      },
      "source": [
        "# 설정"
      ]
    },
    {
      "cell_type": "markdown",
      "metadata": {
        "id": "dgN9W8XkdYzr"
      },
      "source": [
        "먼저 몇 개의 모듈을 임포트합니다. 맷플롯립 그래프를 인라인으로 출력하도록 만들고 그림을 저장하는 함수를 준비합니다. 또한 파이썬 버전이 3.5 이상인지 확인합니다(파이썬 2.x에서도 동작하지만 곧 지원이 중단되므로 파이썬 3을 사용하는 것이 좋습니다). 사이킷런 버전이 0.20 이상인지도 확인합니다."
      ]
    },
    {
      "cell_type": "code",
      "execution_count": null,
      "metadata": {
        "execution": {
          "iopub.execute_input": "2021-11-03T03:33:32.997707Z",
          "iopub.status.busy": "2021-11-03T03:33:32.996989Z",
          "iopub.status.idle": "2021-11-03T03:33:33.750770Z",
          "shell.execute_reply": "2021-11-03T03:33:33.749922Z"
        },
        "id": "LV8Ze8d_dYzr"
      },
      "outputs": [],
      "source": [
        "# 파이썬 ≥3.5 필수\n",
        "import sys\n",
        "assert sys.version_info >= (3, 5)\n",
        "\n",
        "# 사이킷런 ≥0.20 필수\n",
        "import sklearn\n",
        "assert sklearn.__version__ >= \"0.20\"\n",
        "\n",
        "# 공통 모듈 임포트\n",
        "import numpy as np\n",
        "import os\n",
        "\n",
        "# 노트북 실행 결과를 동일하게 유지하기 위해\n",
        "np.random.seed(42)\n",
        "\n",
        "# 깔끔한 그래프 출력을 위해\n",
        "%matplotlib inline\n",
        "import matplotlib as mpl\n",
        "import matplotlib.pyplot as plt"
      ]
    },
    {
      "cell_type": "markdown",
      "metadata": {
        "id": "HWT4DFNYdYzs"
      },
      "source": [
        "# 선형 회귀"
      ]
    },
    {
      "cell_type": "code",
      "execution_count": null,
      "metadata": {
        "execution": {
          "iopub.execute_input": "2021-11-03T03:33:33.755847Z",
          "iopub.status.busy": "2021-11-03T03:33:33.755208Z",
          "iopub.status.idle": "2021-11-03T03:33:33.757085Z",
          "shell.execute_reply": "2021-11-03T03:33:33.757544Z"
        },
        "id": "rzb0UxXKdYzs"
      },
      "outputs": [],
      "source": [
        "import numpy as np\n",
        "\n",
        "X = 2 * np.random.rand(100, 1) # 0~1 사이의 100개의 random number를 생성\n",
        "y = 4 + 3 * X + np.random.randn(100, 1) # 노이즈를 추가하여 정답 label 생성"
      ]
    },
    {
      "cell_type": "code",
      "execution_count": null,
      "metadata": {
        "execution": {
          "iopub.execute_input": "2021-11-03T03:33:33.775193Z",
          "iopub.status.busy": "2021-11-03T03:33:33.774529Z",
          "iopub.status.idle": "2021-11-03T03:33:34.434851Z",
          "shell.execute_reply": "2021-11-03T03:33:34.435548Z"
        },
        "id": "wo8sPu-edYzt",
        "outputId": "aec989c8-1803-40e6-91d4-13e984bfcbcd",
        "colab": {
          "base_uri": "https://localhost:8080/",
          "height": 283
        }
      },
      "outputs": [
        {
          "output_type": "execute_result",
          "data": {
            "text/plain": [
              "[<matplotlib.lines.Line2D at 0x7feb629d8c90>]"
            ]
          },
          "metadata": {},
          "execution_count": 25
        },
        {
          "output_type": "display_data",
          "data": {
            "text/plain": [
              "<Figure size 432x288 with 1 Axes>"
            ],
            "image/png": "[encoded data removed]"
          },
          "metadata": {
            "needs_background": "light"
          }
        }
      ],
      "source": [
        "plt.plot(X, y, \"b.\")"
      ]
    },
    {
      "cell_type": "markdown",
      "metadata": {
        "id": "3Sa5sfOwdYzt"
      },
      "source": [
        "**식 4-4: 정규 방정식**\n",
        "\n",
        "$\\hat{\\boldsymbol{\\theta}} = (\\mathbf{X}^T \\mathbf{X})^{-1} \\mathbf{X}^T \\mathbf{y}$"
      ]
    },
    {
      "cell_type": "code",
      "execution_count": null,
      "metadata": {
        "execution": {
          "iopub.execute_input": "2021-11-03T03:33:34.441403Z",
          "iopub.status.busy": "2021-11-03T03:33:34.440756Z",
          "iopub.status.idle": "2021-11-03T03:33:34.445091Z",
          "shell.execute_reply": "2021-11-03T03:33:34.444225Z"
        },
        "id": "pY3iqsWTdYzt"
      },
      "outputs": [],
      "source": [
        "X_b = np.c_[np.ones((100, 1)), X]  # 모든 샘플에 x0 = 1을 추가합니다. <- 편향을 추가하기 위해\n",
        "theta_best = np.linalg.inv(X_b.T.dot(X_b)).dot(X_b.T).dot(y)"
      ]
    },
    {
      "cell_type": "code",
      "execution_count": null,
      "metadata": {
        "execution": {
          "iopub.execute_input": "2021-11-03T03:33:34.450416Z",
          "iopub.status.busy": "2021-11-03T03:33:34.449601Z",
          "iopub.status.idle": "2021-11-03T03:33:34.453378Z",
          "shell.execute_reply": "2021-11-03T03:33:34.453815Z"
        },
        "id": "5EFcv0kkdYzu",
        "outputId": "7b0b6f28-0a5e-4843-d2b4-a3383c90a3bd",
        "colab": {
          "base_uri": "https://localhost:8080/"
        }
      },
      "outputs": [
        {
          "output_type": "execute_result",
          "data": {
            "text/plain": [
              "array([[4.21509616],\n",
              "       [2.77011339]])"
            ]
          },
          "metadata": {},
          "execution_count": 27
        }
      ],
      "source": [
        "theta_best"
      ]
    },
    {
      "cell_type": "markdown",
      "metadata": {
        "id": "mEdTilLPdYzu"
      },
      "source": [
        "$\\hat{y} = \\mathbf{X} \\boldsymbol{\\hat{\\theta}}$"
      ]
    },
    {
      "cell_type": "code",
      "execution_count": null,
      "metadata": {
        "execution": {
          "iopub.execute_input": "2021-11-03T03:33:34.460018Z",
          "iopub.status.busy": "2021-11-03T03:33:34.459236Z",
          "iopub.status.idle": "2021-11-03T03:33:34.462691Z",
          "shell.execute_reply": "2021-11-03T03:33:34.463119Z"
        },
        "id": "PaVEiOrOdYzu",
        "outputId": "b7dfa038-f8e1-4e9e-aa3c-cb956e5a72c3",
        "colab": {
          "base_uri": "https://localhost:8080/"
        }
      },
      "outputs": [
        {
          "output_type": "execute_result",
          "data": {
            "text/plain": [
              "array([[4.21509616],\n",
              "       [9.75532293]])"
            ]
          },
          "metadata": {},
          "execution_count": 28
        }
      ],
      "source": [
        "X_new = np.array([[0], [2]])\n",
        "X_new_b = np.c_[np.ones((2, 1)), X_new]  # 모든 샘플에 x0 = 1을 추가합니다.\n",
        "y_predict = X_new_b.dot(theta_best)\n",
        "y_predict"
      ]
    },
    {
      "cell_type": "code",
      "execution_count": null,
      "metadata": {
        "execution": {
          "iopub.execute_input": "2021-11-03T03:33:34.481933Z",
          "iopub.status.busy": "2021-11-03T03:33:34.478520Z",
          "iopub.status.idle": "2021-11-03T03:33:34.643689Z",
          "shell.execute_reply": "2021-11-03T03:33:34.644328Z"
        },
        "id": "6159C-NndYzu",
        "outputId": "54cb1d3f-3242-49a3-f410-1ea7c6adeb0e",
        "colab": {
          "base_uri": "https://localhost:8080/",
          "height": 283
        }
      },
      "outputs": [
        {
          "output_type": "execute_result",
          "data": {
            "text/plain": [
              "[<matplotlib.lines.Line2D at 0x7feb62961c90>]"
            ]
          },
          "metadata": {},
          "execution_count": 29
        },
        {
          "output_type": "display_data",
          "data": {
            "text/plain": [
              "<Figure size 432x288 with 1 Axes>"
            ],
            "image/png": "[encoded data removed]"
          },
          "metadata": {
            "needs_background": "light"
          }
        }
      ],
      "source": [
        "plt.plot(X_new, y_predict, \"r-\")\n",
        "plt.plot(X, y, \"b.\")"
      ]
    },
    {
      "cell_type": "code",
      "execution_count": null,
      "metadata": {
        "execution": {
          "iopub.execute_input": "2021-11-03T03:33:35.155202Z",
          "iopub.status.busy": "2021-11-03T03:33:35.154591Z",
          "iopub.status.idle": "2021-11-03T03:33:35.187153Z",
          "shell.execute_reply": "2021-11-03T03:33:35.186601Z"
        },
        "id": "h4aYHIVPdYzv",
        "outputId": "0dfd1035-16f5-4d89-b7c4-a392da908d5a",
        "colab": {
          "base_uri": "https://localhost:8080/"
        }
      },
      "outputs": [
        {
          "output_type": "execute_result",
          "data": {
            "text/plain": [
              "(array([4.21509616]), array([[2.77011339]]))"
            ]
          },
          "metadata": {},
          "execution_count": 30
        }
      ],
      "source": [
        "from sklearn.linear_model import LinearRegression\n",
        "\n",
        "lin_reg = LinearRegression()\n",
        "lin_reg.fit(X, y)\n",
        "lin_reg.intercept_, lin_reg.coef_"
      ]
    },
    {
      "cell_type": "code",
      "execution_count": null,
      "metadata": {
        "execution": {
          "iopub.execute_input": "2021-11-03T03:33:35.191692Z",
          "iopub.status.busy": "2021-11-03T03:33:35.191074Z",
          "iopub.status.idle": "2021-11-03T03:33:35.195374Z",
          "shell.execute_reply": "2021-11-03T03:33:35.195817Z"
        },
        "id": "4O9zxOxtdYzv",
        "outputId": "b2a2b5a0-f795-4e7f-ce24-46a615f0d8a7",
        "colab": {
          "base_uri": "https://localhost:8080/"
        }
      },
      "outputs": [
        {
          "output_type": "execute_result",
          "data": {
            "text/plain": [
              "array([[4.21509616],\n",
              "       [9.75532293]])"
            ]
          },
          "metadata": {},
          "execution_count": 31
        }
      ],
      "source": [
        "lin_reg.predict(X_new)"
      ]
    },
    {
      "cell_type": "markdown",
      "metadata": {
        "id": "wg7KQJeudYzw"
      },
      "source": [
        "# 경사 하강법\n",
        "## 배치 경사 하강법"
      ]
    },
    {
      "cell_type": "markdown",
      "metadata": {
        "id": "SeXxO2UadYzx"
      },
      "source": [
        "**식 4-6: 비용 함수의 그레이디언트 벡터**\n",
        "\n",
        "$\n",
        "\\dfrac{\\partial}{\\partial \\boldsymbol{\\theta}} \\text{MSE}(\\boldsymbol{\\theta})\n",
        " = \\dfrac{2}{m} \\mathbf{X}^T (\\mathbf{X} \\boldsymbol{\\theta} - \\mathbf{y})\n",
        "$\n",
        "\n",
        "**식 4-7: 경사 하강법의 스텝**\n",
        "\n",
        "$\n",
        "\\boldsymbol{\\theta}^{(\\text{next step})} = \\boldsymbol{\\theta} - \\eta \\dfrac{\\partial}{\\partial \\boldsymbol{\\theta}} \\text{MSE}(\\boldsymbol{\\theta})\n",
        "$\n"
      ]
    },
    {
      "cell_type": "code",
      "execution_count": null,
      "metadata": {
        "execution": {
          "iopub.execute_input": "2021-11-03T03:33:35.219843Z",
          "iopub.status.busy": "2021-11-03T03:33:35.219229Z",
          "iopub.status.idle": "2021-11-03T03:33:35.225997Z",
          "shell.execute_reply": "2021-11-03T03:33:35.226388Z"
        },
        "id": "VkYXZd1GdYzx"
      },
      "outputs": [],
      "source": [
        "eta = 0.1  # 학습률\n",
        "n_iterations = 1000 # 반복 횟수\n",
        "m = 100\n",
        "\n",
        "theta = np.random.randn(2,1)  # 랜덤 초기화\n",
        "\n",
        "for iteration in range(n_iterations):\n",
        "    # 반복할 때마다 현재 점에서는 mse에 대한 편도함수 계산\n",
        "    gradients = 2/m * X_b.T.dot(X_b.dot(theta) - y) \n",
        "    theta = theta - eta * gradients # 기울기가 감소하는 방향으로 업데이트"
      ]
    },
    {
      "cell_type": "code",
      "execution_count": null,
      "metadata": {
        "execution": {
          "iopub.execute_input": "2021-11-03T03:33:35.231433Z",
          "iopub.status.busy": "2021-11-03T03:33:35.230509Z",
          "iopub.status.idle": "2021-11-03T03:33:35.233513Z",
          "shell.execute_reply": "2021-11-03T03:33:35.233911Z"
        },
        "id": "8xgTqE2SdYzx",
        "outputId": "299ead01-3c8f-496c-de3f-6209f9c53a8c",
        "colab": {
          "base_uri": "https://localhost:8080/"
        }
      },
      "outputs": [
        {
          "output_type": "execute_result",
          "data": {
            "text/plain": [
              "array([[4.21509616],\n",
              "       [2.77011339]])"
            ]
          },
          "metadata": {},
          "execution_count": 33
        }
      ],
      "source": [
        "theta"
      ]
    },
    {
      "cell_type": "code",
      "execution_count": null,
      "metadata": {
        "execution": {
          "iopub.execute_input": "2021-11-03T03:33:35.239550Z",
          "iopub.status.busy": "2021-11-03T03:33:35.238245Z",
          "iopub.status.idle": "2021-11-03T03:33:35.241941Z",
          "shell.execute_reply": "2021-11-03T03:33:35.241419Z"
        },
        "id": "CaSrsNrQdYzx",
        "outputId": "c373ce7d-7471-403c-b5c1-554d22e52345",
        "colab": {
          "base_uri": "https://localhost:8080/"
        }
      },
      "outputs": [
        {
          "output_type": "execute_result",
          "data": {
            "text/plain": [
              "array([[4.21509616],\n",
              "       [9.75532293]])"
            ]
          },
          "metadata": {},
          "execution_count": 34
        }
      ],
      "source": [
        "X_new_b.dot(theta)"
      ]
    },
    {
      "cell_type": "markdown",
      "metadata": {
        "id": "Qw4H-geXdYzy"
      },
      "source": [
        "## 확률적 경사 하강법"
      ]
    },
    {
      "cell_type": "code",
      "execution_count": null,
      "metadata": {
        "execution": {
          "iopub.execute_input": "2021-11-03T03:33:36.528194Z",
          "iopub.status.busy": "2021-11-03T03:33:36.527532Z",
          "iopub.status.idle": "2021-11-03T03:33:36.530302Z",
          "shell.execute_reply": "2021-11-03T03:33:36.530730Z"
        },
        "id": "AHmcDpOmdYzy"
      },
      "outputs": [],
      "source": [
        "theta_path_sgd = []\n",
        "m = len(X_b)\n",
        "np.random.seed(42)"
      ]
    },
    {
      "cell_type": "code",
      "execution_count": null,
      "metadata": {
        "execution": {
          "iopub.execute_input": "2021-11-03T03:33:36.534274Z",
          "iopub.status.busy": "2021-11-03T03:33:36.532863Z",
          "iopub.status.idle": "2021-11-03T03:33:37.108070Z",
          "shell.execute_reply": "2021-11-03T03:33:37.108516Z"
        },
        "id": "MXXZvbwcdYzy"
      },
      "outputs": [],
      "source": [
        "n_epochs = 50\n",
        "t0, t1 = 5, 50  # 학습 스케줄 하이퍼파라미터\n",
        "\n",
        "def learning_schedule(t):\n",
        "    return t0 / (t + t1)\n",
        "\n",
        "theta = np.random.randn(2,1)  # 랜덤 초기화\n",
        "\n",
        "for epoch in range(n_epochs):\n",
        "    for i in range(m):\n",
        "        random_index = np.random.randint(m)\n",
        "        xi = X_b[random_index:random_index+1]\n",
        "        yi = y[random_index:random_index+1]\n",
        "        gradients = 2 * xi.T.dot(xi.dot(theta) - yi)\n",
        "        eta = learning_schedule(epoch * m + i)\n",
        "        theta = theta - eta * gradients\n",
        "        theta_path_sgd.append(theta)                 "
      ]
    },
    {
      "cell_type": "code",
      "execution_count": null,
      "metadata": {
        "execution": {
          "iopub.execute_input": "2021-11-03T03:33:37.114210Z",
          "iopub.status.busy": "2021-11-03T03:33:37.113270Z",
          "iopub.status.idle": "2021-11-03T03:33:37.116295Z",
          "shell.execute_reply": "2021-11-03T03:33:37.116729Z"
        },
        "scrolled": true,
        "id": "RG8wEGlvdYzy",
        "outputId": "ac00938b-55ea-49a3-a23e-cbf8e1ae87c8",
        "colab": {
          "base_uri": "https://localhost:8080/"
        }
      },
      "outputs": [
        {
          "output_type": "execute_result",
          "data": {
            "text/plain": [
              "array([[4.18545376],\n",
              "       [2.77900595]])"
            ]
          },
          "metadata": {},
          "execution_count": 39
        }
      ],
      "source": [
        "theta"
      ]
    },
    {
      "cell_type": "markdown",
      "source": [
        "> 확률적으로 움직인 것이므로 차이가 있을 수 있음"
      ],
      "metadata": {
        "id": "BfCm3xwZg9Ho"
      }
    },
    {
      "cell_type": "markdown",
      "source": [
        "### sklearn의 모듈을 이용하여 확률적 경사 하강법 적용"
      ],
      "metadata": {
        "id": "s4xDX9KDhEgd"
      }
    },
    {
      "cell_type": "code",
      "execution_count": null,
      "metadata": {
        "execution": {
          "iopub.execute_input": "2021-11-03T03:33:37.122497Z",
          "iopub.status.busy": "2021-11-03T03:33:37.121873Z",
          "iopub.status.idle": "2021-11-03T03:33:37.126106Z",
          "shell.execute_reply": "2021-11-03T03:33:37.126538Z"
        },
        "id": "JdX3oWY1dYzy",
        "outputId": "c5926a91-f5a3-4484-8b93-47bf52859e78",
        "colab": {
          "base_uri": "https://localhost:8080/"
        }
      },
      "outputs": [
        {
          "output_type": "execute_result",
          "data": {
            "text/plain": [
              "SGDRegressor(eta0=0.1, penalty=None, random_state=42)"
            ]
          },
          "metadata": {},
          "execution_count": 40
        }
      ],
      "source": [
        "from sklearn.linear_model import SGDRegressor\n",
        "\n",
        "sgd_reg = SGDRegressor(max_iter=1000, tol=1e-3, penalty=None, eta0=0.1, random_state=42)\n",
        "sgd_reg.fit(X, y.ravel())"
      ]
    },
    {
      "cell_type": "code",
      "execution_count": null,
      "metadata": {
        "execution": {
          "iopub.execute_input": "2021-11-03T03:33:37.132013Z",
          "iopub.status.busy": "2021-11-03T03:33:37.131081Z",
          "iopub.status.idle": "2021-11-03T03:33:37.134650Z",
          "shell.execute_reply": "2021-11-03T03:33:37.134127Z"
        },
        "id": "gRCgGRtMdYzy",
        "outputId": "71fd37b2-e46f-44a4-ae28-25d3916bee0a",
        "colab": {
          "base_uri": "https://localhost:8080/"
        }
      },
      "outputs": [
        {
          "output_type": "execute_result",
          "data": {
            "text/plain": [
              "(array([4.24365286]), array([2.8250878]))"
            ]
          },
          "metadata": {},
          "execution_count": 41
        }
      ],
      "source": [
        "sgd_reg.intercept_, sgd_reg.coef_"
      ]
    },
    {
      "cell_type": "markdown",
      "source": [
        "> 값이 동일하지는 않지만 최적값과 유사한 값을 얻어냈음"
      ],
      "metadata": {
        "id": "fVSlb4OFhTJR"
      }
    },
    {
      "cell_type": "markdown",
      "metadata": {
        "id": "yWGBWGozdYzz"
      },
      "source": [
        "# 다항 회귀"
      ]
    },
    {
      "cell_type": "code",
      "execution_count": null,
      "metadata": {
        "execution": {
          "iopub.execute_input": "2021-11-03T03:33:37.839300Z",
          "iopub.status.busy": "2021-11-03T03:33:37.838709Z",
          "iopub.status.idle": "2021-11-03T03:33:37.841771Z",
          "shell.execute_reply": "2021-11-03T03:33:37.842178Z"
        },
        "id": "NEMbSrqJdYzz"
      },
      "outputs": [],
      "source": [
        "import numpy as np\n",
        "import numpy.random as rnd\n",
        "\n",
        "np.random.seed(42)"
      ]
    },
    {
      "cell_type": "code",
      "execution_count": null,
      "metadata": {
        "execution": {
          "iopub.execute_input": "2021-11-03T03:33:37.846594Z",
          "iopub.status.busy": "2021-11-03T03:33:37.845996Z",
          "iopub.status.idle": "2021-11-03T03:33:37.849481Z",
          "shell.execute_reply": "2021-11-03T03:33:37.848690Z"
        },
        "id": "v8wSifntdYz0"
      },
      "outputs": [],
      "source": [
        "m = 100 # random number 100개를 생성할 예정\n",
        "X = 6 * np.random.rand(m, 1) - 3\n",
        "y = 0.5 * X**2 + X + 2 + np.random.randn(m, 1) # 노이즈를 추가"
      ]
    },
    {
      "cell_type": "code",
      "execution_count": null,
      "metadata": {
        "execution": {
          "iopub.execute_input": "2021-11-03T03:33:37.890685Z",
          "iopub.status.busy": "2021-11-03T03:33:37.870867Z",
          "iopub.status.idle": "2021-11-03T03:33:38.297547Z",
          "shell.execute_reply": "2021-11-03T03:33:38.296963Z"
        },
        "id": "40O11DSddYz0",
        "outputId": "4fd8141b-0a91-439b-ea23-640ca2658d19",
        "colab": {
          "base_uri": "https://localhost:8080/",
          "height": 283
        }
      },
      "outputs": [
        {
          "output_type": "execute_result",
          "data": {
            "text/plain": [
              "[<matplotlib.lines.Line2D at 0x7feb626d2c50>]"
            ]
          },
          "metadata": {},
          "execution_count": 45
        },
        {
          "output_type": "display_data",
          "data": {
            "text/plain": [
              "<Figure size 432x288 with 1 Axes>"
            ],
            "image/png": "[encoded data removed]"
          },
          "metadata": {
            "needs_background": "light"
          }
        }
      ],
      "source": [
        "plt.plot(X, y, \"b.\")"
      ]
    },
    {
      "cell_type": "code",
      "execution_count": null,
      "metadata": {
        "execution": {
          "iopub.execute_input": "2021-11-03T03:33:38.303745Z",
          "iopub.status.busy": "2021-11-03T03:33:38.303010Z",
          "iopub.status.idle": "2021-11-03T03:33:38.306444Z",
          "shell.execute_reply": "2021-11-03T03:33:38.306898Z"
        },
        "id": "172X5PdodYz0",
        "outputId": "e98065e7-4857-4a2b-df1d-c7502159070e",
        "colab": {
          "base_uri": "https://localhost:8080/"
        }
      },
      "outputs": [
        {
          "output_type": "execute_result",
          "data": {
            "text/plain": [
              "array([1.76886782])"
            ]
          },
          "metadata": {},
          "execution_count": 47
        }
      ],
      "source": [
        "from sklearn.preprocessing import PolynomialFeatures\n",
        "poly_features = PolynomialFeatures(degree=2, include_bias=False)\n",
        "X_poly = poly_features.fit_transform(X)\n",
        "X[0]"
      ]
    },
    {
      "cell_type": "code",
      "execution_count": null,
      "metadata": {
        "execution": {
          "iopub.execute_input": "2021-11-03T03:33:38.312053Z",
          "iopub.status.busy": "2021-11-03T03:33:38.311202Z",
          "iopub.status.idle": "2021-11-03T03:33:38.314685Z",
          "shell.execute_reply": "2021-11-03T03:33:38.315169Z"
        },
        "id": "mFEzunBRdYz0",
        "outputId": "491166b5-fb8a-4e13-9069-56785a01a084",
        "colab": {
          "base_uri": "https://localhost:8080/"
        }
      },
      "outputs": [
        {
          "output_type": "execute_result",
          "data": {
            "text/plain": [
              "array([1.76886782, 3.12889337])"
            ]
          },
          "metadata": {},
          "execution_count": 48
        }
      ],
      "source": [
        "X_poly[0]"
      ]
    },
    {
      "cell_type": "code",
      "execution_count": null,
      "metadata": {
        "execution": {
          "iopub.execute_input": "2021-11-03T03:33:38.321743Z",
          "iopub.status.busy": "2021-11-03T03:33:38.320968Z",
          "iopub.status.idle": "2021-11-03T03:33:38.324149Z",
          "shell.execute_reply": "2021-11-03T03:33:38.324573Z"
        },
        "id": "d03DtBgsdYz0",
        "outputId": "66395180-3f90-4ba3-f035-69076f328580",
        "colab": {
          "base_uri": "https://localhost:8080/"
        }
      },
      "outputs": [
        {
          "output_type": "execute_result",
          "data": {
            "text/plain": [
              "(array([1.99958228]), array([[1.04630034, 0.5015459 ]]))"
            ]
          },
          "metadata": {},
          "execution_count": 49
        }
      ],
      "source": [
        "lin_reg = LinearRegression()\n",
        "lin_reg.fit(X_poly, y)\n",
        "lin_reg.intercept_, lin_reg.coef_"
      ]
    },
    {
      "cell_type": "code",
      "execution_count": null,
      "metadata": {
        "execution": {
          "iopub.execute_input": "2021-11-03T03:33:38.359427Z",
          "iopub.status.busy": "2021-11-03T03:33:38.330265Z",
          "iopub.status.idle": "2021-11-03T03:33:38.803607Z",
          "shell.execute_reply": "2021-11-03T03:33:38.804045Z"
        },
        "id": "OMLiLXA-dYz0",
        "outputId": "f35c0a3f-2c5f-4879-d4f8-c097712d1cdd",
        "colab": {
          "base_uri": "https://localhost:8080/",
          "height": 283
        }
      },
      "outputs": [
        {
          "output_type": "execute_result",
          "data": {
            "text/plain": [
              "[<matplotlib.lines.Line2D at 0x7feb6265e490>]"
            ]
          },
          "metadata": {},
          "execution_count": 50
        },
        {
          "output_type": "display_data",
          "data": {
            "text/plain": [
              "<Figure size 432x288 with 1 Axes>"
            ],
            "image/png": "[encoded data removed]"
          },
          "metadata": {
            "needs_background": "light"
          }
        }
      ],
      "source": [
        "X_new=np.linspace(-3, 3, 100).reshape(100, 1)\n",
        "X_new_poly = poly_features.transform(X_new)\n",
        "y_new = lin_reg.predict(X_new_poly)\n",
        "plt.plot(X, y, \"b.\")\n",
        "plt.plot(X_new, y_new, \"r-\", linewidth=2, label=\"Predictions\")"
      ]
    },
    {
      "cell_type": "markdown",
      "metadata": {
        "id": "jWVgbsRGdYz1"
      },
      "source": [
        "# 학습 곡선"
      ]
    },
    {
      "cell_type": "code",
      "execution_count": null,
      "metadata": {
        "execution": {
          "iopub.execute_input": "2021-11-03T03:33:39.413459Z",
          "iopub.status.busy": "2021-11-03T03:33:39.412444Z",
          "iopub.status.idle": "2021-11-03T03:33:39.419196Z",
          "shell.execute_reply": "2021-11-03T03:33:39.419627Z"
        },
        "id": "VhFT4FZYdYz1"
      },
      "outputs": [],
      "source": [
        "from sklearn.metrics import mean_squared_error\n",
        "from sklearn.model_selection import train_test_split\n",
        "\n",
        "def plot_learning_curves(model, X, y):\n",
        "    X_train, X_val, y_train, y_val = train_test_split(X, y, test_size=0.2, random_state=10)\n",
        "    train_errors, val_errors = [], []\n",
        "    for m in range(1, len(X_train) + 1):\n",
        "        model.fit(X_train[:m], y_train[:m])\n",
        "        y_train_predict = model.predict(X_train[:m])\n",
        "        y_val_predict = model.predict(X_val)\n",
        "        train_errors.append(mean_squared_error(y_train[:m], y_train_predict))\n",
        "        val_errors.append(mean_squared_error(y_val, y_val_predict))\n",
        "\n",
        "    plt.plot(np.sqrt(train_errors), \"r-+\", linewidth=2, label=\"train\")\n",
        "    plt.plot(np.sqrt(val_errors), \"b-\", linewidth=3, label=\"val\")"
      ]
    },
    {
      "cell_type": "code",
      "execution_count": null,
      "metadata": {
        "execution": {
          "iopub.execute_input": "2021-11-03T03:33:39.451562Z",
          "iopub.status.busy": "2021-11-03T03:33:39.428168Z",
          "iopub.status.idle": "2021-11-03T03:33:39.972442Z",
          "shell.execute_reply": "2021-11-03T03:33:39.971847Z"
        },
        "id": "eurpYsLHdYz1",
        "outputId": "09de131c-eb27-4ac2-c1ce-eed94965c575",
        "colab": {
          "base_uri": "https://localhost:8080/",
          "height": 265
        }
      },
      "outputs": [
        {
          "output_type": "display_data",
          "data": {
            "text/plain": [
              "<Figure size 432x288 with 1 Axes>"
            ],
            "image/png": "[encoded data removed]"
          },
          "metadata": {
            "needs_background": "light"
          }
        }
      ],
      "source": [
        "lin_reg = LinearRegression()\n",
        "plot_learning_curves(lin_reg, X, y)                               "
      ]
    },
    {
      "cell_type": "code",
      "execution_count": null,
      "metadata": {
        "execution": {
          "iopub.execute_input": "2021-11-03T03:33:40.016103Z",
          "iopub.status.busy": "2021-11-03T03:33:40.010539Z",
          "iopub.status.idle": "2021-11-03T03:33:40.639115Z",
          "shell.execute_reply": "2021-11-03T03:33:40.638472Z"
        },
        "id": "lu4igdNLdYz1",
        "outputId": "0212425e-2196-4220-ef50-9927d918100e",
        "colab": {
          "base_uri": "https://localhost:8080/",
          "height": 287
        }
      },
      "outputs": [
        {
          "output_type": "execute_result",
          "data": {
            "text/plain": [
              "(0.0, 80.0, 0.0, 3.0)"
            ]
          },
          "metadata": {},
          "execution_count": 55
        },
        {
          "output_type": "display_data",
          "data": {
            "text/plain": [
              "<Figure size 432x288 with 1 Axes>"
            ],
            "image/png": "[encoded data removed]"
          },
          "metadata": {
            "needs_background": "light"
          }
        }
      ],
      "source": [
        "from sklearn.pipeline import Pipeline\n",
        "\n",
        "polynomial_regression = Pipeline([\n",
        "        # 10차원 모델 만들기\n",
        "        (\"poly_features\", PolynomialFeatures(degree=10, include_bias=False)),\n",
        "        (\"lin_reg\", LinearRegression()),\n",
        "    ])\n",
        "\n",
        "plot_learning_curves(polynomial_regression, X, y)\n",
        "plt.axis([0, 80, 0, 3])"
      ]
    },
    {
      "cell_type": "markdown",
      "metadata": {
        "id": "3d0kcI1bdYz1"
      },
      "source": [
        "# 규제가 있는 선형 모델"
      ]
    },
    {
      "cell_type": "markdown",
      "metadata": {
        "id": "PE43dq-hdYz1"
      },
      "source": [
        "## 릿지 회귀"
      ]
    },
    {
      "cell_type": "code",
      "execution_count": null,
      "metadata": {
        "execution": {
          "iopub.execute_input": "2021-11-03T03:33:40.644539Z",
          "iopub.status.busy": "2021-11-03T03:33:40.643753Z",
          "iopub.status.idle": "2021-11-03T03:33:40.647696Z",
          "shell.execute_reply": "2021-11-03T03:33:40.647178Z"
        },
        "id": "CX6BOy1-dYz1"
      },
      "outputs": [],
      "source": [
        "np.random.seed(42)\n",
        "m = 20\n",
        "X = 3 * np.random.rand(m, 1)\n",
        "y = 1 + 0.5 * X + np.random.randn(m, 1) / 1.5\n",
        "X_new = np.linspace(0, 3, 100).reshape(100, 1)"
      ]
    },
    {
      "cell_type": "markdown",
      "metadata": {
        "id": "9fcTYgIGdYz2"
      },
      "source": [
        "**식 4-8: 릿지 회귀의 비용 함수**\n",
        "\n",
        "$\n",
        "J(\\boldsymbol{\\theta}) = \\text{MSE}(\\boldsymbol{\\theta}) + \\alpha \\dfrac{1}{2}\\sum\\limits_{i=1}^{n}{\\theta_i}^2\n",
        "$"
      ]
    },
    {
      "cell_type": "code",
      "execution_count": null,
      "metadata": {
        "execution": {
          "iopub.execute_input": "2021-11-03T03:33:40.657679Z",
          "iopub.status.busy": "2021-11-03T03:33:40.656578Z",
          "iopub.status.idle": "2021-11-03T03:33:40.660154Z",
          "shell.execute_reply": "2021-11-03T03:33:40.659645Z"
        },
        "id": "YWIVFzmjdYz2",
        "outputId": "7f5f1a65-495b-4960-9e0e-a3cb23f6e401",
        "colab": {
          "base_uri": "https://localhost:8080/",
          "height": 283
        }
      },
      "outputs": [
        {
          "output_type": "execute_result",
          "data": {
            "text/plain": [
              "[<matplotlib.lines.Line2D at 0x7feb6152f450>]"
            ]
          },
          "metadata": {},
          "execution_count": 60
        },
        {
          "output_type": "display_data",
          "data": {
            "text/plain": [
              "<Figure size 432x288 with 1 Axes>"
            ],
            "image/png": "[encoded data removed]"
          },
          "metadata": {
            "needs_background": "light"
          }
        }
      ],
      "source": [
        "from sklearn.linear_model import Ridge\n",
        "ridge_reg = Ridge(alpha=1, solver=\"cholesky\", random_state=42)\n",
        "ridge_reg.fit(X, y)\n",
        "y_new1 = ridge_reg.predict(X_new)\n",
        "ridge_reg = Ridge(alpha=10, solver=\"cholesky\", random_state=42)\n",
        "ridge_reg.fit(X, y)\n",
        "y_new2 = ridge_reg.predict(X_new)\n",
        "plt.plot(X, y, '.')\n",
        "plt.plot(X_new, y_new1, '-')\n",
        "plt.plot(X_new, y_new2, '-g')"
      ]
    },
    {
      "cell_type": "markdown",
      "source": [
        "> alpha(규제 정도)가 커질 수록 선이 눕는 모습을 보임"
      ],
      "metadata": {
        "id": "WOKZvkixjfKE"
      }
    },
    {
      "cell_type": "markdown",
      "metadata": {
        "id": "RndNPt8QdYz3"
      },
      "source": [
        "**식 4-10: 라쏘 회귀의 비용 함수**\n",
        "\n",
        "$\n",
        "J(\\boldsymbol{\\theta}) = \\text{MSE}(\\boldsymbol{\\theta}) + \\alpha \\sum\\limits_{i=1}^{n}\\left| \\theta_i \\right|\n",
        "$"
      ]
    },
    {
      "cell_type": "markdown",
      "metadata": {
        "id": "zQ6CQF6DdYz3"
      },
      "source": [
        "## 라쏘 회귀"
      ]
    },
    {
      "cell_type": "code",
      "execution_count": null,
      "metadata": {
        "execution": {
          "iopub.execute_input": "2021-11-03T03:33:42.336866Z",
          "iopub.status.busy": "2021-11-03T03:33:42.336276Z",
          "iopub.status.idle": "2021-11-03T03:33:42.341530Z",
          "shell.execute_reply": "2021-11-03T03:33:42.341954Z"
        },
        "id": "PzytDQ9ZdYz3",
        "outputId": "2d001dd0-e370-4126-bc62-4be1a30518a6",
        "colab": {
          "base_uri": "https://localhost:8080/"
        }
      },
      "outputs": [
        {
          "output_type": "execute_result",
          "data": {
            "text/plain": [
              "array([1.53788174])"
            ]
          },
          "metadata": {},
          "execution_count": 64
        }
      ],
      "source": [
        "from sklearn.linear_model import Lasso\n",
        "lasso_reg = Lasso(alpha=0.1)\n",
        "lasso_reg.fit(X, y)\n",
        "lasso_reg.predict([[1.5]])"
      ]
    },
    {
      "cell_type": "markdown",
      "metadata": {
        "id": "lNagLcN4dYz3"
      },
      "source": [
        "## 엘라스틱넷"
      ]
    },
    {
      "cell_type": "markdown",
      "metadata": {
        "id": "l-IDXvAndYz3"
      },
      "source": [
        "**식 4-12: 엘라스틱넷 비용 함수**\n",
        "\n",
        "$\n",
        "J(\\boldsymbol{\\theta}) = \\text{MSE}(\\boldsymbol{\\theta}) + r \\alpha \\sum\\limits_{i=1}^{n}\\left| \\theta_i \\right| + \\dfrac{1 - r}{2} \\alpha \\sum\\limits_{i=1}^{n}{{\\theta_i}^2}\n",
        "$"
      ]
    },
    {
      "cell_type": "code",
      "execution_count": null,
      "metadata": {
        "execution": {
          "iopub.execute_input": "2021-11-03T03:33:42.347854Z",
          "iopub.status.busy": "2021-11-03T03:33:42.344488Z",
          "iopub.status.idle": "2021-11-03T03:33:42.351592Z",
          "shell.execute_reply": "2021-11-03T03:33:42.352015Z"
        },
        "id": "uRGB-2i8dYz3",
        "outputId": "03d73e2c-cfc5-4b4f-ca97-aca012e42dfa",
        "colab": {
          "base_uri": "https://localhost:8080/"
        }
      },
      "outputs": [
        {
          "output_type": "execute_result",
          "data": {
            "text/plain": [
              "array([1.54333232])"
            ]
          },
          "metadata": {},
          "execution_count": 65
        }
      ],
      "source": [
        "from sklearn.linear_model import ElasticNet\n",
        "elastic_net = ElasticNet(alpha=0.1, l1_ratio=0.5, random_state=42)\n",
        "elastic_net.fit(X, y)\n",
        "elastic_net.predict([[1.5]])"
      ]
    },
    {
      "cell_type": "markdown",
      "metadata": {
        "id": "XKR3ZRdUdYz3"
      },
      "source": [
        "## 조기 종료\n",
        "* 과대적합을 방지하기 위해"
      ]
    },
    {
      "cell_type": "code",
      "execution_count": null,
      "metadata": {
        "execution": {
          "iopub.execute_input": "2021-11-03T03:33:42.357913Z",
          "iopub.status.busy": "2021-11-03T03:33:42.357312Z",
          "iopub.status.idle": "2021-11-03T03:33:42.359402Z",
          "shell.execute_reply": "2021-11-03T03:33:42.359789Z"
        },
        "id": "TXZB93ledYz4"
      },
      "outputs": [],
      "source": [
        "np.random.seed(42)\n",
        "m = 100\n",
        "X = 6 * np.random.rand(m, 1) - 3\n",
        "y = 2 + X + 0.5 * X**2 + np.random.randn(m, 1)\n",
        "\n",
        "X_train, X_val, y_train, y_val = train_test_split(X[:50], y[:50].ravel(), test_size=0.5, random_state=10)"
      ]
    },
    {
      "cell_type": "code",
      "execution_count": null,
      "metadata": {
        "execution": {
          "iopub.execute_input": "2021-11-03T03:33:42.367380Z",
          "iopub.status.busy": "2021-11-03T03:33:42.366737Z",
          "iopub.status.idle": "2021-11-03T03:33:43.004924Z",
          "shell.execute_reply": "2021-11-03T03:33:43.005436Z"
        },
        "scrolled": true,
        "id": "tD5jNkfndYz4"
      },
      "outputs": [],
      "source": [
        "from copy import deepcopy\n",
        "from sklearn.preprocessing import StandardScaler\n",
        "\n",
        "poly_scaler = Pipeline([\n",
        "        (\"poly_features\", PolynomialFeatures(degree=90, include_bias=False)),\n",
        "        (\"std_scaler\", StandardScaler())\n",
        "    ])\n",
        "\n",
        "X_train_poly_scaled = poly_scaler.fit_transform(X_train)\n",
        "X_val_poly_scaled = poly_scaler.transform(X_val)\n",
        "\n",
        "sgd_reg = SGDRegressor(max_iter=1, tol=-np.infty, warm_start=True,\n",
        "                       penalty=None, learning_rate=\"constant\", eta0=0.0005, random_state=42)\n",
        "\n",
        "minimum_val_error = float(\"inf\")\n",
        "best_epoch = None\n",
        "best_model = None\n",
        "for epoch in range(1000):\n",
        "    sgd_reg.fit(X_train_poly_scaled, y_train)  # 중지된 곳에서 다시 시작합니다\n",
        "    y_val_predict = sgd_reg.predict(X_val_poly_scaled)\n",
        "    val_error = mean_squared_error(y_val, y_val_predict)\n",
        "    if val_error < minimum_val_error:\n",
        "        minimum_val_error = val_error\n",
        "        best_epoch = epoch\n",
        "        best_model = deepcopy(sgd_reg)"
      ]
    },
    {
      "cell_type": "code",
      "execution_count": null,
      "metadata": {
        "execution": {
          "iopub.execute_input": "2021-11-03T03:33:43.958209Z",
          "iopub.status.busy": "2021-11-03T03:33:43.957324Z",
          "iopub.status.idle": "2021-11-03T03:33:43.961242Z",
          "shell.execute_reply": "2021-11-03T03:33:43.960660Z"
        },
        "id": "8WCuXQ1hdYz4",
        "outputId": "1c6b9571-0195-4876-ff61-55e834573ac7",
        "colab": {
          "base_uri": "https://localhost:8080/"
        }
      },
      "outputs": [
        {
          "output_type": "execute_result",
          "data": {
            "text/plain": [
              "(239,\n",
              " SGDRegressor(eta0=0.0005, learning_rate='constant', max_iter=1, penalty=None,\n",
              "              random_state=42, tol=-inf, warm_start=True))"
            ]
          },
          "metadata": {},
          "execution_count": 68
        }
      ],
      "source": [
        "best_epoch, best_model"
      ]
    },
    {
      "cell_type": "markdown",
      "metadata": {
        "id": "AJRDoVw2dYz5"
      },
      "source": [
        "# 로지스틱 회귀"
      ]
    },
    {
      "cell_type": "code",
      "execution_count": null,
      "metadata": {
        "execution": {
          "iopub.execute_input": "2021-11-03T03:33:46.636046Z",
          "iopub.status.busy": "2021-11-03T03:33:46.635416Z",
          "iopub.status.idle": "2021-11-03T03:33:46.661631Z",
          "shell.execute_reply": "2021-11-03T03:33:46.661038Z"
        },
        "id": "xo2roOeFdYz5",
        "outputId": "a935ebd5-f2f1-4436-f775-9cf63dfa6b9f",
        "colab": {
          "base_uri": "https://localhost:8080/"
        }
      },
      "outputs": [
        {
          "output_type": "execute_result",
          "data": {
            "text/plain": [
              "['data',\n",
              " 'target',\n",
              " 'frame',\n",
              " 'target_names',\n",
              " 'DESCR',\n",
              " 'feature_names',\n",
              " 'filename',\n",
              " 'data_module']"
            ]
          },
          "metadata": {},
          "execution_count": 69
        }
      ],
      "source": [
        "from sklearn import datasets\n",
        "iris = datasets.load_iris()\n",
        "list(iris.keys())"
      ]
    },
    {
      "cell_type": "code",
      "execution_count": null,
      "metadata": {
        "execution": {
          "iopub.execute_input": "2021-11-03T03:33:46.672096Z",
          "iopub.status.busy": "2021-11-03T03:33:46.671482Z",
          "iopub.status.idle": "2021-11-03T03:33:46.673745Z",
          "shell.execute_reply": "2021-11-03T03:33:46.674177Z"
        },
        "id": "2LWPdXCkdYz6"
      },
      "outputs": [],
      "source": [
        "X = iris[\"data\"][:, 3:]  # 꽃잎 너비\n",
        "y = (iris[\"target\"] == 2).astype(int)  # Iris virginica이면 1 아니면 0"
      ]
    },
    {
      "cell_type": "markdown",
      "metadata": {
        "id": "0j4jPuFedYz6"
      },
      "source": [
        "**노트**: 향후 버전이 바뀌더라도 동일한 결과를 만들기 위해 사이킷런 0.22 버전의 기본값인 `solver=\"lbfgs\"`로 지정합니다."
      ]
    },
    {
      "cell_type": "code",
      "execution_count": null,
      "metadata": {
        "execution": {
          "iopub.execute_input": "2021-11-03T03:33:46.684039Z",
          "iopub.status.busy": "2021-11-03T03:33:46.678824Z",
          "iopub.status.idle": "2021-11-03T03:33:46.688269Z",
          "shell.execute_reply": "2021-11-03T03:33:46.688705Z"
        },
        "id": "ULBUfkC9dYz6",
        "outputId": "f6ed1d83-9b5c-4f84-e109-a8c1185a89d0",
        "colab": {
          "base_uri": "https://localhost:8080/"
        }
      },
      "outputs": [
        {
          "output_type": "execute_result",
          "data": {
            "text/plain": [
              "LogisticRegression(random_state=42)"
            ]
          },
          "metadata": {},
          "execution_count": 71
        }
      ],
      "source": [
        "from sklearn.linear_model import LogisticRegression\n",
        "log_reg = LogisticRegression(solver=\"lbfgs\", random_state=42)\n",
        "log_reg.fit(X, y)"
      ]
    },
    {
      "cell_type": "code",
      "execution_count": null,
      "metadata": {
        "execution": {
          "iopub.execute_input": "2021-11-03T03:33:46.716769Z",
          "iopub.status.busy": "2021-11-03T03:33:46.700443Z",
          "iopub.status.idle": "2021-11-03T03:33:46.878324Z",
          "shell.execute_reply": "2021-11-03T03:33:46.877739Z"
        },
        "id": "LiZPJBBHdYz6",
        "outputId": "88d58982-97c1-455f-d67d-fdbf22e05c52",
        "colab": {
          "base_uri": "https://localhost:8080/",
          "height": 283
        }
      },
      "outputs": [
        {
          "output_type": "execute_result",
          "data": {
            "text/plain": [
              "[<matplotlib.lines.Line2D at 0x7feb60d29a10>]"
            ]
          },
          "metadata": {},
          "execution_count": 72
        },
        {
          "output_type": "display_data",
          "data": {
            "text/plain": [
              "<Figure size 432x288 with 1 Axes>"
            ],
            "image/png": "[encoded data removed]"
          },
          "metadata": {
            "needs_background": "light"
          }
        }
      ],
      "source": [
        "X_new = np.linspace(0, 3, 1000).reshape(-1, 1)\n",
        "y_proba = log_reg.predict_proba(X_new)\n",
        "\n",
        "plt.plot(X_new, y_proba[:, 1], \"g-\", linewidth=2, label=\"Iris virginica\")\n",
        "plt.plot(X_new, y_proba[:, 0], \"b--\", linewidth=2, label=\"Not Iris virginica\")"
      ]
    },
    {
      "cell_type": "markdown",
      "metadata": {
        "id": "see9RASJdYz9"
      },
      "source": [
        "## 소프트맥스 회귀"
      ]
    },
    {
      "cell_type": "markdown",
      "metadata": {
        "id": "OhMFlNV3dYz9"
      },
      "source": [
        "**식 4-20: 소프트맥스 함수**\n",
        "\n",
        "$\n",
        "\\hat{p}_k = \\sigma\\left(\\mathbf{s}(\\mathbf{x})\\right)_k = \\dfrac{\\exp\\left(s_k(\\mathbf{x})\\right)}{\\sum\\limits_{j=1}^{K}{\\exp\\left(s_j(\\mathbf{x})\\right)}}\n",
        "$\n",
        "\n",
        "**식 4-22: 크로스 엔트로피 비용 함수**\n",
        "\n",
        "$\n",
        "J(\\boldsymbol{\\Theta}) = - \\dfrac{1}{m}\\sum\\limits_{i=1}^{m}\\sum\\limits_{k=1}^{K}{y_k^{(i)}\\log\\left(\\hat{p}_k^{(i)}\\right)}\n",
        "$\n",
        "\n",
        "**식 4-23: 클래스 k에 대한 크로스 엔트로피의 그레이디언트 벡터**\n",
        "\n",
        "$\n",
        "\\nabla_{\\boldsymbol{\\theta}^{(k)}} \\, J(\\boldsymbol{\\Theta}) = \\dfrac{1}{m} \\sum\\limits_{i=1}^{m}{ \\left ( \\hat{p}^{(i)}_k - y_k^{(i)} \\right ) \\mathbf{x}^{(i)}}\n",
        "$"
      ]
    },
    {
      "cell_type": "code",
      "execution_count": null,
      "metadata": {
        "execution": {
          "iopub.execute_input": "2021-11-03T03:33:48.262266Z",
          "iopub.status.busy": "2021-11-03T03:33:48.244842Z",
          "iopub.status.idle": "2021-11-03T03:33:48.265170Z",
          "shell.execute_reply": "2021-11-03T03:33:48.265839Z"
        },
        "id": "eBYhR-m2dYz9",
        "outputId": "317dd56c-fc40-4a3e-fc35-f472504e5aac",
        "colab": {
          "base_uri": "https://localhost:8080/"
        }
      },
      "outputs": [
        {
          "output_type": "execute_result",
          "data": {
            "text/plain": [
              "LogisticRegression(C=10, multi_class='multinomial', random_state=42)"
            ]
          },
          "metadata": {},
          "execution_count": 73
        }
      ],
      "source": [
        "X = iris[\"data\"][:, (2, 3)]  # 꽃잎 길이, 꽃잎 너비\n",
        "y = iris[\"target\"]\n",
        "\n",
        "softmax_reg = LogisticRegression(multi_class=\"multinomial\",solver=\"lbfgs\", C=10, random_state=42)\n",
        "softmax_reg.fit(X, y)"
      ]
    },
    {
      "cell_type": "code",
      "execution_count": null,
      "metadata": {
        "execution": {
          "iopub.execute_input": "2021-11-03T03:33:48.275268Z",
          "iopub.status.busy": "2021-11-03T03:33:48.274376Z",
          "iopub.status.idle": "2021-11-03T03:33:49.179044Z",
          "shell.execute_reply": "2021-11-03T03:33:49.179700Z"
        },
        "id": "OUdjY80idYz-",
        "outputId": "fcab2ce0-7010-4abf-b15d-ff42e97ae00a",
        "colab": {
          "base_uri": "https://localhost:8080/",
          "height": 305
        }
      },
      "outputs": [
        {
          "output_type": "execute_result",
          "data": {
            "text/plain": [
              "(0.0, 7.0, 0.0, 3.5)"
            ]
          },
          "metadata": {},
          "execution_count": 75
        },
        {
          "output_type": "display_data",
          "data": {
            "text/plain": [
              "<Figure size 720x288 with 1 Axes>"
            ],
            "image/png": "[encoded data removed]"
          },
          "metadata": {
            "needs_background": "light"
          }
        }
      ],
      "source": [
        "x0, x1 = np.meshgrid(\n",
        "        np.linspace(0, 8, 500).reshape(-1, 1),\n",
        "        np.linspace(0, 3.5, 200).reshape(-1, 1),\n",
        "    )\n",
        "X_new = np.c_[x0.ravel(), x1.ravel()]\n",
        "\n",
        "\n",
        "y_proba = softmax_reg.predict_proba(X_new)\n",
        "y_predict = softmax_reg.predict(X_new)\n",
        "\n",
        "zz1 = y_proba[:, 1].reshape(x0.shape)\n",
        "zz = y_predict.reshape(x0.shape)\n",
        "\n",
        "plt.figure(figsize=(10, 4))\n",
        "plt.plot(X[y==2, 0], X[y==2, 1], \"g^\", label=\"Iris virginica\")\n",
        "plt.plot(X[y==1, 0], X[y==1, 1], \"bs\", label=\"Iris versicolor\")\n",
        "plt.plot(X[y==0, 0], X[y==0, 1], \"yo\", label=\"Iris setosa\")\n",
        "\n",
        "from matplotlib.colors import ListedColormap\n",
        "custom_cmap = ListedColormap(['#fafab0','#9898ff','#a0faa0'])\n",
        "\n",
        "plt.contourf(x0, x1, zz, cmap=custom_cmap)\n",
        "contour = plt.contour(x0, x1, zz1, cmap=plt.cm.brg)\n",
        "plt.clabel(contour, inline=1, fontsize=12)\n",
        "plt.xlabel(\"Petal length\", fontsize=14)\n",
        "plt.ylabel(\"Petal width\", fontsize=14)\n",
        "plt.legend(loc=\"center left\", fontsize=14)\n",
        "plt.axis([0, 7, 0, 3.5])"
      ]
    }
  ],
  "metadata": {
    "kernelspec": {
      "display_name": "Python 3",
      "language": "python",
      "name": "python3"
    },
    "language_info": {
      "codemirror_mode": {
        "name": "ipython",
        "version": 3
      },
      "file_extension": ".py",
      "mimetype": "text/x-python",
      "name": "python",
      "nbconvert_exporter": "python",
      "pygments_lexer": "ipython3",
      "version": "3.7.3"
    },
    "nav_menu": {},
    "toc": {
      "navigate_menu": true,
      "number_sections": true,
      "sideBar": true,
      "threshold": 6,
      "toc_cell": false,
      "toc_section_display": "block",
      "toc_window_display": false
    },
    "colab": {
      "provenance": [],
      "collapsed_sections": []
    }
  },
  "nbformat": 4,
  "nbformat_minor": 0
}