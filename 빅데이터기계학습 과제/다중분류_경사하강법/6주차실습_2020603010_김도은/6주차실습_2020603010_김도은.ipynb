{
  "cells": [
    {
      "cell_type": "markdown",
      "metadata": {
        "id": "Klo86tp5Lq5x"
      },
      "source": [
        "**3장 – 분류**\n",
        "\n",
        "_이 노트북은 3장의 모든 샘플 코드와 연습 문제 정답을 담고 있습니다._"
      ]
    },
    {
      "cell_type": "markdown",
      "metadata": {
        "id": "gUloECCrLq51"
      },
      "source": [
        "# 설정"
      ]
    },
    {
      "cell_type": "markdown",
      "metadata": {
        "id": "Ucb1uw9pLq51"
      },
      "source": [
        "먼저 몇 개의 모듈을 임포트합니다. 맷플롯립 그래프를 인라인으로 출력하도록 만들고 그림을 저장하는 함수를 준비합니다. 또한 파이썬 버전이 3.5 이상인지 확인합니다(파이썬 2.x에서도 동작하지만 곧 지원이 중단되므로 파이썬 3을 사용하는 것이 좋습니다). 사이킷런 버전이 0.20 이상인지도 확인합니다."
      ]
    },
    {
      "cell_type": "code",
      "execution_count": null,
      "metadata": {
        "execution": {
          "iopub.execute_input": "2021-11-03T03:32:14.273688Z",
          "iopub.status.busy": "2021-11-03T03:32:14.272928Z",
          "iopub.status.idle": "2021-11-03T03:32:15.536909Z",
          "shell.execute_reply": "2021-11-03T03:32:15.537445Z"
        },
        "id": "9KmJDWj0Lq52"
      },
      "outputs": [],
      "source": [
        "# 파이썬 ≥3.5 필수\n",
        "import sys\n",
        "assert sys.version_info >= (3, 5)\n",
        "\n",
        "# 사이킷런 ≥0.20 필수\n",
        "import sklearn\n",
        "assert sklearn.__version__ >= \"0.20\"\n",
        "\n",
        "# 공통 모듈 임포트\n",
        "import numpy as np\n",
        "import os\n",
        "\n",
        "# 노트북 실행 결과를 동일하게 유지하기 위해\n",
        "np.random.seed(42)"
      ]
    },
    {
      "cell_type": "markdown",
      "metadata": {
        "id": "AEZZoEOMLq53"
      },
      "source": [
        "# MNIST"
      ]
    },
    {
      "cell_type": "code",
      "execution_count": null,
      "metadata": {
        "execution": {
          "iopub.execute_input": "2021-11-03T03:32:15.540675Z",
          "iopub.status.busy": "2021-11-03T03:32:15.540074Z",
          "iopub.status.idle": "2021-11-03T03:32:33.373965Z",
          "shell.execute_reply": "2021-11-03T03:32:33.374425Z"
        },
        "id": "Chveu5i2Lq54"
      },
      "outputs": [],
      "source": [
        "from sklearn.datasets import load_digits\n",
        "import matplotlib.pyplot as plt\n",
        "mnist = load_digits()"
      ]
    },
    {
      "cell_type": "code",
      "execution_count": null,
      "metadata": {
        "execution": {
          "iopub.execute_input": "2021-11-03T03:32:33.377741Z",
          "iopub.status.busy": "2021-11-03T03:32:33.377101Z",
          "iopub.status.idle": "2021-11-03T03:32:33.380958Z",
          "shell.execute_reply": "2021-11-03T03:32:33.381483Z"
        },
        "id": "00hE7MfcLq55",
        "outputId": "7e53e500-4c71-46b5-caea-a7763f0377aa",
        "colab": {
          "base_uri": "https://localhost:8080/"
        }
      },
      "outputs": [
        {
          "output_type": "execute_result",
          "data": {
            "text/plain": [
              "(1797, 64)"
            ]
          },
          "metadata": {},
          "execution_count": 5
        }
      ],
      "source": [
        "X, y = mnist[\"data\"], mnist[\"target\"]\n",
        "X.shape"
      ]
    },
    {
      "cell_type": "code",
      "execution_count": null,
      "metadata": {
        "execution": {
          "iopub.execute_input": "2021-11-03T03:32:33.384251Z",
          "iopub.status.busy": "2021-11-03T03:32:33.383671Z",
          "iopub.status.idle": "2021-11-03T03:32:33.387547Z",
          "shell.execute_reply": "2021-11-03T03:32:33.388014Z"
        },
        "id": "YaMaAlgCLq55",
        "outputId": "ac74f160-e7e9-4de6-ddae-f4057b5eaa41",
        "colab": {
          "base_uri": "https://localhost:8080/"
        }
      },
      "outputs": [
        {
          "output_type": "execute_result",
          "data": {
            "text/plain": [
              "array([[ 0.,  0.,  5., ...,  0.,  0.,  0.],\n",
              "       [ 0.,  0.,  0., ..., 10.,  0.,  0.],\n",
              "       [ 0.,  0.,  0., ..., 16.,  9.,  0.],\n",
              "       ...,\n",
              "       [ 0.,  0.,  1., ...,  6.,  0.,  0.],\n",
              "       [ 0.,  0.,  2., ..., 12.,  0.,  0.],\n",
              "       [ 0.,  0., 10., ..., 12.,  1.,  0.]])"
            ]
          },
          "metadata": {},
          "execution_count": 6
        }
      ],
      "source": [
        "X"
      ]
    },
    {
      "cell_type": "code",
      "execution_count": null,
      "metadata": {
        "execution": {
          "iopub.execute_input": "2021-11-03T03:32:33.412684Z",
          "iopub.status.busy": "2021-11-03T03:32:33.396664Z",
          "iopub.status.idle": "2021-11-03T03:32:33.641846Z",
          "shell.execute_reply": "2021-11-03T03:32:33.642468Z"
        },
        "id": "qI3ECkkcLq56",
        "outputId": "4a196041-4618-4072-875a-8e90f5430f92",
        "colab": {
          "base_uri": "https://localhost:8080/",
          "height": 248
        }
      },
      "outputs": [
        {
          "output_type": "display_data",
          "data": {
            "text/plain": [
              "<Figure size 432x288 with 1 Axes>"
            ],
            "image/png": "[encoded data removed]"
          },
          "metadata": {
            "needs_background": "light"
          }
        }
      ],
      "source": [
        "%matplotlib inline\n",
        "import matplotlib as mpl\n",
        "import matplotlib.pyplot as plt\n",
        "\n",
        "some_digit = X[0]\n",
        "some_digit_image = some_digit.reshape(8, 8)\n",
        "plt.imshow(some_digit_image, cmap=mpl.cm.binary)\n",
        "plt.axis(\"off\")\n",
        "\n",
        "plt.show()"
      ]
    },
    {
      "cell_type": "code",
      "execution_count": null,
      "metadata": {
        "execution": {
          "iopub.execute_input": "2021-11-03T03:32:33.647673Z",
          "iopub.status.busy": "2021-11-03T03:32:33.647053Z",
          "iopub.status.idle": "2021-11-03T03:32:33.659510Z",
          "shell.execute_reply": "2021-11-03T03:32:33.658058Z"
        },
        "id": "aDqX27YELq57",
        "outputId": "2eaca2ec-42f3-4f11-f3b1-777e701e75f6",
        "colab": {
          "base_uri": "https://localhost:8080/"
        }
      },
      "outputs": [
        {
          "output_type": "execute_result",
          "data": {
            "text/plain": [
              "0"
            ]
          },
          "metadata": {},
          "execution_count": 8
        }
      ],
      "source": [
        "y[0]"
      ]
    },
    {
      "cell_type": "code",
      "execution_count": null,
      "metadata": {
        "execution": {
          "iopub.execute_input": "2021-11-03T03:32:33.677456Z",
          "iopub.status.busy": "2021-11-03T03:32:33.676791Z",
          "iopub.status.idle": "2021-11-03T03:32:33.680374Z",
          "shell.execute_reply": "2021-11-03T03:32:33.679852Z"
        },
        "id": "POqb_k2ULq57"
      },
      "outputs": [],
      "source": [
        "def plot_digit(data):\n",
        "    image = data.reshape(8, 8)\n",
        "    plt.imshow(image, cmap = mpl.cm.binary,\n",
        "               interpolation=\"nearest\")\n",
        "    plt.axis(\"off\")"
      ]
    },
    {
      "cell_type": "code",
      "execution_count": null,
      "metadata": {
        "execution": {
          "iopub.execute_input": "2021-11-03T03:32:34.627669Z",
          "iopub.status.busy": "2021-11-03T03:32:34.627082Z",
          "iopub.status.idle": "2021-11-03T03:32:34.630266Z",
          "shell.execute_reply": "2021-11-03T03:32:34.630664Z"
        },
        "id": "Z1HX_MqPLq59"
      },
      "outputs": [],
      "source": [
        "from sklearn.model_selection import train_test_split\n",
        "X_train, X_test, y_train, y_test = train_test_split(X, y)"
      ]
    },
    {
      "cell_type": "markdown",
      "metadata": {
        "id": "XySpTG30Lq59"
      },
      "source": [
        "# 이진 분류기 훈련"
      ]
    },
    {
      "cell_type": "code",
      "execution_count": null,
      "metadata": {
        "execution": {
          "iopub.execute_input": "2021-11-03T03:32:34.642079Z",
          "iopub.status.busy": "2021-11-03T03:32:34.641480Z",
          "iopub.status.idle": "2021-11-03T03:32:56.362088Z",
          "shell.execute_reply": "2021-11-03T03:32:56.362537Z"
        },
        "id": "VvUYe5ZRLq5-"
      },
      "outputs": [],
      "source": [
        "from sklearn.linear_model import SGDClassifier\n",
        "\n",
        "sgd_clf = SGDClassifier(max_iter=1000, tol=1e-3, random_state=42)"
      ]
    },
    {
      "cell_type": "code",
      "execution_count": null,
      "metadata": {
        "execution": {
          "iopub.execute_input": "2021-11-03T03:32:56.376737Z",
          "iopub.status.busy": "2021-11-03T03:32:56.375886Z",
          "iopub.status.idle": "2021-11-03T03:33:25.644040Z",
          "shell.execute_reply": "2021-11-03T03:33:25.643273Z"
        },
        "id": "yclJ4DQOLq5-"
      },
      "outputs": [],
      "source": [
        "from sklearn.model_selection import cross_val_score\n",
        "from sklearn.model_selection import cross_val_predict"
      ]
    },
    {
      "cell_type": "markdown",
      "metadata": {
        "id": "0Vewo0YQLq5-"
      },
      "source": [
        "# 성능 측정"
      ]
    },
    {
      "cell_type": "markdown",
      "metadata": {
        "id": "H-j3mHGsLq5_"
      },
      "source": [
        "## 교차 검증을 사용한 정확도 측정"
      ]
    },
    {
      "cell_type": "code",
      "execution_count": null,
      "metadata": {
        "execution": {
          "iopub.execute_input": "2021-11-03T03:33:25.653675Z",
          "iopub.status.busy": "2021-11-03T03:33:25.652742Z",
          "iopub.status.idle": "2021-11-03T03:34:02.413348Z",
          "shell.execute_reply": "2021-11-03T03:34:02.414606Z"
        },
        "id": "jeiL_APiLq5_",
        "outputId": "ee1ba535-df0f-4a8a-bf93-73942ef11c82"
      },
      "outputs": [
        {
          "name": "stdout",
          "output_type": "stream",
          "text": [
            "0.9669\n",
            "0.91625\n",
            "0.96785\n"
          ]
        }
      ],
      "source": [
        "from sklearn.model_selection import StratifiedKFold\n",
        "from sklearn.base import clone\n",
        "\n",
        "# shuffle=False가 기본값이기 때문에 random_state를 삭제하던지 shuffle=True로 지정하라는 경고가 발생합니다.\n",
        "# 0.24버전부터는 에러가 발생할 예정이므로 향후 버전을 위해 shuffle=True을 지정합니다.\n",
        "skfolds = StratifiedKFold(n_splits=3, random_state=42, shuffle=True)\n",
        "\n",
        "for train_index, test_index in skfolds.split(X_train, y_train_5):\n",
        "    clone_clf = clone(sgd_clf)\n",
        "    X_train_folds = X_train[train_index]\n",
        "    y_train_folds = y_train_5[train_index]\n",
        "    X_test_fold = X_train[test_index]\n",
        "    y_test_fold = y_train_5[test_index]\n",
        "\n",
        "    clone_clf.fit(X_train_folds, y_train_folds)\n",
        "    y_pred = clone_clf.predict(X_test_fold)\n",
        "    n_correct = sum(y_pred == y_test_fold)\n",
        "    print(n_correct / len(y_pred))"
      ]
    },
    {
      "cell_type": "code",
      "execution_count": null,
      "metadata": {
        "execution": {
          "iopub.execute_input": "2021-11-03T03:34:02.423938Z",
          "iopub.status.busy": "2021-11-03T03:34:02.422861Z",
          "iopub.status.idle": "2021-11-03T03:34:02.428518Z",
          "shell.execute_reply": "2021-11-03T03:34:02.427156Z"
        },
        "id": "QEaVttKjLq5_"
      },
      "outputs": [],
      "source": [
        "from sklearn.base import BaseEstimator\n",
        "class Never5Classifier(BaseEstimator):\n",
        "    def fit(self, X, y=None):\n",
        "        pass\n",
        "    def predict(self, X):\n",
        "        return np.zeros((len(X), 1), dtype=bool)"
      ]
    },
    {
      "cell_type": "code",
      "execution_count": null,
      "metadata": {
        "execution": {
          "iopub.execute_input": "2021-11-03T03:34:02.435717Z",
          "iopub.status.busy": "2021-11-03T03:34:02.434648Z",
          "iopub.status.idle": "2021-11-03T03:34:02.954821Z",
          "shell.execute_reply": "2021-11-03T03:34:02.954238Z"
        },
        "id": "5tFl0MHNLq5_",
        "outputId": "72702e17-9592-40b4-b918-61d6e1306dbe"
      },
      "outputs": [
        {
          "data": {
            "text/plain": [
              "array([0.91125, 0.90855, 0.90915])"
            ]
          },
          "execution_count": 20,
          "metadata": {},
          "output_type": "execute_result"
        }
      ],
      "source": [
        "never_5_clf = Never5Classifier()\n",
        "cross_val_score(never_5_clf, X_train, y_train_5, cv=3, scoring=\"accuracy\")"
      ]
    },
    {
      "cell_type": "markdown",
      "metadata": {
        "id": "SMj1i8NyLq5_"
      },
      "source": [
        "노트: 이 출력(그리고 이 노트북과 다른 노트북의 출력)이 책의 내용과 조금 다를 수 있습니다. 걱정할 필요 없습니다. 괜찮습니다! 달라지는 이유가 몇가지 있습니다:\n",
        "\n",
        "* 첫째, 사이킷런과 다른 라이브러리들이 발전하면서 알고리즘이 조금씩 변경되기 때문에 얻어지는 결괏값이 바뀔 수 있습니다. 최신 사이킷런 버전을 사용한다면(일반적으로 권장됩니다) 책이나 이 노트북을 만들 때 사용한 버전과 다를 것이므로 차이가 납니다. 노트북은 최신으로 업데이트하려고 노력하지만 책의 내용은 그렇게 할 수 없습니다.\n",
        "* 둘째, 많은 훈련 알고리즘은 확률적입니다. 즉 무작위성에 의존합니다. 이론적으로 의사 난수를 생성하도록 난순 생성기에 시드 값을 지정하여 일관된 결과를 얻을 수 있습니다(random_state=42나 np.random.seed(42)를 종종 보게 되는 이유입니다). 하지만 여기에서 언급한 다른 요인으로 인해 충분하지 않을 때가 있습니다.\n",
        "* 세째, 훈련 알고리즘이 여러 스레드(C로 구현된 알고리즘)나 여러 프로세스(예를 들어 n_jobs 매개변수를 사용할 때)로 실행되면 연산이 실행되는 정확한 순서가 항상 보장되지 않습니다. 따라서 결괏값이 조금 다를 수 있습니다.\n",
        "* 마지막으로, 여러 세션에 결쳐 순서가 보장되지 않는 파이썬 딕셔너리(dict)이나 셋(set) 같은 것은 완벽한 재현성이 불가능합니다. 또한 디렉토리 안에 있는 파일의 순서도 보장되지 않습니다."
      ]
    },
    {
      "cell_type": "markdown",
      "metadata": {
        "id": "KCp1WyUPLq6A"
      },
      "source": [
        "## 오차 행렬"
      ]
    },
    {
      "cell_type": "code",
      "execution_count": null,
      "metadata": {
        "execution": {
          "iopub.execute_input": "2021-11-03T03:34:02.960008Z",
          "iopub.status.busy": "2021-11-03T03:34:02.959076Z",
          "iopub.status.idle": "2021-11-03T03:34:32.091806Z",
          "shell.execute_reply": "2021-11-03T03:34:32.092609Z"
        },
        "id": "yECkHtj1Lq6A"
      },
      "outputs": [],
      "source": [
        "from sklearn.model_selection import cross_val_predict\n",
        "\n",
        "y_train_pred = cross_val_predict(sgd_clf, X_train, y_train_5, cv=3)"
      ]
    },
    {
      "cell_type": "code",
      "execution_count": null,
      "metadata": {
        "execution": {
          "iopub.execute_input": "2021-11-03T03:34:32.098479Z",
          "iopub.status.busy": "2021-11-03T03:34:32.096226Z",
          "iopub.status.idle": "2021-11-03T03:34:32.120779Z",
          "shell.execute_reply": "2021-11-03T03:34:32.121490Z"
        },
        "id": "KxpSGN5-Lq6A",
        "outputId": "fa0cd170-6e8a-4f04-9aa3-35279af92312"
      },
      "outputs": [
        {
          "data": {
            "text/plain": [
              "array([[53892,   687],\n",
              "       [ 1891,  3530]])"
            ]
          },
          "execution_count": 22,
          "metadata": {},
          "output_type": "execute_result"
        }
      ],
      "source": [
        "from sklearn.metrics import confusion_matrix\n",
        "\n",
        "confusion_matrix(y_train_5, y_train_pred)"
      ]
    },
    {
      "cell_type": "code",
      "execution_count": null,
      "metadata": {
        "execution": {
          "iopub.execute_input": "2021-11-03T03:34:32.127484Z",
          "iopub.status.busy": "2021-11-03T03:34:32.125500Z",
          "iopub.status.idle": "2021-11-03T03:34:32.152390Z",
          "shell.execute_reply": "2021-11-03T03:34:32.153126Z"
        },
        "id": "LhtY9teZLq6A",
        "outputId": "edba986f-c87a-4d2f-8d7d-b2d13069da66"
      },
      "outputs": [
        {
          "data": {
            "text/plain": [
              "array([[54579,     0],\n",
              "       [    0,  5421]])"
            ]
          },
          "execution_count": 23,
          "metadata": {},
          "output_type": "execute_result"
        }
      ],
      "source": [
        "y_train_perfect_predictions = y_train_5  # 완변한척 하자\n",
        "confusion_matrix(y_train_5, y_train_perfect_predictions)"
      ]
    },
    {
      "cell_type": "markdown",
      "metadata": {
        "id": "PKihVCNBLq6A"
      },
      "source": [
        "## 정밀도와 재현율"
      ]
    },
    {
      "cell_type": "code",
      "execution_count": null,
      "metadata": {
        "execution": {
          "iopub.execute_input": "2021-11-03T03:34:32.160304Z",
          "iopub.status.busy": "2021-11-03T03:34:32.159270Z",
          "iopub.status.idle": "2021-11-03T03:34:32.215073Z",
          "shell.execute_reply": "2021-11-03T03:34:32.215513Z"
        },
        "id": "56IWFsTILq6A",
        "outputId": "83f58c1d-fc62-4592-abf8-b022ba0d2d07"
      },
      "outputs": [
        {
          "data": {
            "text/plain": [
              "0.8370879772350012"
            ]
          },
          "execution_count": 24,
          "metadata": {},
          "output_type": "execute_result"
        }
      ],
      "source": [
        "from sklearn.metrics import precision_score, recall_score\n",
        "\n",
        "precision_score(y_train_5, y_train_pred)"
      ]
    },
    {
      "cell_type": "code",
      "execution_count": null,
      "metadata": {
        "execution": {
          "iopub.execute_input": "2021-11-03T03:34:32.220412Z",
          "iopub.status.busy": "2021-11-03T03:34:32.219769Z",
          "iopub.status.idle": "2021-11-03T03:34:32.234206Z",
          "shell.execute_reply": "2021-11-03T03:34:32.233668Z"
        },
        "id": "Q4rAJVQvLq6A",
        "outputId": "1f3f73bd-dadf-4d7e-a70d-cbbb1cbff9a6"
      },
      "outputs": [
        {
          "data": {
            "text/plain": [
              "0.8370879772350012"
            ]
          },
          "execution_count": 25,
          "metadata": {},
          "output_type": "execute_result"
        }
      ],
      "source": [
        "cm = confusion_matrix(y_train_5, y_train_pred)\n",
        "cm[1, 1] / (cm[0, 1] + cm[1, 1])"
      ]
    },
    {
      "cell_type": "code",
      "execution_count": null,
      "metadata": {
        "execution": {
          "iopub.execute_input": "2021-11-03T03:34:32.239169Z",
          "iopub.status.busy": "2021-11-03T03:34:32.238280Z",
          "iopub.status.idle": "2021-11-03T03:34:32.260924Z",
          "shell.execute_reply": "2021-11-03T03:34:32.261346Z"
        },
        "id": "Nap8ZuNVLq6B",
        "outputId": "08fe2d8a-f4de-4afb-b842-98a0a401af8f"
      },
      "outputs": [
        {
          "data": {
            "text/plain": [
              "0.6511713705958311"
            ]
          },
          "execution_count": 26,
          "metadata": {},
          "output_type": "execute_result"
        }
      ],
      "source": [
        "recall_score(y_train_5, y_train_pred)"
      ]
    },
    {
      "cell_type": "code",
      "execution_count": null,
      "metadata": {
        "execution": {
          "iopub.execute_input": "2021-11-03T03:34:32.265801Z",
          "iopub.status.busy": "2021-11-03T03:34:32.265196Z",
          "iopub.status.idle": "2021-11-03T03:34:32.268826Z",
          "shell.execute_reply": "2021-11-03T03:34:32.268325Z"
        },
        "id": "ZwpfPP1ULq6B",
        "outputId": "99c66fb9-5d91-475d-bdfc-7e647b4cc3ca"
      },
      "outputs": [
        {
          "data": {
            "text/plain": [
              "0.6511713705958311"
            ]
          },
          "execution_count": 27,
          "metadata": {},
          "output_type": "execute_result"
        }
      ],
      "source": [
        "cm[1, 1] / (cm[1, 0] + cm[1, 1])"
      ]
    },
    {
      "cell_type": "code",
      "execution_count": null,
      "metadata": {
        "execution": {
          "iopub.execute_input": "2021-11-03T03:34:32.272444Z",
          "iopub.status.busy": "2021-11-03T03:34:32.271863Z",
          "iopub.status.idle": "2021-11-03T03:34:32.293918Z",
          "shell.execute_reply": "2021-11-03T03:34:32.294315Z"
        },
        "id": "H76m3kAYLq6B",
        "outputId": "9668706d-bc11-44fc-c6ef-bf6afd6b99e1"
      },
      "outputs": [
        {
          "data": {
            "text/plain": [
              "0.7325171197343846"
            ]
          },
          "execution_count": 28,
          "metadata": {},
          "output_type": "execute_result"
        }
      ],
      "source": [
        "from sklearn.metrics import f1_score\n",
        "\n",
        "f1_score(y_train_5, y_train_pred)"
      ]
    },
    {
      "cell_type": "code",
      "execution_count": null,
      "metadata": {
        "execution": {
          "iopub.execute_input": "2021-11-03T03:34:32.299202Z",
          "iopub.status.busy": "2021-11-03T03:34:32.298608Z",
          "iopub.status.idle": "2021-11-03T03:34:32.304017Z",
          "shell.execute_reply": "2021-11-03T03:34:32.304413Z"
        },
        "id": "zCsee5JZLq6B",
        "outputId": "d25bc3f9-b067-49c2-ec41-cc64b56284cd"
      },
      "outputs": [
        {
          "data": {
            "text/plain": [
              "0.7325171197343847"
            ]
          },
          "execution_count": 29,
          "metadata": {},
          "output_type": "execute_result"
        }
      ],
      "source": [
        "cm[1, 1] / (cm[1, 1] + (cm[1, 0] + cm[0, 1]) / 2)"
      ]
    },
    {
      "cell_type": "markdown",
      "metadata": {
        "id": "-zYnPD0zLq6B"
      },
      "source": [
        "## 정밀도/재현율 트레이드오프"
      ]
    },
    {
      "cell_type": "code",
      "execution_count": null,
      "metadata": {
        "execution": {
          "iopub.execute_input": "2021-11-03T03:34:32.310401Z",
          "iopub.status.busy": "2021-11-03T03:34:32.309809Z",
          "iopub.status.idle": "2021-11-03T03:34:32.314372Z",
          "shell.execute_reply": "2021-11-03T03:34:32.314802Z"
        },
        "id": "EeX0C_XbLq6B",
        "outputId": "bd746c38-218d-4731-96b4-735c46eb94df"
      },
      "outputs": [
        {
          "data": {
            "text/plain": [
              "array([2164.22030239])"
            ]
          },
          "execution_count": 30,
          "metadata": {},
          "output_type": "execute_result"
        }
      ],
      "source": [
        "y_scores = sgd_clf.decision_function([some_digit])\n",
        "y_scores"
      ]
    },
    {
      "cell_type": "code",
      "execution_count": null,
      "metadata": {
        "execution": {
          "iopub.execute_input": "2021-11-03T03:34:32.320134Z",
          "iopub.status.busy": "2021-11-03T03:34:32.318541Z",
          "iopub.status.idle": "2021-11-03T03:34:32.320795Z",
          "shell.execute_reply": "2021-11-03T03:34:32.321218Z"
        },
        "id": "L_RGcBYpLq6C"
      },
      "outputs": [],
      "source": [
        "threshold = 0\n",
        "y_some_digit_pred = (y_scores > threshold)"
      ]
    },
    {
      "cell_type": "code",
      "execution_count": null,
      "metadata": {
        "execution": {
          "iopub.execute_input": "2021-11-03T03:34:32.325627Z",
          "iopub.status.busy": "2021-11-03T03:34:32.324875Z",
          "iopub.status.idle": "2021-11-03T03:34:32.328513Z",
          "shell.execute_reply": "2021-11-03T03:34:32.328973Z"
        },
        "id": "4K6-o7OTLq6C",
        "outputId": "07c79d22-6e36-4381-a68b-677996ea697e"
      },
      "outputs": [
        {
          "data": {
            "text/plain": [
              "array([ True])"
            ]
          },
          "execution_count": 32,
          "metadata": {},
          "output_type": "execute_result"
        }
      ],
      "source": [
        "y_some_digit_pred"
      ]
    },
    {
      "cell_type": "code",
      "execution_count": null,
      "metadata": {
        "execution": {
          "iopub.execute_input": "2021-11-03T03:34:32.332170Z",
          "iopub.status.busy": "2021-11-03T03:34:32.331274Z",
          "iopub.status.idle": "2021-11-03T03:34:32.335954Z",
          "shell.execute_reply": "2021-11-03T03:34:32.336446Z"
        },
        "id": "D0IfL0XmLq6C",
        "outputId": "68bf0ba4-6b77-43fc-f31a-2e865a898ac6"
      },
      "outputs": [
        {
          "data": {
            "text/plain": [
              "array([False])"
            ]
          },
          "execution_count": 33,
          "metadata": {},
          "output_type": "execute_result"
        }
      ],
      "source": [
        "threshold = 8000\n",
        "y_some_digit_pred = (y_scores > threshold)\n",
        "y_some_digit_pred"
      ]
    },
    {
      "cell_type": "code",
      "execution_count": null,
      "metadata": {
        "execution": {
          "iopub.execute_input": "2021-11-03T03:34:32.339653Z",
          "iopub.status.busy": "2021-11-03T03:34:32.338770Z",
          "iopub.status.idle": "2021-11-03T03:35:01.502391Z",
          "shell.execute_reply": "2021-11-03T03:35:01.503266Z"
        },
        "id": "31v7ykIjLq6C"
      },
      "outputs": [],
      "source": [
        "y_scores = cross_val_predict(sgd_clf, X_train, y_train_5, cv=3,\n",
        "                             method=\"decision_function\")"
      ]
    },
    {
      "cell_type": "code",
      "execution_count": null,
      "metadata": {
        "execution": {
          "iopub.execute_input": "2021-11-03T03:35:01.508559Z",
          "iopub.status.busy": "2021-11-03T03:35:01.507503Z",
          "iopub.status.idle": "2021-11-03T03:35:01.531806Z",
          "shell.execute_reply": "2021-11-03T03:35:01.532578Z"
        },
        "id": "1_8LPTgdLq6C"
      },
      "outputs": [],
      "source": [
        "from sklearn.metrics import precision_recall_curve\n",
        "\n",
        "precisions, recalls, thresholds = precision_recall_curve(y_train_5, y_scores)"
      ]
    },
    {
      "cell_type": "code",
      "execution_count": null,
      "metadata": {
        "execution": {
          "iopub.execute_input": "2021-11-03T03:35:01.548587Z",
          "iopub.status.busy": "2021-11-03T03:35:01.547475Z",
          "iopub.status.idle": "2021-11-03T03:35:02.148641Z",
          "shell.execute_reply": "2021-11-03T03:35:02.149094Z"
        },
        "id": "UlIgdDn9Lq6C",
        "outputId": "bc7a6c23-3597-47bf-eef7-dd0738295a4a"
      },
      "outputs": [
        {
          "name": "stdout",
          "output_type": "stream",
          "text": [
            "그림 저장: precision_recall_vs_threshold_plot\n"
          ]
        },
        {
          "data": {
            "image/png": "[encoded data removed]",
            "text/plain": [
              "<Figure size 576x288 with 1 Axes>"
            ]
          },
          "metadata": {
            "needs_background": "light"
          },
          "output_type": "display_data"
        }
      ],
      "source": [
        "def plot_precision_recall_vs_threshold(precisions, recalls, thresholds):\n",
        "    plt.plot(thresholds, precisions[:-1], \"b--\", label=\"Precision\", linewidth=2)\n",
        "    plt.plot(thresholds, recalls[:-1], \"g-\", label=\"Recall\", linewidth=2)\n",
        "    plt.legend(loc=\"center right\", fontsize=16) # Not shown in the book\n",
        "    plt.xlabel(\"Threshold\", fontsize=16)        # Not shown\n",
        "    plt.grid(True)                              # Not shown\n",
        "    plt.axis([-50000, 50000, 0, 1])             # Not shown\n",
        "\n",
        "\n",
        "\n",
        "recall_90_precision = recalls[np.argmax(precisions >= 0.90)]\n",
        "threshold_90_precision = thresholds[np.argmax(precisions >= 0.90)]\n",
        "\n",
        "\n",
        "plt.figure(figsize=(8, 4))                                                                  # Not shown\n",
        "plot_precision_recall_vs_threshold(precisions, recalls, thresholds)\n",
        "plt.plot([threshold_90_precision, threshold_90_precision], [0., 0.9], \"r:\")                 # Not shown\n",
        "plt.plot([-50000, threshold_90_precision], [0.9, 0.9], \"r:\")                                # Not shown\n",
        "plt.plot([-50000, threshold_90_precision], [recall_90_precision, recall_90_precision], \"r:\")# Not shown\n",
        "plt.plot([threshold_90_precision], [0.9], \"ro\")                                             # Not shown\n",
        "plt.plot([threshold_90_precision], [recall_90_precision], \"ro\")                             # Not shown\n",
        "save_fig(\"precision_recall_vs_threshold_plot\")                                              # Not shown\n",
        "plt.show()"
      ]
    },
    {
      "cell_type": "code",
      "execution_count": null,
      "metadata": {
        "execution": {
          "iopub.execute_input": "2021-11-03T03:35:02.153593Z",
          "iopub.status.busy": "2021-11-03T03:35:02.152952Z",
          "iopub.status.idle": "2021-11-03T03:35:02.159777Z",
          "shell.execute_reply": "2021-11-03T03:35:02.159271Z"
        },
        "id": "QvjsfFCCLq6C",
        "outputId": "09baefad-08d3-48ef-88ba-e0e5f4968ff0"
      },
      "outputs": [
        {
          "data": {
            "text/plain": [
              "True"
            ]
          },
          "execution_count": 37,
          "metadata": {},
          "output_type": "execute_result"
        }
      ],
      "source": [
        "(y_train_pred == (y_scores > 0)).all()"
      ]
    },
    {
      "cell_type": "code",
      "execution_count": null,
      "metadata": {
        "execution": {
          "iopub.execute_input": "2021-11-03T03:35:02.184892Z",
          "iopub.status.busy": "2021-11-03T03:35:02.182922Z",
          "iopub.status.idle": "2021-11-03T03:35:02.688438Z",
          "shell.execute_reply": "2021-11-03T03:35:02.688876Z"
        },
        "id": "OmlrootoLq6D",
        "outputId": "01a8c57e-5f21-4e55-f31e-61593fb19297"
      },
      "outputs": [
        {
          "name": "stdout",
          "output_type": "stream",
          "text": [
            "그림 저장: precision_vs_recall_plot\n"
          ]
        },
        {
          "data": {
            "image/png": "[encoded data removed]",
            "text/plain": [
              "<Figure size 576x432 with 1 Axes>"
            ]
          },
          "metadata": {
            "needs_background": "light"
          },
          "output_type": "display_data"
        }
      ],
      "source": [
        "def plot_precision_vs_recall(precisions, recalls):\n",
        "    plt.plot(recalls, precisions, \"b-\", linewidth=2)\n",
        "    plt.xlabel(\"Recall\", fontsize=16)\n",
        "    plt.ylabel(\"Precision\", fontsize=16)\n",
        "    plt.axis([0, 1, 0, 1])\n",
        "    plt.grid(True)\n",
        "\n",
        "plt.figure(figsize=(8, 6))\n",
        "plot_precision_vs_recall(precisions, recalls)\n",
        "plt.plot([recall_90_precision, recall_90_precision], [0., 0.9], \"r:\")\n",
        "plt.plot([0.0, recall_90_precision], [0.9, 0.9], \"r:\")\n",
        "plt.plot([recall_90_precision], [0.9], \"ro\")\n",
        "save_fig(\"precision_vs_recall_plot\")\n",
        "plt.show()"
      ]
    },
    {
      "cell_type": "code",
      "execution_count": null,
      "metadata": {
        "execution": {
          "iopub.execute_input": "2021-11-03T03:35:02.694835Z",
          "iopub.status.busy": "2021-11-03T03:35:02.693149Z",
          "iopub.status.idle": "2021-11-03T03:35:02.695495Z",
          "shell.execute_reply": "2021-11-03T03:35:02.695918Z"
        },
        "id": "t_vE-PsiLq6D"
      },
      "outputs": [],
      "source": [
        "threshold_90_precision = thresholds[np.argmax(precisions >= 0.90)]"
      ]
    },
    {
      "cell_type": "code",
      "execution_count": null,
      "metadata": {
        "execution": {
          "iopub.execute_input": "2021-11-03T03:35:02.701582Z",
          "iopub.status.busy": "2021-11-03T03:35:02.700353Z",
          "iopub.status.idle": "2021-11-03T03:35:02.704264Z",
          "shell.execute_reply": "2021-11-03T03:35:02.703757Z"
        },
        "id": "QTRULfM6Lq6D",
        "outputId": "932960e0-ede3-4e80-f743-f8564df62507"
      },
      "outputs": [
        {
          "data": {
            "text/plain": [
              "3370.0194991439557"
            ]
          },
          "execution_count": 40,
          "metadata": {},
          "output_type": "execute_result"
        }
      ],
      "source": [
        "threshold_90_precision"
      ]
    },
    {
      "cell_type": "code",
      "execution_count": null,
      "metadata": {
        "execution": {
          "iopub.execute_input": "2021-11-03T03:35:02.707909Z",
          "iopub.status.busy": "2021-11-03T03:35:02.707317Z",
          "iopub.status.idle": "2021-11-03T03:35:02.709809Z",
          "shell.execute_reply": "2021-11-03T03:35:02.709303Z"
        },
        "id": "-cwGInpgLq6D"
      },
      "outputs": [],
      "source": [
        "y_train_pred_90 = (y_scores >= threshold_90_precision)"
      ]
    },
    {
      "cell_type": "code",
      "execution_count": null,
      "metadata": {
        "execution": {
          "iopub.execute_input": "2021-11-03T03:35:02.713320Z",
          "iopub.status.busy": "2021-11-03T03:35:02.712733Z",
          "iopub.status.idle": "2021-11-03T03:35:02.735590Z",
          "shell.execute_reply": "2021-11-03T03:35:02.735992Z"
        },
        "id": "slPVk1EwLq6D",
        "outputId": "a54e85fe-0b72-411b-c9d6-7a5ffe8436c7"
      },
      "outputs": [
        {
          "data": {
            "text/plain": [
              "0.9000345901072293"
            ]
          },
          "execution_count": 42,
          "metadata": {},
          "output_type": "execute_result"
        }
      ],
      "source": [
        "precision_score(y_train_5, y_train_pred_90)"
      ]
    },
    {
      "cell_type": "code",
      "execution_count": null,
      "metadata": {
        "execution": {
          "iopub.execute_input": "2021-11-03T03:35:02.740153Z",
          "iopub.status.busy": "2021-11-03T03:35:02.739317Z",
          "iopub.status.idle": "2021-11-03T03:35:02.763607Z",
          "shell.execute_reply": "2021-11-03T03:35:02.763075Z"
        },
        "id": "cukm3E_dLq6D",
        "outputId": "a293eb8a-9d82-4f2e-f670-fc80f6bd800e"
      },
      "outputs": [
        {
          "data": {
            "text/plain": [
              "0.4799852425751706"
            ]
          },
          "execution_count": 43,
          "metadata": {},
          "output_type": "execute_result"
        }
      ],
      "source": [
        "recall_score(y_train_5, y_train_pred_90)"
      ]
    },
    {
      "cell_type": "markdown",
      "metadata": {
        "id": "V3HK9SwQLq6D"
      },
      "source": [
        "## ROC 곡선"
      ]
    },
    {
      "cell_type": "code",
      "execution_count": null,
      "metadata": {
        "execution": {
          "iopub.execute_input": "2021-11-03T03:35:02.768368Z",
          "iopub.status.busy": "2021-11-03T03:35:02.767461Z",
          "iopub.status.idle": "2021-11-03T03:35:02.781793Z",
          "shell.execute_reply": "2021-11-03T03:35:02.781171Z"
        },
        "id": "xlacDlLHLq6E"
      },
      "outputs": [],
      "source": [
        "from sklearn.metrics import roc_curve\n",
        "\n",
        "fpr, tpr, thresholds = roc_curve(y_train_5, y_scores)"
      ]
    },
    {
      "cell_type": "code",
      "execution_count": null,
      "metadata": {
        "execution": {
          "iopub.execute_input": "2021-11-03T03:35:02.821717Z",
          "iopub.status.busy": "2021-11-03T03:35:02.820582Z",
          "iopub.status.idle": "2021-11-03T03:35:03.298014Z",
          "shell.execute_reply": "2021-11-03T03:35:03.298458Z"
        },
        "id": "_VQlpbkiLq6E",
        "outputId": "b419a07a-a7c4-484b-e507-b1ed0012eda2"
      },
      "outputs": [
        {
          "name": "stdout",
          "output_type": "stream",
          "text": [
            "그림 저장: roc_curve_plot\n"
          ]
        },
        {
          "data": {
            "image/png": "[encoded data removed]",
            "text/plain": [
              "<Figure size 576x432 with 1 Axes>"
            ]
          },
          "metadata": {
            "needs_background": "light"
          },
          "output_type": "display_data"
        }
      ],
      "source": [
        "def plot_roc_curve(fpr, tpr, label=None):\n",
        "    plt.plot(fpr, tpr, linewidth=2, label=label)\n",
        "    plt.plot([0, 1], [0, 1], 'k--') # 대각 점선\n",
        "    plt.axis([0, 1, 0, 1])                                    # Not shown in the book\n",
        "    plt.xlabel('False Positive Rate (Fall-Out)', fontsize=16) # Not shown\n",
        "    plt.ylabel('True Positive Rate (Recall)', fontsize=16)    # Not shown\n",
        "    plt.grid(True)                                            # Not shown\n",
        "\n",
        "plt.figure(figsize=(8, 6))                                    # Not shown\n",
        "plot_roc_curve(fpr, tpr)\n",
        "fpr_90 = fpr[np.argmax(tpr >= recall_90_precision)]           # Not shown\n",
        "plt.plot([fpr_90, fpr_90], [0., recall_90_precision], \"r:\")   # Not shown\n",
        "plt.plot([0.0, fpr_90], [recall_90_precision, recall_90_precision], \"r:\")  # Not shown\n",
        "plt.plot([fpr_90], [recall_90_precision], \"ro\")               # Not shown\n",
        "save_fig(\"roc_curve_plot\")                                    # Not shown\n",
        "plt.show()"
      ]
    },
    {
      "cell_type": "code",
      "execution_count": null,
      "metadata": {
        "execution": {
          "iopub.execute_input": "2021-11-03T03:35:03.303630Z",
          "iopub.status.busy": "2021-11-03T03:35:03.302717Z",
          "iopub.status.idle": "2021-11-03T03:35:03.325509Z",
          "shell.execute_reply": "2021-11-03T03:35:03.325942Z"
        },
        "id": "J7nzVZMMLq6E",
        "outputId": "f7e31b0b-ae6c-4b78-c7c2-7a6b2c6a04ab"
      },
      "outputs": [
        {
          "data": {
            "text/plain": [
              "0.9604938554008616"
            ]
          },
          "execution_count": 46,
          "metadata": {},
          "output_type": "execute_result"
        }
      ],
      "source": [
        "from sklearn.metrics import roc_auc_score\n",
        "\n",
        "roc_auc_score(y_train_5, y_scores)"
      ]
    },
    {
      "cell_type": "markdown",
      "metadata": {
        "id": "fB09_qXJLq6E"
      },
      "source": [
        "**노트**: 사이킷런 0.22 버전에서 바뀔 기본 값을 사용해 `n_estimators=100`로 지정합니다."
      ]
    },
    {
      "cell_type": "code",
      "execution_count": null,
      "metadata": {
        "execution": {
          "iopub.execute_input": "2021-11-03T03:35:03.331569Z",
          "iopub.status.busy": "2021-11-03T03:35:03.330673Z",
          "iopub.status.idle": "2021-11-03T03:36:05.296924Z",
          "shell.execute_reply": "2021-11-03T03:36:05.297491Z"
        },
        "id": "JR4tvhQ1Lq6E"
      },
      "outputs": [],
      "source": [
        "from sklearn.ensemble import RandomForestClassifier\n",
        "forest_clf = RandomForestClassifier(n_estimators=100, random_state=42)\n",
        "y_probas_forest = cross_val_predict(forest_clf, X_train, y_train_5, cv=3,\n",
        "                                    method=\"predict_proba\")"
      ]
    },
    {
      "cell_type": "code",
      "execution_count": null,
      "metadata": {
        "execution": {
          "iopub.execute_input": "2021-11-03T03:36:05.301420Z",
          "iopub.status.busy": "2021-11-03T03:36:05.300274Z",
          "iopub.status.idle": "2021-11-03T03:36:05.310105Z",
          "shell.execute_reply": "2021-11-03T03:36:05.310512Z"
        },
        "id": "qTgMFDwuLq6E"
      },
      "outputs": [],
      "source": [
        "y_scores_forest = y_probas_forest[:, 1] # 점수 = 양성 클래스의 확률\n",
        "fpr_forest, tpr_forest, thresholds_forest = roc_curve(y_train_5,y_scores_forest)"
      ]
    },
    {
      "cell_type": "code",
      "execution_count": null,
      "metadata": {
        "execution": {
          "iopub.execute_input": "2021-11-03T03:36:05.314016Z",
          "iopub.status.busy": "2021-11-03T03:36:05.312811Z",
          "iopub.status.idle": "2021-11-03T03:36:05.870569Z",
          "shell.execute_reply": "2021-11-03T03:36:05.870044Z"
        },
        "id": "5jeVaq7ELq6F",
        "outputId": "dcb144ef-8db6-4b30-dcec-7f534861b45f"
      },
      "outputs": [
        {
          "name": "stdout",
          "output_type": "stream",
          "text": [
            "그림 저장: roc_curve_comparison_plot\n"
          ]
        },
        {
          "data": {
            "image/png": "[encoded data removed]",
            "text/plain": [
              "<Figure size 576x432 with 1 Axes>"
            ]
          },
          "metadata": {
            "needs_background": "light"
          },
          "output_type": "display_data"
        }
      ],
      "source": [
        "recall_for_forest = tpr_forest[np.argmax(fpr_forest >= fpr_90)]\n",
        "\n",
        "plt.figure(figsize=(8, 6))\n",
        "plt.plot(fpr, tpr, \"b:\", linewidth=2, label=\"SGD\")\n",
        "plot_roc_curve(fpr_forest, tpr_forest, \"Random Forest\")\n",
        "plt.plot([fpr_90, fpr_90], [0., recall_90_precision], \"r:\")\n",
        "plt.plot([0.0, fpr_90], [recall_90_precision, recall_90_precision], \"r:\")\n",
        "plt.plot([fpr_90], [recall_90_precision], \"ro\")\n",
        "plt.plot([fpr_90, fpr_90], [0., recall_for_forest], \"r:\")\n",
        "plt.plot([fpr_90], [recall_for_forest], \"ro\")\n",
        "plt.grid(True)\n",
        "plt.legend(loc=\"lower right\", fontsize=16)\n",
        "save_fig(\"roc_curve_comparison_plot\")\n",
        "plt.show()"
      ]
    },
    {
      "cell_type": "code",
      "execution_count": null,
      "metadata": {
        "execution": {
          "iopub.execute_input": "2021-11-03T03:36:05.874878Z",
          "iopub.status.busy": "2021-11-03T03:36:05.874285Z",
          "iopub.status.idle": "2021-11-03T03:36:05.891082Z",
          "shell.execute_reply": "2021-11-03T03:36:05.890593Z"
        },
        "id": "_GCInHJWLq6F",
        "outputId": "a02c60a0-db7a-4459-8297-63f3a011c329"
      },
      "outputs": [
        {
          "data": {
            "text/plain": [
              "0.9983436731328145"
            ]
          },
          "execution_count": 50,
          "metadata": {},
          "output_type": "execute_result"
        }
      ],
      "source": [
        "roc_auc_score(y_train_5, y_scores_forest)"
      ]
    },
    {
      "cell_type": "code",
      "execution_count": null,
      "metadata": {
        "execution": {
          "iopub.execute_input": "2021-11-03T03:36:05.895042Z",
          "iopub.status.busy": "2021-11-03T03:36:05.894465Z",
          "iopub.status.idle": "2021-11-03T03:37:08.383369Z",
          "shell.execute_reply": "2021-11-03T03:37:08.383806Z"
        },
        "id": "AkrNBMSTLq6F",
        "outputId": "6cad9d7b-6fa5-4f54-d559-78b16cc3dca5"
      },
      "outputs": [
        {
          "data": {
            "text/plain": [
              "0.9905083315756169"
            ]
          },
          "execution_count": 51,
          "metadata": {},
          "output_type": "execute_result"
        }
      ],
      "source": [
        "y_train_pred_forest = cross_val_predict(forest_clf, X_train, y_train_5, cv=3)\n",
        "precision_score(y_train_5, y_train_pred_forest)"
      ]
    },
    {
      "cell_type": "code",
      "execution_count": null,
      "metadata": {
        "execution": {
          "iopub.execute_input": "2021-11-03T03:37:08.387892Z",
          "iopub.status.busy": "2021-11-03T03:37:08.387312Z",
          "iopub.status.idle": "2021-11-03T03:37:08.409205Z",
          "shell.execute_reply": "2021-11-03T03:37:08.408673Z"
        },
        "id": "GPmF8jlELq6F",
        "outputId": "335e44df-3c63-4852-f038-2b29faadc956"
      },
      "outputs": [
        {
          "data": {
            "text/plain": [
              "0.8662608374838591"
            ]
          },
          "execution_count": 52,
          "metadata": {},
          "output_type": "execute_result"
        }
      ],
      "source": [
        "recall_score(y_train_5, y_train_pred_forest)"
      ]
    },
    {
      "cell_type": "markdown",
      "metadata": {
        "id": "afgC76i0Lq6F"
      },
      "source": [
        "# 다중 분류"
      ]
    },
    {
      "cell_type": "code",
      "execution_count": null,
      "metadata": {
        "execution": {
          "iopub.execute_input": "2021-11-03T03:37:08.414358Z",
          "iopub.status.busy": "2021-11-03T03:37:08.413731Z",
          "iopub.status.idle": "2021-11-03T03:37:08.899441Z",
          "shell.execute_reply": "2021-11-03T03:37:08.899879Z"
        },
        "id": "TSa8_DaBLq6F",
        "outputId": "c302e60d-8d51-4f3f-e2ab-213d950c71e0",
        "colab": {
          "base_uri": "https://localhost:8080/"
        }
      },
      "outputs": [
        {
          "output_type": "execute_result",
          "data": {
            "text/plain": [
              "array([0])"
            ]
          },
          "metadata": {},
          "execution_count": 17
        }
      ],
      "source": [
        "from sklearn.svm import SVC\n",
        "\n",
        "svm_clf = SVC(gamma=\"auto\", random_state=42)\n",
        "svm_clf.fit(X_train[:1000], y_train[:1000]) # y_train_5이 아니라 y_train입니다\n",
        "svm_clf.predict([some_digit])"
      ]
    },
    {
      "cell_type": "code",
      "execution_count": null,
      "metadata": {
        "execution": {
          "iopub.execute_input": "2021-11-03T03:37:08.904203Z",
          "iopub.status.busy": "2021-11-03T03:37:08.903599Z",
          "iopub.status.idle": "2021-11-03T03:37:08.909561Z",
          "shell.execute_reply": "2021-11-03T03:37:08.909003Z"
        },
        "id": "z0EwWoWILq6G",
        "outputId": "571fd4fa-1a12-4c82-86b4-e9813b63ab3e",
        "colab": {
          "base_uri": "https://localhost:8080/"
        }
      },
      "outputs": [
        {
          "output_type": "execute_result",
          "data": {
            "text/plain": [
              "array([[ 9.30000544,  1.81123504, -0.20454629,  2.8097265 ,  3.83994989,\n",
              "         5.86234776,  0.81127576,  6.86356976,  4.85878393,  7.90181306]])"
            ]
          },
          "metadata": {},
          "execution_count": 18
        }
      ],
      "source": [
        "some_digit_scores = svm_clf.decision_function([some_digit])\n",
        "some_digit_scores"
      ]
    },
    {
      "cell_type": "code",
      "execution_count": null,
      "metadata": {
        "execution": {
          "iopub.execute_input": "2021-11-03T03:37:08.914203Z",
          "iopub.status.busy": "2021-11-03T03:37:08.913375Z",
          "iopub.status.idle": "2021-11-03T03:37:08.916442Z",
          "shell.execute_reply": "2021-11-03T03:37:08.916868Z"
        },
        "id": "nZTfH8XnLq6G",
        "outputId": "9e568d5a-4b47-4fb1-f839-158af4e617fa",
        "colab": {
          "base_uri": "https://localhost:8080/"
        }
      },
      "outputs": [
        {
          "output_type": "execute_result",
          "data": {
            "text/plain": [
              "0"
            ]
          },
          "metadata": {},
          "execution_count": 20
        }
      ],
      "source": [
        "np.argmax(some_digit_scores)"
      ]
    },
    {
      "cell_type": "code",
      "execution_count": null,
      "metadata": {
        "execution": {
          "iopub.execute_input": "2021-11-03T03:37:08.920927Z",
          "iopub.status.busy": "2021-11-03T03:37:08.920302Z",
          "iopub.status.idle": "2021-11-03T03:37:08.922786Z",
          "shell.execute_reply": "2021-11-03T03:37:08.923203Z"
        },
        "id": "A6YnK1ylLq6G",
        "outputId": "1e618cd2-4ede-48e8-f6fc-60062aae38e9",
        "colab": {
          "base_uri": "https://localhost:8080/"
        }
      },
      "outputs": [
        {
          "output_type": "execute_result",
          "data": {
            "text/plain": [
              "array([0, 1, 2, 3, 4, 5, 6, 7, 8, 9])"
            ]
          },
          "metadata": {},
          "execution_count": 21
        }
      ],
      "source": [
        "svm_clf.classes_"
      ]
    },
    {
      "cell_type": "code",
      "execution_count": null,
      "metadata": {
        "execution": {
          "iopub.execute_input": "2021-11-03T03:37:08.927483Z",
          "iopub.status.busy": "2021-11-03T03:37:08.926904Z",
          "iopub.status.idle": "2021-11-03T03:37:08.929585Z",
          "shell.execute_reply": "2021-11-03T03:37:08.930003Z"
        },
        "id": "wOoUwirsLq6G",
        "outputId": "d5bb93b9-afb4-490f-bedb-171cb6e58eb7",
        "colab": {
          "base_uri": "https://localhost:8080/"
        }
      },
      "outputs": [
        {
          "output_type": "execute_result",
          "data": {
            "text/plain": [
              "0"
            ]
          },
          "metadata": {},
          "execution_count": 23
        }
      ],
      "source": [
        "svm_clf.classes_[0]"
      ]
    },
    {
      "cell_type": "code",
      "execution_count": null,
      "metadata": {
        "execution": {
          "iopub.execute_input": "2021-11-03T03:37:08.934387Z",
          "iopub.status.busy": "2021-11-03T03:37:08.933805Z",
          "iopub.status.idle": "2021-11-03T03:37:11.880713Z",
          "shell.execute_reply": "2021-11-03T03:37:11.881113Z"
        },
        "id": "xUA6TyMRLq6G",
        "outputId": "873c061d-f65a-46ed-8db2-f4afd5a70a97",
        "colab": {
          "base_uri": "https://localhost:8080/"
        }
      },
      "outputs": [
        {
          "output_type": "execute_result",
          "data": {
            "text/plain": [
              "array([0])"
            ]
          },
          "metadata": {},
          "execution_count": 24
        }
      ],
      "source": [
        "from sklearn.multiclass import OneVsRestClassifier\n",
        "ovr_clf = OneVsRestClassifier(SVC(gamma=\"auto\", random_state=42))\n",
        "ovr_clf.fit(X_train[:1000], y_train[:1000])\n",
        "ovr_clf.predict([some_digit])"
      ]
    },
    {
      "cell_type": "code",
      "execution_count": null,
      "metadata": {
        "execution": {
          "iopub.execute_input": "2021-11-03T03:37:11.886033Z",
          "iopub.status.busy": "2021-11-03T03:37:11.885437Z",
          "iopub.status.idle": "2021-11-03T03:37:11.887975Z",
          "shell.execute_reply": "2021-11-03T03:37:11.888410Z"
        },
        "id": "OKCOGo-OLq6G",
        "outputId": "e27ea486-4ed5-4c79-8d3f-5d11b97b813c",
        "colab": {
          "base_uri": "https://localhost:8080/"
        }
      },
      "outputs": [
        {
          "output_type": "execute_result",
          "data": {
            "text/plain": [
              "10"
            ]
          },
          "metadata": {},
          "execution_count": 25
        }
      ],
      "source": [
        "len(ovr_clf.estimators_) # 총 10개의 예측기"
      ]
    },
    {
      "cell_type": "code",
      "execution_count": null,
      "metadata": {
        "execution": {
          "iopub.execute_input": "2021-11-03T03:37:11.892347Z",
          "iopub.status.busy": "2021-11-03T03:37:11.891740Z",
          "iopub.status.idle": "2021-11-03T03:40:10.143544Z",
          "shell.execute_reply": "2021-11-03T03:40:10.143975Z"
        },
        "id": "BLJWS7qgLq6G",
        "outputId": "feac4fd4-7187-4088-b1a6-60e55bb59435",
        "colab": {
          "base_uri": "https://localhost:8080/"
        }
      },
      "outputs": [
        {
          "output_type": "execute_result",
          "data": {
            "text/plain": [
              "array([0])"
            ]
          },
          "metadata": {},
          "execution_count": 26
        }
      ],
      "source": [
        "sgd_clf.fit(X_train, y_train)\n",
        "sgd_clf.predict([some_digit])"
      ]
    },
    {
      "cell_type": "code",
      "execution_count": null,
      "metadata": {
        "execution": {
          "iopub.execute_input": "2021-11-03T03:40:10.146772Z",
          "iopub.status.busy": "2021-11-03T03:40:10.146199Z",
          "iopub.status.idle": "2021-11-03T03:40:10.150261Z",
          "shell.execute_reply": "2021-11-03T03:40:10.150672Z"
        },
        "id": "05SVMSsLLq6H",
        "outputId": "46e47958-ccd1-4783-fabe-b50c6f83189a",
        "colab": {
          "base_uri": "https://localhost:8080/"
        }
      },
      "outputs": [
        {
          "output_type": "execute_result",
          "data": {
            "text/plain": [
              "array([[ 3040.06186498, -3935.20842208, -3219.03451325, -2409.36392829,\n",
              "        -1606.23036518, -2889.06893109, -2090.19633097, -1495.38669138,\n",
              "        -1567.96397962, -2005.94122282]])"
            ]
          },
          "metadata": {},
          "execution_count": 27
        }
      ],
      "source": [
        "sgd_clf.decision_function([some_digit])"
      ]
    },
    {
      "cell_type": "markdown",
      "metadata": {
        "id": "nitqD5EuLq6H"
      },
      "source": [
        "**경고**: 사용하는 하드웨어에 따라 다음 두 셀을 실행하는데 30분 또는 그 이상 걸릴 수 있습니다."
      ]
    },
    {
      "cell_type": "code",
      "execution_count": null,
      "metadata": {
        "execution": {
          "iopub.execute_input": "2021-11-03T03:40:10.153393Z",
          "iopub.status.busy": "2021-11-03T03:40:10.152736Z",
          "iopub.status.idle": "2021-11-03T03:45:02.837036Z",
          "shell.execute_reply": "2021-11-03T03:45:02.837827Z"
        },
        "id": "maQbzXB1Lq6H",
        "outputId": "cd16a674-e281-4251-8ed4-f35175d4896d",
        "colab": {
          "base_uri": "https://localhost:8080/"
        }
      },
      "outputs": [
        {
          "output_type": "execute_result",
          "data": {
            "text/plain": [
              "array([0.93318486, 0.93541203, 0.96436526])"
            ]
          },
          "metadata": {},
          "execution_count": 28
        }
      ],
      "source": [
        "cross_val_score(sgd_clf, X_train, y_train, cv=3, scoring=\"accuracy\")"
      ]
    },
    {
      "cell_type": "code",
      "execution_count": null,
      "metadata": {
        "execution": {
          "iopub.execute_input": "2021-11-03T03:45:02.841954Z",
          "iopub.status.busy": "2021-11-03T03:45:02.841060Z",
          "iopub.status.idle": "2021-11-03T03:57:59.266880Z",
          "shell.execute_reply": "2021-11-03T03:57:59.267546Z"
        },
        "id": "QQACa_GELq6H",
        "outputId": "31856d58-9a9d-456d-89db-b561a10a12de",
        "colab": {
          "base_uri": "https://localhost:8080/"
        }
      },
      "outputs": [
        {
          "output_type": "execute_result",
          "data": {
            "text/plain": [
              "array([0.92873051, 0.94654788, 0.96213808])"
            ]
          },
          "metadata": {},
          "execution_count": 29
        }
      ],
      "source": [
        "from sklearn.preprocessing import StandardScaler\n",
        "scaler = StandardScaler()\n",
        "X_train_scaled = scaler.fit_transform(X_train.astype(np.float64))\n",
        "cross_val_score(sgd_clf, X_train_scaled, y_train, cv=3, scoring=\"accuracy\")"
      ]
    },
    {
      "cell_type": "markdown",
      "metadata": {
        "id": "v5bth1oRLq6H"
      },
      "source": [
        "# 에러 분석"
      ]
    },
    {
      "cell_type": "code",
      "execution_count": null,
      "metadata": {
        "execution": {
          "iopub.execute_input": "2021-11-03T03:57:59.271662Z",
          "iopub.status.busy": "2021-11-03T03:57:59.270835Z",
          "iopub.status.idle": "2021-11-03T04:10:54.132632Z",
          "shell.execute_reply": "2021-11-03T04:10:54.133405Z"
        },
        "id": "utqV5wAvLq6H",
        "outputId": "23f54322-539b-4ef0-e534-f9f9a540dfa0",
        "colab": {
          "base_uri": "https://localhost:8080/"
        }
      },
      "outputs": [
        {
          "output_type": "execute_result",
          "data": {
            "text/plain": [
              "array([[134,   0,   1,   0,   0,   0,   0,   0,   2,   0],\n",
              "       [  0, 121,   0,   1,   1,   0,   0,   0,   5,   3],\n",
              "       [  1,   1, 122,   1,   0,   0,   0,   0,   6,   0],\n",
              "       [  0,   0,   0, 128,   0,   1,   0,   2,   4,   1],\n",
              "       [  0,   1,   0,   0, 129,   0,   0,   1,   1,   2],\n",
              "       [  0,   0,   0,   1,   0, 132,   0,   0,   7,   0],\n",
              "       [  0,   1,   0,   0,   0,   1, 127,   0,   2,   0],\n",
              "       [  0,   0,   0,   0,   1,   0,   0, 132,   3,   3],\n",
              "       [  0,   5,   0,   0,   0,   1,   0,   1, 124,   0],\n",
              "       [  0,   2,   0,   3,   0,   1,   0,   1,   5, 125]])"
            ]
          },
          "metadata": {},
          "execution_count": 31
        }
      ],
      "source": [
        "from sklearn.metrics import confusion_matrix\n",
        "y_train_pred = cross_val_predict(sgd_clf, X_train_scaled, y_train, cv=3)\n",
        "conf_mx = confusion_matrix(y_train, y_train_pred)\n",
        "conf_mx"
      ]
    },
    {
      "cell_type": "markdown",
      "metadata": {
        "id": "85D66u41Lq6H"
      },
      "source": [
        "사이킷런 0.22 버전부터는 `sklearn.metrics.plot_confusion_matrix()` 함수를 사용할 수 있습니다."
      ]
    },
    {
      "cell_type": "code",
      "execution_count": null,
      "metadata": {
        "execution": {
          "iopub.execute_input": "2021-11-03T04:10:54.137694Z",
          "iopub.status.busy": "2021-11-03T04:10:54.136836Z",
          "iopub.status.idle": "2021-11-03T04:10:54.142606Z",
          "shell.execute_reply": "2021-11-03T04:10:54.143334Z"
        },
        "id": "sgP5h2aVLq6I"
      },
      "outputs": [],
      "source": [
        "def plot_confusion_matrix(matrix):\n",
        "    \"\"\"If you prefer color and a colorbar\"\"\"\n",
        "    fig = plt.figure(figsize=(8,8))\n",
        "    ax = fig.add_subplot(111)\n",
        "    cax = ax.matshow(matrix)\n",
        "    fig.colorbar(cax)"
      ]
    },
    {
      "cell_type": "code",
      "execution_count": null,
      "metadata": {
        "execution": {
          "iopub.execute_input": "2021-11-03T04:10:54.147196Z",
          "iopub.status.busy": "2021-11-03T04:10:54.146359Z",
          "iopub.status.idle": "2021-11-03T04:10:54.459737Z",
          "shell.execute_reply": "2021-11-03T04:10:54.460355Z"
        },
        "id": "1_Wetns5Lq6I",
        "outputId": "6cc351f1-0daf-469f-a88c-0cfcde6815cd",
        "colab": {
          "base_uri": "https://localhost:8080/",
          "height": 275
        }
      },
      "outputs": [
        {
          "output_type": "display_data",
          "data": {
            "text/plain": [
              "<Figure size 288x288 with 1 Axes>"
            ],
            "image/png": "[encoded data removed]"
          },
          "metadata": {
            "needs_background": "light"
          }
        }
      ],
      "source": [
        "plt.matshow(conf_mx, cmap=plt.cm.gray)\n",
        "plt.show()"
      ]
    },
    {
      "cell_type": "code",
      "execution_count": null,
      "metadata": {
        "execution": {
          "iopub.execute_input": "2021-11-03T04:10:54.463645Z",
          "iopub.status.busy": "2021-11-03T04:10:54.462827Z",
          "iopub.status.idle": "2021-11-03T04:10:54.465648Z",
          "shell.execute_reply": "2021-11-03T04:10:54.466297Z"
        },
        "id": "--xWkmeyLq6I"
      },
      "outputs": [],
      "source": [
        "row_sums = conf_mx.sum(axis=1, keepdims=True)\n",
        "norm_conf_mx = conf_mx / row_sums"
      ]
    },
    {
      "cell_type": "code",
      "execution_count": null,
      "metadata": {
        "execution": {
          "iopub.execute_input": "2021-11-03T04:10:54.469426Z",
          "iopub.status.busy": "2021-11-03T04:10:54.468564Z",
          "iopub.status.idle": "2021-11-03T04:10:54.733288Z",
          "shell.execute_reply": "2021-11-03T04:10:54.733921Z"
        },
        "id": "0Ke-K533Lq6I",
        "outputId": "295e9eb1-3069-47aa-885e-58ef9bff2e4a",
        "colab": {
          "base_uri": "https://localhost:8080/",
          "height": 275
        }
      },
      "outputs": [
        {
          "output_type": "display_data",
          "data": {
            "text/plain": [
              "<Figure size 288x288 with 1 Axes>"
            ],
            "image/png": "[encoded data removed]"
          },
          "metadata": {
            "needs_background": "light"
          }
        }
      ],
      "source": [
        "np.fill_diagonal(norm_conf_mx, 0)\n",
        "plt.matshow(norm_conf_mx, cmap=plt.cm.gray)\n",
        "plt.show()"
      ]
    },
    {
      "cell_type": "code",
      "source": [
        "import matplotlib\n",
        "def plot_digits(instances, images_per_row):\n",
        "  size=8\n",
        "  images_per_row = min(len(instances), images_per_row)\n",
        "  images = [instance.reshape(size, size) for instance in instances]\n",
        "  n_rows = (len(instances)-1)//images_per_row+1\n",
        "  row_images = []\n",
        "  n_empty = n_rows*images_per_row-len(instances)\n",
        "  images.append(np.zeros((size, size*n_empty)))\n",
        "  for row in range(n_rows):\n",
        "    rimages = images[row*images_per_row: (row+1)*images_per_row]\n",
        "    row_images.append(np.concatenate(rimages, axis=1))\n",
        "  image = np.concatenate(row_images, axis=0)\n",
        "  plt.imshow(image, cmap=matplotlib.cm.binary)\n",
        "  plt.axis('off')"
      ],
      "metadata": {
        "id": "7He32swwPnxA"
      },
      "execution_count": null,
      "outputs": []
    },
    {
      "cell_type": "code",
      "execution_count": null,
      "metadata": {
        "execution": {
          "iopub.execute_input": "2021-11-03T04:10:54.737225Z",
          "iopub.status.busy": "2021-11-03T04:10:54.736371Z",
          "iopub.status.idle": "2021-11-03T04:10:55.613074Z",
          "shell.execute_reply": "2021-11-03T04:10:55.613759Z"
        },
        "id": "_FQhNKhwLq6I",
        "outputId": "36e90fa9-6c4f-4c44-ca30-f5831866cc63",
        "colab": {
          "base_uri": "https://localhost:8080/",
          "height": 466
        }
      },
      "outputs": [
        {
          "output_type": "display_data",
          "data": {
            "text/plain": [
              "<Figure size 576x576 with 4 Axes>"
            ],
            "image/png": "[encoded data removed]"
          },
          "metadata": {
            "needs_background": "light"
          }
        }
      ],
      "source": [
        "cl_a, cl_b = 1, 8\n",
        "X_aa = X_train[(y_train == cl_a) & (y_train_pred == cl_a)]\n",
        "X_ab = X_train[(y_train == cl_a) & (y_train_pred == cl_b)]\n",
        "X_ba = X_train[(y_train == cl_b) & (y_train_pred == cl_a)]\n",
        "X_bb = X_train[(y_train == cl_b) & (y_train_pred == cl_b)]\n",
        "\n",
        "plt.figure(figsize=(8,8))\n",
        "plt.subplot(221); plot_digits(X_aa[:25], images_per_row=5)\n",
        "plt.subplot(222); plot_digits(X_ab[:25], images_per_row=5)\n",
        "plt.subplot(223); plot_digits(X_ba[:25], images_per_row=5)\n",
        "plt.subplot(224); plot_digits(X_bb[:25], images_per_row=5)\n",
        "plt.show()"
      ]
    },
    {
      "cell_type": "markdown",
      "metadata": {
        "id": "sH4wyCc4Lq6I"
      },
      "source": [
        "# 다중 레이블 분류"
      ]
    },
    {
      "cell_type": "code",
      "execution_count": null,
      "metadata": {
        "execution": {
          "iopub.execute_input": "2021-11-03T04:10:55.617350Z",
          "iopub.status.busy": "2021-11-03T04:10:55.616472Z",
          "iopub.status.idle": "2021-11-03T04:10:55.664866Z",
          "shell.execute_reply": "2021-11-03T04:10:55.665559Z"
        },
        "id": "PY44XPLILq6I",
        "outputId": "615d1d19-f333-4a8e-aa73-ca5fffcc05bb",
        "colab": {
          "base_uri": "https://localhost:8080/"
        }
      },
      "outputs": [
        {
          "output_type": "execute_result",
          "data": {
            "text/plain": [
              "KNeighborsClassifier()"
            ]
          },
          "metadata": {},
          "execution_count": 49
        }
      ],
      "source": [
        "from sklearn.neighbors import KNeighborsClassifier\n",
        "\n",
        "y_train_large = (y_train >= 7)\n",
        "y_train_odd = (y_train % 2 == 1)\n",
        "y_multilabel = np.c_[y_train_large, y_train_odd]\n",
        "\n",
        "knn_clf = KNeighborsClassifier()\n",
        "knn_clf.fit(X_train, y_multilabel)"
      ]
    },
    {
      "cell_type": "code",
      "execution_count": null,
      "metadata": {
        "execution": {
          "iopub.execute_input": "2021-11-03T04:10:55.668840Z",
          "iopub.status.busy": "2021-11-03T04:10:55.667997Z",
          "iopub.status.idle": "2021-11-03T04:10:55.766572Z",
          "shell.execute_reply": "2021-11-03T04:10:55.767213Z"
        },
        "id": "L0jJD1SsLq6I",
        "outputId": "ac9d25b1-8ceb-4bc0-865f-87d521f6a61a",
        "colab": {
          "base_uri": "https://localhost:8080/"
        }
      },
      "outputs": [
        {
          "output_type": "execute_result",
          "data": {
            "text/plain": [
              "array([[False, False]])"
            ]
          },
          "metadata": {},
          "execution_count": 50
        }
      ],
      "source": [
        "knn_clf.predict([some_digit])"
      ]
    },
    {
      "cell_type": "markdown",
      "metadata": {
        "id": "4vb_MpkVLq6J"
      },
      "source": [
        "**경고**: 다음 셀은 실행하는데 매우 오래 걸립니다(하드웨어에 따라 몇 시간이 걸릴 수 있습니다)."
      ]
    },
    {
      "cell_type": "code",
      "execution_count": null,
      "metadata": {
        "execution": {
          "iopub.execute_input": "2021-11-03T04:10:55.770744Z",
          "iopub.status.busy": "2021-11-03T04:10:55.769903Z",
          "iopub.status.idle": "2021-11-03T04:12:23.950858Z",
          "shell.execute_reply": "2021-11-03T04:12:23.950197Z"
        },
        "id": "-mwa_greLq6J",
        "outputId": "ee548a3a-9686-421a-81ac-29a02d4905b0",
        "colab": {
          "base_uri": "https://localhost:8080/"
        }
      },
      "outputs": [
        {
          "output_type": "execute_result",
          "data": {
            "text/plain": [
              "0.9830579850988014"
            ]
          },
          "metadata": {},
          "execution_count": 53
        }
      ],
      "source": [
        "from sklearn.metrics import f1_score\n",
        "y_train_knn_pred = cross_val_predict(knn_clf, X_train, y_multilabel, cv=3)\n",
        "f1_score(y_multilabel, y_train_knn_pred, average=\"macro\")"
      ]
    },
    {
      "cell_type": "markdown",
      "metadata": {
        "id": "XqJN8tMJLq6J"
      },
      "source": [
        "# 다중 출력 분류"
      ]
    },
    {
      "cell_type": "code",
      "execution_count": null,
      "metadata": {
        "execution": {
          "iopub.execute_input": "2021-11-03T04:12:23.955385Z",
          "iopub.status.busy": "2021-11-03T04:12:23.954811Z",
          "iopub.status.idle": "2021-11-03T04:12:24.851268Z",
          "shell.execute_reply": "2021-11-03T04:12:24.851726Z"
        },
        "id": "r7JcmzvRLq6J"
      },
      "outputs": [],
      "source": [
        "noise = np.random.randint(0, 25, (len(X_train), 64))\n",
        "X_train_mod = X_train + noise\n",
        "noise = np.random.randint(0, 100, (len(X_test), 64))\n",
        "X_test_mod = X_test + noise\n",
        "y_train_mod = X_train\n",
        "y_test_mod = X_test"
      ]
    },
    {
      "cell_type": "code",
      "execution_count": null,
      "metadata": {
        "execution": {
          "iopub.execute_input": "2021-11-03T04:12:24.888437Z",
          "iopub.status.busy": "2021-11-03T04:12:24.870052Z",
          "iopub.status.idle": "2021-11-03T04:12:25.133803Z",
          "shell.execute_reply": "2021-11-03T04:12:25.134556Z"
        },
        "scrolled": true,
        "id": "iRrKMXccLq6J",
        "outputId": "923fefd0-2bf9-4943-aaee-42de9f2b148a",
        "colab": {
          "base_uri": "https://localhost:8080/",
          "height": 183
        }
      },
      "outputs": [
        {
          "output_type": "display_data",
          "data": {
            "text/plain": [
              "<Figure size 432x288 with 2 Axes>"
            ],
            "image/png": "[encoded data removed]"
          },
          "metadata": {
            "needs_background": "light"
          }
        }
      ],
      "source": [
        "some_index = 3\n",
        "plt.subplot(121); plot_digit(X_train_mod[some_index])\n",
        "plt.subplot(122); plot_digit(X_test_mod[some_index])\n",
        "plt.show()"
      ]
    },
    {
      "cell_type": "code",
      "execution_count": null,
      "metadata": {
        "execution": {
          "iopub.execute_input": "2021-11-03T04:12:25.138463Z",
          "iopub.status.busy": "2021-11-03T04:12:25.137454Z",
          "iopub.status.idle": "2021-11-03T04:12:32.512997Z",
          "shell.execute_reply": "2021-11-03T04:12:32.513757Z"
        },
        "id": "LGpBddL_Lq6J",
        "outputId": "1c63230d-c86a-44ff-9f4d-28fd8617345e",
        "colab": {
          "base_uri": "https://localhost:8080/",
          "height": 248
        }
      },
      "outputs": [
        {
          "output_type": "display_data",
          "data": {
            "text/plain": [
              "<Figure size 432x288 with 1 Axes>"
            ],
            "image/png": "[encoded data removed]"
          },
          "metadata": {
            "needs_background": "light"
          }
        }
      ],
      "source": [
        "knn_clf.fit(X_train_mod, y_train_mod)\n",
        "clean_digit = knn_clf.predict([X_test_mod[some_index]])\n",
        "plot_digit(clean_digit)"
      ]
    }
  ],
  "metadata": {
    "kernelspec": {
      "display_name": "Python 3",
      "language": "python",
      "name": "python3"
    },
    "language_info": {
      "codemirror_mode": {
        "name": "ipython",
        "version": 3
      },
      "file_extension": ".py",
      "mimetype": "text/x-python",
      "name": "python",
      "nbconvert_exporter": "python",
      "pygments_lexer": "ipython3",
      "version": "3.7.3"
    },
    "nav_menu": {},
    "toc": {
      "navigate_menu": true,
      "number_sections": true,
      "sideBar": true,
      "threshold": 6,
      "toc_cell": false,
      "toc_section_display": "block",
      "toc_window_display": false
    },
    "colab": {
      "provenance": [],
      "collapsed_sections": [
        "0Vewo0YQLq5-",
        "H-j3mHGsLq5_",
        "KCp1WyUPLq6A",
        "PKihVCNBLq6A",
        "-zYnPD0zLq6B",
        "V3HK9SwQLq6D"
      ]
    }
  },
  "nbformat": 4,
  "nbformat_minor": 0
}