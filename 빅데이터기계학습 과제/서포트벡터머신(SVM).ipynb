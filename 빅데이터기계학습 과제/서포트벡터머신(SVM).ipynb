{
  "nbformat": 4,
  "nbformat_minor": 0,
  "metadata": {
    "colab": {
      "provenance": [],
      "collapsed_sections": []
    },
    "kernelspec": {
      "name": "python3",
      "display_name": "Python 3"
    },
    "language_info": {
      "name": "python"
    }
  },
  "cells": [
    {
      "cell_type": "markdown",
      "source": [
        "# 5. Support Vector Machine(SVM)\n",
        "* 매우 강력하고, 선형이나 비선형 분류, 회귀, 이상치 탐색에서 사용할 수 있는 다목적 머신러닝 모델\n",
        "* 복잡한 분류 문제에 잘 맞으며 작거나 중간 크기의 데이터셋에 적합"
      ],
      "metadata": {
        "id": "z6UG-yGk1NnK"
      }
    },
    {
      "cell_type": "markdown",
      "source": [
        "## 5.1. 선형 SVM 분류"
      ],
      "metadata": {
        "id": "aFEV4uOP1Wr8"
      }
    },
    {
      "cell_type": "markdown",
      "source": [
        "### 5.1.1. 소프트마진 분류\n",
        "* 하드마진 분류: 모든 샘플이 도로 바깥에 분류(오차를 허용X)\n",
        "  - 단점: 데이터가 선형적으로 구분될 수 있어야 함. 이상치에 민감\n",
        "* 소프트마진 분류: 도로의 폭을 넓게 유지하는 것과 마진 오류(Margin Violation)사이에 적잘한 균형\n",
        "* 하이퍼 파라미터 C: 낮으면 마진오류가 많고 도록 폭 넓음. 높으면 마진오류 적고 도로폭 좁음.\n",
        "* SVM 모델이 과대적합이면 C를 감소시켜 모델을 규제\n",
        "* 힌지 손실 hinge loss 함수를 적용해 적용한 LinearSVC 클래스 사용"
      ],
      "metadata": {
        "id": "jV79DMUF1cAw"
      }
    },
    {
      "cell_type": "code",
      "source": [
        "import numpy as np\n",
        "from sklearn import datasets\n",
        "from sklearn.pipeline import Pipeline\n",
        "from sklearn.preprocessing import StandardScaler\n",
        "from sklearn.svm import LinearSVC"
      ],
      "metadata": {
        "id": "6YqmNBeu1fTr"
      },
      "execution_count": 1,
      "outputs": []
    },
    {
      "cell_type": "code",
      "source": [
        "# 데이터셋 구성\n",
        "iris = datasets.load_iris()\n",
        "X = iris[\"data\"][:,(2,3)] # 꽃잎 길이, 너비\n",
        "y = (iris[\"target\"]==2).astype(np.float64) # Iris-Virginica"
      ],
      "metadata": {
        "id": "hPWtBFyb1kPC"
      },
      "execution_count": null,
      "outputs": []
    },
    {
      "cell_type": "code",
      "source": [
        "# 파이프라인\n",
        "svm_clf = Pipeline([\n",
        "    (\"scaler\", StandardScaler()),\n",
        "    # C: 제약조건의 강도\n",
        "    # loss : loss function 설정\n",
        "    (\"linear_svc\", LinearSVC(C=1, loss=\"hinge\"))\n",
        "    ])"
      ],
      "metadata": {
        "id": "O3QG7ETB1oxC"
      },
      "execution_count": null,
      "outputs": []
    },
    {
      "cell_type": "code",
      "source": [
        "# 학습\n",
        "svm_clf.fit(X,y)\n",
        "\n",
        "# 임의의 꽃잎의 길이와 너비를 입력하여 꽃의 종류 예측해보기\n",
        "svm_clf.predict([[5.5,1.7]])"
      ],
      "metadata": {
        "colab": {
          "base_uri": "https://localhost:8080/"
        },
        "id": "p2cG1aZT1uj6",
        "outputId": "8517d0e5-d8f3-48e4-df10-d2fc1e864944"
      },
      "execution_count": null,
      "outputs": [
        {
          "output_type": "execute_result",
          "data": {
            "text/plain": [
              "array([1.])"
            ]
          },
          "metadata": {},
          "execution_count": 5
        }
      ]
    },
    {
      "cell_type": "markdown",
      "source": [
        "## 5.2. 비선형 SVM 분류\n",
        "* 비선형 데이터셋을 다루는 방법: 다항특성을 추가"
      ],
      "metadata": {
        "id": "HtuzG-9r10Gj"
      }
    },
    {
      "cell_type": "code",
      "source": [
        "from sklearn.datasets import make_moons\n",
        "import matplotlib.pyplot as plt"
      ],
      "metadata": {
        "id": "q9NiZn5o1-os"
      },
      "execution_count": null,
      "outputs": []
    },
    {
      "cell_type": "code",
      "source": [
        "# 데이터셋 구성\n",
        "X,y = make_moons(n_samples=100, noise=0.15)"
      ],
      "metadata": {
        "id": "-h1mEXHu2AFB"
      },
      "execution_count": null,
      "outputs": []
    },
    {
      "cell_type": "code",
      "source": [
        "# 시각화\n",
        "for j in range(len(X)):\n",
        "    if y[j] == 1:\n",
        "        plt.plot(X[j,0],X[j,1],'r*')\n",
        "    else:\n",
        "        plt.plot(X[j,0],X[j,1],'bo')\n",
        "plt.show()"
      ],
      "metadata": {
        "colab": {
          "base_uri": "https://localhost:8080/",
          "height": 265
        },
        "id": "LkL-mvww2HH2",
        "outputId": "5e215b6f-4c3a-4296-e8ea-59a5ff99112e"
      },
      "execution_count": null,
      "outputs": [
        {
          "output_type": "display_data",
          "data": {
            "text/plain": [
              "<Figure size 432x288 with 1 Axes>"
            ],
            "image/png": "[encoded data removed]"
          },
          "metadata": {
            "needs_background": "light"
          }
        }
      ]
    },
    {
      "cell_type": "code",
      "source": [
        "# 예측에 사용할 sample 구성\n",
        "Xnew = np.random.rand(100,2); \n",
        "Xnew[:,0]=-1.2 + 3.2*Xnew[:,0]; \n",
        "Xnew[:,1]=-0.6 + 1.8*Xnew[:,1];"
      ],
      "metadata": {
        "id": "GrRbjleM2Kb2"
      },
      "execution_count": null,
      "outputs": []
    },
    {
      "cell_type": "code",
      "source": [
        "# 파이프라인\n",
        "from sklearn.preprocessing import PolynomialFeatures\n",
        "polynomial_svm_clf = Pipeline([\n",
        "    (\"poly_features\", PolynomialFeatures(degree=3)),\n",
        "    (\"scaler\",StandardScaler()),\n",
        "    (\"svm_clf\",LinearSVC(C=10, loss=\"hinge\"))\n",
        "    ])"
      ],
      "metadata": {
        "id": "hSIu0_Ix2VWy"
      },
      "execution_count": null,
      "outputs": []
    },
    {
      "cell_type": "code",
      "source": [
        "# 학습 및 예측\n",
        "polynomial_svm_clf.fit(X,y)\n",
        "ynew = polynomial_svm_clf.predict(Xnew)"
      ],
      "metadata": {
        "colab": {
          "base_uri": "https://localhost:8080/"
        },
        "id": "t9Xc6cxw2Y3k",
        "outputId": "b1c1c6e5-b0a5-42be-83ae-cf47bc90471e"
      },
      "execution_count": null,
      "outputs": [
        {
          "output_type": "stream",
          "name": "stderr",
          "text": [
            "/usr/local/lib/python3.7/dist-packages/sklearn/svm/_base.py:1208: ConvergenceWarning: Liblinear failed to converge, increase the number of iterations.\n",
            "  ConvergenceWarning,\n"
          ]
        }
      ]
    },
    {
      "cell_type": "code",
      "source": [
        "# 학습에 사용한 데이터\n",
        "for j in range(len(X)):\n",
        "    if y[j] == 1:\n",
        "        plt.plot(X[j,0],X[j,1],'r*')\n",
        "    else:\n",
        "        plt.plot(X[j,0],X[j,1],'bo')\n",
        "\n",
        "# 예측을 통해 나온 데이터\n",
        "for j in range(len(Xnew)):\n",
        "    if ynew[j] == 1:\n",
        "        plt.plot(Xnew[j,0],Xnew[j,1],'mv')\n",
        "    else:\n",
        "        plt.plot(Xnew[j,0],Xnew[j,1],'c^')\n",
        "plt.title(\"Linear3,\")          \n",
        "plt.show()"
      ],
      "metadata": {
        "colab": {
          "base_uri": "https://localhost:8080/",
          "height": 281
        },
        "id": "VUlUOhzh2e2f",
        "outputId": "4530ede4-205a-427e-abf7-a625c0ed6ce1"
      },
      "execution_count": null,
      "outputs": [
        {
          "output_type": "display_data",
          "data": {
            "text/plain": [
              "<Figure size 432x288 with 1 Axes>"
            ],
            "image/png": "[encoded data removed]"
          },
          "metadata": {
            "needs_background": "light"
          }
        }
      ]
    },
    {
      "cell_type": "markdown",
      "source": [
        "### 5.2.1. 다항식 커널"
      ],
      "metadata": {
        "id": "98xLCovo2iCy"
      }
    },
    {
      "cell_type": "code",
      "source": [
        "from sklearn.svm import SVC"
      ],
      "metadata": {
        "id": "D0TmUNhU27tj"
      },
      "execution_count": null,
      "outputs": []
    },
    {
      "cell_type": "code",
      "source": [
        "# 파이프라인(degree=3)\n",
        "poly_kernel_svm_clf1 = Pipeline([\n",
        "    (\"scaler\",StandardScaler()),\n",
        "    # degree: 다항식 커널의 차수 결정\n",
        "    # cof0: 다항식 커널에 있는 상수항\n",
        "    # C: 오류를 얼마나 허용할 것인지(클수록 하드마진, 작을수록 소프트마진에 가까움)\n",
        "    (\"svm_clf\",SVC(kernel=\"poly\", degree=3, coef0=1, C=5))\n",
        "    ])"
      ],
      "metadata": {
        "id": "umVZgBui28D3"
      },
      "execution_count": null,
      "outputs": []
    },
    {
      "cell_type": "code",
      "source": [
        "# 학습 및 예측\n",
        "poly_kernel_svm_clf1.fit(X,y)\n",
        "ynew = poly_kernel_svm_clf1.predict(Xnew)"
      ],
      "metadata": {
        "id": "m4E3ETaV2_z-"
      },
      "execution_count": null,
      "outputs": []
    },
    {
      "cell_type": "code",
      "source": [
        "for j in range(len(X)):\n",
        "    if y[j] == 1:\n",
        "        plt.plot(X[j,0],X[j,1],'r*')\n",
        "    else:\n",
        "        plt.plot(X[j,0],X[j,1],'bo')\n",
        "for j in range(len(Xnew)):\n",
        "    if ynew[j] == 1:\n",
        "        plt.plot(Xnew[j,0],Xnew[j,1],'mv')\n",
        "    else:\n",
        "        plt.plot(Xnew[j,0],Xnew[j,1],'c^')\n",
        "plt.title(\"Poly3\")          \n",
        "plt.show()"
      ],
      "metadata": {
        "colab": {
          "base_uri": "https://localhost:8080/",
          "height": 281
        },
        "id": "Q7oCTZx53DCg",
        "outputId": "de299690-4b2e-4df3-d215-cf6b2b551ece"
      },
      "execution_count": null,
      "outputs": [
        {
          "output_type": "display_data",
          "data": {
            "text/plain": [
              "<Figure size 432x288 with 1 Axes>"
            ],
            "image/png": "[encoded data removed]"
          },
          "metadata": {
            "needs_background": "light"
          }
        }
      ]
    },
    {
      "cell_type": "code",
      "source": [
        "# 파이프라인(degree=10)\n",
        "poly_kernel_svm_clf2 = Pipeline([\n",
        "    (\"scaler\",StandardScaler()),\n",
        "    (\"svm_clf\",SVC(kernel=\"poly\", degree=10, coef0=100, C=5))\n",
        "    ])"
      ],
      "metadata": {
        "id": "mNFHRLR53GFl"
      },
      "execution_count": null,
      "outputs": []
    },
    {
      "cell_type": "code",
      "source": [
        "# 학습 및 예측\n",
        "poly_kernel_svm_clf2.fit(X,y)\n",
        "ynew = poly_kernel_svm_clf2.predict(Xnew)"
      ],
      "metadata": {
        "id": "YRouIZ2Y3eHQ"
      },
      "execution_count": null,
      "outputs": []
    },
    {
      "cell_type": "code",
      "source": [
        "for j in range(len(X)):\n",
        "    if y[j] == 1:\n",
        "        plt.plot(X[j,0],X[j,1],'r*')\n",
        "    else:\n",
        "        plt.plot(X[j,0],X[j,1],'bo')\n",
        "for j in range(len(Xnew)):\n",
        "    if ynew[j] == 1:\n",
        "        plt.plot(Xnew[j,0],Xnew[j,1],'mv')\n",
        "    else:\n",
        "        plt.plot(Xnew[j,0],Xnew[j,1],'c^')\n",
        "plt.title(\"Poly10\")        \n",
        "plt.show()"
      ],
      "metadata": {
        "colab": {
          "base_uri": "https://localhost:8080/",
          "height": 281
        },
        "id": "iEefwmYG3uBL",
        "outputId": "3889d798-a874-4cae-86f8-54c7d0d8af00"
      },
      "execution_count": null,
      "outputs": [
        {
          "output_type": "display_data",
          "data": {
            "text/plain": [
              "<Figure size 432x288 with 1 Axes>"
            ],
            "image/png": "[encoded data removed]"
          },
          "metadata": {
            "needs_background": "light"
          }
        }
      ]
    },
    {
      "cell_type": "markdown",
      "source": [
        "### 5.2.3. 가우시안 RBF 커널"
      ],
      "metadata": {
        "id": "ie43jMML3wE8"
      }
    },
    {
      "cell_type": "code",
      "source": [
        "# 파이프라인\n",
        "rbf_kernel_svm_clf = Pipeline([\n",
        "    (\"scaler\",StandardScaler()),\n",
        "    # gamma: 결정경계를 얼마나 유연하게 그릴지 결정(클수록 오버피팅 발생 가능성 높아짐)\n",
        "    (\"svm_clf\",SVC(kernel=\"rbf\", gamma=5, C=0.001))\n",
        "    ])"
      ],
      "metadata": {
        "id": "CeLyTuwK32Xj"
      },
      "execution_count": null,
      "outputs": []
    },
    {
      "cell_type": "code",
      "source": [
        "# 학습 및 예측\n",
        "rbf_kernel_svm_clf.fit(X,y)\n",
        "ynew = rbf_kernel_svm_clf.predict(Xnew)"
      ],
      "metadata": {
        "id": "JBLuTEau37U7"
      },
      "execution_count": null,
      "outputs": []
    },
    {
      "cell_type": "code",
      "source": [
        "for j in range(len(X)):\n",
        "    if y[j] == 1:\n",
        "        plt.plot(X[j,0],X[j,1],'r*')\n",
        "    else:\n",
        "        plt.plot(X[j,0],X[j,1],'bo')\n",
        "for j in range(len(Xnew)):\n",
        "    if ynew[j] == 1:\n",
        "        plt.plot(Xnew[j,0],Xnew[j,1],'mv')\n",
        "    else:\n",
        "        plt.plot(Xnew[j,0],Xnew[j,1],'c^')\n",
        "plt.title(\"RBF\")        \n",
        "plt.show()"
      ],
      "metadata": {
        "colab": {
          "base_uri": "https://localhost:8080/",
          "height": 281
        },
        "id": "UKPd-oEg3981",
        "outputId": "a1ad0681-8d47-48ab-b6aa-786ded0ad63b"
      },
      "execution_count": null,
      "outputs": [
        {
          "output_type": "display_data",
          "data": {
            "text/plain": [
              "<Figure size 432x288 with 1 Axes>"
            ],
            "image/png": "[encoded data removed]"
          },
          "metadata": {
            "needs_background": "light"
          }
        }
      ]
    },
    {
      "cell_type": "markdown",
      "source": [
        "## 5.3. SVM 회귀"
      ],
      "metadata": {
        "id": "8lOO_BDh3_JQ"
      }
    },
    {
      "cell_type": "code",
      "source": [
        "from sklearn.svm import LinearSVR\n",
        "# epsilon=1.5\n",
        "svm_reg = LinearSVR(epsilon=1.5)\n",
        "# epsilon: 도로폭(허용오차)"
      ],
      "metadata": {
        "id": "azCYzztO4Dw_"
      },
      "execution_count": null,
      "outputs": []
    },
    {
      "cell_type": "code",
      "source": [
        "# 학습 및 예측\n",
        "svm_reg.fit(X,y) \n",
        "ynew = svm_reg.predict(Xnew)"
      ],
      "metadata": {
        "id": "6gBDzhVY4GNv"
      },
      "execution_count": null,
      "outputs": []
    },
    {
      "cell_type": "code",
      "source": [
        "for j in range(len(X)):\n",
        "    if y[j] == 1:\n",
        "        plt.plot(X[j,0],X[j,1],'r*')\n",
        "    else:\n",
        "        plt.plot(X[j,0],X[j,1],'bo')\n",
        "for j in range(len(Xnew)):\n",
        "    if ynew[j] == 1:\n",
        "        plt.plot(Xnew[j,0],Xnew[j,1],'mv')\n",
        "    else:\n",
        "        plt.plot(Xnew[j,0],Xnew[j,1],'c^')\n",
        "plt.title(\"epsilon=1.5\")        \n",
        "plt.show()"
      ],
      "metadata": {
        "colab": {
          "base_uri": "https://localhost:8080/",
          "height": 281
        },
        "id": "df6KlcCe4cEB",
        "outputId": "d349eaf0-2e71-4dc5-9b91-4f67f1f99ce2"
      },
      "execution_count": null,
      "outputs": [
        {
          "output_type": "display_data",
          "data": {
            "text/plain": [
              "<Figure size 432x288 with 1 Axes>"
            ],
            "image/png": "[encoded data removed]"
          },
          "metadata": {
            "needs_background": "light"
          }
        }
      ]
    },
    {
      "cell_type": "code",
      "source": [
        "# epsilon=0.5\n",
        "svm_reg = LinearSVR(epsilon=0.5)\n",
        "svm_reg.fit(X,y)"
      ],
      "metadata": {
        "colab": {
          "base_uri": "https://localhost:8080/"
        },
        "id": "GC30yadq4df8",
        "outputId": "68817dc5-64d5-4f45-fe6d-c5e95a21afa5"
      },
      "execution_count": null,
      "outputs": [
        {
          "output_type": "execute_result",
          "data": {
            "text/plain": [
              "LinearSVR(epsilon=0.5)"
            ]
          },
          "metadata": {},
          "execution_count": 36
        }
      ]
    },
    {
      "cell_type": "code",
      "source": [
        "for j in range(len(X)):\n",
        "    if y[j] == 1:\n",
        "        plt.plot(X[j,0],X[j,1],'r*')\n",
        "    else:\n",
        "        plt.plot(X[j,0],X[j,1],'bo')\n",
        "for j in range(len(Xnew)):\n",
        "    if ynew[j] == 1:\n",
        "        plt.plot(Xnew[j,0],Xnew[j,1],'mv')\n",
        "    else:\n",
        "        plt.plot(Xnew[j,0],Xnew[j,1],'c^')\n",
        "plt.title(\"epsilon=0.5\")        \n",
        "plt.show()"
      ],
      "metadata": {
        "colab": {
          "base_uri": "https://localhost:8080/",
          "height": 281
        },
        "id": "wCmj1Uae4oen",
        "outputId": "3fe02a00-5ac1-4041-def2-6d3723f88977"
      },
      "execution_count": null,
      "outputs": [
        {
          "output_type": "display_data",
          "data": {
            "text/plain": [
              "<Figure size 432x288 with 1 Axes>"
            ],
            "image/png": "[encoded data removed]"
          },
          "metadata": {
            "needs_background": "light"
          }
        }
      ]
    },
    {
      "cell_type": "code",
      "source": [
        "# epsilon=0.1\n",
        "svm_reg = LinearSVR(epsilon=0.1)\n",
        "svm_reg.fit(X,y)"
      ],
      "metadata": {
        "colab": {
          "base_uri": "https://localhost:8080/"
        },
        "id": "_3X2jxsr4sBU",
        "outputId": "4006ae4d-b455-4043-8cb5-961303bc9d2e"
      },
      "execution_count": null,
      "outputs": [
        {
          "output_type": "execute_result",
          "data": {
            "text/plain": [
              "LinearSVR(epsilon=0.1)"
            ]
          },
          "metadata": {},
          "execution_count": 38
        }
      ]
    },
    {
      "cell_type": "code",
      "source": [
        "for j in range(len(X)):\n",
        "    if y[j] == 1:\n",
        "        plt.plot(X[j,0],X[j,1],'r*')\n",
        "    else:\n",
        "        plt.plot(X[j,0],X[j,1],'bo')\n",
        "for j in range(len(Xnew)):\n",
        "    if ynew[j] == 1:\n",
        "        plt.plot(Xnew[j,0],Xnew[j,1],'mv')\n",
        "    else:\n",
        "        plt.plot(Xnew[j,0],Xnew[j,1],'c^')\n",
        "plt.title(\"epsilon=0.1\")        \n",
        "plt.show()"
      ],
      "metadata": {
        "colab": {
          "base_uri": "https://localhost:8080/",
          "height": 281
        },
        "id": "nR3yqGjU403E",
        "outputId": "cb9d18fd-2313-437c-fe95-89f23a07a047"
      },
      "execution_count": null,
      "outputs": [
        {
          "output_type": "display_data",
          "data": {
            "text/plain": [
              "<Figure size 432x288 with 1 Axes>"
            ],
            "image/png": "[encoded data removed]"
          },
          "metadata": {
            "needs_background": "light"
          }
        }
      ]
    },
    {
      "cell_type": "markdown",
      "source": [
        "# 추가 활동\n",
        "* 확률적 경사 하강법을 이용해 SVM 훈련하고 모듈을 사용한 결과와 비교해보기"
      ],
      "metadata": {
        "id": "LZscZfdvUn8s"
      }
    },
    {
      "cell_type": "code",
      "source": [
        "from sklearn.model_selection import train_test_split\n",
        "from sklearn.datasets import make_moons\n",
        "import pandas as pd\n",
        "from sklearn.preprocessing import StandardScaler\n",
        "from sklearn.metrics import confusion_matrix"
      ],
      "metadata": {
        "id": "aE0o2C44Wxq5"
      },
      "execution_count": 27,
      "outputs": []
    },
    {
      "cell_type": "markdown",
      "source": [
        "## 데이터셋 구성"
      ],
      "metadata": {
        "id": "TmM5xVvJXMnz"
      }
    },
    {
      "cell_type": "code",
      "source": [
        "X,y = make_moons(n_samples=100, noise=0.15)\n",
        "\n",
        "X_train, X_test, y_train, y_test = train_test_split(X, y, random_state=11)"
      ],
      "metadata": {
        "id": "IMKXyAx0UqGn"
      },
      "execution_count": 5,
      "outputs": []
    },
    {
      "cell_type": "markdown",
      "source": [
        "## 정규화"
      ],
      "metadata": {
        "id": "uQ1SElZCF2lE"
      }
    },
    {
      "cell_type": "code",
      "source": [
        "scaler = StandardScaler()\n",
        "X_train = scaler.fit_transform(X_train)\n",
        "X_test = scaler.transform(X_test)"
      ],
      "metadata": {
        "id": "8u6oGJ8nF38J"
      },
      "execution_count": 15,
      "outputs": []
    },
    {
      "cell_type": "markdown",
      "source": [
        "## 확률적 경사 하강법 사용"
      ],
      "metadata": {
        "id": "knb_DMftXLQQ"
      }
    },
    {
      "cell_type": "markdown",
      "source": [
        "### gradient 계산 전 사전 준비\n",
        "* 우리가 찾고자 하는 것: 최적의 hyperplane\n",
        "* C: 오류를 얼마나 허용할 것인지(클수록 하드마진, 작을수록 소프트마진에 가까움)\n",
        "* lambda: 2/C\n",
        "* f(xi) = w.T.dot(xi) + b\n",
        "* w는 벡터(1차원 배열)\n",
        "  - xi와 dot 되어야 하므로 shape가 중요"
      ],
      "metadata": {
        "id": "beQkUGkQluPm"
      }
    },
    {
      "cell_type": "code",
      "source": [
        "# xi의 shape 확인\n",
        "X_train[1].shape, y_train[1].shape"
      ],
      "metadata": {
        "colab": {
          "base_uri": "https://localhost:8080/"
        },
        "id": "41EFvTj_vdmg",
        "outputId": "e9a23229-3b6d-4e46-f1a6-7f197b61e923"
      },
      "execution_count": 60,
      "outputs": [
        {
          "output_type": "execute_result",
          "data": {
            "text/plain": [
              "((2,), (1,))"
            ]
          },
          "metadata": {},
          "execution_count": 60
        }
      ]
    },
    {
      "cell_type": "code",
      "source": [
        "# x와 dot해야 하므로 맞추어 임의의 1차원 배열 생성\n",
        "w = np.random.randn(2)\n",
        "b = np.random.randn(1)"
      ],
      "metadata": {
        "id": "SKPa28shMXVA"
      },
      "execution_count": 99,
      "outputs": []
    },
    {
      "cell_type": "code",
      "source": [
        "w, b"
      ],
      "metadata": {
        "colab": {
          "base_uri": "https://localhost:8080/"
        },
        "id": "uWH8AqinMYY9",
        "outputId": "7a1f5473-febb-4d02-ee79-cda0802a4aa7"
      },
      "execution_count": 100,
      "outputs": [
        {
          "output_type": "execute_result",
          "data": {
            "text/plain": [
              "(array([-0.96567488,  0.16112107]), array([0.09895902]))"
            ]
          },
          "metadata": {},
          "execution_count": 100
        }
      ]
    },
    {
      "cell_type": "code",
      "source": [
        "C = 1\n",
        "# lambda(예약어)\n",
        "lambda_ = 2/C"
      ],
      "metadata": {
        "id": "6qGLtHDawfef"
      },
      "execution_count": 101,
      "outputs": []
    },
    {
      "cell_type": "code",
      "source": [
        "n_epochs = 500\n",
        "t0, t1 = 5, 100\n",
        "\n",
        "# 학습 스케줄 : 매 반복에서 학습률을 결정\n",
        "def learning_schedule(t):\n",
        "  return t0 / (t+t1)\n",
        "\n",
        "m = len(X_train)\n",
        "\n",
        "for epoch in range(n_epochs): # 에포크만큼 반복\n",
        "  for i in range(m):\n",
        "    random_index = pd.Series(np.random.randint(m))\n",
        "\n",
        "    y_train = np.array(y_train)\n",
        "    y_train = y_train.reshape(-1, 1)\n",
        "\n",
        "    xi = X_train[int(random_index):int(random_index)+1]\n",
        "    yi = y_train[int(random_index):int(random_index)+1]\n",
        "\n",
        "    if b < (1/yi - w.dot(xi.T)).all():\n",
        "      gradients = lambda_ * w - xi*yi\n",
        "    else:\n",
        "      gradients = lambda_  * w\n",
        "    eta = learning_schedule(epoch * m + i)\n",
        "    w = w - eta * gradients"
      ],
      "metadata": {
        "colab": {
          "base_uri": "https://localhost:8080/"
        },
        "id": "Ufcwrab1XTnd",
        "outputId": "150c3e73-a515-4b1f-8a9a-c3eddd62ea9d"
      },
      "execution_count": 102,
      "outputs": [
        {
          "output_type": "stream",
          "name": "stderr",
          "text": [
            "/usr/local/lib/python3.7/dist-packages/ipykernel_launcher.py:20: RuntimeWarning: divide by zero encountered in true_divide\n"
          ]
        }
      ]
    },
    {
      "cell_type": "code",
      "source": [
        "w, b"
      ],
      "metadata": {
        "colab": {
          "base_uri": "https://localhost:8080/"
        },
        "id": "v5ivs6ofzzLm",
        "outputId": "bbfec3df-b818-4cdf-9f4c-bd9a7e4391e5"
      },
      "execution_count": 103,
      "outputs": [
        {
          "output_type": "execute_result",
          "data": {
            "text/plain": [
              "(array([[ 0.13666656, -0.17832469]]), array([0.09895902]))"
            ]
          },
          "metadata": {},
          "execution_count": 103
        }
      ]
    },
    {
      "cell_type": "code",
      "source": [
        "w.shape, X_test[1].shape"
      ],
      "metadata": {
        "colab": {
          "base_uri": "https://localhost:8080/"
        },
        "id": "SbAAZHKuNjp-",
        "outputId": "7b8e663c-f30e-4c06-f735-daa319516388"
      },
      "execution_count": 119,
      "outputs": [
        {
          "output_type": "execute_result",
          "data": {
            "text/plain": [
              "((1, 2), (2,))"
            ]
          },
          "metadata": {},
          "execution_count": 119
        }
      ]
    },
    {
      "cell_type": "code",
      "source": [
        "w.dot(X_test[13] + b)"
      ],
      "metadata": {
        "colab": {
          "base_uri": "https://localhost:8080/"
        },
        "id": "64l7hCfYPn8r",
        "outputId": "bf2f79d7-573a-4468-ea07-d5615dd9aa67"
      },
      "execution_count": 130,
      "outputs": [
        {
          "output_type": "execute_result",
          "data": {
            "text/plain": [
              "array([-0.38615418])"
            ]
          },
          "metadata": {},
          "execution_count": 130
        }
      ]
    },
    {
      "cell_type": "code",
      "source": [
        "SGD_value = [] # 연산하여 값을 넣은 리스트\n",
        "SGD_pred = [] # 연산한 값을 분류하여 최종적으로 예측한 클래스를 넣을 리스트\n",
        "# X_test의 각 줄의 데이터를 가져와 연산하여 클래스를 구분\n",
        "for item in X_test:\n",
        "  SGD_value.append(w.dot(item) + b)\n",
        "for value in SGD_value: # 연산한 값을 가져와 반복\n",
        "  if value > 0:\n",
        "    SGD_pred.append(1)\n",
        "  else:\n",
        "    SGD_pred.append(0)"
      ],
      "metadata": {
        "id": "MP2aYSg1Hsi2"
      },
      "execution_count": 135,
      "outputs": []
    },
    {
      "cell_type": "code",
      "source": [
        "SGD_pred"
      ],
      "metadata": {
        "colab": {
          "base_uri": "https://localhost:8080/"
        },
        "id": "dn2tZySoPaec",
        "outputId": "78bc4ce4-3a6a-4ee7-cb21-02bdd62f11b5"
      },
      "execution_count": 136,
      "outputs": [
        {
          "output_type": "execute_result",
          "data": {
            "text/plain": [
              "[0, 1, 1, 1, 1, 1, 1, 1, 1, 0, 0, 1, 1, 0, 0, 1, 0, 1, 1, 1, 1, 1, 1, 1, 0]"
            ]
          },
          "metadata": {},
          "execution_count": 136
        }
      ]
    },
    {
      "cell_type": "code",
      "source": [
        "cm = confusion_matrix(y_test, SGD_pred)\n",
        "cm"
      ],
      "metadata": {
        "colab": {
          "base_uri": "https://localhost:8080/"
        },
        "id": "kLA5XnHpQs-F",
        "outputId": "1491e4c9-26a7-4828-d38c-a9e183168c84"
      },
      "execution_count": 137,
      "outputs": [
        {
          "output_type": "execute_result",
          "data": {
            "text/plain": [
              "array([[ 7,  1],\n",
              "       [ 0, 17]])"
            ]
          },
          "metadata": {},
          "execution_count": 137
        }
      ]
    },
    {
      "cell_type": "markdown",
      "source": [
        "## 모듈 사용"
      ],
      "metadata": {
        "id": "4iWzJBps1Q3k"
      }
    },
    {
      "cell_type": "code",
      "source": [
        "from sklearn.svm import SVC"
      ],
      "metadata": {
        "id": "DE8r4t0nFiGV"
      },
      "execution_count": 26,
      "outputs": []
    },
    {
      "cell_type": "code",
      "source": [
        "svc_module = SVC(C=1).fit(X_train, y_train)\n",
        "svc_module_pred = svc_module.predict(X_test)"
      ],
      "metadata": {
        "colab": {
          "base_uri": "https://localhost:8080/"
        },
        "id": "oKbhVIYfFi02",
        "outputId": "02b9d82d-ef65-49b2-c5bc-1e830cf322f1"
      },
      "execution_count": 25,
      "outputs": [
        {
          "output_type": "stream",
          "name": "stderr",
          "text": [
            "/usr/local/lib/python3.7/dist-packages/sklearn/utils/validation.py:993: DataConversionWarning: A column-vector y was passed when a 1d array was expected. Please change the shape of y to (n_samples, ), for example using ravel().\n",
            "  y = column_or_1d(y, warn=True)\n"
          ]
        }
      ]
    },
    {
      "cell_type": "code",
      "source": [
        "cm = confusion_matrix(y_test, svc_module_pred)\n",
        "cm"
      ],
      "metadata": {
        "colab": {
          "base_uri": "https://localhost:8080/"
        },
        "id": "cBpVB876G1VO",
        "outputId": "09d3596d-71a5-49bf-d401-0abb87731248"
      },
      "execution_count": 31,
      "outputs": [
        {
          "output_type": "execute_result",
          "data": {
            "text/plain": [
              "array([[ 8,  0],\n",
              "       [ 0, 17]])"
            ]
          },
          "metadata": {},
          "execution_count": 31
        }
      ]
    },
    {
      "cell_type": "markdown",
      "source": [
        "> 확률적 경사 하강법으로 예측한 분류 성능과 비슷한 성능을 보였음\n"
      ],
      "metadata": {
        "id": "nX8D11hWG7uK"
      }
    }
  ]
}