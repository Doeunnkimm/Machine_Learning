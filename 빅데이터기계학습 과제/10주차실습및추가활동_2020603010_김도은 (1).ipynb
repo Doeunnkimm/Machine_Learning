{
  "cells": [
    {
      "cell_type": "markdown",
      "metadata": {
        "id": "iLf9wdHW8MMP"
      },
      "source": [
        "**6장 – 결정 트리**"
      ]
    },
    {
      "cell_type": "markdown",
      "metadata": {
        "id": "MtsYDSi08MMa"
      },
      "source": [
        "먼저 몇 개의 모듈을 임포트합니다. 맷플롯립 그래프를 인라인으로 출력하도록 만들고 그림을 저장하는 함수를 준비합니다. 또한 파이썬 버전이 3.5 이상인지 확인합니다(파이썬 2.x에서도 동작하지만 곧 지원이 중단되므로 파이썬 3을 사용하는 것이 좋습니다). 사이킷런 버전이 0.20 이상인지도 확인합니다."
      ]
    },
    {
      "cell_type": "code",
      "execution_count": null,
      "metadata": {
        "execution": {
          "iopub.execute_input": "2021-10-23T12:53:07.215807Z",
          "iopub.status.busy": "2021-10-23T12:53:07.214689Z",
          "iopub.status.idle": "2021-10-23T12:53:08.708427Z",
          "shell.execute_reply": "2021-10-23T12:53:08.709400Z"
        },
        "id": "SpBVHQGe8MMb"
      },
      "outputs": [],
      "source": [
        "# 파이썬 ≥3.5 필수\n",
        "import sys\n",
        "assert sys.version_info >= (3, 5)\n",
        "\n",
        "# 사이킷런 ≥0.20 필수\n",
        "import sklearn\n",
        "assert sklearn.__version__ >= \"0.20\"\n",
        "\n",
        "# 공통 모듈 임포트\n",
        "import numpy as np\n",
        "import os\n",
        "\n",
        "# 노트북 실행 결과를 동일하게 유지하기 위해\n",
        "np.random.seed(42)\n",
        "\n",
        "# 깔끔한 그래프 출력을 위해\n",
        "%matplotlib inline\n",
        "import matplotlib as mpl\n",
        "import matplotlib.pyplot as plt\n",
        "mpl.rc('axes', labelsize=14)\n",
        "mpl.rc('xtick', labelsize=12)\n",
        "mpl.rc('ytick', labelsize=12)"
      ]
    },
    {
      "cell_type": "markdown",
      "metadata": {
        "id": "oNvTvss68MMe"
      },
      "source": [
        "# 결정 트리 학습과 시각화"
      ]
    },
    {
      "cell_type": "code",
      "execution_count": null,
      "metadata": {
        "execution": {
          "iopub.execute_input": "2021-10-23T12:53:08.716962Z",
          "iopub.status.busy": "2021-10-23T12:53:08.715975Z",
          "iopub.status.idle": "2021-10-23T12:53:08.967541Z",
          "shell.execute_reply": "2021-10-23T12:53:08.966581Z"
        },
        "id": "sgyHNzAs8MMf",
        "outputId": "198ddd64-f06e-4fe2-f243-131eb5473593",
        "colab": {
          "base_uri": "https://localhost:8080/"
        }
      },
      "outputs": [
        {
          "output_type": "execute_result",
          "data": {
            "text/plain": [
              "DecisionTreeClassifier(max_depth=2, random_state=42)"
            ]
          },
          "metadata": {},
          "execution_count": 3
        }
      ],
      "source": [
        "from sklearn.datasets import load_iris\n",
        "from sklearn.tree import DecisionTreeClassifier\n",
        "\n",
        "iris = load_iris()\n",
        "X = iris.data[:, 2:] # 꽃잎 길이와 너비\n",
        "y = iris.target\n",
        "\n",
        "tree_clf = DecisionTreeClassifier(max_depth=2, random_state=42)\n",
        "tree_clf.fit(X, y)"
      ]
    },
    {
      "cell_type": "markdown",
      "metadata": {
        "id": "3Q_fFRkl8MMh"
      },
      "source": [
        "**<그림 6-1. 붓꽃 결정 트리> 생성 코드**"
      ]
    },
    {
      "cell_type": "markdown",
      "metadata": {
        "id": "NbXlUfUs8MMj"
      },
      "source": [
        "# 예측하기"
      ]
    },
    {
      "cell_type": "markdown",
      "metadata": {
        "id": "wJk_W1wa8MMj"
      },
      "source": [
        "**식 6-1: 지니 불순도**\n",
        "\n",
        "$\n",
        "G_i = 1 - \\sum\\limits_{k=1}^{n}{{p_{i,k}}^2}\n",
        "$\n",
        "\n",
        "**식 6-3: 엔트로피 불순도**\n",
        "\n",
        "$\n",
        "H_i = -\\sum\\limits_{k=1 \\atop p_{i,k} \\ne 0}^{n}{{p_{i,k}}\\log_2(p_{i,k})}\n",
        "$\n",
        "\n",
        "\n",
        "**식 6-2: 분류에 대한 CART 비용 함수**\n",
        "\n",
        "$\n",
        "\\begin{split}\n",
        "&J(k, t_k) = \\dfrac{m_{\\text{left}}}{m}G_\\text{left} + \\dfrac{m_{\\text{right}}}{m}G_{\\text{right}}\\\\\n",
        "&\\text{여기에서 }\\begin{cases}\n",
        "G_\\text{left/right} \\text{는 왼쪽/오른쪽 서브셋의 불순도}\\\\\n",
        "m_\\text{left/right} \\text{는 왼쪽/오른쪽 서브셋의 샘플 수}\n",
        "\\end{cases}\n",
        "\\end{split}\n",
        "$"
      ]
    },
    {
      "cell_type": "markdown",
      "metadata": {
        "id": "f_WmzBxm8MMk"
      },
      "source": [
        "**<그림 6-2. 결정 트리의 결정 경계> 생성 코드**"
      ]
    },
    {
      "cell_type": "code",
      "execution_count": null,
      "metadata": {
        "execution": {
          "iopub.execute_input": "2021-10-23T12:53:09.079551Z",
          "iopub.status.busy": "2021-10-23T12:53:09.078548Z",
          "iopub.status.idle": "2021-10-23T12:53:10.623472Z",
          "shell.execute_reply": "2021-10-23T12:53:10.624564Z"
        },
        "id": "7bd9Z0d98MMk",
        "outputId": "8a00947d-af6d-4cb9-80ca-677520f78e70",
        "colab": {
          "base_uri": "https://localhost:8080/",
          "height": 291
        }
      },
      "outputs": [
        {
          "output_type": "display_data",
          "data": {
            "text/plain": [
              "<Figure size 576x288 with 1 Axes>"
            ],
            "image/png": "[encoded data removed]"
          },
          "metadata": {
            "needs_background": "light"
          }
        }
      ],
      "source": [
        "from matplotlib.colors import ListedColormap\n",
        "\n",
        "def plot_decision_boundary(clf, X, y, axes=[0, 7.5, 0, 3], iris=True, legend=False, plot_training=True):\n",
        "    x1s = np.linspace(axes[0], axes[1], 100)\n",
        "    x2s = np.linspace(axes[2], axes[3], 100)\n",
        "    x1, x2 = np.meshgrid(x1s, x2s)\n",
        "    X_new = np.c_[x1.ravel(), x2.ravel()]\n",
        "    y_pred = clf.predict(X_new).reshape(x1.shape)\n",
        "    custom_cmap = ListedColormap(['#fafab0','#9898ff','#a0faa0'])\n",
        "    plt.contourf(x1, x2, y_pred, alpha=0.3, cmap=custom_cmap)\n",
        "    if not iris:\n",
        "        custom_cmap2 = ListedColormap(['#7d7d58','#4c4c7f','#507d50'])\n",
        "        plt.contour(x1, x2, y_pred, cmap=custom_cmap2, alpha=0.8)\n",
        "    if plot_training:\n",
        "        plt.plot(X[:, 0][y==0], X[:, 1][y==0], \"yo\", label=\"Iris setosa\")\n",
        "        plt.plot(X[:, 0][y==1], X[:, 1][y==1], \"bs\", label=\"Iris versicolor\")\n",
        "        plt.plot(X[:, 0][y==2], X[:, 1][y==2], \"g^\", label=\"Iris virginica\")\n",
        "        plt.axis(axes)\n",
        "    if iris:\n",
        "        plt.xlabel(\"Petal length\", fontsize=14)\n",
        "        plt.ylabel(\"Petal width\", fontsize=14)\n",
        "    else:\n",
        "        plt.xlabel(r\"$x_1$\", fontsize=18)\n",
        "        plt.ylabel(r\"$x_2$\", fontsize=18, rotation=0)\n",
        "    if legend:\n",
        "        plt.legend(loc=\"lower right\", fontsize=14)\n",
        "\n",
        "plt.figure(figsize=(8, 4))\n",
        "plot_decision_boundary(tree_clf, X, y)\n",
        "plt.plot([2.45, 2.45], [0, 3], \"k-\", linewidth=2)\n",
        "plt.plot([2.45, 7.5], [1.75, 1.75], \"k--\", linewidth=2)\n",
        "plt.plot([4.95, 4.95], [0, 1.75], \"k:\", linewidth=2)\n",
        "plt.plot([4.85, 4.85], [1.75, 3], \"k:\", linewidth=2)\n",
        "plt.text(1.40, 1.0, \"Depth=0\", fontsize=15)\n",
        "plt.text(3.2, 1.80, \"Depth=1\", fontsize=13)\n",
        "plt.text(4.05, 0.5, \"(Depth=2)\", fontsize=11)\n",
        "plt.show()"
      ]
    },
    {
      "cell_type": "markdown",
      "metadata": {
        "id": "lBLdEvwW8MMl"
      },
      "source": [
        "# 클래스 확률 추정"
      ]
    },
    {
      "cell_type": "code",
      "execution_count": null,
      "metadata": {
        "execution": {
          "iopub.execute_input": "2021-10-23T12:53:10.632808Z",
          "iopub.status.busy": "2021-10-23T12:53:10.632121Z",
          "iopub.status.idle": "2021-10-23T12:53:10.651844Z",
          "shell.execute_reply": "2021-10-23T12:53:10.650809Z"
        },
        "id": "d0JJjqPG8MMm",
        "outputId": "dd231664-e6de-423d-eb53-d0c4b984cfbf",
        "colab": {
          "base_uri": "https://localhost:8080/"
        }
      },
      "outputs": [
        {
          "output_type": "execute_result",
          "data": {
            "text/plain": [
              "array([[0.        , 0.90740741, 0.09259259]])"
            ]
          },
          "metadata": {},
          "execution_count": 5
        }
      ],
      "source": [
        "tree_clf.predict_proba([[5, 1.5]])"
      ]
    },
    {
      "cell_type": "code",
      "execution_count": null,
      "metadata": {
        "execution": {
          "iopub.execute_input": "2021-10-23T12:53:10.659356Z",
          "iopub.status.busy": "2021-10-23T12:53:10.658066Z",
          "iopub.status.idle": "2021-10-23T12:53:10.664741Z",
          "shell.execute_reply": "2021-10-23T12:53:10.665367Z"
        },
        "id": "4fSc1O7b8MMm",
        "outputId": "cebb712b-463a-4c8d-f3ca-860cd0cca8b8",
        "colab": {
          "base_uri": "https://localhost:8080/"
        }
      },
      "outputs": [
        {
          "output_type": "execute_result",
          "data": {
            "text/plain": [
              "array([1])"
            ]
          },
          "metadata": {},
          "execution_count": 6
        }
      ],
      "source": [
        "tree_clf.predict([[5, 1.5]])"
      ]
    },
    {
      "cell_type": "markdown",
      "metadata": {
        "id": "4KfoszXX8MMm"
      },
      "source": [
        "# 규제 매개변수"
      ]
    },
    {
      "cell_type": "markdown",
      "metadata": {
        "id": "-VbarhBo8MMn"
      },
      "source": [
        "(회전 같은) 데이터셋의 작은 변화가 매우 다른 결정 트리를 만들었습니다.\n",
        "사이킷런에서 사용하는 CART 훈련 알고리즘은 확률적이기 때문에 동일한 데이터에서 같은 모델을 훈련하여 매번 매우 다른 모델을 만들 수 있습니다. 이를 확인하기 위해 `random_state`를 다른 값으로 지정해 보겠습니다:"
      ]
    },
    {
      "cell_type": "code",
      "execution_count": null,
      "metadata": {
        "execution": {
          "iopub.execute_input": "2021-10-23T12:53:10.673648Z",
          "iopub.status.busy": "2021-10-23T12:53:10.671403Z",
          "iopub.status.idle": "2021-10-23T12:53:10.678032Z",
          "shell.execute_reply": "2021-10-23T12:53:10.677452Z"
        },
        "id": "UO8271ew8MMn",
        "outputId": "956c4a4e-e912-409e-9d54-4691e87424a6",
        "colab": {
          "base_uri": "https://localhost:8080/"
        }
      },
      "outputs": [
        {
          "output_type": "execute_result",
          "data": {
            "text/plain": [
              "DecisionTreeClassifier(max_depth=2, random_state=40)"
            ]
          },
          "metadata": {},
          "execution_count": 7
        }
      ],
      "source": [
        "tree_clf_tweaked = DecisionTreeClassifier(max_depth=2, random_state=40)\n",
        "tree_clf_tweaked.fit(X, y)"
      ]
    },
    {
      "cell_type": "markdown",
      "metadata": {
        "id": "eImOpKHR8MMn"
      },
      "source": [
        "**<그림 6-8. 훈련 세트의 세부사항에 민감한 결정 트리> 생성 코드**"
      ]
    },
    {
      "cell_type": "code",
      "execution_count": null,
      "metadata": {
        "execution": {
          "iopub.execute_input": "2021-10-23T12:53:10.687273Z",
          "iopub.status.busy": "2021-10-23T12:53:10.686533Z",
          "iopub.status.idle": "2021-10-23T12:53:11.919984Z",
          "shell.execute_reply": "2021-10-23T12:53:11.921123Z"
        },
        "id": "DLFx-R0r8MMo",
        "outputId": "716a46e2-1f8e-40be-d1a9-c456ca39ecc5",
        "colab": {
          "base_uri": "https://localhost:8080/",
          "height": 291
        }
      },
      "outputs": [
        {
          "output_type": "display_data",
          "data": {
            "text/plain": [
              "<Figure size 576x288 with 1 Axes>"
            ],
            "image/png": "[encoded data removed]"
          },
          "metadata": {
            "needs_background": "light"
          }
        }
      ],
      "source": [
        "plt.figure(figsize=(8, 4))\n",
        "plot_decision_boundary(tree_clf_tweaked, X, y, legend=False)\n",
        "plt.plot([0, 7.5], [0.8, 0.8], \"k-\", linewidth=2)\n",
        "plt.plot([0, 7.5], [1.75, 1.75], \"k--\", linewidth=2)\n",
        "plt.text(1.0, 0.9, \"Depth=0\", fontsize=15)\n",
        "plt.text(1.0, 1.80, \"Depth=1\", fontsize=13)\n",
        "plt.show()"
      ]
    },
    {
      "cell_type": "markdown",
      "metadata": {
        "id": "LXJt5LgV8MMo"
      },
      "source": [
        "**<그림 6-3. min_samples_leaf 매개변수를 사용한 규제> 생성 코드**"
      ]
    },
    {
      "cell_type": "code",
      "execution_count": null,
      "metadata": {
        "execution": {
          "iopub.execute_input": "2021-10-23T12:53:11.926821Z",
          "iopub.status.busy": "2021-10-23T12:53:11.925080Z",
          "iopub.status.idle": "2021-10-23T12:53:14.297383Z",
          "shell.execute_reply": "2021-10-23T12:53:14.298691Z"
        },
        "id": "3J_Xpb3v8MMo",
        "outputId": "d195455e-2121-4ce3-edb7-15391eeb8ad6",
        "colab": {
          "base_uri": "https://localhost:8080/",
          "height": 308
        }
      },
      "outputs": [
        {
          "output_type": "display_data",
          "data": {
            "text/plain": [
              "<Figure size 720x288 with 2 Axes>"
            ],
            "image/png": "[encoded data removed]"
          },
          "metadata": {
            "needs_background": "light"
          }
        }
      ],
      "source": [
        "from sklearn.datasets import make_moons\n",
        "Xm, ym = make_moons(n_samples=100, noise=0.25, random_state=53)\n",
        "\n",
        "deep_tree_clf1 = DecisionTreeClassifier(random_state=42)\n",
        "deep_tree_clf2 = DecisionTreeClassifier(min_samples_leaf=4, random_state=42)\n",
        "deep_tree_clf1.fit(Xm, ym)\n",
        "deep_tree_clf2.fit(Xm, ym)\n",
        "\n",
        "fig, axes = plt.subplots(ncols=2, figsize=(10, 4), sharey=True)\n",
        "plt.sca(axes[0])\n",
        "plot_decision_boundary(deep_tree_clf1, Xm, ym, axes=[-1.5, 2.4, -1, 1.5], iris=False)\n",
        "plt.title(\"No restrictions\", fontsize=16)\n",
        "plt.sca(axes[1])\n",
        "plot_decision_boundary(deep_tree_clf2, Xm, ym, axes=[-1.5, 2.4, -1, 1.5], iris=False)\n",
        "plt.title(\"min_samples_leaf = {}\".format(deep_tree_clf2.min_samples_leaf), fontsize=14)\n",
        "plt.ylabel(\"\")\n",
        "plt.show()"
      ]
    },
    {
      "cell_type": "markdown",
      "metadata": {
        "id": "XmVkelnF8MMp"
      },
      "source": [
        "데이터셋을 회전하면 완전히 다른 결정 경계를 만듭니다:"
      ]
    },
    {
      "cell_type": "code",
      "execution_count": null,
      "metadata": {
        "execution": {
          "iopub.execute_input": "2021-10-23T12:53:14.304940Z",
          "iopub.status.busy": "2021-10-23T12:53:14.303197Z",
          "iopub.status.idle": "2021-10-23T12:53:14.786330Z",
          "shell.execute_reply": "2021-10-23T12:53:14.787259Z"
        },
        "id": "UP5VWmMu8MMp",
        "outputId": "a3b4fed8-b0ce-4eaa-945e-a21adc56a876",
        "colab": {
          "base_uri": "https://localhost:8080/",
          "height": 241
        }
      },
      "outputs": [
        {
          "output_type": "display_data",
          "data": {
            "text/plain": [
              "<Figure size 576x216 with 1 Axes>"
            ],
            "image/png": "[encoded data removed]"
          },
          "metadata": {
            "needs_background": "light"
          }
        }
      ],
      "source": [
        "angle = np.pi / 180 * 20\n",
        "rotation_matrix = np.array([[np.cos(angle), -np.sin(angle)], [np.sin(angle), np.cos(angle)]])\n",
        "Xr = X.dot(rotation_matrix)\n",
        "\n",
        "tree_clf_r = DecisionTreeClassifier(random_state=42)\n",
        "tree_clf_r.fit(Xr, y)\n",
        "\n",
        "plt.figure(figsize=(8, 3))\n",
        "plot_decision_boundary(tree_clf_r, Xr, y, axes=[0.5, 7.5, -1.0, 1], iris=False)\n",
        "\n",
        "plt.show()"
      ]
    },
    {
      "cell_type": "markdown",
      "metadata": {
        "id": "AE5q8ZMA8MMq"
      },
      "source": [
        "**<그림 6-7. 훈련 세트의 회전에 민감한 결정 트리> 생성 코드**"
      ]
    },
    {
      "cell_type": "code",
      "execution_count": null,
      "metadata": {
        "execution": {
          "iopub.execute_input": "2021-10-23T12:53:14.799508Z",
          "iopub.status.busy": "2021-10-23T12:53:14.798530Z",
          "iopub.status.idle": "2021-10-23T12:53:17.045378Z",
          "shell.execute_reply": "2021-10-23T12:53:17.046013Z"
        },
        "id": "VIurQJsD8MMq",
        "outputId": "8018be4a-4e9e-4775-aa8f-cc0b7dc6df74",
        "colab": {
          "base_uri": "https://localhost:8080/",
          "height": 290
        }
      },
      "outputs": [
        {
          "output_type": "display_data",
          "data": {
            "text/plain": [
              "<Figure size 720x288 with 2 Axes>"
            ],
            "image/png": "[encoded data removed]"
          },
          "metadata": {
            "needs_background": "light"
          }
        }
      ],
      "source": [
        "np.random.seed(6)\n",
        "Xs = np.random.rand(100, 2) - 0.5\n",
        "ys = (Xs[:, 0] > 0).astype(np.float32) * 2\n",
        "\n",
        "angle = np.pi / 4\n",
        "rotation_matrix = np.array([[np.cos(angle), -np.sin(angle)], [np.sin(angle), np.cos(angle)]])\n",
        "Xsr = Xs.dot(rotation_matrix)\n",
        "\n",
        "tree_clf_s = DecisionTreeClassifier(random_state=42)\n",
        "tree_clf_s.fit(Xs, ys)\n",
        "tree_clf_sr = DecisionTreeClassifier(random_state=42)\n",
        "tree_clf_sr.fit(Xsr, ys)\n",
        "\n",
        "fig, axes = plt.subplots(ncols=2, figsize=(10, 4), sharey=True)\n",
        "plt.sca(axes[0])\n",
        "plot_decision_boundary(tree_clf_s, Xs, ys, axes=[-0.7, 0.7, -0.7, 0.7], iris=False)\n",
        "plt.sca(axes[1])\n",
        "plot_decision_boundary(tree_clf_sr, Xsr, ys, axes=[-0.7, 0.7, -0.7, 0.7], iris=False)\n",
        "plt.ylabel(\"\")\n",
        "\n",
        "plt.show()"
      ]
    },
    {
      "cell_type": "markdown",
      "metadata": {
        "id": "ZRbwcwgA8MMq"
      },
      "source": [
        "# 회귀"
      ]
    },
    {
      "cell_type": "markdown",
      "metadata": {
        "id": "pJ8aFuv68MMr"
      },
      "source": [
        "간단한 선형 데이터셋을 준비합니다:"
      ]
    },
    {
      "cell_type": "code",
      "execution_count": null,
      "metadata": {
        "execution": {
          "iopub.execute_input": "2021-10-23T12:53:17.055576Z",
          "iopub.status.busy": "2021-10-23T12:53:17.054630Z",
          "iopub.status.idle": "2021-10-23T12:53:17.072235Z",
          "shell.execute_reply": "2021-10-23T12:53:17.072916Z"
        },
        "id": "hPs8pdj28MMr"
      },
      "outputs": [],
      "source": [
        "# 2차식으로 만든 데이터셋 + 잡음\n",
        "np.random.seed(42)\n",
        "m = 200\n",
        "X = np.random.rand(m, 1)\n",
        "y = 4 * (X - 0.5) ** 2\n",
        "y = y + np.random.randn(m, 1) / 10"
      ]
    },
    {
      "cell_type": "markdown",
      "metadata": {
        "id": "TdDkvFcx8MMr"
      },
      "source": [
        "**코드 예제:**"
      ]
    },
    {
      "cell_type": "code",
      "execution_count": null,
      "metadata": {
        "execution": {
          "iopub.execute_input": "2021-10-23T12:53:17.082878Z",
          "iopub.status.busy": "2021-10-23T12:53:17.081654Z",
          "iopub.status.idle": "2021-10-23T12:53:17.086702Z",
          "shell.execute_reply": "2021-10-23T12:53:17.087430Z"
        },
        "id": "WCedlJlT8MMs",
        "outputId": "f2a13078-4d74-4e43-f9fd-9368169e4acc",
        "colab": {
          "base_uri": "https://localhost:8080/"
        }
      },
      "outputs": [
        {
          "output_type": "execute_result",
          "data": {
            "text/plain": [
              "DecisionTreeRegressor(max_depth=2, random_state=42)"
            ]
          },
          "metadata": {},
          "execution_count": 14
        }
      ],
      "source": [
        "from sklearn.tree import DecisionTreeRegressor\n",
        "\n",
        "tree_reg = DecisionTreeRegressor(max_depth=2, random_state=42)\n",
        "tree_reg.fit(X, y)"
      ]
    },
    {
      "cell_type": "markdown",
      "metadata": {
        "id": "3m5T2pv88MMs"
      },
      "source": [
        "**<그림 6-5. 두 개의 결정 트리 회귀 모델의 예측> 생성 코드**"
      ]
    },
    {
      "cell_type": "code",
      "execution_count": null,
      "metadata": {
        "execution": {
          "iopub.execute_input": "2021-10-23T12:53:17.109083Z",
          "iopub.status.busy": "2021-10-23T12:53:17.107998Z",
          "iopub.status.idle": "2021-10-23T12:53:18.581377Z",
          "shell.execute_reply": "2021-10-23T12:53:18.582515Z"
        },
        "id": "HDsD4ymh8MMs",
        "outputId": "b3b278ed-92e0-4235-f4d7-e52d6cab86df",
        "colab": {
          "base_uri": "https://localhost:8080/",
          "height": 307
        }
      },
      "outputs": [
        {
          "output_type": "display_data",
          "data": {
            "text/plain": [
              "<Figure size 720x288 with 2 Axes>"
            ],
            "image/png": "[encoded data removed]"
          },
          "metadata": {
            "needs_background": "light"
          }
        }
      ],
      "source": [
        "from sklearn.tree import DecisionTreeRegressor\n",
        "\n",
        "tree_reg1 = DecisionTreeRegressor(random_state=42, max_depth=2)\n",
        "tree_reg2 = DecisionTreeRegressor(random_state=42, max_depth=3)\n",
        "tree_reg1.fit(X, y)\n",
        "tree_reg2.fit(X, y)\n",
        "\n",
        "def plot_regression_predictions(tree_reg, X, y, axes=[0, 1, -0.2, 1], ylabel=\"$y$\"):\n",
        "    x1 = np.linspace(axes[0], axes[1], 500).reshape(-1, 1)\n",
        "    y_pred = tree_reg.predict(x1)\n",
        "    plt.axis(axes)\n",
        "    plt.xlabel(\"$x_1$\", fontsize=18)\n",
        "    if ylabel:\n",
        "        plt.ylabel(ylabel, fontsize=18, rotation=0)\n",
        "    plt.plot(X, y, \"b.\")\n",
        "    plt.plot(x1, y_pred, \"r.-\", linewidth=2, label=r\"$\\hat{y}$\")\n",
        "\n",
        "fig, axes = plt.subplots(ncols=2, figsize=(10, 4), sharey=True)\n",
        "plt.sca(axes[0])\n",
        "plot_regression_predictions(tree_reg1, X, y)\n",
        "for split, style in ((0.1973, \"k-\"), (0.0917, \"k--\"), (0.7718, \"k--\")):\n",
        "    plt.plot([split, split], [-0.2, 1], style, linewidth=2)\n",
        "plt.text(0.21, 0.65, \"Depth=0\", fontsize=15)\n",
        "plt.text(0.01, 0.2, \"Depth=1\", fontsize=13)\n",
        "plt.text(0.65, 0.8, \"Depth=1\", fontsize=13)\n",
        "plt.legend(loc=\"upper center\", fontsize=18)\n",
        "plt.title(\"max_depth=2\", fontsize=14)\n",
        "\n",
        "plt.sca(axes[1])\n",
        "plot_regression_predictions(tree_reg2, X, y, ylabel=None)\n",
        "for split, style in ((0.1973, \"k-\"), (0.0917, \"k--\"), (0.7718, \"k--\")):\n",
        "    plt.plot([split, split], [-0.2, 1], style, linewidth=2)\n",
        "for split in (0.0458, 0.1298, 0.2873, 0.9040):\n",
        "    plt.plot([split, split], [-0.2, 1], \"k:\", linewidth=1)\n",
        "plt.text(0.3, 0.5, \"Depth=2\", fontsize=13)\n",
        "plt.title(\"max_depth=3\", fontsize=14)\n",
        "plt.show()"
      ]
    },
    {
      "cell_type": "markdown",
      "metadata": {
        "id": "tdxO58uo8MMu"
      },
      "source": [
        "**<그림 6-6. 결정 트리 회귀 모델의 규제> 생성 코드**"
      ]
    },
    {
      "cell_type": "code",
      "execution_count": null,
      "metadata": {
        "execution": {
          "iopub.execute_input": "2021-10-23T12:53:18.716933Z",
          "iopub.status.busy": "2021-10-23T12:53:18.715830Z",
          "iopub.status.idle": "2021-10-23T12:53:20.950387Z",
          "shell.execute_reply": "2021-10-23T12:53:20.951554Z"
        },
        "id": "qidx-5LV8MMu",
        "outputId": "33a92971-e6b8-4e02-92d1-a0573a394394",
        "colab": {
          "base_uri": "https://localhost:8080/",
          "height": 307
        }
      },
      "outputs": [
        {
          "output_type": "display_data",
          "data": {
            "text/plain": [
              "<Figure size 720x288 with 2 Axes>"
            ],
            "image/png": "[encoded data removed]"
          },
          "metadata": {
            "needs_background": "light"
          }
        }
      ],
      "source": [
        "tree_reg1 = DecisionTreeRegressor(random_state=42)\n",
        "tree_reg2 = DecisionTreeRegressor(random_state=42, min_samples_leaf=10)\n",
        "tree_reg1.fit(X, y)\n",
        "tree_reg2.fit(X, y)\n",
        "\n",
        "x1 = np.linspace(0, 1, 500).reshape(-1, 1)\n",
        "y_pred1 = tree_reg1.predict(x1)\n",
        "y_pred2 = tree_reg2.predict(x1)\n",
        "\n",
        "fig, axes = plt.subplots(ncols=2, figsize=(10, 4), sharey=True)\n",
        "\n",
        "plt.sca(axes[0])\n",
        "plt.plot(X, y, \"b.\")\n",
        "plt.plot(x1, y_pred1, \"r.-\", linewidth=2, label=r\"$\\hat{y}$\")\n",
        "plt.axis([0, 1, -0.2, 1.1])\n",
        "plt.xlabel(\"$x_1$\", fontsize=18)\n",
        "plt.ylabel(\"$y$\", fontsize=18, rotation=0)\n",
        "plt.legend(loc=\"upper center\", fontsize=18)\n",
        "plt.title(\"No restrictions\", fontsize=14)\n",
        "\n",
        "plt.sca(axes[1])\n",
        "plt.plot(X, y, \"b.\")\n",
        "plt.plot(x1, y_pred2, \"r.-\", linewidth=2, label=r\"$\\hat{y}$\")\n",
        "plt.axis([0, 1, -0.2, 1.1])\n",
        "plt.xlabel(\"$x_1$\", fontsize=18)\n",
        "plt.title(\"min_samples_leaf={}\".format(tree_reg2.min_samples_leaf), fontsize=14)\n",
        "plt.show()"
      ]
    },
    {
      "cell_type": "markdown",
      "source": [
        "# 추가활동\n",
        "* CART 알고리즘의 간단한 형태 구현\n",
        "  - 데이터: 붓꽃 데이터\n",
        "  - 깊이 2(최종 노드의 수 4개)\n",
        "* 방법\n",
        "  1. 전체 특성 4개 중 임의로 하나(k)를 고른다.\n",
        "  2. 해당 특성(k)의 최대값과 최소값 사이에 50개의 값(tk)에 대해 비용함수 J(k,tk)가 최소가 되는 tk를 선택한다(깊이 1완성)\n",
        "  3. 같은 방법으로 깊이 2를 완성한다.(이때 사용되었던 특성 k가 다시 사용될 수도 있다.)\n",
        "  4. 모듈을 사용한 것과 성능을 비교한다."
      ],
      "metadata": {
        "id": "M4d11kc_S9MI"
      }
    },
    {
      "cell_type": "markdown",
      "source": [
        "## 데이터셋 불러오기"
      ],
      "metadata": {
        "id": "V3TzKkYRTI-g"
      }
    },
    {
      "cell_type": "code",
      "source": [
        "from sklearn.datasets import load_iris\n",
        "\n",
        "iris = load_iris()\n",
        "X = iris['data']\n",
        "y = iris['target']"
      ],
      "metadata": {
        "id": "CiqWe6cLfqTk"
      },
      "execution_count": null,
      "outputs": []
    },
    {
      "cell_type": "markdown",
      "source": [
        "## 데이터셋 특징 살펴보기"
      ],
      "metadata": {
        "id": "LtX-iWKDhJMU"
      }
    },
    {
      "cell_type": "code",
      "source": [
        "iris.feature_names"
      ],
      "metadata": {
        "colab": {
          "base_uri": "https://localhost:8080/"
        },
        "id": "laUJWpCyhRHn",
        "outputId": "6a6bdb1c-9b69-4c10-de0f-f78f0d13d2c3"
      },
      "execution_count": null,
      "outputs": [
        {
          "output_type": "execute_result",
          "data": {
            "text/plain": [
              "['sepal length (cm)',\n",
              " 'sepal width (cm)',\n",
              " 'petal length (cm)',\n",
              " 'petal width (cm)']"
            ]
          },
          "metadata": {},
          "execution_count": 4
        }
      ]
    },
    {
      "cell_type": "code",
      "source": [
        "iris.target_names"
      ],
      "metadata": {
        "colab": {
          "base_uri": "https://localhost:8080/"
        },
        "id": "R76cxDJxlAea",
        "outputId": "90f904c1-82d4-4498-ab97-97454fcdab72"
      },
      "execution_count": null,
      "outputs": [
        {
          "output_type": "execute_result",
          "data": {
            "text/plain": [
              "array(['setosa', 'versicolor', 'virginica'], dtype='<U10')"
            ]
          },
          "metadata": {},
          "execution_count": 5
        }
      ]
    },
    {
      "cell_type": "code",
      "source": [
        "type(iris)\n",
        "# 슬라이싱하기도 어렵고 feature_name으로 데이터를 추출하기도 어려움"
      ],
      "metadata": {
        "colab": {
          "base_uri": "https://localhost:8080/"
        },
        "id": "lgJIp1RyitUI",
        "outputId": "8d354dd0-dffd-446b-b433-431e5a7d6952"
      },
      "execution_count": null,
      "outputs": [
        {
          "output_type": "execute_result",
          "data": {
            "text/plain": [
              "sklearn.utils.Bunch"
            ]
          },
          "metadata": {},
          "execution_count": 6
        }
      ]
    },
    {
      "cell_type": "code",
      "source": [
        "import pandas as pd\n",
        "# 데이터 조작을 편하게 하기 위해 데이터프레임 타입으로 변환\n",
        "df_iris = pd.DataFrame(iris['data'], columns=iris.feature_names)\n",
        "df_target = pd.Series(iris['target'])\n",
        "# feature 변수와 target 변수를 합친 데이터프레임도 하나 만들어둠\n",
        "df = df_iris.copy()\n",
        "df['target'] = iris['target']"
      ],
      "metadata": {
        "id": "digaBIOJi848"
      },
      "execution_count": null,
      "outputs": []
    },
    {
      "cell_type": "code",
      "source": [
        "df_iris"
      ],
      "metadata": {
        "colab": {
          "base_uri": "https://localhost:8080/",
          "height": 424
        },
        "id": "uCucchjfjEp0",
        "outputId": "9c3820d2-1bb5-445b-e196-b469ed7dc9ba"
      },
      "execution_count": null,
      "outputs": [
        {
          "output_type": "execute_result",
          "data": {
            "text/plain": [
              "     sepal length (cm)  sepal width (cm)  petal length (cm)  petal width (cm)\n",
              "0                  5.1               3.5                1.4               0.2\n",
              "1                  4.9               3.0                1.4               0.2\n",
              "2                  4.7               3.2                1.3               0.2\n",
              "3                  4.6               3.1                1.5               0.2\n",
              "4                  5.0               3.6                1.4               0.2\n",
              "..                 ...               ...                ...               ...\n",
              "145                6.7               3.0                5.2               2.3\n",
              "146                6.3               2.5                5.0               1.9\n",
              "147                6.5               3.0                5.2               2.0\n",
              "148                6.2               3.4                5.4               2.3\n",
              "149                5.9               3.0                5.1               1.8\n",
              "\n",
              "[150 rows x 4 columns]"
            ],
            "text/html": [
              "\n",
              "  <div id=\"df-dbf9db95-d2d5-453a-9ecb-0a7920150631\">\n",
              "    <div class=\"colab-df-container\">\n",
              "      <div>\n",
              "<style scoped>\n",
              "    .dataframe tbody tr th:only-of-type {\n",
              "        vertical-align: middle;\n",
              "    }\n",
              "\n",
              "    .dataframe tbody tr th {\n",
              "        vertical-align: top;\n",
              "    }\n",
              "\n",
              "    .dataframe thead th {\n",
              "        text-align: right;\n",
              "    }\n",
              "</style>\n",
              "<table border=\"1\" class=\"dataframe\">\n",
              "  <thead>\n",
              "    <tr style=\"text-align: right;\">\n",
              "      <th></th>\n",
              "      <th>sepal length (cm)</th>\n",
              "      <th>sepal width (cm)</th>\n",
              "      <th>petal length (cm)</th>\n",
              "      <th>petal width (cm)</th>\n",
              "    </tr>\n",
              "  </thead>\n",
              "  <tbody>\n",
              "    <tr>\n",
              "      <th>0</th>\n",
              "      <td>5.1</td>\n",
              "      <td>3.5</td>\n",
              "      <td>1.4</td>\n",
              "      <td>0.2</td>\n",
              "    </tr>\n",
              "    <tr>\n",
              "      <th>1</th>\n",
              "      <td>4.9</td>\n",
              "      <td>3.0</td>\n",
              "      <td>1.4</td>\n",
              "      <td>0.2</td>\n",
              "    </tr>\n",
              "    <tr>\n",
              "      <th>2</th>\n",
              "      <td>4.7</td>\n",
              "      <td>3.2</td>\n",
              "      <td>1.3</td>\n",
              "      <td>0.2</td>\n",
              "    </tr>\n",
              "    <tr>\n",
              "      <th>3</th>\n",
              "      <td>4.6</td>\n",
              "      <td>3.1</td>\n",
              "      <td>1.5</td>\n",
              "      <td>0.2</td>\n",
              "    </tr>\n",
              "    <tr>\n",
              "      <th>4</th>\n",
              "      <td>5.0</td>\n",
              "      <td>3.6</td>\n",
              "      <td>1.4</td>\n",
              "      <td>0.2</td>\n",
              "    </tr>\n",
              "    <tr>\n",
              "      <th>...</th>\n",
              "      <td>...</td>\n",
              "      <td>...</td>\n",
              "      <td>...</td>\n",
              "      <td>...</td>\n",
              "    </tr>\n",
              "    <tr>\n",
              "      <th>145</th>\n",
              "      <td>6.7</td>\n",
              "      <td>3.0</td>\n",
              "      <td>5.2</td>\n",
              "      <td>2.3</td>\n",
              "    </tr>\n",
              "    <tr>\n",
              "      <th>146</th>\n",
              "      <td>6.3</td>\n",
              "      <td>2.5</td>\n",
              "      <td>5.0</td>\n",
              "      <td>1.9</td>\n",
              "    </tr>\n",
              "    <tr>\n",
              "      <th>147</th>\n",
              "      <td>6.5</td>\n",
              "      <td>3.0</td>\n",
              "      <td>5.2</td>\n",
              "      <td>2.0</td>\n",
              "    </tr>\n",
              "    <tr>\n",
              "      <th>148</th>\n",
              "      <td>6.2</td>\n",
              "      <td>3.4</td>\n",
              "      <td>5.4</td>\n",
              "      <td>2.3</td>\n",
              "    </tr>\n",
              "    <tr>\n",
              "      <th>149</th>\n",
              "      <td>5.9</td>\n",
              "      <td>3.0</td>\n",
              "      <td>5.1</td>\n",
              "      <td>1.8</td>\n",
              "    </tr>\n",
              "  </tbody>\n",
              "</table>\n",
              "<p>150 rows × 4 columns</p>\n",
              "</div>\n",
              "      <button class=\"colab-df-convert\" onclick=\"convertToInteractive('df-dbf9db95-d2d5-453a-9ecb-0a7920150631')\"\n",
              "              title=\"Convert this dataframe to an interactive table.\"\n",
              "              style=\"display:none;\">\n",
              "        \n",
              "  <svg xmlns=\"http://www.w3.org/2000/svg\" height=\"24px\"viewBox=\"0 0 24 24\"\n",
              "       width=\"24px\">\n",
              "    <path d=\"M0 0h24v24H0V0z\" fill=\"none\"/>\n",
              "    <path d=\"M18.56 5.44l.94 2.06.94-2.06 2.06-.94-2.06-.94-.94-2.06-.94 2.06-2.06.94zm-11 1L8.5 8.5l.94-2.06 2.06-.94-2.06-.94L8.5 2.5l-.94 2.06-2.06.94zm10 10l.94 2.06.94-2.06 2.06-.94-2.06-.94-.94-2.06-.94 2.06-2.06.94z\"/><path d=\"M17.41 7.96l-1.37-1.37c-.4-.4-.92-.59-1.43-.59-.52 0-1.04.2-1.43.59L10.3 9.45l-7.72 7.72c-.78.78-.78 2.05 0 2.83L4 21.41c.39.39.9.59 1.41.59.51 0 1.02-.2 1.41-.59l7.78-7.78 2.81-2.81c.8-.78.8-2.07 0-2.86zM5.41 20L4 18.59l7.72-7.72 1.47 1.35L5.41 20z\"/>\n",
              "  </svg>\n",
              "      </button>\n",
              "      \n",
              "  <style>\n",
              "    .colab-df-container {\n",
              "      display:flex;\n",
              "      flex-wrap:wrap;\n",
              "      gap: 12px;\n",
              "    }\n",
              "\n",
              "    .colab-df-convert {\n",
              "      background-color: #E8F0FE;\n",
              "      border: none;\n",
              "      border-radius: 50%;\n",
              "      cursor: pointer;\n",
              "      display: none;\n",
              "      fill: #1967D2;\n",
              "      height: 32px;\n",
              "      padding: 0 0 0 0;\n",
              "      width: 32px;\n",
              "    }\n",
              "\n",
              "    .colab-df-convert:hover {\n",
              "      background-color: #E2EBFA;\n",
              "      box-shadow: 0px 1px 2px rgba(60, 64, 67, 0.3), 0px 1px 3px 1px rgba(60, 64, 67, 0.15);\n",
              "      fill: #174EA6;\n",
              "    }\n",
              "\n",
              "    [theme=dark] .colab-df-convert {\n",
              "      background-color: #3B4455;\n",
              "      fill: #D2E3FC;\n",
              "    }\n",
              "\n",
              "    [theme=dark] .colab-df-convert:hover {\n",
              "      background-color: #434B5C;\n",
              "      box-shadow: 0px 1px 3px 1px rgba(0, 0, 0, 0.15);\n",
              "      filter: drop-shadow(0px 1px 2px rgba(0, 0, 0, 0.3));\n",
              "      fill: #FFFFFF;\n",
              "    }\n",
              "  </style>\n",
              "\n",
              "      <script>\n",
              "        const buttonEl =\n",
              "          document.querySelector('#df-dbf9db95-d2d5-453a-9ecb-0a7920150631 button.colab-df-convert');\n",
              "        buttonEl.style.display =\n",
              "          google.colab.kernel.accessAllowed ? 'block' : 'none';\n",
              "\n",
              "        async function convertToInteractive(key) {\n",
              "          const element = document.querySelector('#df-dbf9db95-d2d5-453a-9ecb-0a7920150631');\n",
              "          const dataTable =\n",
              "            await google.colab.kernel.invokeFunction('convertToInteractive',\n",
              "                                                     [key], {});\n",
              "          if (!dataTable) return;\n",
              "\n",
              "          const docLinkHtml = 'Like what you see? Visit the ' +\n",
              "            '<a target=\"_blank\" href=https://colab.research.google.com/notebooks/data_table.ipynb>data table notebook</a>'\n",
              "            + ' to learn more about interactive tables.';\n",
              "          element.innerHTML = '';\n",
              "          dataTable['output_type'] = 'display_data';\n",
              "          await google.colab.output.renderOutput(dataTable, element);\n",
              "          const docLink = document.createElement('div');\n",
              "          docLink.innerHTML = docLinkHtml;\n",
              "          element.appendChild(docLink);\n",
              "        }\n",
              "      </script>\n",
              "    </div>\n",
              "  </div>\n",
              "  "
            ]
          },
          "metadata": {},
          "execution_count": 8
        }
      ]
    },
    {
      "cell_type": "code",
      "source": [
        "df"
      ],
      "metadata": {
        "colab": {
          "base_uri": "https://localhost:8080/",
          "height": 424
        },
        "id": "N22FmFjUwiqI",
        "outputId": "93540b00-4a8e-4683-e6ec-7890e4e0afa4"
      },
      "execution_count": null,
      "outputs": [
        {
          "output_type": "execute_result",
          "data": {
            "text/plain": [
              "     sepal length (cm)  sepal width (cm)  petal length (cm)  petal width (cm)  \\\n",
              "0                  5.1               3.5                1.4               0.2   \n",
              "1                  4.9               3.0                1.4               0.2   \n",
              "2                  4.7               3.2                1.3               0.2   \n",
              "3                  4.6               3.1                1.5               0.2   \n",
              "4                  5.0               3.6                1.4               0.2   \n",
              "..                 ...               ...                ...               ...   \n",
              "145                6.7               3.0                5.2               2.3   \n",
              "146                6.3               2.5                5.0               1.9   \n",
              "147                6.5               3.0                5.2               2.0   \n",
              "148                6.2               3.4                5.4               2.3   \n",
              "149                5.9               3.0                5.1               1.8   \n",
              "\n",
              "     target  \n",
              "0         0  \n",
              "1         0  \n",
              "2         0  \n",
              "3         0  \n",
              "4         0  \n",
              "..      ...  \n",
              "145       2  \n",
              "146       2  \n",
              "147       2  \n",
              "148       2  \n",
              "149       2  \n",
              "\n",
              "[150 rows x 5 columns]"
            ],
            "text/html": [
              "\n",
              "  <div id=\"df-27278225-9bd0-4042-bffb-4b14be59f44a\">\n",
              "    <div class=\"colab-df-container\">\n",
              "      <div>\n",
              "<style scoped>\n",
              "    .dataframe tbody tr th:only-of-type {\n",
              "        vertical-align: middle;\n",
              "    }\n",
              "\n",
              "    .dataframe tbody tr th {\n",
              "        vertical-align: top;\n",
              "    }\n",
              "\n",
              "    .dataframe thead th {\n",
              "        text-align: right;\n",
              "    }\n",
              "</style>\n",
              "<table border=\"1\" class=\"dataframe\">\n",
              "  <thead>\n",
              "    <tr style=\"text-align: right;\">\n",
              "      <th></th>\n",
              "      <th>sepal length (cm)</th>\n",
              "      <th>sepal width (cm)</th>\n",
              "      <th>petal length (cm)</th>\n",
              "      <th>petal width (cm)</th>\n",
              "      <th>target</th>\n",
              "    </tr>\n",
              "  </thead>\n",
              "  <tbody>\n",
              "    <tr>\n",
              "      <th>0</th>\n",
              "      <td>5.1</td>\n",
              "      <td>3.5</td>\n",
              "      <td>1.4</td>\n",
              "      <td>0.2</td>\n",
              "      <td>0</td>\n",
              "    </tr>\n",
              "    <tr>\n",
              "      <th>1</th>\n",
              "      <td>4.9</td>\n",
              "      <td>3.0</td>\n",
              "      <td>1.4</td>\n",
              "      <td>0.2</td>\n",
              "      <td>0</td>\n",
              "    </tr>\n",
              "    <tr>\n",
              "      <th>2</th>\n",
              "      <td>4.7</td>\n",
              "      <td>3.2</td>\n",
              "      <td>1.3</td>\n",
              "      <td>0.2</td>\n",
              "      <td>0</td>\n",
              "    </tr>\n",
              "    <tr>\n",
              "      <th>3</th>\n",
              "      <td>4.6</td>\n",
              "      <td>3.1</td>\n",
              "      <td>1.5</td>\n",
              "      <td>0.2</td>\n",
              "      <td>0</td>\n",
              "    </tr>\n",
              "    <tr>\n",
              "      <th>4</th>\n",
              "      <td>5.0</td>\n",
              "      <td>3.6</td>\n",
              "      <td>1.4</td>\n",
              "      <td>0.2</td>\n",
              "      <td>0</td>\n",
              "    </tr>\n",
              "    <tr>\n",
              "      <th>...</th>\n",
              "      <td>...</td>\n",
              "      <td>...</td>\n",
              "      <td>...</td>\n",
              "      <td>...</td>\n",
              "      <td>...</td>\n",
              "    </tr>\n",
              "    <tr>\n",
              "      <th>145</th>\n",
              "      <td>6.7</td>\n",
              "      <td>3.0</td>\n",
              "      <td>5.2</td>\n",
              "      <td>2.3</td>\n",
              "      <td>2</td>\n",
              "    </tr>\n",
              "    <tr>\n",
              "      <th>146</th>\n",
              "      <td>6.3</td>\n",
              "      <td>2.5</td>\n",
              "      <td>5.0</td>\n",
              "      <td>1.9</td>\n",
              "      <td>2</td>\n",
              "    </tr>\n",
              "    <tr>\n",
              "      <th>147</th>\n",
              "      <td>6.5</td>\n",
              "      <td>3.0</td>\n",
              "      <td>5.2</td>\n",
              "      <td>2.0</td>\n",
              "      <td>2</td>\n",
              "    </tr>\n",
              "    <tr>\n",
              "      <th>148</th>\n",
              "      <td>6.2</td>\n",
              "      <td>3.4</td>\n",
              "      <td>5.4</td>\n",
              "      <td>2.3</td>\n",
              "      <td>2</td>\n",
              "    </tr>\n",
              "    <tr>\n",
              "      <th>149</th>\n",
              "      <td>5.9</td>\n",
              "      <td>3.0</td>\n",
              "      <td>5.1</td>\n",
              "      <td>1.8</td>\n",
              "      <td>2</td>\n",
              "    </tr>\n",
              "  </tbody>\n",
              "</table>\n",
              "<p>150 rows × 5 columns</p>\n",
              "</div>\n",
              "      <button class=\"colab-df-convert\" onclick=\"convertToInteractive('df-27278225-9bd0-4042-bffb-4b14be59f44a')\"\n",
              "              title=\"Convert this dataframe to an interactive table.\"\n",
              "              style=\"display:none;\">\n",
              "        \n",
              "  <svg xmlns=\"http://www.w3.org/2000/svg\" height=\"24px\"viewBox=\"0 0 24 24\"\n",
              "       width=\"24px\">\n",
              "    <path d=\"M0 0h24v24H0V0z\" fill=\"none\"/>\n",
              "    <path d=\"M18.56 5.44l.94 2.06.94-2.06 2.06-.94-2.06-.94-.94-2.06-.94 2.06-2.06.94zm-11 1L8.5 8.5l.94-2.06 2.06-.94-2.06-.94L8.5 2.5l-.94 2.06-2.06.94zm10 10l.94 2.06.94-2.06 2.06-.94-2.06-.94-.94-2.06-.94 2.06-2.06.94z\"/><path d=\"M17.41 7.96l-1.37-1.37c-.4-.4-.92-.59-1.43-.59-.52 0-1.04.2-1.43.59L10.3 9.45l-7.72 7.72c-.78.78-.78 2.05 0 2.83L4 21.41c.39.39.9.59 1.41.59.51 0 1.02-.2 1.41-.59l7.78-7.78 2.81-2.81c.8-.78.8-2.07 0-2.86zM5.41 20L4 18.59l7.72-7.72 1.47 1.35L5.41 20z\"/>\n",
              "  </svg>\n",
              "      </button>\n",
              "      \n",
              "  <style>\n",
              "    .colab-df-container {\n",
              "      display:flex;\n",
              "      flex-wrap:wrap;\n",
              "      gap: 12px;\n",
              "    }\n",
              "\n",
              "    .colab-df-convert {\n",
              "      background-color: #E8F0FE;\n",
              "      border: none;\n",
              "      border-radius: 50%;\n",
              "      cursor: pointer;\n",
              "      display: none;\n",
              "      fill: #1967D2;\n",
              "      height: 32px;\n",
              "      padding: 0 0 0 0;\n",
              "      width: 32px;\n",
              "    }\n",
              "\n",
              "    .colab-df-convert:hover {\n",
              "      background-color: #E2EBFA;\n",
              "      box-shadow: 0px 1px 2px rgba(60, 64, 67, 0.3), 0px 1px 3px 1px rgba(60, 64, 67, 0.15);\n",
              "      fill: #174EA6;\n",
              "    }\n",
              "\n",
              "    [theme=dark] .colab-df-convert {\n",
              "      background-color: #3B4455;\n",
              "      fill: #D2E3FC;\n",
              "    }\n",
              "\n",
              "    [theme=dark] .colab-df-convert:hover {\n",
              "      background-color: #434B5C;\n",
              "      box-shadow: 0px 1px 3px 1px rgba(0, 0, 0, 0.15);\n",
              "      filter: drop-shadow(0px 1px 2px rgba(0, 0, 0, 0.3));\n",
              "      fill: #FFFFFF;\n",
              "    }\n",
              "  </style>\n",
              "\n",
              "      <script>\n",
              "        const buttonEl =\n",
              "          document.querySelector('#df-27278225-9bd0-4042-bffb-4b14be59f44a button.colab-df-convert');\n",
              "        buttonEl.style.display =\n",
              "          google.colab.kernel.accessAllowed ? 'block' : 'none';\n",
              "\n",
              "        async function convertToInteractive(key) {\n",
              "          const element = document.querySelector('#df-27278225-9bd0-4042-bffb-4b14be59f44a');\n",
              "          const dataTable =\n",
              "            await google.colab.kernel.invokeFunction('convertToInteractive',\n",
              "                                                     [key], {});\n",
              "          if (!dataTable) return;\n",
              "\n",
              "          const docLinkHtml = 'Like what you see? Visit the ' +\n",
              "            '<a target=\"_blank\" href=https://colab.research.google.com/notebooks/data_table.ipynb>data table notebook</a>'\n",
              "            + ' to learn more about interactive tables.';\n",
              "          element.innerHTML = '';\n",
              "          dataTable['output_type'] = 'display_data';\n",
              "          await google.colab.output.renderOutput(dataTable, element);\n",
              "          const docLink = document.createElement('div');\n",
              "          docLink.innerHTML = docLinkHtml;\n",
              "          element.appendChild(docLink);\n",
              "        }\n",
              "      </script>\n",
              "    </div>\n",
              "  </div>\n",
              "  "
            ]
          },
          "metadata": {},
          "execution_count": 9
        }
      ]
    },
    {
      "cell_type": "code",
      "source": [
        "import seaborn as sns\n",
        "import matplotlib.pyplot as plt\n",
        "\n",
        "plt.figure(figsize=(30,5))\n",
        "plt.subplot(141)\n",
        "sns.kdeplot(df_iris['sepal length (cm)'])\n",
        "plt.title(\"Density plot of sepal length (cm)\")\n",
        "\n",
        "plt.subplot(142)\n",
        "sns.kdeplot(df_iris['sepal width (cm)'])\n",
        "plt.title(\"Density plot of sepal width (cm)\")\n",
        "\n",
        "plt.subplot(143)\n",
        "sns.kdeplot(df_iris['petal length (cm)'])\n",
        "plt.title(\"Density plot of petal length (cm)\")\n",
        "\n",
        "plt.subplot(144)\n",
        "sns.kdeplot(df_iris['petal width (cm)'])\n",
        "plt.title(\"Density plot of petal width (cm)\")\n",
        "\n",
        "plt.show()"
      ],
      "metadata": {
        "colab": {
          "base_uri": "https://localhost:8080/",
          "height": 257
        },
        "id": "EGu2tI6chXht",
        "outputId": "7b7bd7ce-48e8-4b47-e88b-bf347a0752fc"
      },
      "execution_count": null,
      "outputs": [
        {
          "output_type": "display_data",
          "data": {
            "text/plain": [
              "<Figure size 2160x360 with 4 Axes>"
            ],
            "image/png": "[encoded data removed]"
          },
          "metadata": {
            "needs_background": "light"
          }
        }
      ]
    },
    {
      "cell_type": "code",
      "source": [
        "plt.figure(figsize=(30, 5))\n",
        "plt.subplot(131)\n",
        "sns.scatterplot(x='sepal length (cm)', y='sepal width (cm)', hue='target',data=df, palette='Set2')\n",
        "plt.title(\"sepal length (cm) & sepal width (cm)\")\n",
        "\n",
        "plt.subplot(132)\n",
        "sns.scatterplot(x='sepal length (cm)', y='petal length (cm)', hue='target',data=df, palette='Set2')\n",
        "plt.title(\"sepal length (cm) & petal length (cm)\")\n",
        "\n",
        "plt.subplot(133)\n",
        "sns.scatterplot(x='sepal length (cm)', y='petal width (cm)', hue='target',data=df, palette='Set2')\n",
        "plt.title(\"sepal length (cm) & petal width (cm)\")\n",
        "plt.show()"
      ],
      "metadata": {
        "colab": {
          "base_uri": "https://localhost:8080/",
          "height": 258
        },
        "id": "6bEyInJ9tNe1",
        "outputId": "d4221afa-3c9a-4929-c2a1-9040c997d936"
      },
      "execution_count": null,
      "outputs": [
        {
          "output_type": "display_data",
          "data": {
            "text/plain": [
              "<Figure size 2160x360 with 3 Axes>"
            ],
            "image/png": "[encoded data removed]"
          },
          "metadata": {
            "needs_background": "light"
          }
        }
      ]
    },
    {
      "cell_type": "markdown",
      "source": [
        "## train, test 데이터 셋 나누기"
      ],
      "metadata": {
        "id": "vBcQeCFRnqXw"
      }
    },
    {
      "cell_type": "code",
      "source": [
        "X = iris['data']\n",
        "y = iris['target']\n",
        "\n",
        "from sklearn.model_selection import train_test_split\n",
        "X_train, X_test, y_train, y_test = train_test_split(X,y, test_size=0.3, random_state=11)"
      ],
      "metadata": {
        "id": "KzFzrzxahm9k"
      },
      "execution_count": null,
      "outputs": []
    },
    {
      "cell_type": "markdown",
      "source": [
        "## 사전 준비 - 필요한 기능 함수로 정의해놓기"
      ],
      "metadata": {
        "id": "P6-920JYnzc4"
      }
    },
    {
      "cell_type": "code",
      "source": [
        "y_train\n",
        "# 현재 1, 0, 2 로 분류하면 되는 문제인 것을 확인"
      ],
      "metadata": {
        "colab": {
          "base_uri": "https://localhost:8080/"
        },
        "id": "py1dvFzpojtM",
        "outputId": "0c9d2c69-48f2-400c-cef6-f7bce3ce2046"
      },
      "execution_count": null,
      "outputs": [
        {
          "output_type": "execute_result",
          "data": {
            "text/plain": [
              "array([1, 1, 0, 2, 0, 2, 2, 1, 2, 1, 0, 0, 1, 0, 0, 2, 2, 2, 0, 0, 0, 1,\n",
              "       0, 1, 2, 2, 1, 1, 2, 2, 0, 1, 1, 2, 2, 2, 0, 2, 0, 0, 0, 0, 2, 0,\n",
              "       0, 0, 1, 0, 1, 1, 2, 1, 0, 0, 0, 1, 1, 1, 2, 1, 0, 1, 2, 0, 2, 2,\n",
              "       1, 0, 0, 0, 2, 1, 0, 2, 1, 2, 0, 0, 1, 1, 2, 1, 2, 2, 1, 1, 2, 2,\n",
              "       0, 1, 2, 0, 2, 2, 0, 1, 2, 0, 1, 1, 1, 0, 1, 1, 1])"
            ]
          },
          "metadata": {},
          "execution_count": 33
        }
      ]
    },
    {
      "cell_type": "code",
      "source": [
        "# 지니불순도 함수\n",
        "def gini(datas):\n",
        "  clf_good_target = {\"target_1\": 0,\n",
        "                     \"target_0\": 0,\n",
        "                     \"target_2\": 0} # 각 클래스에 속한 샘플의 수를 count할 변수\n",
        "\n",
        "  for data in datas:\n",
        "    if data[4] == 1:\n",
        "      clf_good_target['target_1'] += 1\n",
        "    elif data[4] == 0:\n",
        "      clf_good_target['target_0'] += 1\n",
        "    elif data[4] == 2:\n",
        "      clf_good_target['target_2'] += 1\n",
        "  sum = ((clf_good_target['target_1']/len(datas))**2) + ((clf_good_target['target_0']/len(datas))**2) + ((clf_good_target['target_2']/len(datas))**2)\n",
        "  return 1 - sum"
      ],
      "metadata": {
        "id": "mXZUzgFJoDJj"
      },
      "execution_count": null,
      "outputs": []
    },
    {
      "cell_type": "code",
      "source": [
        "# 왼쪽 오른쪽 노드를 분기하는 함수 정의\n",
        "def setNode(datas, feature, thresholds):\n",
        "  left_node = []\n",
        "  right_node = []\n",
        "  for data in datas:\n",
        "    if data[feature] < thresholds: # 임계값보다 작다면\n",
        "      left_node.append(data)\n",
        "    else: # 임계값보다 크다면\n",
        "      right_node.append(data)\n",
        "  return left_node, right_node"
      ],
      "metadata": {
        "id": "aygOqsAA6Na0"
      },
      "execution_count": null,
      "outputs": []
    },
    {
      "cell_type": "code",
      "source": [
        "# 비용함수(J(k, t_k))\n",
        "def loss(datas, feature, thresholds):\n",
        "  left_datas, right_datas = setNode(datas, feature, thresholds)\n",
        "  left_term = len(left_datas) / len(datas) * gini(left_datas)\n",
        "  right_term = len(right_datas) / len(datas) * gini(right_datas)\n",
        "  return left_term, right_term"
      ],
      "metadata": {
        "id": "hU8dGwm-zysB"
      },
      "execution_count": null,
      "outputs": []
    },
    {
      "cell_type": "markdown",
      "source": [
        "## CART 훈련 알고리즘 적용\n",
        "* 깊이 2의 트리를 만들어야 함\n",
        "* 깊이 0에서 노드 1개, 깊이 1에서 노드 2개, 깊이 2에서 노드 4개\n",
        "* 각 노드의 변수의 이름을 depth[해당 노드의 깊이]_[같은 깊이에서의 노드의 순서]\n",
        "  - ex. 깊이 1에서 두 번째 노드 : depth1_2"
      ],
      "metadata": {
        "id": "uGHEq_cxr_g0"
      }
    },
    {
      "cell_type": "code",
      "source": [
        "X_train.shape, y_train.shape"
      ],
      "metadata": {
        "colab": {
          "base_uri": "https://localhost:8080/"
        },
        "id": "pW6NpKyy9Uil",
        "outputId": "8e222926-4077-4d31-aab3-50048041f20e"
      },
      "execution_count": null,
      "outputs": [
        {
          "output_type": "execute_result",
          "data": {
            "text/plain": [
              "((105, 4), (105,))"
            ]
          },
          "metadata": {},
          "execution_count": 220
        }
      ]
    },
    {
      "cell_type": "code",
      "source": [
        "# 4개 특성 + 정답 레이블 = 5개의 특성으로 X데이터와 y데이터를 합친 넘파이 배열을 만들 준비\n",
        "n = len(X_train)\n",
        "datas = np.zeros((n,5))    \n",
        "\n",
        "# 합치는 과정\n",
        "for i in range(n):\n",
        "  datas[i,:4] = X_train[i]\n",
        "  datas[i, 4] = y_train[i]"
      ],
      "metadata": {
        "id": "NadTin4B-r7t"
      },
      "execution_count": null,
      "outputs": []
    },
    {
      "cell_type": "code",
      "source": [
        "# 잘 합쳐졌는지 확인\n",
        "datas[:5]"
      ],
      "metadata": {
        "colab": {
          "base_uri": "https://localhost:8080/"
        },
        "id": "HA8I-3n0DQqJ",
        "outputId": "22f36520-9820-4f99-f8a5-83821fbb553b"
      },
      "execution_count": null,
      "outputs": [
        {
          "output_type": "execute_result",
          "data": {
            "text/plain": [
              "array([[5.1, 2.5, 3. , 1.1, 1. ],\n",
              "       [6.6, 2.9, 4.6, 1.3, 1. ],\n",
              "       [5. , 3.2, 1.2, 0.2, 0. ],\n",
              "       [7.4, 2.8, 6.1, 1.9, 2. ],\n",
              "       [5.1, 3.8, 1.6, 0.2, 0. ]])"
            ]
          },
          "metadata": {},
          "execution_count": 222
        }
      ]
    },
    {
      "cell_type": "code",
      "source": [
        "# 특성들의 인덱스 확인\n",
        "iris.feature_names"
      ],
      "metadata": {
        "colab": {
          "base_uri": "https://localhost:8080/"
        },
        "id": "fdxnLsnQ3vqK",
        "outputId": "bcbbd3fa-cddf-414c-b725-11f79621e231"
      },
      "execution_count": null,
      "outputs": [
        {
          "output_type": "execute_result",
          "data": {
            "text/plain": [
              "['sepal length (cm)',\n",
              " 'sepal width (cm)',\n",
              " 'petal length (cm)',\n",
              " 'petal width (cm)']"
            ]
          },
          "metadata": {},
          "execution_count": 223
        }
      ]
    },
    {
      "cell_type": "markdown",
      "source": [
        "### 깊이 1을 구성: depth1_1, depth1_2"
      ],
      "metadata": {
        "id": "gCujpwIi52r7"
      }
    },
    {
      "cell_type": "markdown",
      "source": [
        "### 깊이 1을 구성하기 위한 실험\n",
        "* 다양한 특성과 임계값으로 loss를 측정하여 가장 좋은 조합을 찾아낸다.\n",
        "* 이때 left node의 loss가 가장 적은 조합을 찾는 것을 목표로 한다."
      ],
      "metadata": {
        "id": "syoXkeqy4rSQ"
      }
    },
    {
      "cell_type": "markdown",
      "source": [
        "#### 실험1: petal width (cm) / 0.75"
      ],
      "metadata": {
        "id": "8UxbhY2l4uOy"
      }
    },
    {
      "cell_type": "code",
      "source": [
        "# 특성은 'petal width (cm)'로 선택(3번째 인덱스값을 이용)\n",
        "FEATURE, THRESHOLDS = 3, 0.75\n",
        "\n",
        "left, right = loss(datas, FEATURE, THRESHOLDS)"
      ],
      "metadata": {
        "id": "FgZslqDFzHFc"
      },
      "execution_count": null,
      "outputs": []
    },
    {
      "cell_type": "code",
      "source": [
        "left, right"
      ],
      "metadata": {
        "id": "zRQJ2K-03VMq",
        "colab": {
          "base_uri": "https://localhost:8080/"
        },
        "outputId": "383fe688-c87e-46d8-a7dd-8f11332550cf"
      },
      "execution_count": null,
      "outputs": [
        {
          "output_type": "execute_result",
          "data": {
            "text/plain": [
              "(0.0, 0.3279503105590062)"
            ]
          },
          "metadata": {},
          "execution_count": 225
        }
      ]
    },
    {
      "cell_type": "markdown",
      "source": [
        "#### 실험2: petal length (cm) / 2.5"
      ],
      "metadata": {
        "id": "QquKoro05EP-"
      }
    },
    {
      "cell_type": "code",
      "source": [
        "# 특성은 'petal length (cm)'로 선택(2번째 인덱스값을 이용)\n",
        "FEATURE, THRESHOLDS = 2, 2.5\n",
        "\n",
        "left, right = loss(datas, FEATURE, THRESHOLDS)"
      ],
      "metadata": {
        "id": "WgwxDsbP5STo"
      },
      "execution_count": null,
      "outputs": []
    },
    {
      "cell_type": "code",
      "source": [
        "left, right"
      ],
      "metadata": {
        "colab": {
          "base_uri": "https://localhost:8080/"
        },
        "id": "StvXJhBm5bfA",
        "outputId": "81c7b3e2-83cb-416e-ece4-6d25fb8c57fd"
      },
      "execution_count": null,
      "outputs": [
        {
          "output_type": "execute_result",
          "data": {
            "text/plain": [
              "(0.0, 0.3279503105590062)"
            ]
          },
          "metadata": {},
          "execution_count": 227
        }
      ]
    },
    {
      "cell_type": "markdown",
      "source": [
        "> 동일한 loss를 보였기 때문에 임의로 petal width(cm) / 0.75로 깊이 1의 노드를 구성"
      ],
      "metadata": {
        "id": "xyC8hdaJ5fX4"
      }
    },
    {
      "cell_type": "code",
      "source": [
        "FEATURE, THRESHOLDS = 3, 0.75\n",
        "depth1_1, depth1_2 = setNode(datas, FEATURE, THRESHOLDS)"
      ],
      "metadata": {
        "id": "YJcQfSLw6AHp"
      },
      "execution_count": null,
      "outputs": []
    },
    {
      "cell_type": "code",
      "source": [
        "# depth1_1와 depth1_2의 지니불순도를 검사\n",
        "print(gini(depth1_1))\n",
        "print(gini(depth1_2))"
      ],
      "metadata": {
        "colab": {
          "base_uri": "https://localhost:8080/"
        },
        "id": "rbDsvCka7SU_",
        "outputId": "700d2cfb-2973-4333-a025-f0b7d20f2c06"
      },
      "execution_count": null,
      "outputs": [
        {
          "output_type": "stream",
          "name": "stdout",
          "text": [
            "0.0\n",
            "0.499054820415879\n"
          ]
        }
      ]
    },
    {
      "cell_type": "markdown",
      "source": [
        "> 왼쪽 노드는 완벽하게 분리가 된 것을 확인할 수 있었다."
      ],
      "metadata": {
        "id": "3M0SFtkB7eGx"
      }
    },
    {
      "cell_type": "markdown",
      "source": [
        "> 깊이 1 구성을 통한 전략 구성\n",
        "* 좀전에 구성한 깊이 1을 통한 새로운 전략\n",
        "  - depth2_1과 depth2_2(깊이 1에서의 왼쪽 노드를 분기했을 때의 두개의 노드)를 구성할 필요가 없어졌음\n",
        "  - 깊이 1에서의 오른쪽 노드를 분기해서 depth2_3과 depth2_4를 만들어야 함"
      ],
      "metadata": {
        "id": "Q-VM8dNLH6J2"
      }
    },
    {
      "cell_type": "code",
      "source": [
        "# 시각화 하기 위해 데이터프레임 구성\n",
        "columns = ['sepal length (cm)', 'sepal width (cm)', 'petal length (cm)', 'petal width (cm)', 'target']\n",
        "df1_2 = pd.DataFrame(depth1_2, columns=columns)"
      ],
      "metadata": {
        "id": "cwnqMWRQNPGJ"
      },
      "execution_count": null,
      "outputs": []
    },
    {
      "cell_type": "code",
      "source": [
        "plt.figure(figsize=(30, 5))\n",
        "plt.subplot(131)\n",
        "sns.scatterplot(x='sepal length (cm)', y='sepal width (cm)', hue='target',data=df1_2, palette='Set2')\n",
        "plt.title(\"sepal length (cm) & sepal width (cm)\")\n",
        "\n",
        "plt.subplot(132)\n",
        "sns.scatterplot(x='sepal length (cm)', y='petal length (cm)', hue='target',data=df1_2, palette='Set2')\n",
        "plt.title(\"sepal length (cm) & petal length (cm)\")\n",
        "\n",
        "plt.subplot(133)\n",
        "sns.scatterplot(x='sepal length (cm)', y='petal width (cm)', hue='target',data=df1_2, palette='Set2')\n",
        "plt.title(\"sepal length (cm) & petal width (cm)\")\n",
        "plt.show()"
      ],
      "metadata": {
        "colab": {
          "base_uri": "https://localhost:8080/",
          "height": 258
        },
        "id": "iA-fNMFlIBl8",
        "outputId": "78930802-df9c-484e-80ed-5b363654484f"
      },
      "execution_count": null,
      "outputs": [
        {
          "output_type": "display_data",
          "data": {
            "text/plain": [
              "<Figure size 2160x360 with 3 Axes>"
            ],
            "image/png": "[encoded data removed]"
          },
          "metadata": {
            "needs_background": "light"
          }
        }
      ]
    },
    {
      "cell_type": "markdown",
      "source": [
        "> 깊이 2에서 오른쪽 노드를 시각화했을 때 petal width(cm)를 1.5로 분기하는 것이 적절해 보임!"
      ],
      "metadata": {
        "id": "c4bhVWehOX1n"
      }
    },
    {
      "cell_type": "markdown",
      "source": [
        "## 깊이 2를 구성: depth2_3, depth2_4\n",
        "* petal width(cm) / 1.5"
      ],
      "metadata": {
        "id": "RlWi3qy6OyH9"
      }
    },
    {
      "cell_type": "code",
      "source": [
        "# 특성은 'petal width (cm)'로 선택(3번째 인덱스값을 이용)\n",
        "FEATURE, THRESHOLDS = 3, 1.5\n",
        "\n",
        "left, right = loss(depth1_2, FEATURE, THRESHOLDS)"
      ],
      "metadata": {
        "id": "7Ro8i6qfPhaV"
      },
      "execution_count": null,
      "outputs": []
    },
    {
      "cell_type": "code",
      "source": [
        "left, right"
      ],
      "metadata": {
        "colab": {
          "base_uri": "https://localhost:8080/"
        },
        "id": "ZBHqfkO1Pxhn",
        "outputId": "edd570b6-3d53-476d-dd74-9e788ce4b746"
      },
      "execution_count": null,
      "outputs": [
        {
          "output_type": "execute_result",
          "data": {
            "text/plain": [
              "(0.02801932367149762, 0.1664808621330361)"
            ]
          },
          "metadata": {},
          "execution_count": 233
        }
      ]
    },
    {
      "cell_type": "code",
      "source": [
        "FEATURE, THRESHOLDS = 3, 1.57\n",
        "\n",
        "left, right = loss(depth1_2, FEATURE, THRESHOLDS)"
      ],
      "metadata": {
        "id": "b2hXDXwyRG8o"
      },
      "execution_count": null,
      "outputs": []
    },
    {
      "cell_type": "code",
      "source": [
        "left, right"
      ],
      "metadata": {
        "colab": {
          "base_uri": "https://localhost:8080/"
        },
        "id": "IXdQiP7jRbWo",
        "outputId": "fd29a279-bf2f-42e8-f5b7-8e1f73d0acf2"
      },
      "execution_count": null,
      "outputs": [
        {
          "output_type": "execute_result",
          "data": {
            "text/plain": [
              "(0.028180354267310855, 0.028107158541941082)"
            ]
          },
          "metadata": {},
          "execution_count": 235
        }
      ]
    },
    {
      "cell_type": "code",
      "source": [
        "FEATURE, THRESHOLDS = 3, 1.56\n",
        "\n",
        "left, right = loss(depth1_2, FEATURE, THRESHOLDS)"
      ],
      "metadata": {
        "id": "MYWlNervT34Y"
      },
      "execution_count": null,
      "outputs": []
    },
    {
      "cell_type": "code",
      "source": [
        "left, right"
      ],
      "metadata": {
        "colab": {
          "base_uri": "https://localhost:8080/"
        },
        "id": "3Xn4gaYqT6Yf",
        "outputId": "da38c825-ef1e-4f48-81f8-7972dc7a6d1c"
      },
      "execution_count": null,
      "outputs": [
        {
          "output_type": "execute_result",
          "data": {
            "text/plain": [
              "(0.028180354267310855, 0.028107158541941082)"
            ]
          },
          "metadata": {},
          "execution_count": 237
        }
      ]
    },
    {
      "cell_type": "markdown",
      "source": [
        "> 섬세하게 임계값을 수정을 시도해 보았지만, 1.5에서 가장 좋은 값을 보였다."
      ],
      "metadata": {
        "id": "UarFG2haTdkM"
      }
    },
    {
      "cell_type": "code",
      "source": [
        "# 노드 분기\n",
        "FEATURE, THRESHOLDS = 3, 1.5\n",
        "depth2_3, depth2_4 = setNode(depth1_2, FEATURE, THRESHOLDS)"
      ],
      "metadata": {
        "id": "cjBAf_dMT2LN"
      },
      "execution_count": null,
      "outputs": []
    },
    {
      "cell_type": "code",
      "source": [
        "# depth1_1와 depth1_2의 지니불순도를 검사\n",
        "print(gini(depth2_3))\n",
        "print(gini(depth2_4))"
      ],
      "metadata": {
        "colab": {
          "base_uri": "https://localhost:8080/"
        },
        "id": "VXSXgzwBUQbr",
        "outputId": "70b59ca5-7c87-49fa-ee2d-bfa7f857df65"
      },
      "execution_count": null,
      "outputs": [
        {
          "output_type": "stream",
          "name": "stdout",
          "text": [
            "0.06444444444444453\n",
            "0.2945430637738331\n"
          ]
        }
      ]
    },
    {
      "cell_type": "markdown",
      "source": [
        "## 성능 평가 - 직접 구현"
      ],
      "metadata": {
        "id": "g-cZ66OXUYAX"
      }
    },
    {
      "cell_type": "code",
      "source": [
        "# Leaf node들의 지니불순도 확인\n",
        "print(\"depth1_1: \", gini(depth1_1))\n",
        "print(\"depth2_1: \", gini(depth2_3))\n",
        "print(\"depth2_2: \", gini(depth2_4))"
      ],
      "metadata": {
        "colab": {
          "base_uri": "https://localhost:8080/"
        },
        "id": "Ra6PQddoV1BV",
        "outputId": "c6da957f-b3c3-42fa-ddbc-f92b3bb2c1c6"
      },
      "execution_count": null,
      "outputs": [
        {
          "output_type": "stream",
          "name": "stdout",
          "text": [
            "depth1_1:  0.0\n",
            "depth2_1:  0.06444444444444453\n",
            "depth2_2:  0.2945430637738331\n"
          ]
        }
      ]
    },
    {
      "cell_type": "code",
      "source": [
        "depth1_1[:10]"
      ],
      "metadata": {
        "colab": {
          "base_uri": "https://localhost:8080/"
        },
        "id": "FNO1sDA7vx3V",
        "outputId": "072631f3-f006-4c40-c198-d6355881a123"
      },
      "execution_count": null,
      "outputs": [
        {
          "output_type": "execute_result",
          "data": {
            "text/plain": [
              "[array([5. , 3.2, 1.2, 0.2, 0. ]),\n",
              " array([5.1, 3.8, 1.6, 0.2, 0. ]),\n",
              " array([4.4, 3.2, 1.3, 0.2, 0. ]),\n",
              " array([5.4, 3.4, 1.7, 0.2, 0. ]),\n",
              " array([5.1, 3.7, 1.5, 0.4, 0. ]),\n",
              " array([5. , 3.4, 1.6, 0.4, 0. ]),\n",
              " array([5.2, 3.4, 1.4, 0.2, 0. ]),\n",
              " array([5. , 3.6, 1.4, 0.2, 0. ]),\n",
              " array([5.4, 3.4, 1.5, 0.4, 0. ]),\n",
              " array([5.1, 3.4, 1.5, 0.2, 0. ])]"
            ]
          },
          "metadata": {},
          "execution_count": 275
        }
      ]
    },
    {
      "cell_type": "code",
      "source": [
        "depth2_3[:10]"
      ],
      "metadata": {
        "colab": {
          "base_uri": "https://localhost:8080/"
        },
        "id": "1lAn1z1_v6TV",
        "outputId": "150a5f18-c06d-4b4d-8edb-1f1a1ac77ddb"
      },
      "execution_count": null,
      "outputs": [
        {
          "output_type": "execute_result",
          "data": {
            "text/plain": [
              "[array([5.1, 2.5, 3. , 1.1, 1. ]),\n",
              " array([6.6, 2.9, 4.6, 1.3, 1. ]),\n",
              " array([6.1, 2.6, 5.6, 1.4, 2. ]),\n",
              " array([6.1, 2.8, 4.7, 1.2, 1. ]),\n",
              " array([5.6, 3. , 4.1, 1.3, 1. ]),\n",
              " array([5.5, 2.6, 4.4, 1.2, 1. ]),\n",
              " array([5. , 2.3, 3.3, 1. , 1. ]),\n",
              " array([5.6, 2.7, 4.2, 1.3, 1. ]),\n",
              " array([6.2, 2.9, 4.3, 1.3, 1. ]),\n",
              " array([6.3, 2.3, 4.4, 1.3, 1. ])]"
            ]
          },
          "metadata": {},
          "execution_count": 282
        }
      ]
    },
    {
      "cell_type": "code",
      "source": [
        "depth2_4[:10]"
      ],
      "metadata": {
        "colab": {
          "base_uri": "https://localhost:8080/"
        },
        "id": "AJujVZvDwEJ7",
        "outputId": "a5321b0e-d640-42ac-a9c7-eedcd3afc502"
      },
      "execution_count": null,
      "outputs": [
        {
          "output_type": "execute_result",
          "data": {
            "text/plain": [
              "[array([7.4, 2.8, 6.1, 1.9, 2. ]),\n",
              " array([6.8, 3.2, 5.9, 2.3, 2. ]),\n",
              " array([6.9, 3.1, 5.1, 2.3, 2. ]),\n",
              " array([5.9, 3. , 4.2, 1.5, 1. ]),\n",
              " array([4.9, 2.5, 4.5, 1.7, 2. ]),\n",
              " array([6.7, 3.1, 4.7, 1.5, 1. ]),\n",
              " array([6.5, 2.8, 4.6, 1.5, 1. ]),\n",
              " array([6.5, 3. , 5.5, 1.8, 2. ]),\n",
              " array([6.3, 2.5, 5. , 1.9, 2. ]),\n",
              " array([6.3, 2.7, 4.9, 1.8, 2. ])]"
            ]
          },
          "metadata": {},
          "execution_count": 277
        }
      ]
    },
    {
      "cell_type": "code",
      "source": [
        "# 테스트 세트를 통과 시키는 함수 정의\n",
        "# 통과되었을 때 최종적으로 depth1_1에 도착 -> 클래스 0으로 예측\n",
        "#                          depth2_3에 도착 -> 클래스 1으로 예측\n",
        "#                          depth2_4에 도착 -> 클래스 2으로 예측\n",
        "def forTest(X_test):\n",
        "\n",
        "  y_pred = []\n",
        "\n",
        "  for data in X_test:\n",
        "    # 깊이 1 통과\n",
        "    FEATURE, THRESHOLDS = 3, 0.75\n",
        "    if data[FEATURE] <= THRESHOLDS: # 임계값을 기준으로 이보다 기준으로 작으면 깊이 1의 왼쪽 노드로 이동\n",
        "      y_pred.append(0)\n",
        "    else: # 임계값을 기준으로 이보다 크면 깊이 1의 오른쪽 노드로 이동\n",
        "      # 깊이 2 구성\n",
        "      FEATURE, THRESHOLDS = 3, 1.5\n",
        "      if data[FEATURE] <= THRESHOLDS: # 임계값을 기준으로 이보다 작으면 깊이 2의 왼쪽 노드로 이동\n",
        "        y_pred.append(1)\n",
        "      else: # 임계값을 기준으로 이보다 크면 깊이 2의 오른쪽 노드로 이동\n",
        "        y_pred.append(2)\n",
        "\n",
        "  return y_pred"
      ],
      "metadata": {
        "id": "RZ6A_wKRWmG-"
      },
      "execution_count": null,
      "outputs": []
    },
    {
      "cell_type": "code",
      "source": [
        "y_pred = forTest(X_test)"
      ],
      "metadata": {
        "id": "rLF0fL6UXlRe"
      },
      "execution_count": null,
      "outputs": []
    },
    {
      "cell_type": "code",
      "source": [
        "from sklearn.metrics import confusion_matrix\n",
        "cm = confusion_matrix(y_test, y_pred)\n",
        "cm"
      ],
      "metadata": {
        "colab": {
          "base_uri": "https://localhost:8080/"
        },
        "id": "lUf-3GdtyCXj",
        "outputId": "4920626a-4a86-499d-fee6-063c7938a103"
      },
      "execution_count": null,
      "outputs": [
        {
          "output_type": "execute_result",
          "data": {
            "text/plain": [
              "array([[14,  0,  0],\n",
              "       [ 0, 10,  4],\n",
              "       [ 0,  2, 15]])"
            ]
          },
          "metadata": {},
          "execution_count": 281
        }
      ]
    },
    {
      "cell_type": "markdown",
      "source": [
        "## 모듈 사용하여 훈련 및 예측"
      ],
      "metadata": {
        "id": "-tiXOYUqp7gA"
      }
    },
    {
      "cell_type": "code",
      "source": [
        "from sklearn.tree import DecisionTreeClassifier\n",
        "tree_clf = DecisionTreeClassifier(max_depth=2, random_state=11)\n",
        "tree_clf.fit(X_train, y_train)"
      ],
      "metadata": {
        "colab": {
          "base_uri": "https://localhost:8080/"
        },
        "id": "-3wJjk7BsshP",
        "outputId": "274d90f6-de24-4655-d5a0-479abefaadd3"
      },
      "execution_count": null,
      "outputs": [
        {
          "output_type": "execute_result",
          "data": {
            "text/plain": [
              "DecisionTreeClassifier(max_depth=2, random_state=11)"
            ]
          },
          "metadata": {},
          "execution_count": 264
        }
      ]
    },
    {
      "cell_type": "code",
      "source": [
        "y_pred = tree_clf.predict(X_test)"
      ],
      "metadata": {
        "id": "i3U9akEDtIZG"
      },
      "execution_count": null,
      "outputs": []
    },
    {
      "cell_type": "code",
      "source": [
        "from sklearn.metrics import confusion_matrix\n",
        "cm = confusion_matrix(y_test, y_pred)\n",
        "cm"
      ],
      "metadata": {
        "colab": {
          "base_uri": "https://localhost:8080/"
        },
        "id": "93xrCULptTty",
        "outputId": "bd8da410-7de1-4cfa-adf3-193ac489046d"
      },
      "execution_count": null,
      "outputs": [
        {
          "output_type": "execute_result",
          "data": {
            "text/plain": [
              "array([[14,  0,  0],\n",
              "       [ 0, 10,  4],\n",
              "       [ 0,  2, 15]])"
            ]
          },
          "metadata": {},
          "execution_count": 273
        }
      ]
    },
    {
      "cell_type": "markdown",
      "source": [
        "> 직접 구현했을 때와 모듈을 사용했을 때 완전히 동일하게 아주 좋은 성능을 보였음"
      ],
      "metadata": {
        "id": "YNU-TOrztW19"
      }
    }
  ],
  "metadata": {
    "kernelspec": {
      "display_name": "Python 3",
      "language": "python",
      "name": "python3"
    },
    "language_info": {
      "codemirror_mode": {
        "name": "ipython",
        "version": 3
      },
      "file_extension": ".py",
      "mimetype": "text/x-python",
      "name": "python",
      "nbconvert_exporter": "python",
      "pygments_lexer": "ipython3",
      "version": "3.7.3"
    },
    "nav_menu": {
      "height": "309px",
      "width": "468px"
    },
    "toc": {
      "navigate_menu": true,
      "number_sections": true,
      "sideBar": true,
      "threshold": 6,
      "toc_cell": false,
      "toc_section_display": "block",
      "toc_window_display": false
    },
    "colab": {
      "provenance": [],
      "collapsed_sections": [],
      "toc_visible": true
    }
  },
  "nbformat": 4,
  "nbformat_minor": 0
}