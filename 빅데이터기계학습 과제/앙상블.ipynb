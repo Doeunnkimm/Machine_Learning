{
  "cells": [
    {
      "cell_type": "markdown",
      "metadata": {
        "id": "ZW-_-XyQpw35"
      },
      "source": [
        "**7장 – 앙상블 학습과 랜덤 포레스트**"
      ]
    },
    {
      "cell_type": "markdown",
      "metadata": {
        "id": "mzIzLuqlpw39"
      },
      "source": [
        "_이 노트북은 7장에 있는 모든 샘플 코드와 연습문제 해답을 가지고 있습니다._"
      ]
    },
    {
      "cell_type": "markdown",
      "metadata": {
        "id": "KXrk9zk8pw39"
      },
      "source": [
        "<table align=\"left\">\n",
        "  <td>\n",
        "    <a target=\"_blank\" href=\"https://colab.research.google.com/github/rickiepark/handson-ml2/blob/master/07_ensemble_learning_and_random_forests.ipynb\"><img src=\"https://www.tensorflow.org/images/colab_logo_32px.png\" />구글 코랩에서 실행하기</a>\n",
        "  </td>\n",
        "</table>"
      ]
    },
    {
      "cell_type": "markdown",
      "metadata": {
        "id": "3_z4XgVDpw3-"
      },
      "source": [
        "# 설정"
      ]
    },
    {
      "cell_type": "markdown",
      "metadata": {
        "id": "JY-DOFtBpw3-"
      },
      "source": [
        "먼저 몇 개의 모듈을 임포트합니다. 맷플롯립 그래프를 인라인으로 출력하도록 만들고 그림을 저장하는 함수를 준비합니다. 또한 파이썬 버전이 3.5 이상인지 확인합니다(파이썬 2.x에서도 동작하지만 곧 지원이 중단되므로 파이썬 3을 사용하는 것이 좋습니다). 사이킷런 버전이 0.20 이상인지도 확인합니다."
      ]
    },
    {
      "cell_type": "code",
      "execution_count": null,
      "metadata": {
        "id": "H4wYKVoLpw3-"
      },
      "outputs": [],
      "source": [
        "# 파이썬 ≥3.5 필수\n",
        "import sys\n",
        "assert sys.version_info >= (3, 5)\n",
        "\n",
        "# 사이킷런 ≥0.20 필수\n",
        "import sklearn\n",
        "assert sklearn.__version__ >= \"0.20\"\n",
        "\n",
        "# 공통 모듈 임포트\n",
        "import numpy as np\n",
        "import os\n",
        "\n",
        "# 노트북 실행 결과를 동일하게 유지하기 위해\n",
        "np.random.seed(42)"
      ]
    },
    {
      "cell_type": "markdown",
      "metadata": {
        "id": "QpKAZ259pw4A"
      },
      "source": [
        "# 투표기반 분류기\n",
        "* 정확도가 80%인 여러 분류기 훈련 -> 예측을 모아 가장 많이 선택된 클래스 예측\n",
        "  - 직접 투표 hard voting 분류기, 가장 뛰어난 개별 분류기보다 정확도가 높을 확률이 큼\n",
        "* 랜덤 추측보다 조금 더 높은 성능의 약한 학습기 weak learner 일지라도 충분히 많고 다양하면 동전 앞 51%, 뒤 49% -> 1000번 시행, 약 앞 510, 뒤 490 : 앞면 다수\n",
        "  - 1000번 던진 후 앞면이 다수가 될 확률이 약 75%, 10,000번 던지면 97% 이상\n",
        "  - 큰 수의 법칙 law of large numbers"
      ]
    },
    {
      "cell_type": "code",
      "source": [
        "from scipy.stats import binom\n",
        "1-binom.cdf(499, 1000, 0.51)\n",
        "1-binom.cdf(4999, 10000, 0.51) # 0.978"
      ],
      "metadata": {
        "id": "MHNHBUl7qrRw",
        "colab": {
          "base_uri": "https://localhost:8080/"
        },
        "outputId": "9d25dd37-aeea-4d46-a422-45b9deff6b11"
      },
      "execution_count": null,
      "outputs": [
        {
          "output_type": "execute_result",
          "data": {
            "text/plain": [
              "0.9777976478701103"
            ]
          },
          "metadata": {},
          "execution_count": 2
        }
      ]
    },
    {
      "cell_type": "markdown",
      "source": [
        "* 51%의 정확도를 가진 1,000개의 분류기로 앙상블 모델 구축 -> 투표 기반 분류기 75% 정확도\n",
        "  - 가정: 모든 분류기가 완벽하게 독립적이고 오차에 상관관계가 없을 때 성립 iid \n",
        "    - 같은 데이터로 훈련하기 때문에 이런 가정이 맞지 않음.\n",
        "    - 같은 종류의 오차를 만들기 쉬워 잘못된 클래스 다수, 앙상블 정확도 낮아짐\n",
        "* 독립적인 다양한 분류기를 얻는 방법은 각기 다른 알고리즘으로 학습시킴, 매우 다른 종류의 오차, 앙상블 정확도 향상"
      ],
      "metadata": {
        "id": "ITCUB_XPrgBk"
      }
    },
    {
      "cell_type": "code",
      "source": [
        "from sklearn.ensemble import RandomForestClassifier\n",
        "from sklearn.ensemble import VotingClassifier\n",
        "from sklearn.linear_model import LogisticRegression\n",
        "from sklearn.svm import SVC\n",
        "from sklearn.datasets import make_moons\n",
        "# from sklearn.pipeline import Pipeline\n",
        "# from sklearn.preprocessing import PolynomialFeatures"
      ],
      "metadata": {
        "id": "ntfwqWwisFCl"
      },
      "execution_count": null,
      "outputs": []
    },
    {
      "cell_type": "code",
      "source": [
        "X, y = make_moons(n_samples=1000, noise=0.25)\n",
        "X_train, X_test, y_train, y_test = X[:800], X[800:], y[:800], y[800:]"
      ],
      "metadata": {
        "id": "XEDnoOXTs02P"
      },
      "execution_count": null,
      "outputs": []
    },
    {
      "cell_type": "code",
      "source": [
        "log_clf = LogisticRegression()\n",
        "rnd_clf = RandomForestClassifier()\n",
        "svm_clf = SVC()"
      ],
      "metadata": {
        "id": "KSsptluxtB6l"
      },
      "execution_count": null,
      "outputs": []
    },
    {
      "cell_type": "code",
      "source": [
        "voting_clf = VotingClassifier(\n",
        "    estimators=[('lr', log_clf), ('rf', rnd_clf), ('svc', svm_clf)],\n",
        "    voting='hard')\n",
        "voting_clf.fit(X_train, y_train)"
      ],
      "metadata": {
        "colab": {
          "base_uri": "https://localhost:8080/"
        },
        "id": "XjjGEhHxtQ08",
        "outputId": "545853f5-3a28-47b9-ac4e-345e5757a62b"
      },
      "execution_count": null,
      "outputs": [
        {
          "output_type": "execute_result",
          "data": {
            "text/plain": [
              "VotingClassifier(estimators=[('lr', LogisticRegression()),\n",
              "                             ('rf', RandomForestClassifier()), ('svc', SVC())])"
            ]
          },
          "metadata": {},
          "execution_count": 6
        }
      ]
    },
    {
      "cell_type": "code",
      "source": [
        "import matplotlib.pyplot as plt\n",
        "\n",
        "for j in range(len(X_train)):\n",
        "  if y_train[j] == 1:\n",
        "    plt.plot(X_train[j,0], X_train[j,1], \"r*\")\n",
        "  else:\n",
        "    plt.plot(X_train[j,0], X_train[j,1], \"bo\")\n",
        "\n",
        "plt.show()"
      ],
      "metadata": {
        "colab": {
          "base_uri": "https://localhost:8080/",
          "height": 265
        },
        "id": "Tr19n-6LtZiS",
        "outputId": "edb91542-6495-4070-ba48-e820cb3ee3c6"
      },
      "execution_count": null,
      "outputs": [
        {
          "output_type": "display_data",
          "data": {
            "text/plain": [
              "<Figure size 432x288 with 1 Axes>"
            ],
            "image/png": "[encoded data removed]"
          },
          "metadata": {
            "needs_background": "light"
          }
        }
      ]
    },
    {
      "cell_type": "code",
      "source": [
        "from sklearn.metrics import accuracy_score\n",
        "\n",
        "for clf in (log_clf, rnd_clf, svm_clf, voting_clf):\n",
        "    clf.fit(X_train, y_train)\n",
        "    y_pred = clf.predict(X_test)\n",
        "    print(clf.__class__.__name__, accuracy_score(y_test, y_pred))"
      ],
      "metadata": {
        "colab": {
          "base_uri": "https://localhost:8080/"
        },
        "id": "Yl-reDb1t-Bc",
        "outputId": "6829a682-1c2b-4897-adb0-e7d6b5fdfd66"
      },
      "execution_count": null,
      "outputs": [
        {
          "output_type": "stream",
          "name": "stdout",
          "text": [
            "LogisticRegression 0.855\n",
            "RandomForestClassifier 0.96\n",
            "SVC 0.95\n",
            "VotingClassifier 0.945\n"
          ]
        }
      ]
    },
    {
      "cell_type": "markdown",
      "source": [
        "> 거의 매번 SVC가 좋음...\n",
        "\n",
        "* Random Forest 자체에서도 voting이 있음"
      ],
      "metadata": {
        "id": "aOsTS9c3uFpd"
      }
    },
    {
      "cell_type": "markdown",
      "source": [
        "* 모든 분류기가 predict_proba() 메서드가 있어서 클래스 확률을 예측할 수 있으면\n",
        "  - 개별 분류기의 예측확률을 평균내어 확률이 가장 높은 클래스 예측 -> 간접 튜표 soft voting\n",
        "  - 확률이 가장 높은 투표에 비중을 두므로 직접 투표보다 성능이 높음 voting=\"hard\" -> voting=\"soft\"\n",
        "* SVC 기본값에는 확률 저장하지 않음. probability=True\n",
        "  - 확률 추정을 위해 교차검증을 하므로 속도는 느려지지만, predict_proba() 메서드 사용 가능"
      ],
      "metadata": {
        "id": "Fp7BngmuuJB6"
      }
    },
    {
      "cell_type": "markdown",
      "source": [
        "# 배깅과 페이스팅\n",
        "* 각기 다른 훈련 알고리즘\n",
        "* 같은 알고리즘을 사용하고 훈련세트의 서브셋을 무작위로 구성하여 분류기를 각기 다르게 학습\n",
        "* 배깅 bagging: bootstrap aggregating: 훈련셋에서 중복을 허용하여 샘플링\n",
        "  - 부트스트래핑 bootstrapping: 중복을 허용한 리샘플링\n",
        "* 페이스팅 pasting: 중복을 허용하지 않고 샘플링\n",
        "* 수집 함수: 분류일 때는 통계적 최빈값 statistical mode, 회귀에서는 평균을 계산\n",
        "* 개별 예측기는 원본 훈련세트보다 훨씬 크게 편향될 수 있지만, 수집함수를 통과하면 편향, 분산 감소\n",
        "* 일반적으로 앙상블 결과는 원본 데이터셋으로 하나의 예측기를 통과시킬 때와 비교해 편향은 비슷, 분산 감소\n",
        "* 모든 예측기 병렬 학습 가능, 예측도 향상 가능 -> 배깅과 페이스팅의 확장성"
      ],
      "metadata": {
        "id": "C2_4r3C3u5VL"
      }
    },
    {
      "cell_type": "markdown",
      "source": [
        "## 사이킷런의 배깅과 페이스팅\n",
        "* 간편한 API: BaggingClassifier(회귀의 경우 BaggingRegressor)\n",
        "* 결정트리 분류기 500개 앙상블 훈련, max_samples: 0.0~1.0 사이의 실수, 샘플링 수 = 훈련세트 * max_samples\n",
        "* 페이스팅: bootstrap = False\n",
        "* n_jobs: 훈련과 예측에 사용할 코어 수 : -1: 가능한 모든 코어 사용, 기본값=1"
      ],
      "metadata": {
        "id": "Nj18vArevxdz"
      }
    },
    {
      "cell_type": "code",
      "source": [
        "from sklearn.ensemble import BaggingClassifier\n",
        "from sklearn.tree import DecisionTreeClassifier\n",
        "\n",
        "bag_clf = BaggingClassifier(\n",
        "    DecisionTreeClassifier(), n_estimators=500,\n",
        "    max_samples=100, bootstrap=True, random_state=42)\n",
        "bag_clf.fit(X_train, y_train)\n",
        "y_pred = bag_clf.predict(X_test)\n",
        "print(accuracy_score(y_test, y_pred))\n",
        "# predict_proba() 메서드가 있으면 간접투표 사용"
      ],
      "metadata": {
        "colab": {
          "base_uri": "https://localhost:8080/"
        },
        "id": "0HNa-MsowQla",
        "outputId": "840a4610-cf45-4aaf-d2a9-d4dbd76c4aaf"
      },
      "execution_count": null,
      "outputs": [
        {
          "output_type": "stream",
          "name": "stdout",
          "text": [
            "0.94\n"
          ]
        }
      ]
    },
    {
      "cell_type": "markdown",
      "source": [
        "* 부트스트래핑은 각 예측기가 학습하는 서브셋에 다양성을 증가시키므로 배깅이 페이스팅보다 편향이 조금 더 높음\n",
        "* 하지만 다양성을 추가하면 예측기의 상관관계를 줄이므로 앙상블의 분산을 감소,\n",
        "* 전반적으로 배깅이 더 나은 모델을 만들기 때문에 일반적으로 더 선호\n",
        "* 시간과 CPU 파워에 여유가 있으면 교차검증으로 배깅과 페이스팅 모두 평가해서 나은 쪽 선택"
      ],
      "metadata": {
        "id": "3RoFU1-2wdvR"
      }
    },
    {
      "cell_type": "markdown",
      "source": [
        "## oob 평가"
      ],
      "metadata": {
        "id": "oWiJnPV9xD8l"
      }
    },
    {
      "cell_type": "markdown",
      "source": [
        "* 배깅을 사용하면 어떤 샘플은 여러번 샘플링되고 어떤 것은 전혀 선택되지 않을 수 있음\n",
        "* BaggingClassifier는 기본값으로 중복을 허용하기 때문에 bootstrap=True 훈련 세트 크기만큼인 m개.....\n",
        "* 선택되지 않을 확률 1-1/m, m번 반복 (1-1/m)^m ---> e^(-1), 샘플링될 확률 = 63.21%\n",
        "* 선택되지 않은 훈련샘플의 나머지 (37%) : oob(out-of-bag) 샘플\n",
        "* 예측기가 훈련되는 동안 oob샘플을 사용하지 않으므로 별도의 검증 세트를 사용하지 않고 oob 샘플을 사용해 평가\n",
        "* 앙상블의 평가는 각 예측기의 oob 평가를 평균하여 얻음\n",
        "* oob_score =True : 훈련이 끝난 후 자동으로 oob 평가 수행\n",
        "* 평가 점수 결과는 oob_score_ 변수에 저장"
      ],
      "metadata": {
        "id": "TuasisklxKfN"
      }
    },
    {
      "cell_type": "code",
      "source": [
        "bag_clf = BaggingClassifier(\n",
        "    DecisionTreeClassifier(), n_estimators=500,\n",
        "    bootstrap=True, oob_score=True, random_state=40)\n",
        "bag_clf.fit(X_train, y_train)\n",
        "bag_clf.oob_score_"
      ],
      "metadata": {
        "colab": {
          "base_uri": "https://localhost:8080/"
        },
        "id": "PiCMGxu2xGl0",
        "outputId": "73f01838-04b6-4cc3-eb65-2e7d7d792786"
      },
      "execution_count": null,
      "outputs": [
        {
          "output_type": "execute_result",
          "data": {
            "text/plain": [
              "0.93875"
            ]
          },
          "metadata": {},
          "execution_count": 10
        }
      ]
    },
    {
      "cell_type": "code",
      "source": [
        "from sklearn.metrics import accuracy_score\n",
        "y_pred = bag_clf.predict(X_test)\n",
        "accuracy_score(y_test, y_pred)"
      ],
      "metadata": {
        "colab": {
          "base_uri": "https://localhost:8080/"
        },
        "id": "aVMCBOWe4DR5",
        "outputId": "595b5826-7d80-4e53-8861-0115c2bc9a21"
      },
      "execution_count": null,
      "outputs": [
        {
          "output_type": "execute_result",
          "data": {
            "text/plain": [
              "0.94"
            ]
          },
          "metadata": {},
          "execution_count": 11
        }
      ]
    },
    {
      "cell_type": "code",
      "source": [
        "bag_clf.oob_decision_function_"
      ],
      "metadata": {
        "colab": {
          "base_uri": "https://localhost:8080/"
        },
        "id": "nAL-Q9gw4L3m",
        "outputId": "f31bfb65-c648-423e-f151-e1781d7d5848"
      },
      "execution_count": null,
      "outputs": [
        {
          "output_type": "execute_result",
          "data": {
            "text/plain": [
              "array([[0.32222222, 0.67777778],\n",
              "       [0.06024096, 0.93975904],\n",
              "       [0.97156398, 0.02843602],\n",
              "       ...,\n",
              "       [0.        , 1.        ],\n",
              "       [0.        , 1.        ],\n",
              "       [0.        , 1.        ]])"
            ]
          },
          "metadata": {},
          "execution_count": 12
        }
      ]
    },
    {
      "cell_type": "markdown",
      "source": [
        "# 랜덤패치와 랜덤서브스페이스\n",
        "* BaggingClassifier는 특성 샘플링도 지원, max_features, bootstrap_features\n",
        "* 작동방식은 max_samples, bootstrap과 동일하지만 샘플이 아니고 특성에 대한 샘플링\n",
        "* 무작위로 선택한 입력 특성의 일부분으로 훈련\n",
        "* 이미지와 같은 매우 고차원의 데이터셋을 다룰 때 유용\n",
        "* 훈련 특성과 샘플을 모두 샘플링하는 것을 랜덤패치 방식(Random patches method)\n",
        "* 훈련 샘플을 모두 사용하고 (bootstrap=False, max_samples=1.0), 특성은 샘플링(bootstrap_features=True, max_features<1) => 랜덤서브스페이스방식\n",
        "* 특성 샘플링 => 다양한 예측기, 편향을 늘리는 대신 분산을 낮춤"
      ],
      "metadata": {
        "id": "4Gj0tAJA4UhM"
      }
    },
    {
      "cell_type": "markdown",
      "source": [
        "# 랜덤 포레스트\n",
        "* 일반적으로 배깅 방법(또는 페이스팅)을 적용한 결정트리의 앙상블\n",
        "* max_samples 훈련샘플 크기, 기본값 1.0\n",
        "* BaggingClassifier에 DecisionTreeClassifier를 넣어 만들 수 있음, 결정트리 이외의 모델 앙상블할때도 유용\n",
        "* RandomForestClassifier 결정트리에 최적화되어 사용하기 편리\n",
        "* RandomForestRegressor 회귀"
      ],
      "metadata": {
        "id": "6-A5_rlN4_Kr"
      }
    },
    {
      "cell_type": "code",
      "source": [
        "# 16개 리프노드를 갖는 500개 트리로 이루어진 랜덤포레스트 분류기, n_jobs=-1 : 시스템에 있는 모든 CPU 코어 사용\n",
        "from sklearn.ensemble import RandomForestClassifier\n",
        "rnd_clf = RandomForestClassifier(n_estimators=500, max_leaf_nodes=16, n_jobs=-1)\n",
        "rnd_clf.fit(X_train, y_train)\n",
        "y_pred_rf = rnd_clf.predict(X_test)\n",
        "accuracy_score(y_test,y_pred_rf)"
      ],
      "metadata": {
        "id": "QFRJ0Swj5vSB",
        "colab": {
          "base_uri": "https://localhost:8080/"
        },
        "outputId": "7f797d96-f2e3-4c3c-d6e7-bc4a77071946"
      },
      "execution_count": null,
      "outputs": [
        {
          "output_type": "execute_result",
          "data": {
            "text/plain": [
              "0.955"
            ]
          },
          "metadata": {},
          "execution_count": 13
        }
      ]
    },
    {
      "cell_type": "markdown",
      "source": [
        "* RandomForestClassifier : DecisonTreeClassifier와 BaggingClassifier의 매개변수를 모두 가지고 있음.\n",
        "* 예외 항목: splitter=\"best\", presort=\"False\", max_samples=1.0, base_estimator=\"DecisionTreeClassifier\"\n",
        "              DecisionTreeClassifier      /    BaggingClassfier\n",
        "* 트리의 노드를 분할할때 전체특성 중 최선의 특성을 찾는 대신 무작위로 선택한 특성 후보 중에서 최적의 특성을 찾는 무작위성을 더 주입\n",
        "* 트리를 더 다양하게 만들고, 편향을 손해보는 대신 분산을 낮추어, 전체적으로 훌륭한 모델을 만듬\n"
      ],
      "metadata": {
        "id": "KiJs6t1j51xY"
      }
    },
    {
      "cell_type": "code",
      "source": [
        "bag_clf = BaggingClassifier(\n",
        "    DecisionTreeClassifier(max_features=\"sqrt\",max_leaf_nodes=16), n_estimators=500) # RandomForestClassifier와 비슷하게 만듬\n",
        "bag_clf.fit(X_train, y_train)\n",
        "y_pred_bag = bag_clf.predict(X_test)\n",
        "accuracy_score(y_test,y_pred_bag)"
      ],
      "metadata": {
        "colab": {
          "base_uri": "https://localhost:8080/"
        },
        "id": "eTyCIxWo6Cb5",
        "outputId": "829b973f-597f-4066-a435-5b66ad68c762"
      },
      "execution_count": null,
      "outputs": [
        {
          "output_type": "execute_result",
          "data": {
            "text/plain": [
              "0.95"
            ]
          },
          "metadata": {},
          "execution_count": 14
        }
      ]
    },
    {
      "cell_type": "markdown",
      "source": [
        "## 엑스트라 트리\n",
        "* 각 노드는 무작위로 특성의 서브셋을 만들어 분할에 사용\n",
        "* 트리를 더욱 무작위로 만들기 위해 최적의 임곗값을 찾는 대신 후보 특성을 사용해 무작위로 분할한 다음 그중에서 최상의 분할 선택\n",
        "* 익스트림 랜덤 트리 앙상블/ 엑스트라 트리 : 극단적으로 무작위한 트리의 랜덤 포레스트 => 편향은 늘지만 분산은 줄어듬, 일반적 랜덤포레스트보다 빠름\n",
        "* ExtraTreeClassifier/ ExtraTreeRegressor\n",
        "* RF 보다 더 나을지 나쁠지 예단하기 어렵고, 둘 다 시도해보고 교차검증으로 비교 시도, 그리드 탐색으로 하이퍼파라미터 튜닝\n"
      ],
      "metadata": {
        "id": "kQmkmjQc6G7_"
      }
    },
    {
      "cell_type": "markdown",
      "source": [
        "## 특성 중요도\n",
        "* 장점 : 특성의 상대적 중요도를 측정하기 쉬움\n",
        "* DecisionTreeClassifier : 일부 특성 배제, RandomForestClassifier : 모든 특성 평가\n",
        "* 어떤 특성을 사용한 노드가 평균적으로 불순도를 얼마나 감소하는 지 확인하여 특성의 중요도 측정, 가중치 평균, 가중치는 연관된 샘플 수\n",
        "* 특성 중요도 : (현재노드 샘플비율*불순도) -(왼쪽자식노드 샘플비율*불순도)-(오른쪽자식노드 샘플비율*불순도), 특성중요도 합이 1이 되도록 정규화\n",
        "* 랜덤포레스트 특성중요도 : 각결정트리 특성 중요도를 더한 후 트리수로 나눈 것"
      ],
      "metadata": {
        "id": "kBmFNUmq6SlP"
      }
    },
    {
      "cell_type": "code",
      "source": [
        "# iris 데이터셋 : 꽃잎길이와 너비는 중요하고 꽃받침 길이와 너비는 덜 중요해 보임\n",
        "from sklearn.datasets import load_iris\n",
        "iris = load_iris()\n",
        "rnd_clf = RandomForestClassifier(n_estimators=500, n_jobs=-1)\n",
        "rnd_clf.fit(iris[\"data\"], iris[\"target\"])\n",
        "for name, score in zip(iris[\"feature_names\"], rnd_clf.feature_importances_):\n",
        "    print(name,score)"
      ],
      "metadata": {
        "colab": {
          "base_uri": "https://localhost:8080/"
        },
        "id": "KBBHlQbH6fK4",
        "outputId": "5e80fb14-52d5-407f-a165-15848c7914e3"
      },
      "execution_count": null,
      "outputs": [
        {
          "output_type": "stream",
          "name": "stdout",
          "text": [
            "sepal length (cm) 0.09516181964942332\n",
            "sepal width (cm) 0.024133186861319343\n",
            "petal length (cm) 0.4495821278707204\n",
            "petal width (cm) 0.43112286561853697\n"
          ]
        }
      ]
    },
    {
      "cell_type": "code",
      "source": [
        "# MNIST 데이터셋\n",
        "from sklearn.datasets import fetch_openml\n",
        "import numpy as np\n",
        "mnist = fetch_openml('mnist_784',version=1, as_frame=False)\n",
        "rnd_clf = RandomForestClassifier(n_estimators=500, n_jobs=-1)\n",
        "rnd_clf.fit(mnist[\"data\"], mnist[\"target\"])\n",
        "for name, score in zip(mnist[\"feature_names\"], rnd_clf.feature_importances_):\n",
        "    print(name,score)\n",
        "a = rnd_clf.feature_importances_\n",
        "b = a.reshape(28,28)\n",
        "plt.imshow(b)\n",
        "plt.axis('off')\n",
        "plt.show()"
      ],
      "metadata": {
        "colab": {
          "base_uri": "https://localhost:8080/",
          "height": 1000
        },
        "id": "HmhL7bxd6jGo",
        "outputId": "f9f37e3d-1ed5-44ce-a8b1-a15f77b129a6"
      },
      "execution_count": null,
      "outputs": [
        {
          "output_type": "stream",
          "name": "stdout",
          "text": [
            "pixel1 0.0\n",
            "pixel2 0.0\n",
            "pixel3 0.0\n",
            "pixel4 0.0\n",
            "pixel5 0.0\n",
            "pixel6 0.0\n",
            "pixel7 0.0\n",
            "pixel8 0.0\n",
            "pixel9 0.0\n",
            "pixel10 0.0\n",
            "pixel11 0.0\n",
            "pixel12 0.0\n",
            "pixel13 1.1815858500539358e-07\n",
            "pixel14 5.111272290394936e-08\n",
            "pixel15 0.0\n",
            "pixel16 0.0\n",
            "pixel17 0.0\n",
            "pixel18 0.0\n",
            "pixel19 0.0\n",
            "pixel20 0.0\n",
            "pixel21 0.0\n",
            "pixel22 0.0\n",
            "pixel23 0.0\n",
            "pixel24 0.0\n",
            "pixel25 0.0\n",
            "pixel26 0.0\n",
            "pixel27 0.0\n",
            "pixel28 0.0\n",
            "pixel29 0.0\n",
            "pixel30 0.0\n",
            "pixel31 0.0\n",
            "pixel32 0.0\n",
            "pixel33 0.0\n",
            "pixel34 6.213515501499563e-08\n",
            "pixel35 1.0625038756609855e-06\n",
            "pixel36 7.13745762217438e-07\n",
            "pixel37 2.1498952630521855e-06\n",
            "pixel38 2.038955518734568e-06\n",
            "pixel39 1.7409615456794632e-06\n",
            "pixel40 3.4738027157412045e-06\n",
            "pixel41 3.1164467538818193e-06\n",
            "pixel42 2.9076919731669393e-06\n",
            "pixel43 3.853611839813169e-06\n",
            "pixel44 3.4931942228039358e-06\n",
            "pixel45 4.162999651916451e-06\n",
            "pixel46 2.5575081251051585e-06\n",
            "pixel47 5.926540263881678e-07\n",
            "pixel48 4.627079094512358e-07\n",
            "pixel49 7.336467132420659e-07\n",
            "pixel50 1.4431497707046775e-06\n",
            "pixel51 5.545906557933651e-07\n",
            "pixel52 4.6594616035311957e-07\n",
            "pixel53 0.0\n",
            "pixel54 0.0\n",
            "pixel55 0.0\n",
            "pixel56 0.0\n",
            "pixel57 0.0\n",
            "pixel58 0.0\n",
            "pixel59 0.0\n",
            "pixel60 1.9659978882226806e-07\n",
            "pixel61 2.878901192699943e-07\n",
            "pixel62 3.7087449672600146e-07\n",
            "pixel63 2.7818363627696202e-06\n",
            "pixel64 6.277713179601483e-06\n",
            "pixel65 1.9746068643567607e-05\n",
            "pixel66 4.8991603187059795e-05\n",
            "pixel67 6.272609983933169e-05\n",
            "pixel68 0.00013060930093649286\n",
            "pixel69 0.00018937647827074516\n",
            "pixel70 0.0002597857893299138\n",
            "pixel71 0.00014848446363174026\n",
            "pixel72 0.00017095562507721235\n",
            "pixel73 0.00013523480889623854\n",
            "pixel74 8.30702352541658e-05\n",
            "pixel75 7.947744980278456e-05\n",
            "pixel76 5.632879477412475e-05\n",
            "pixel77 2.9864997260707036e-05\n",
            "pixel78 1.1123632482428129e-05\n",
            "pixel79 6.418564804693289e-06\n",
            "pixel80 1.5948215424080975e-06\n",
            "pixel81 5.425260148964204e-07\n",
            "pixel82 3.2669526312558524e-07\n",
            "pixel83 0.0\n",
            "pixel84 0.0\n",
            "pixel85 0.0\n",
            "pixel86 0.0\n",
            "pixel87 0.0\n",
            "pixel88 4.01302205652997e-07\n",
            "pixel89 8.29310747576066e-07\n",
            "pixel90 2.0355293677251294e-06\n",
            "pixel91 1.1792702068180665e-05\n",
            "pixel92 2.480674450893956e-05\n",
            "pixel93 8.040036688268216e-05\n",
            "pixel94 0.00012871238301995498\n",
            "pixel95 0.0002828891092061466\n",
            "pixel96 0.0005068460084038523\n",
            "pixel97 0.0006487270901313039\n",
            "pixel98 0.0009699756484213323\n",
            "pixel99 0.0013527917373401719\n",
            "pixel100 0.0017770260459545554\n",
            "pixel101 0.002279170701369166\n",
            "pixel102 0.0020506810129396467\n",
            "pixel103 0.0013243532890631125\n",
            "pixel104 0.0008433780689759661\n",
            "pixel105 0.0003552636733590453\n",
            "pixel106 0.00015573854548059683\n",
            "pixel107 5.7522110608428635e-05\n",
            "pixel108 2.441577482337513e-05\n",
            "pixel109 1.2289703762298882e-05\n",
            "pixel110 3.224824248599944e-06\n",
            "pixel111 2.3132642101902278e-07\n",
            "pixel112 0.0\n",
            "pixel113 0.0\n",
            "pixel114 0.0\n",
            "pixel115 1.238529271688171e-07\n",
            "pixel116 9.71003987989789e-07\n",
            "pixel117 4.345676595230938e-06\n",
            "pixel118 1.2446269541851352e-05\n",
            "pixel119 3.15229164997533e-05\n",
            "pixel120 7.690558364875886e-05\n",
            "pixel121 0.00015186302841858294\n",
            "pixel122 0.00036843063414205586\n",
            "pixel123 0.0006338765282915304\n",
            "pixel124 0.0011545088519966436\n",
            "pixel125 0.0016300185911513549\n",
            "pixel126 0.0019039016015633312\n",
            "pixel127 0.0019469108455743018\n",
            "pixel128 0.00226603714358438\n",
            "pixel129 0.0016212997477317013\n",
            "pixel130 0.0011250404926018507\n",
            "pixel131 0.000769819479945585\n",
            "pixel132 0.0006321881162484262\n",
            "pixel133 0.00035290015930534107\n",
            "pixel134 0.00021789809988772866\n",
            "pixel135 0.00015094572700127934\n",
            "pixel136 7.825823708387656e-05\n",
            "pixel137 3.391753163415188e-05\n",
            "pixel138 1.717928937355597e-05\n",
            "pixel139 2.414254676731402e-06\n",
            "pixel140 5.720207426023639e-07\n",
            "pixel141 0.0\n",
            "pixel142 0.0\n",
            "pixel143 1.8673605482644676e-07\n",
            "pixel144 2.8151984378166934e-06\n",
            "pixel145 1.3956884975439144e-05\n",
            "pixel146 4.544205115280457e-05\n",
            "pixel147 0.00010485277378358695\n",
            "pixel148 0.00022969019347058125\n",
            "pixel149 0.00045968591412466316\n",
            "pixel150 0.0010989051194593166\n",
            "pixel151 0.0020352290202071913\n",
            "pixel152 0.003014919839252796\n",
            "pixel153 0.0036157411583554403\n",
            "pixel154 0.0046184704636173125\n",
            "pixel155 0.005976928342905297\n",
            "pixel156 0.006634451004340654\n",
            "pixel157 0.004375896701957284\n",
            "pixel158 0.0033309134994611396\n",
            "pixel159 0.002297190864772753\n",
            "pixel160 0.0014956661936787064\n",
            "pixel161 0.0009718732233248705\n",
            "pixel162 0.000756691999405306\n",
            "pixel163 0.0006032017893821645\n",
            "pixel164 0.0003482922193121146\n",
            "pixel165 0.00013219055793966495\n",
            "pixel166 2.9431994033503977e-05\n",
            "pixel167 5.11303588393001e-06\n",
            "pixel168 6.381669144195659e-07\n",
            "pixel169 0.0\n",
            "pixel170 0.0\n",
            "pixel171 1.5486353459723992e-06\n",
            "pixel172 7.4555188214142605e-06\n",
            "pixel173 3.2207292885668936e-05\n",
            "pixel174 0.00010556914452809696\n",
            "pixel175 0.00026519553905434573\n",
            "pixel176 0.0005449051330093698\n",
            "pixel177 0.0010893478937087754\n",
            "pixel178 0.0017199978360874343\n",
            "pixel179 0.0023894520307956193\n",
            "pixel180 0.0027231785138213263\n",
            "pixel181 0.002447091974865949\n",
            "pixel182 0.003076559611346157\n",
            "pixel183 0.003748355670749259\n",
            "pixel184 0.004523894458814239\n",
            "pixel185 0.003781064627741672\n",
            "pixel186 0.002591621581082572\n",
            "pixel187 0.0018822986606025474\n",
            "pixel188 0.0014761440990530123\n",
            "pixel189 0.00146387712034246\n",
            "pixel190 0.0013690616373629794\n",
            "pixel191 0.0011586043815889576\n",
            "pixel192 0.0009470068917863255\n",
            "pixel193 0.0003548192061795262\n",
            "pixel194 7.297459628943883e-05\n",
            "pixel195 9.271347984852312e-06\n",
            "pixel196 3.0389471192897655e-06\n",
            "pixel197 0.0\n",
            "pixel198 4.438487330769259e-07\n",
            "pixel199 2.3227039490665997e-06\n",
            "pixel200 1.2504259581410592e-05\n",
            "pixel201 5.9258474260961185e-05\n",
            "pixel202 0.0001651023608840279\n",
            "pixel203 0.0003213323478412964\n",
            "pixel204 0.0007000324304859374\n",
            "pixel205 0.0009601880437842498\n",
            "pixel206 0.0017385144371638397\n",
            "pixel207 0.0021476881738922067\n",
            "pixel208 0.0024112596187926797\n",
            "pixel209 0.002347374964102826\n",
            "pixel210 0.0037104842383826123\n",
            "pixel211 0.0065082050965656465\n",
            "pixel212 0.0064404133130621525\n",
            "pixel213 0.004606934601199015\n",
            "pixel214 0.0027817053493206347\n",
            "pixel215 0.0026235696688460394\n",
            "pixel216 0.0024858072119273373\n",
            "pixel217 0.0017390453520594652\n",
            "pixel218 0.0015218584558608559\n",
            "pixel219 0.0013364855266166076\n",
            "pixel220 0.001310288429535814\n",
            "pixel221 0.0008124662526399565\n",
            "pixel222 0.00015484258915596103\n",
            "pixel223 1.6525005782234356e-05\n",
            "pixel224 3.051838255984717e-06\n",
            "pixel225 1.753709457820622e-07\n",
            "pixel226 3.294281247811561e-07\n",
            "pixel227 2.8748928629298e-06\n",
            "pixel228 2.1788494216733942e-05\n",
            "pixel229 8.214033145770134e-05\n",
            "pixel230 0.00018577685738470413\n",
            "pixel231 0.00033121766930760253\n",
            "pixel232 0.0006633186445242816\n",
            "pixel233 0.0009894204814542126\n",
            "pixel234 0.0015933153410128608\n",
            "pixel235 0.0024410560742415387\n",
            "pixel236 0.003034016721264268\n",
            "pixel237 0.003307993305668367\n",
            "pixel238 0.004087743525067642\n",
            "pixel239 0.005113091088881686\n",
            "pixel240 0.005809201857229928\n",
            "pixel241 0.004216315860653814\n",
            "pixel242 0.003033525552758857\n",
            "pixel243 0.003306432135520932\n",
            "pixel244 0.0028118240089645198\n",
            "pixel245 0.0023412518820009748\n",
            "pixel246 0.0016449948660047225\n",
            "pixel247 0.001144349784038401\n",
            "pixel248 0.0010734318339560317\n",
            "pixel249 0.0007913238338448778\n",
            "pixel250 0.00015838240059567175\n",
            "pixel251 1.7242879483632363e-05\n",
            "pixel252 1.0730344691216665e-06\n",
            "pixel253 0.0\n",
            "pixel254 8.853513083515623e-07\n",
            "pixel255 3.5327879338462105e-06\n",
            "pixel256 3.428404251495065e-05\n",
            "pixel257 9.939023008569185e-05\n",
            "pixel258 0.00023459548246675376\n",
            "pixel259 0.00044086014379423564\n",
            "pixel260 0.0007380126984421063\n",
            "pixel261 0.001232946133686205\n",
            "pixel262 0.002249979624604086\n",
            "pixel263 0.004056255670928953\n",
            "pixel264 0.004821648869113505\n",
            "pixel265 0.0032001635651360562\n",
            "pixel266 0.0031465309218243454\n",
            "pixel267 0.003678304676399838\n",
            "pixel268 0.004045456605271952\n",
            "pixel269 0.0034707047816407407\n",
            "pixel270 0.004083112716996892\n",
            "pixel271 0.003957007850402809\n",
            "pixel272 0.003280821365815393\n",
            "pixel273 0.002665820218022874\n",
            "pixel274 0.0017270462548314106\n",
            "pixel275 0.0011345356031667168\n",
            "pixel276 0.0007582121095515754\n",
            "pixel277 0.0005144312416153395\n",
            "pixel278 0.00012871390321898528\n",
            "pixel279 1.6870984799395944e-05\n",
            "pixel280 1.7248014928963708e-06\n",
            "pixel281 0.0\n",
            "pixel282 5.32286382281976e-07\n",
            "pixel283 4.583568751963141e-06\n",
            "pixel284 3.046923344806759e-05\n",
            "pixel285 0.00011207852947946705\n",
            "pixel286 0.0002173618594005707\n",
            "pixel287 0.0004703379960499741\n",
            "pixel288 0.0008910285556228637\n",
            "pixel289 0.0016736835372662751\n",
            "pixel290 0.0029855985154959275\n",
            "pixel291 0.005630234023841952\n",
            "pixel292 0.005058303960234124\n",
            "pixel293 0.00341914489523615\n",
            "pixel294 0.0030033731705355724\n",
            "pixel295 0.0032042005137829606\n",
            "pixel296 0.0036934912589659087\n",
            "pixel297 0.0038549341217700584\n",
            "pixel298 0.003939906853762611\n",
            "pixel299 0.004451132465542956\n",
            "pixel300 0.0034332050077404285\n",
            "pixel301 0.0023897241616661568\n",
            "pixel302 0.002091908969190477\n",
            "pixel303 0.0011996316180055574\n",
            "pixel304 0.0005486175875391267\n",
            "pixel305 0.0002622759411459934\n",
            "pixel306 6.686468641224096e-05\n",
            "pixel307 1.3960527836359055e-05\n",
            "pixel308 1.6887197292197338e-06\n",
            "pixel309 8.503657184958708e-08\n",
            "pixel310 4.465313282156351e-07\n",
            "pixel311 4.436084490266382e-06\n",
            "pixel312 2.6552285829303852e-05\n",
            "pixel313 7.944390961304552e-05\n",
            "pixel314 0.00023723780945279576\n",
            "pixel315 0.0006040707496578167\n",
            "pixel316 0.001279026771435989\n",
            "pixel317 0.0023742426686294876\n",
            "pixel318 0.0038909239128867004\n",
            "pixel319 0.006228547279929594\n",
            "pixel320 0.005227551900277974\n",
            "pixel321 0.003499507825785702\n",
            "pixel322 0.0031467269060775345\n",
            "pixel323 0.0038399659764892136\n",
            "pixel324 0.004760834717849561\n",
            "pixel325 0.0034425413393971743\n",
            "pixel326 0.0031417361587929545\n",
            "pixel327 0.004445062551860671\n",
            "pixel328 0.003488489050017837\n",
            "pixel329 0.0022040323113573005\n",
            "pixel330 0.0017116683326083477\n",
            "pixel331 0.0017061557791112835\n",
            "pixel332 0.0005821646012510548\n",
            "pixel333 0.0001443834556670878\n",
            "pixel334 3.1186531792188426e-05\n",
            "pixel335 9.497696030749567e-06\n",
            "pixel336 1.0865256474532925e-06\n",
            "pixel337 0.0\n",
            "pixel338 3.4030749764119625e-07\n",
            "pixel339 2.1388692235041322e-06\n",
            "pixel340 2.2466078063618776e-05\n",
            "pixel341 8.901170165005782e-05\n",
            "pixel342 0.0002671689823194857\n",
            "pixel343 0.0009015683363064092\n",
            "pixel344 0.0015231281977683819\n",
            "pixel345 0.0028527029011047897\n",
            "pixel346 0.004690676017213752\n",
            "pixel347 0.005281466873098432\n",
            "pixel348 0.006287601914589995\n",
            "pixel349 0.004531090188717955\n",
            "pixel350 0.004136369221386862\n",
            "pixel351 0.008892985916367774\n",
            "pixel352 0.005009599847805429\n",
            "pixel353 0.003809408086205802\n",
            "pixel354 0.0037924423527564283\n",
            "pixel355 0.004421156995689283\n",
            "pixel356 0.0024290835020240337\n",
            "pixel357 0.0016890466045602114\n",
            "pixel358 0.0025912340679640523\n",
            "pixel359 0.002010425758897965\n",
            "pixel360 0.0009617507243838727\n",
            "pixel361 0.00015812139982182303\n",
            "pixel362 2.0147562615771546e-05\n",
            "pixel363 7.936585426177695e-06\n",
            "pixel364 3.5308808929938284e-07\n",
            "pixel365 0.0\n",
            "pixel366 3.387094125977617e-08\n",
            "pixel367 9.654604815337208e-07\n",
            "pixel368 1.6605074284190786e-05\n",
            "pixel369 8.759600739475238e-05\n",
            "pixel370 0.00034309516395467977\n",
            "pixel371 0.0011173512968446055\n",
            "pixel372 0.0019690368626451415\n",
            "pixel373 0.002995350304426526\n",
            "pixel374 0.004860942930883393\n",
            "pixel375 0.00490746908249728\n",
            "pixel376 0.006749680318805443\n",
            "pixel377 0.005153430647073442\n",
            "pixel378 0.0072603424137358775\n",
            "pixel379 0.008708810762037814\n",
            "pixel380 0.004462887506636295\n",
            "pixel381 0.003969039111444911\n",
            "pixel382 0.00567581119978529\n",
            "pixel383 0.004188239000655675\n",
            "pixel384 0.0015051232997686955\n",
            "pixel385 0.0012455479776592993\n",
            "pixel386 0.0018303870800952518\n",
            "pixel387 0.00237563122092493\n",
            "pixel388 0.0008527360986702484\n",
            "pixel389 0.00017220641251198637\n",
            "pixel390 2.448508849706077e-05\n",
            "pixel391 8.561325468224979e-06\n",
            "pixel392 2.0459989691495722e-07\n",
            "pixel393 1.802984538268901e-07\n",
            "pixel394 1.2260168379171292e-07\n",
            "pixel395 2.2069254178197523e-06\n",
            "pixel396 1.5342298350457326e-05\n",
            "pixel397 7.948091449166835e-05\n",
            "pixel398 0.000435083877369984\n",
            "pixel399 0.0011649218129389152\n",
            "pixel400 0.002035375182410771\n",
            "pixel401 0.00375560451130356\n",
            "pixel402 0.004582941692713119\n",
            "pixel403 0.0058003269438537996\n",
            "pixel404 0.004540067756418595\n",
            "pixel405 0.004565770841700856\n",
            "pixel406 0.008057215772435258\n",
            "pixel407 0.006450777400413919\n",
            "pixel408 0.00394080810287343\n",
            "pixel409 0.003927706154342066\n",
            "pixel410 0.00743057655217109\n",
            "pixel411 0.0032186355544261106\n",
            "pixel412 0.0016403374493761487\n",
            "pixel413 0.0011974318466738759\n",
            "pixel414 0.0016218176316125292\n",
            "pixel415 0.0016364197620258906\n",
            "pixel416 0.0007200646657172268\n",
            "pixel417 0.00017424249187777228\n",
            "pixel418 3.004541338622668e-05\n",
            "pixel419 1.019879782924915e-05\n",
            "pixel420 4.798966871697395e-07\n",
            "pixel421 0.0\n",
            "pixel422 1.8282715548869778e-07\n",
            "pixel423 3.663781533105664e-06\n",
            "pixel424 2.23407063642436e-05\n",
            "pixel425 7.822898408421483e-05\n",
            "pixel426 0.0004030546108347907\n",
            "pixel427 0.0011630622211559732\n",
            "pixel428 0.0029627461528154804\n",
            "pixel429 0.004163731622060755\n",
            "pixel430 0.005745558077560907\n",
            "pixel431 0.004976775751502147\n",
            "pixel432 0.004913409610975788\n",
            "pixel433 0.004505285079603842\n",
            "pixel434 0.006859149354999576\n",
            "pixel435 0.006104440257058661\n",
            "pixel436 0.005041967520607905\n",
            "pixel437 0.0035326910218714913\n",
            "pixel438 0.006711460636817973\n",
            "pixel439 0.0027524038033818\n",
            "pixel440 0.0017224850468146717\n",
            "pixel441 0.0015837505478553207\n",
            "pixel442 0.0020617095149366915\n",
            "pixel443 0.0008890856989851611\n",
            "pixel444 0.0005023861570094835\n",
            "pixel445 0.0001566143257119679\n",
            "pixel446 4.145473917462421e-05\n",
            "pixel447 1.4159541668361507e-05\n",
            "pixel448 8.790293896323776e-07\n",
            "pixel449 0.0\n",
            "pixel450 3.1044695418466503e-07\n",
            "pixel451 3.6902491881360847e-06\n",
            "pixel452 3.0194599545278884e-05\n",
            "pixel453 9.877791798209406e-05\n",
            "pixel454 0.00048715928097647915\n",
            "pixel455 0.0012995615428177502\n",
            "pixel456 0.00311204985340672\n",
            "pixel457 0.003868693218678868\n",
            "pixel458 0.0046480202987627395\n",
            "pixel459 0.004053656289505473\n",
            "pixel460 0.004849376393766172\n",
            "pixel461 0.0057797444545238195\n",
            "pixel462 0.007228593090580951\n",
            "pixel463 0.0061677708744661075\n",
            "pixel464 0.003586575293206497\n",
            "pixel465 0.0029176612300744103\n",
            "pixel466 0.0035389676870533652\n",
            "pixel467 0.0024689017391277533\n",
            "pixel468 0.001958091990682728\n",
            "pixel469 0.0016365923427303078\n",
            "pixel470 0.0013352878058926535\n",
            "pixel471 0.0007253416911751406\n",
            "pixel472 0.00041120764971127097\n",
            "pixel473 0.00016254035989822927\n",
            "pixel474 5.0942256725972235e-05\n",
            "pixel475 1.718091503086372e-05\n",
            "pixel476 2.4089748717727432e-06\n",
            "pixel477 0.0\n",
            "pixel478 5.262145145688333e-07\n",
            "pixel479 4.355292345132663e-06\n",
            "pixel480 3.5660545707095466e-05\n",
            "pixel481 0.00012092933759555312\n",
            "pixel482 0.0005014104851330186\n",
            "pixel483 0.0012962647917110625\n",
            "pixel484 0.002676224855198935\n",
            "pixel485 0.0030874698723307244\n",
            "pixel486 0.0037527660692528997\n",
            "pixel487 0.005160171477887174\n",
            "pixel488 0.005751525312840502\n",
            "pixel489 0.0059133348483041345\n",
            "pixel490 0.0060703177495870725\n",
            "pixel491 0.003982839563076017\n",
            "pixel492 0.0025016780720735834\n",
            "pixel493 0.0018669542379176453\n",
            "pixel494 0.002411921216340676\n",
            "pixel495 0.002559586581929627\n",
            "pixel496 0.0015342157243380728\n",
            "pixel497 0.0016026519896919405\n",
            "pixel498 0.000933759425574246\n",
            "pixel499 0.0005644908387502446\n",
            "pixel500 0.00037038531940858057\n",
            "pixel501 0.00020652452199825195\n",
            "pixel502 6.587007707195383e-05\n",
            "pixel503 1.4112584122779671e-05\n",
            "pixel504 2.5308418768318027e-06\n",
            "pixel505 2.453510183937373e-07\n",
            "pixel506 1.203014638366624e-07\n",
            "pixel507 6.93563865962426e-06\n",
            "pixel508 5.0417934989030096e-05\n",
            "pixel509 0.00014883874434868367\n",
            "pixel510 0.0005786899856163306\n",
            "pixel511 0.0012827490538430061\n",
            "pixel512 0.002287331709674294\n",
            "pixel513 0.0026005275928130006\n",
            "pixel514 0.0036740427987364526\n",
            "pixel515 0.005852071248966466\n",
            "pixel516 0.006348119444299409\n",
            "pixel517 0.004839765953881726\n",
            "pixel518 0.0038628805753506325\n",
            "pixel519 0.0030637527036008194\n",
            "pixel520 0.0017485995642777389\n",
            "pixel521 0.001380903306117367\n",
            "pixel522 0.002298024760321148\n",
            "pixel523 0.002420036965901705\n",
            "pixel524 0.002010286620433766\n",
            "pixel525 0.001454681786089326\n",
            "pixel526 0.0011351473384332064\n",
            "pixel527 0.0006196811302578421\n",
            "pixel528 0.0004025239047547102\n",
            "pixel529 0.0002674372935403382\n",
            "pixel530 5.688220502797075e-05\n",
            "pixel531 5.945548942294367e-06\n",
            "pixel532 1.140392704032453e-06\n",
            "pixel533 0.0\n",
            "pixel534 5.650809719183938e-07\n",
            "pixel535 9.52121385139331e-06\n",
            "pixel536 6.662460154713297e-05\n",
            "pixel537 0.00019607564763732708\n",
            "pixel538 0.0006282699212640543\n",
            "pixel539 0.0016408334643018337\n",
            "pixel540 0.002877467306739117\n",
            "pixel541 0.004209112832276335\n",
            "pixel542 0.005749848269950653\n",
            "pixel543 0.006353457125693898\n",
            "pixel544 0.005304287952984156\n",
            "pixel545 0.0034595529132195896\n",
            "pixel546 0.002394205202618102\n",
            "pixel547 0.0019096619918108938\n",
            "pixel548 0.0014093387319840274\n",
            "pixel549 0.0013598638563368573\n",
            "pixel550 0.0024524922083202045\n",
            "pixel551 0.0030310791195359657\n",
            "pixel552 0.002665576428731126\n",
            "pixel553 0.0014510223347137456\n",
            "pixel554 0.0010779531342904889\n",
            "pixel555 0.0006885340962656428\n",
            "pixel556 0.00040718518836859276\n",
            "pixel557 0.00019004756048316516\n",
            "pixel558 3.341642495298446e-05\n",
            "pixel559 6.5341187596453085e-06\n",
            "pixel560 7.935661691562946e-07\n",
            "pixel561 0.0\n",
            "pixel562 7.05368446799932e-07\n",
            "pixel563 6.524250601194843e-06\n",
            "pixel564 7.221801310049948e-05\n",
            "pixel565 0.00021372082692269653\n",
            "pixel566 0.0005313750948327059\n",
            "pixel567 0.001531158225933209\n",
            "pixel568 0.0030059819623390375\n",
            "pixel569 0.004836776370913628\n",
            "pixel570 0.004703760208936788\n",
            "pixel571 0.0042420628861401756\n",
            "pixel572 0.0040864550333829415\n",
            "pixel573 0.0026979499066370326\n",
            "pixel574 0.0021520793782085264\n",
            "pixel575 0.0018954146350338371\n",
            "pixel576 0.0017453387075584519\n",
            "pixel577 0.0014518547007424459\n",
            "pixel578 0.001958846275574116\n",
            "pixel579 0.0026786680968115748\n",
            "pixel580 0.0018417515825439547\n",
            "pixel581 0.0015367072879721338\n",
            "pixel582 0.0012746649463340428\n",
            "pixel583 0.0006320565900291372\n",
            "pixel584 0.0003741607792892262\n",
            "pixel585 0.00011429069583495863\n",
            "pixel586 2.1714522202010524e-05\n",
            "pixel587 3.6446095006145376e-06\n",
            "pixel588 0.0\n",
            "pixel589 0.0\n",
            "pixel590 3.126284324037813e-07\n",
            "pixel591 5.071213635263959e-06\n",
            "pixel592 5.240931291118004e-05\n",
            "pixel593 0.0001689493483115396\n",
            "pixel594 0.00042806308441613604\n",
            "pixel595 0.0012300377686773139\n",
            "pixel596 0.002913875057026002\n",
            "pixel597 0.005583378818772911\n",
            "pixel598 0.003461910741604659\n",
            "pixel599 0.002790928749131239\n",
            "pixel600 0.0017039324249750523\n",
            "pixel601 0.001624926888041357\n",
            "pixel602 0.0014215168601757306\n",
            "pixel603 0.0012696940195861073\n",
            "pixel604 0.0012201529749470284\n",
            "pixel605 0.0012905001991657856\n",
            "pixel606 0.0014426016274004313\n",
            "pixel607 0.0013894009913747027\n",
            "pixel608 0.001139338539868772\n",
            "pixel609 0.0008800416349103134\n",
            "pixel610 0.0005579362815407655\n",
            "pixel611 0.00032088767193899935\n",
            "pixel612 0.00014308797196263616\n",
            "pixel613 4.300750688551592e-05\n",
            "pixel614 1.0328477968424903e-05\n",
            "pixel615 2.7148552079850865e-06\n",
            "pixel616 6.224368099235731e-08\n",
            "pixel617 0.0\n",
            "pixel618 5.571060567892111e-08\n",
            "pixel619 3.836764364023366e-06\n",
            "pixel620 2.4446909510041898e-05\n",
            "pixel621 9.833232932613668e-05\n",
            "pixel622 0.0002887706071874609\n",
            "pixel623 0.0006973675595241503\n",
            "pixel624 0.0014686471717401644\n",
            "pixel625 0.003072005353122636\n",
            "pixel626 0.0036059526658663047\n",
            "pixel627 0.002899238843871427\n",
            "pixel628 0.002097981761474589\n",
            "pixel629 0.0016959051820703386\n",
            "pixel630 0.0016680292706097834\n",
            "pixel631 0.0015014122913014683\n",
            "pixel632 0.001423867132243227\n",
            "pixel633 0.0012736806463434633\n",
            "pixel634 0.0010336085293365582\n",
            "pixel635 0.0009629757972386881\n",
            "pixel636 0.0006285733329023981\n",
            "pixel637 0.000493733889918276\n",
            "pixel638 0.00030201035007295306\n",
            "pixel639 0.00016185344547171282\n",
            "pixel640 7.215179110261161e-05\n",
            "pixel641 2.2999000306750476e-05\n",
            "pixel642 4.814115366654364e-06\n",
            "pixel643 1.008235045483958e-06\n",
            "pixel644 0.0\n",
            "pixel645 0.0\n",
            "pixel646 0.0\n",
            "pixel647 1.2571785089852892e-06\n",
            "pixel648 1.6039478018195414e-05\n",
            "pixel649 6.353322581465315e-05\n",
            "pixel650 0.00013376261372898676\n",
            "pixel651 0.00036027246085120916\n",
            "pixel652 0.0007230974198433593\n",
            "pixel653 0.0014218001802400024\n",
            "pixel654 0.002196288336031533\n",
            "pixel655 0.003007168109462744\n",
            "pixel656 0.003977368070112365\n",
            "pixel657 0.004859210438926703\n",
            "pixel658 0.005069399504696728\n",
            "pixel659 0.0038833466452967954\n",
            "pixel660 0.002736235567749463\n",
            "pixel661 0.001670349003304503\n",
            "pixel662 0.0010290490992144173\n",
            "pixel663 0.0006684714506153889\n",
            "pixel664 0.000382077880444495\n",
            "pixel665 0.00023132002337144234\n",
            "pixel666 0.0001351949965345029\n",
            "pixel667 7.549361893318489e-05\n",
            "pixel668 3.117150821417557e-05\n",
            "pixel669 1.2404326042133503e-05\n",
            "pixel670 4.346908620932461e-06\n",
            "pixel671 5.342553103387998e-07\n",
            "pixel672 0.0\n",
            "pixel673 0.0\n",
            "pixel674 0.0\n",
            "pixel675 4.5606203549239083e-07\n",
            "pixel676 1.0975229448372517e-05\n",
            "pixel677 3.970688052479324e-05\n",
            "pixel678 9.782575038406762e-05\n",
            "pixel679 0.0002077362105962789\n",
            "pixel680 0.00038593930287193133\n",
            "pixel681 0.0006629466092153345\n",
            "pixel682 0.0009643943886960753\n",
            "pixel683 0.0010572829794729581\n",
            "pixel684 0.0013391452982653626\n",
            "pixel685 0.0014699680771218184\n",
            "pixel686 0.0014204792975411817\n",
            "pixel687 0.0010438792459467948\n",
            "pixel688 0.000738684038627678\n",
            "pixel689 0.0005495896351965623\n",
            "pixel690 0.0004376484785974852\n",
            "pixel691 0.0003853806330480977\n",
            "pixel692 0.00022846942535541013\n",
            "pixel693 0.00014251191043475808\n",
            "pixel694 7.982364821745488e-05\n",
            "pixel695 3.3639886101894456e-05\n",
            "pixel696 1.6232055261013396e-05\n",
            "pixel697 5.975437844123385e-06\n",
            "pixel698 1.273320441630408e-06\n",
            "pixel699 2.170733821209398e-07\n",
            "pixel700 0.0\n",
            "pixel701 0.0\n",
            "pixel702 0.0\n",
            "pixel703 1.7679725217711872e-07\n",
            "pixel704 1.7096341400160287e-06\n",
            "pixel705 1.4228910026930233e-05\n",
            "pixel706 5.828369405250856e-05\n",
            "pixel707 0.00011087032879499622\n",
            "pixel708 0.0003081831655332142\n",
            "pixel709 0.00052405040523724\n",
            "pixel710 0.0006555961950737569\n",
            "pixel711 0.0009637920510233443\n",
            "pixel712 0.0010541429593480657\n",
            "pixel713 0.0012620403800413511\n",
            "pixel714 0.0009497533061982456\n",
            "pixel715 0.000690409398835773\n",
            "pixel716 0.0005203746075311952\n",
            "pixel717 0.00045441775489540317\n",
            "pixel718 0.0005175462503426776\n",
            "pixel719 0.00026124678465296725\n",
            "pixel720 0.00020022713050776248\n",
            "pixel721 9.39032347250525e-05\n",
            "pixel722 4.590339453998604e-05\n",
            "pixel723 2.0549484723182043e-05\n",
            "pixel724 5.5077286073530416e-06\n",
            "pixel725 1.7002005112693043e-06\n",
            "pixel726 2.448264873341129e-07\n",
            "pixel727 3.129954092388426e-07\n",
            "pixel728 0.0\n",
            "pixel729 0.0\n",
            "pixel730 0.0\n",
            "pixel731 0.0\n",
            "pixel732 1.220489288909495e-07\n",
            "pixel733 2.826340883574471e-06\n",
            "pixel734 8.468653008503134e-06\n",
            "pixel735 1.3671722088260408e-05\n",
            "pixel736 2.557303973332162e-05\n",
            "pixel737 5.2736490460433325e-05\n",
            "pixel738 0.00010328266627303675\n",
            "pixel739 9.538214906482922e-05\n",
            "pixel740 0.00013769553603410484\n",
            "pixel741 0.00023095638259002839\n",
            "pixel742 0.0001919908093487012\n",
            "pixel743 0.00024386516757940143\n",
            "pixel744 0.00019962000790121033\n",
            "pixel745 0.00011589807389187166\n",
            "pixel746 9.989671857395181e-05\n",
            "pixel747 7.160418871107196e-05\n",
            "pixel748 4.481361873375044e-05\n",
            "pixel749 2.7604112225408886e-05\n",
            "pixel750 9.080087034100258e-06\n",
            "pixel751 3.061289463928513e-06\n",
            "pixel752 1.0547927951572922e-06\n",
            "pixel753 1.2003046708448897e-07\n",
            "pixel754 0.0\n",
            "pixel755 0.0\n",
            "pixel756 0.0\n",
            "pixel757 0.0\n",
            "pixel758 0.0\n",
            "pixel759 0.0\n",
            "pixel760 0.0\n",
            "pixel761 0.0\n",
            "pixel762 0.0\n",
            "pixel763 8.850186388767471e-07\n",
            "pixel764 2.947000737742048e-07\n",
            "pixel765 1.1627870228223566e-06\n",
            "pixel766 2.0310210853593205e-06\n",
            "pixel767 2.7226982403573134e-06\n",
            "pixel768 2.950386051131139e-06\n",
            "pixel769 3.1067467737939723e-06\n",
            "pixel770 3.81684053154027e-06\n",
            "pixel771 5.493598501708667e-06\n",
            "pixel772 3.88097297158224e-06\n",
            "pixel773 4.002744127185792e-06\n",
            "pixel774 3.1126322584582977e-06\n",
            "pixel775 1.3916127762376788e-06\n",
            "pixel776 2.173938700974433e-06\n",
            "pixel777 1.4464991598818467e-06\n",
            "pixel778 1.396064537071139e-06\n",
            "pixel779 9.30085092686994e-07\n",
            "pixel780 3.140612549246614e-07\n",
            "pixel781 0.0\n",
            "pixel782 0.0\n",
            "pixel783 0.0\n",
            "pixel784 0.0\n"
          ]
        },
        {
          "output_type": "display_data",
          "data": {
            "text/plain": [
              "<Figure size 432x288 with 1 Axes>"
            ],
            "image/png": "[encoded data removed]"
          },
          "metadata": {
            "needs_background": "light"
          }
        }
      ]
    },
    {
      "cell_type": "markdown",
      "source": [
        "# 부스팅 boosting/hypothesis boosting\n",
        "* 약한 학습기를 여러 개 연결하여 강한 학습기를 만드는 앙상블 방법\n",
        "* 앞의 모델을 보완해 나가면서 일련의 예측기를 학습\n",
        "* 에이다부스트 AdaBoost/Adaptive Boosting & 그래디언트부스팅 Gradient Boosting"
      ],
      "metadata": {
        "id": "IIk0bwQ46qFq"
      }
    },
    {
      "cell_type": "markdown",
      "source": [
        "## 에이다부스트 AdaBoost\n",
        "* 이전 모델이 과소적합했던 훈련샘플의 가중치를 더 높임,\n",
        "* 새로운 예측기는 학습하기 어려운 샘플에 맞춰짐\n",
        "* 첫 번재 분류기(예를 들어, 결정트리)를 훈련시키고 예측\n",
        "* => 잘못 분류된 훈련샘플의 가중치를 상대적으로 높임,\n",
        "* 두 번째 분류기는 업데이트된 가중치를 사용해 훈련하고 다시 예측\n",
        "* => 다시 가중치 업데이트\n",
        "* 그림7-8 : 규제를 강하게 한 RBF 커널 SVM 분류기, 경사하강법과 비슷\n",
        "*    SVC 모델에서 fit 메서드를 호출할 때, sample_weight 매개변수를 사용해 훈련샘플의 \n",
        "*      가중치 부여. 왼쪽 가중치 2배, 오른쪽 1.5배\n",
        "*    경사하강법은 비용함수를 최소화하기 위해 한 예측기의 모델 파라미터를 조정\n",
        "*   에이다부스트는 점차 더 좋아지도록 앙상블에 예측기 추가\n",
        "*  모든 예측기가 훈련을 마치면 이 앙상블은 배깅이나 페이스팅과 비슷한 방식으로 예측을 만듬\n",
        "*  가중치가 적용된 훈련세트의 전반적 정확도에 따라 예측기마다 다른 가중치 적용\n",
        "*  단점: 이전예측기가 훈련되고 평가한 뒤에 학습하므로 병렬화 혹은 분할할 수 없다. \n",
        "*        배깅이나 페이스팅만큼 확장성 없음\n",
        "\n",
        "*  w^(i): 샘플 가중치, 1/m으로 초기화\n",
        "*  첫번째 예측기 학습 후 가중치 적용된 에러율 r1 계산, j번째 예측기에 대해\n",
        "*   에러율 r_j = sum_{i번째 샘플에 대해 j번째 예측이 틀린경우} w^(i) / sum_{i=1}^m w^(i)\n",
        "*  예측기 가중치 alpha_j = eta log((1-r_j)/r_j), eta 기본값 1, \n",
        "*   예측기가 정확할수록 가중치 올라감, 무작위 예측 가중치 0, 무작위 보다 나쁘면 음수\n",
        "*  샘플 가중치 업데이트, 잘못 분류된 샘플 가중치 증가\n",
        "*  w^(i) = w^(i) 맞았을때, w^(i) = exp(alpha_j) 틀렸을 때  => 모든 샘플의 가중치 정규화\n",
        "* 새 예측기가 업데이트된 가중치 사용 훈련하고 전체 과정 반복\n",
        "* 지정된 예측기 수에 도달하거나 완벽한 예측기가 만들어지면 중지\n",
        "* 예측 : 모든 예측기의 예측 계산, 예측기 가중치 alpha_j 를 더해 예측 결과 만듬, \n",
        "*       가중치 합이 가장 큰 클래스가 예측 결과\n",
        "*        y^hat(x) = argmax_k sum_{y^hat(x)=k} alpha_j\n",
        "* SAMME : 에이다부스트의 다중 클래스 버전, \n",
        "*    Storage Additive Modeling using a Multiclass Exponential loss function\n",
        "*    클래스가 두 개 뿐일때 에이다부스트와 동일, alpha_j = eta(log((1-r_j)/r_j)+log(K-1))\n",
        "* 예측기가 클래스의 확률을 추정할 수 있으면,(predict_proba()가 있다면 ), \n",
        "*    SAMME.R 이라는 SAMME의 변종 사용 (R:real)=>클래스 확률에 기반하여 성능좋음\n",
        "* AdaBoostClassifier 알고리즘 기본값 SAMME.R, 'SAMME'로 변경 가능 '28번 참조'\n",
        "* 200개의 아주 작은 결정트리를 기반으로 에이다부스트 훈련, max_depth=1, \n",
        "*   결정노드 하나와 리프노드 2개, AdaBoostClassifier 기본추정기\n",
        "* AdaBoostRegressor 기본추정기는 깊이 3인 DecisionTreeRegressor"
      ],
      "metadata": {
        "id": "gPPfVcTB7RNj"
      }
    },
    {
      "cell_type": "code",
      "source": [
        "from sklearn.ensemble import AdaBoostClassifier\n",
        "ada_clf = AdaBoostClassifier(\n",
        "    DecisionTreeClassifier(max_depth=1), n_estimators=200,\n",
        "    algorithm=\"SAMME.R\", learning_rate=0.5)\n",
        "ada_clf.fit(X_train,y_train)\n",
        "y_pred_ada = ada_clf.predict(X_test)\n",
        "accuracy_score(y_test,y_pred_ada)\n",
        "# 에이다 부스트 앙상블이 훈련세트에 과대적합되면 추정기 수를 줄이거나 추정기의 규제을 더 강하게"
      ],
      "metadata": {
        "colab": {
          "base_uri": "https://localhost:8080/"
        },
        "id": "4wj09GLT8HGM",
        "outputId": "94ddce61-265b-4fcf-81f4-b541716e4526"
      },
      "execution_count": null,
      "outputs": [
        {
          "output_type": "execute_result",
          "data": {
            "text/plain": [
              "0.95"
            ]
          },
          "metadata": {},
          "execution_count": 17
        }
      ]
    },
    {
      "cell_type": "markdown",
      "source": [
        "## 그레디언트 부스팅\n",
        "* 앙상블에 이전까지의 오차를 보정하도록 예측기를 순차적으로 추가\n",
        "* 샘플 가중치 수정(에이다부스팅)대신 이전 예측기가 만든 잔여오차(Residual error)에 새로운 예측기를 학습\n",
        "* 결정 트리를 기반 예측기를 사용하는 회귀 문제: 그레디언트 트리 부스팅, 그레디언트 부스티드 회귀 트리 GBRT"
      ],
      "metadata": {
        "id": "Aoj4WeW68PC7"
      }
    },
    {
      "cell_type": "code",
      "source": [
        "# 잡음섞인 2차곡선 형태 훈련세트에 DecisionTrerRegressor 학습\n",
        "import numpy as np\n",
        "X = np.random.rand(100,1) - 0.5\n",
        "Xlist = list(X); Xlist.sort(); X = np.array(Xlist)\n",
        "y = 3*X**2 + 0.1*np.random.randn(100,1)"
      ],
      "metadata": {
        "id": "8PWJnGv48hTN"
      },
      "execution_count": null,
      "outputs": []
    },
    {
      "cell_type": "code",
      "source": [
        "from sklearn.tree import DecisionTreeRegressor\n",
        "tree_reg1 = DecisionTreeRegressor(max_depth=2) \n",
        "tree_reg1.fit(X,y)\n",
        "y1 = tree_reg1.predict(X); y1=y1.reshape(100,1)\n",
        "\n",
        "y2 = y - y1\n",
        "tree_reg2 = DecisionTreeRegressor(max_depth=2)\n",
        "tree_reg2.fit(X,y2)\n",
        "haty2 = tree_reg2.predict(X); haty2 = haty2.reshape(100,1)\n",
        "\n",
        "y3 = y2 - haty2\n",
        "tree_reg3 = DecisionTreeRegressor(max_depth=2)\n",
        "tree_reg3.fit(X,y3); \n",
        "haty3 = tree_reg3.predict(X); haty3 = haty3.reshape(100,1)\n",
        "\n",
        "y_pred = sum(tree.predict(X) for tree in (tree_reg1, tree_reg2, tree_reg3))\n",
        "\n",
        "plt.figure()\n",
        "plt.plot(X,y,'*',X,y1,'r-')\n",
        "plt.show()\n",
        "\n",
        "plt.figure()\n",
        "plt.plot(X,y2,'*',X,haty2,'r-')\n",
        "plt.show()\n",
        "\n",
        "plt.figure()\n",
        "plt.plot(X,y3,'*',X,haty3,'r-')\n",
        "plt.show()\n",
        "\n",
        "plt.figure()\n",
        "plt.plot(X,y,'*',X,y1,'r-', X,y1+haty2,'c-', X,y1+haty2+haty3,'m-')\n",
        "plt.legend(['Original','1st','2nd','3rd'])\n",
        "plt.show()"
      ],
      "metadata": {
        "colab": {
          "base_uri": "https://localhost:8080/",
          "height": 1000
        },
        "id": "CW5Ed0k58kMU",
        "outputId": "224df6f5-ee2e-4566-befe-ee4ae91f982b"
      },
      "execution_count": null,
      "outputs": [
        {
          "output_type": "display_data",
          "data": {
            "text/plain": [
              "<Figure size 432x288 with 1 Axes>"
            ],
            "image/png": "[encoded data removed]"
          },
          "metadata": {
            "needs_background": "light"
          }
        },
        {
          "output_type": "display_data",
          "data": {
            "text/plain": [
              "<Figure size 432x288 with 1 Axes>"
            ],
            "image/png": "[encoded data removed]"
          },
          "metadata": {
            "needs_background": "light"
          }
        },
        {
          "output_type": "display_data",
          "data": {
            "text/plain": [
              "<Figure size 432x288 with 1 Axes>"
            ],
            "image/png": "[encoded data removed]"
          },
          "metadata": {
            "needs_background": "light"
          }
        },
        {
          "output_type": "display_data",
          "data": {
            "text/plain": [
              "<Figure size 432x288 with 1 Axes>"
            ],
            "image/png": "[encoded data removed]"
          },
          "metadata": {
            "needs_background": "light"
          }
        }
      ]
    },
    {
      "cell_type": "code",
      "source": [
        "# GBRT GradientBoostRegressor, \n",
        "# n_estimators : 트리 수, max_depth, \n",
        "#   min_samples_leaf (RandomForestRegressor): 결정트리 성장 제어\n",
        "from sklearn.ensemble import GradientBoostingRegressor\n",
        "gbrt = GradientBoostingRegressor(max_depth=2, n_estimators=3, learning_rate=1.0)\n",
        "gbrt.fit(X,y)\n",
        "haty = gbrt.predict(X)\n",
        "plt.figure()\n",
        "plt.plot(X,y,'*',X,haty,'r-')\n",
        "plt.title('learning_rate=1.0, n_estimators=3')\n",
        "plt.show()\n",
        "#트리가 충분하지 않음"
      ],
      "metadata": {
        "id": "v2Ji9aRp9LEd",
        "colab": {
          "base_uri": "https://localhost:8080/",
          "height": 338
        },
        "outputId": "a4071d04-d66c-4f65-bb0c-361f0585f250"
      },
      "execution_count": null,
      "outputs": [
        {
          "output_type": "stream",
          "name": "stderr",
          "text": [
            "/usr/local/lib/python3.7/dist-packages/sklearn/ensemble/_gb.py:494: DataConversionWarning: A column-vector y was passed when a 1d array was expected. Please change the shape of y to (n_samples, ), for example using ravel().\n",
            "  y = column_or_1d(y, warn=True)\n"
          ]
        },
        {
          "output_type": "display_data",
          "data": {
            "text/plain": [
              "<Figure size 432x288 with 1 Axes>"
            ],
            "image/png": "[encoded data removed]"
          },
          "metadata": {
            "needs_background": "light"
          }
        }
      ]
    },
    {
      "cell_type": "code",
      "source": [
        "#ravel()\n",
        "#learning_rate=0.1, 축소Shrinkage라 부르는 규제방법\n",
        "gbrt = GradientBoostingRegressor(max_depth=2, n_estimators=200, learning_rate=0.1)\n",
        "gbrt.fit(X,y)\n",
        "haty = gbrt.predict(X)\n",
        "plt.figure()\n",
        "plt.plot(X,y,'*',X,haty,'r-')\n",
        "plt.title('learning_rate=0.1, n_estimators=200')\n",
        "plt.show()\n",
        "#트리가 너무 많아 과대적합, 최적의 트리를 찾기위해서는 조기종료기법(4장)\n",
        "# staged_predict() 메서드 : 훈련의 각 단계에서 앙상블에 의해 만들어진 예측기를 \n",
        "#  순회하는 반복자를 반환"
      ],
      "metadata": {
        "colab": {
          "base_uri": "https://localhost:8080/",
          "height": 338
        },
        "id": "hIvk0IZ49W0b",
        "outputId": "d2e99630-1150-40a2-d06e-b93943897775"
      },
      "execution_count": null,
      "outputs": [
        {
          "output_type": "stream",
          "name": "stderr",
          "text": [
            "/usr/local/lib/python3.7/dist-packages/sklearn/ensemble/_gb.py:494: DataConversionWarning: A column-vector y was passed when a 1d array was expected. Please change the shape of y to (n_samples, ), for example using ravel().\n",
            "  y = column_or_1d(y, warn=True)\n"
          ]
        },
        {
          "output_type": "display_data",
          "data": {
            "text/plain": [
              "<Figure size 432x288 with 1 Axes>"
            ],
            "image/png": "[encoded data removed]"
          },
          "metadata": {
            "needs_background": "light"
          }
        }
      ]
    },
    {
      "cell_type": "code",
      "source": [
        "# 120개의 트리로 GBRT 앙상블을 훈련시키고 최적의 트리를 찾기 위해 \n",
        "# 각 훈련단계에서 검증오차 측정\n",
        "# 마지막에 최적의 트리수를 사용해 새로운 GBRT 앙상블 훈련\n",
        "from sklearn.model_selection import train_test_split\n",
        "from sklearn.metrics import mean_squared_error\n",
        "\n",
        "X_train, X_val, y_train, y_val = train_test_split(X,y)\n",
        "Xlist = list(X_val); Xlist.sort(); Xval = np.array(Xlist)\n",
        "\n",
        "gbrt = GradientBoostingRegressor(max_depth=2, n_estimators=120)\n",
        "gbrt.fit(X_train, y_train)\n",
        "\n",
        "errors = [mean_squared_error(y_val,y_pred)\n",
        "          for y_pred in gbrt.staged_predict(X_val)]\n",
        "bst_n_estimators = np.argmin(errors) + 1\n",
        "\n",
        "gbrt_best = GradientBoostingRegressor(max_depth=2, n_estimators=bst_n_estimators)\n",
        "gbrt_best.fit(X_train,y_train)\n",
        "\n",
        "yval = gbrt_best.predict(Xval)\n",
        "\n",
        "plt.figure()\n",
        "plt.plot(errors)\n",
        "plt.title('Errors w.r.t the number of trees')\n",
        "plt.show()\n",
        "\n",
        "plt.figure()\n",
        "plt.plot(X_val,y_val,'*',Xval,yval,'r-')\n",
        "plt.title('Best tree numbers')\n",
        "plt.show()"
      ],
      "metadata": {
        "colab": {
          "base_uri": "https://localhost:8080/",
          "height": 638
        },
        "id": "nwKjWrM6_Oo-",
        "outputId": "3129d1cd-c19e-4ee5-9bb6-67ddcec1cf80"
      },
      "execution_count": null,
      "outputs": [
        {
          "output_type": "stream",
          "name": "stderr",
          "text": [
            "/usr/local/lib/python3.7/dist-packages/sklearn/ensemble/_gb.py:494: DataConversionWarning: A column-vector y was passed when a 1d array was expected. Please change the shape of y to (n_samples, ), for example using ravel().\n",
            "  y = column_or_1d(y, warn=True)\n",
            "/usr/local/lib/python3.7/dist-packages/sklearn/ensemble/_gb.py:494: DataConversionWarning: A column-vector y was passed when a 1d array was expected. Please change the shape of y to (n_samples, ), for example using ravel().\n",
            "  y = column_or_1d(y, warn=True)\n"
          ]
        },
        {
          "output_type": "display_data",
          "data": {
            "text/plain": [
              "<Figure size 432x288 with 1 Axes>"
            ],
            "image/png": "[encoded data removed]"
          },
          "metadata": {
            "needs_background": "light"
          }
        },
        {
          "output_type": "display_data",
          "data": {
            "text/plain": [
              "<Figure size 432x288 with 1 Axes>"
            ],
            "image/png": "[encoded data removed]"
          },
          "metadata": {
            "needs_background": "light"
          }
        }
      ]
    },
    {
      "cell_type": "code",
      "source": [
        "bst_n_estimators #85 최적트리개수\n",
        "# 많은 수의 트리를 먼저 훈련시키고 최적의 수를 찾기위해 살펴보는 대신 실제로 훈련을 \n",
        "# 중지하는 방법으로 조기종료 구현\n",
        "# warm_start = True 로 설정하면 fit() 메서드가 호출될 때 기존 트리를 유지하고 훈련을 추가할 수 있도록 해줌\n",
        "# 연속해서 다섯 번 반복동안 검증오차가 향상되지 않으면 훈련을 멈춤\n",
        "gbrt = GradientBoostingRegressor(max_depth=2, warm_start=True)\n",
        "\n",
        "min_val_error = float(\"inf\")\n",
        "error_going_up = 0\n",
        "for n_estimators in range(1,120):\n",
        "    gbrt.n_estimators = n_estimators\n",
        "    gbrt.fit(X_train,y_train)\n",
        "    y_pred = gbrt.predict(X_val)\n",
        "    val_error = mean_squared_error(y_val, y_pred)\n",
        "    if val_error < min_val_error:\n",
        "        min_val_error = val_error\n",
        "        error_going_up = 0\n",
        "    else:\n",
        "        error_going_up += 1\n",
        "        if error_going_up == 5:\n",
        "            break\n",
        "\n",
        "gbrt.n_estimators # 60\n",
        "\n",
        "gbrt_best = GradientBoostingRegressor(max_depth=2, n_estimators=gbrt.n_estimators)\n",
        "gbrt_best.fit(X_train,y_train)\n",
        "\n",
        "yval2 = gbrt_best.predict(Xval)\n",
        "\n",
        "plt.figure()\n",
        "plt.plot(X_val,y_val,'*',Xval,yval2,'r-')\n",
        "plt.title('Early Stop')\n",
        "plt.show()\n",
        "\n",
        "plt.figure()\n",
        "plt.plot(X_val,y_val,'*',Xval,yval,'r-',Xval,yval2,'c-')\n",
        "plt.title('Best vs. Early')\n",
        "plt.legend(['Original','Best','Early'])\n",
        "plt.show()\n"
      ],
      "metadata": {
        "colab": {
          "base_uri": "https://localhost:8080/",
          "height": 1000
        },
        "id": "M_Xu0rmm_ghg",
        "outputId": "5900109f-9145-4912-ee33-cf073bacfe30"
      },
      "execution_count": null,
      "outputs": [
        {
          "output_type": "stream",
          "name": "stderr",
          "text": [
            "/usr/local/lib/python3.7/dist-packages/sklearn/ensemble/_gb.py:494: DataConversionWarning: A column-vector y was passed when a 1d array was expected. Please change the shape of y to (n_samples, ), for example using ravel().\n",
            "  y = column_or_1d(y, warn=True)\n",
            "/usr/local/lib/python3.7/dist-packages/sklearn/ensemble/_gb.py:494: DataConversionWarning: A column-vector y was passed when a 1d array was expected. Please change the shape of y to (n_samples, ), for example using ravel().\n",
            "  y = column_or_1d(y, warn=True)\n",
            "/usr/local/lib/python3.7/dist-packages/sklearn/ensemble/_gb.py:494: DataConversionWarning: A column-vector y was passed when a 1d array was expected. Please change the shape of y to (n_samples, ), for example using ravel().\n",
            "  y = column_or_1d(y, warn=True)\n",
            "/usr/local/lib/python3.7/dist-packages/sklearn/ensemble/_gb.py:494: DataConversionWarning: A column-vector y was passed when a 1d array was expected. Please change the shape of y to (n_samples, ), for example using ravel().\n",
            "  y = column_or_1d(y, warn=True)\n",
            "/usr/local/lib/python3.7/dist-packages/sklearn/ensemble/_gb.py:494: DataConversionWarning: A column-vector y was passed when a 1d array was expected. Please change the shape of y to (n_samples, ), for example using ravel().\n",
            "  y = column_or_1d(y, warn=True)\n",
            "/usr/local/lib/python3.7/dist-packages/sklearn/ensemble/_gb.py:494: DataConversionWarning: A column-vector y was passed when a 1d array was expected. Please change the shape of y to (n_samples, ), for example using ravel().\n",
            "  y = column_or_1d(y, warn=True)\n",
            "/usr/local/lib/python3.7/dist-packages/sklearn/ensemble/_gb.py:494: DataConversionWarning: A column-vector y was passed when a 1d array was expected. Please change the shape of y to (n_samples, ), for example using ravel().\n",
            "  y = column_or_1d(y, warn=True)\n",
            "/usr/local/lib/python3.7/dist-packages/sklearn/ensemble/_gb.py:494: DataConversionWarning: A column-vector y was passed when a 1d array was expected. Please change the shape of y to (n_samples, ), for example using ravel().\n",
            "  y = column_or_1d(y, warn=True)\n",
            "/usr/local/lib/python3.7/dist-packages/sklearn/ensemble/_gb.py:494: DataConversionWarning: A column-vector y was passed when a 1d array was expected. Please change the shape of y to (n_samples, ), for example using ravel().\n",
            "  y = column_or_1d(y, warn=True)\n",
            "/usr/local/lib/python3.7/dist-packages/sklearn/ensemble/_gb.py:494: DataConversionWarning: A column-vector y was passed when a 1d array was expected. Please change the shape of y to (n_samples, ), for example using ravel().\n",
            "  y = column_or_1d(y, warn=True)\n",
            "/usr/local/lib/python3.7/dist-packages/sklearn/ensemble/_gb.py:494: DataConversionWarning: A column-vector y was passed when a 1d array was expected. Please change the shape of y to (n_samples, ), for example using ravel().\n",
            "  y = column_or_1d(y, warn=True)\n",
            "/usr/local/lib/python3.7/dist-packages/sklearn/ensemble/_gb.py:494: DataConversionWarning: A column-vector y was passed when a 1d array was expected. Please change the shape of y to (n_samples, ), for example using ravel().\n",
            "  y = column_or_1d(y, warn=True)\n",
            "/usr/local/lib/python3.7/dist-packages/sklearn/ensemble/_gb.py:494: DataConversionWarning: A column-vector y was passed when a 1d array was expected. Please change the shape of y to (n_samples, ), for example using ravel().\n",
            "  y = column_or_1d(y, warn=True)\n",
            "/usr/local/lib/python3.7/dist-packages/sklearn/ensemble/_gb.py:494: DataConversionWarning: A column-vector y was passed when a 1d array was expected. Please change the shape of y to (n_samples, ), for example using ravel().\n",
            "  y = column_or_1d(y, warn=True)\n",
            "/usr/local/lib/python3.7/dist-packages/sklearn/ensemble/_gb.py:494: DataConversionWarning: A column-vector y was passed when a 1d array was expected. Please change the shape of y to (n_samples, ), for example using ravel().\n",
            "  y = column_or_1d(y, warn=True)\n",
            "/usr/local/lib/python3.7/dist-packages/sklearn/ensemble/_gb.py:494: DataConversionWarning: A column-vector y was passed when a 1d array was expected. Please change the shape of y to (n_samples, ), for example using ravel().\n",
            "  y = column_or_1d(y, warn=True)\n",
            "/usr/local/lib/python3.7/dist-packages/sklearn/ensemble/_gb.py:494: DataConversionWarning: A column-vector y was passed when a 1d array was expected. Please change the shape of y to (n_samples, ), for example using ravel().\n",
            "  y = column_or_1d(y, warn=True)\n",
            "/usr/local/lib/python3.7/dist-packages/sklearn/ensemble/_gb.py:494: DataConversionWarning: A column-vector y was passed when a 1d array was expected. Please change the shape of y to (n_samples, ), for example using ravel().\n",
            "  y = column_or_1d(y, warn=True)\n",
            "/usr/local/lib/python3.7/dist-packages/sklearn/ensemble/_gb.py:494: DataConversionWarning: A column-vector y was passed when a 1d array was expected. Please change the shape of y to (n_samples, ), for example using ravel().\n",
            "  y = column_or_1d(y, warn=True)\n",
            "/usr/local/lib/python3.7/dist-packages/sklearn/ensemble/_gb.py:494: DataConversionWarning: A column-vector y was passed when a 1d array was expected. Please change the shape of y to (n_samples, ), for example using ravel().\n",
            "  y = column_or_1d(y, warn=True)\n",
            "/usr/local/lib/python3.7/dist-packages/sklearn/ensemble/_gb.py:494: DataConversionWarning: A column-vector y was passed when a 1d array was expected. Please change the shape of y to (n_samples, ), for example using ravel().\n",
            "  y = column_or_1d(y, warn=True)\n",
            "/usr/local/lib/python3.7/dist-packages/sklearn/ensemble/_gb.py:494: DataConversionWarning: A column-vector y was passed when a 1d array was expected. Please change the shape of y to (n_samples, ), for example using ravel().\n",
            "  y = column_or_1d(y, warn=True)\n",
            "/usr/local/lib/python3.7/dist-packages/sklearn/ensemble/_gb.py:494: DataConversionWarning: A column-vector y was passed when a 1d array was expected. Please change the shape of y to (n_samples, ), for example using ravel().\n",
            "  y = column_or_1d(y, warn=True)\n",
            "/usr/local/lib/python3.7/dist-packages/sklearn/ensemble/_gb.py:494: DataConversionWarning: A column-vector y was passed when a 1d array was expected. Please change the shape of y to (n_samples, ), for example using ravel().\n",
            "  y = column_or_1d(y, warn=True)\n",
            "/usr/local/lib/python3.7/dist-packages/sklearn/ensemble/_gb.py:494: DataConversionWarning: A column-vector y was passed when a 1d array was expected. Please change the shape of y to (n_samples, ), for example using ravel().\n",
            "  y = column_or_1d(y, warn=True)\n",
            "/usr/local/lib/python3.7/dist-packages/sklearn/ensemble/_gb.py:494: DataConversionWarning: A column-vector y was passed when a 1d array was expected. Please change the shape of y to (n_samples, ), for example using ravel().\n",
            "  y = column_or_1d(y, warn=True)\n",
            "/usr/local/lib/python3.7/dist-packages/sklearn/ensemble/_gb.py:494: DataConversionWarning: A column-vector y was passed when a 1d array was expected. Please change the shape of y to (n_samples, ), for example using ravel().\n",
            "  y = column_or_1d(y, warn=True)\n",
            "/usr/local/lib/python3.7/dist-packages/sklearn/ensemble/_gb.py:494: DataConversionWarning: A column-vector y was passed when a 1d array was expected. Please change the shape of y to (n_samples, ), for example using ravel().\n",
            "  y = column_or_1d(y, warn=True)\n",
            "/usr/local/lib/python3.7/dist-packages/sklearn/ensemble/_gb.py:494: DataConversionWarning: A column-vector y was passed when a 1d array was expected. Please change the shape of y to (n_samples, ), for example using ravel().\n",
            "  y = column_or_1d(y, warn=True)\n",
            "/usr/local/lib/python3.7/dist-packages/sklearn/ensemble/_gb.py:494: DataConversionWarning: A column-vector y was passed when a 1d array was expected. Please change the shape of y to (n_samples, ), for example using ravel().\n",
            "  y = column_or_1d(y, warn=True)\n",
            "/usr/local/lib/python3.7/dist-packages/sklearn/ensemble/_gb.py:494: DataConversionWarning: A column-vector y was passed when a 1d array was expected. Please change the shape of y to (n_samples, ), for example using ravel().\n",
            "  y = column_or_1d(y, warn=True)\n",
            "/usr/local/lib/python3.7/dist-packages/sklearn/ensemble/_gb.py:494: DataConversionWarning: A column-vector y was passed when a 1d array was expected. Please change the shape of y to (n_samples, ), for example using ravel().\n",
            "  y = column_or_1d(y, warn=True)\n",
            "/usr/local/lib/python3.7/dist-packages/sklearn/ensemble/_gb.py:494: DataConversionWarning: A column-vector y was passed when a 1d array was expected. Please change the shape of y to (n_samples, ), for example using ravel().\n",
            "  y = column_or_1d(y, warn=True)\n",
            "/usr/local/lib/python3.7/dist-packages/sklearn/ensemble/_gb.py:494: DataConversionWarning: A column-vector y was passed when a 1d array was expected. Please change the shape of y to (n_samples, ), for example using ravel().\n",
            "  y = column_or_1d(y, warn=True)\n",
            "/usr/local/lib/python3.7/dist-packages/sklearn/ensemble/_gb.py:494: DataConversionWarning: A column-vector y was passed when a 1d array was expected. Please change the shape of y to (n_samples, ), for example using ravel().\n",
            "  y = column_or_1d(y, warn=True)\n",
            "/usr/local/lib/python3.7/dist-packages/sklearn/ensemble/_gb.py:494: DataConversionWarning: A column-vector y was passed when a 1d array was expected. Please change the shape of y to (n_samples, ), for example using ravel().\n",
            "  y = column_or_1d(y, warn=True)\n",
            "/usr/local/lib/python3.7/dist-packages/sklearn/ensemble/_gb.py:494: DataConversionWarning: A column-vector y was passed when a 1d array was expected. Please change the shape of y to (n_samples, ), for example using ravel().\n",
            "  y = column_or_1d(y, warn=True)\n",
            "/usr/local/lib/python3.7/dist-packages/sklearn/ensemble/_gb.py:494: DataConversionWarning: A column-vector y was passed when a 1d array was expected. Please change the shape of y to (n_samples, ), for example using ravel().\n",
            "  y = column_or_1d(y, warn=True)\n",
            "/usr/local/lib/python3.7/dist-packages/sklearn/ensemble/_gb.py:494: DataConversionWarning: A column-vector y was passed when a 1d array was expected. Please change the shape of y to (n_samples, ), for example using ravel().\n",
            "  y = column_or_1d(y, warn=True)\n",
            "/usr/local/lib/python3.7/dist-packages/sklearn/ensemble/_gb.py:494: DataConversionWarning: A column-vector y was passed when a 1d array was expected. Please change the shape of y to (n_samples, ), for example using ravel().\n",
            "  y = column_or_1d(y, warn=True)\n",
            "/usr/local/lib/python3.7/dist-packages/sklearn/ensemble/_gb.py:494: DataConversionWarning: A column-vector y was passed when a 1d array was expected. Please change the shape of y to (n_samples, ), for example using ravel().\n",
            "  y = column_or_1d(y, warn=True)\n",
            "/usr/local/lib/python3.7/dist-packages/sklearn/ensemble/_gb.py:494: DataConversionWarning: A column-vector y was passed when a 1d array was expected. Please change the shape of y to (n_samples, ), for example using ravel().\n",
            "  y = column_or_1d(y, warn=True)\n",
            "/usr/local/lib/python3.7/dist-packages/sklearn/ensemble/_gb.py:494: DataConversionWarning: A column-vector y was passed when a 1d array was expected. Please change the shape of y to (n_samples, ), for example using ravel().\n",
            "  y = column_or_1d(y, warn=True)\n",
            "/usr/local/lib/python3.7/dist-packages/sklearn/ensemble/_gb.py:494: DataConversionWarning: A column-vector y was passed when a 1d array was expected. Please change the shape of y to (n_samples, ), for example using ravel().\n",
            "  y = column_or_1d(y, warn=True)\n",
            "/usr/local/lib/python3.7/dist-packages/sklearn/ensemble/_gb.py:494: DataConversionWarning: A column-vector y was passed when a 1d array was expected. Please change the shape of y to (n_samples, ), for example using ravel().\n",
            "  y = column_or_1d(y, warn=True)\n",
            "/usr/local/lib/python3.7/dist-packages/sklearn/ensemble/_gb.py:494: DataConversionWarning: A column-vector y was passed when a 1d array was expected. Please change the shape of y to (n_samples, ), for example using ravel().\n",
            "  y = column_or_1d(y, warn=True)\n",
            "/usr/local/lib/python3.7/dist-packages/sklearn/ensemble/_gb.py:494: DataConversionWarning: A column-vector y was passed when a 1d array was expected. Please change the shape of y to (n_samples, ), for example using ravel().\n",
            "  y = column_or_1d(y, warn=True)\n",
            "/usr/local/lib/python3.7/dist-packages/sklearn/ensemble/_gb.py:494: DataConversionWarning: A column-vector y was passed when a 1d array was expected. Please change the shape of y to (n_samples, ), for example using ravel().\n",
            "  y = column_or_1d(y, warn=True)\n",
            "/usr/local/lib/python3.7/dist-packages/sklearn/ensemble/_gb.py:494: DataConversionWarning: A column-vector y was passed when a 1d array was expected. Please change the shape of y to (n_samples, ), for example using ravel().\n",
            "  y = column_or_1d(y, warn=True)\n",
            "/usr/local/lib/python3.7/dist-packages/sklearn/ensemble/_gb.py:494: DataConversionWarning: A column-vector y was passed when a 1d array was expected. Please change the shape of y to (n_samples, ), for example using ravel().\n",
            "  y = column_or_1d(y, warn=True)\n"
          ]
        },
        {
          "output_type": "display_data",
          "data": {
            "text/plain": [
              "<Figure size 432x288 with 1 Axes>"
            ],
            "image/png": "[encoded data removed]"
          },
          "metadata": {
            "needs_background": "light"
          }
        },
        {
          "output_type": "display_data",
          "data": {
            "text/plain": [
              "<Figure size 432x288 with 1 Axes>"
            ],
            "image/png": "[encoded data removed]"
          },
          "metadata": {
            "needs_background": "light"
          }
        }
      ]
    },
    {
      "cell_type": "markdown",
      "source": [
        "* 그래디언트부스팅에 조기종료 기능, validation_fraction 비율(기본값 0.1)만큼 떼내어 측정한 손실이 n_iter_no_change 반복동안 tol 값(기본값 1.e-4)이상 향상되지 않으면 훈련이 멈춤\n",
        "* 각 트리가 훈련할 때 사용할 훈련샘플의 비율 지정 : subsample 매개변수\n",
        "* subsample = 0.25, 무작위로 선택된 25%의 훈련샘플로 학습, 편향이 높아지는 대신 분산이 낮아짐, 훈련속도가 높아짐\n",
        "* 확률적 그래디언트 부스팅 Stochastic Gradient Boosting\n",
        "* 비용함수 loss : 기본값 'deviance' (로지스틱 손실 함수), 'exponential'(에이다부스트에서 사용), 'ls'(최소제곱, GradientBoostingRegressor에서 사용), 'lad' 최소 절대값 오차, 'huber' 후버손실함수, 'quantile' 사분위 손실함수\n",
        "* XGBoost : 최적화된 그래디언트 부스팅 구현 / eXtreme Gradient Boosting\n",
        "*     DMLC (Distributed deep Machine Learning Community) 일원인 텐지 쳰 Tianqi Chen 이 개발\n",
        "*   목표는 매우 빠른 속도, 확장성, 이식성\n",
        "*    머신 러닝 경연대회 우승후보의 주요 도구"
      ],
      "metadata": {
        "id": "AfLTaIE3_uGB"
      }
    },
    {
      "cell_type": "code",
      "source": [
        "# LightGBM : 히스토그램 기반 그레디언트 부스팅 => HistGradientBoostingClassifier, ~Regressor\n",
        "import xgboost # conda install -c conda-forge py-xgboost-cpu\n",
        "xgb_reg = xgboost.XGBRegressor()\n",
        "xgb_reg.fit(X_train,y_train)\n",
        "y_pred = xgb_reg.predict(Xval)\n",
        "\n",
        "xgb_reg.fit(X_train,y_train, \n",
        "            eval_set=[(X_val,y_val)], early_stopping_rounds=2)\n",
        "y_pred2 = xgb_reg.predict(Xval)\n",
        "\n",
        "plt.figure()\n",
        "plt.plot(X_val,y_val,'*',Xval,y_pred,'r-',Xval,y_pred2,'c-')\n",
        "plt.title('Best vs. Early')\n",
        "plt.legend(['Original','Best','Early'])\n",
        "plt.show()"
      ],
      "metadata": {
        "colab": {
          "base_uri": "https://localhost:8080/",
          "height": 1000
        },
        "id": "dEKhQiBmAHaz",
        "outputId": "794bf373-cee3-4908-a4bd-cceb7aff3c18"
      },
      "execution_count": null,
      "outputs": [
        {
          "output_type": "stream",
          "name": "stdout",
          "text": [
            "[03:48:27] WARNING: /workspace/src/objective/regression_obj.cu:152: reg:linear is now deprecated in favor of reg:squarederror.\n",
            "[03:48:27] WARNING: /workspace/src/objective/regression_obj.cu:152: reg:linear is now deprecated in favor of reg:squarederror.\n",
            "[0]\tvalidation_0-rmse:0.342575\n",
            "Will train until validation_0-rmse hasn't improved in 2 rounds.\n",
            "[1]\tvalidation_0-rmse:0.312725\n",
            "[2]\tvalidation_0-rmse:0.287957\n",
            "[3]\tvalidation_0-rmse:0.264339\n",
            "[4]\tvalidation_0-rmse:0.243323\n",
            "[5]\tvalidation_0-rmse:0.225338\n",
            "[6]\tvalidation_0-rmse:0.208536\n",
            "[7]\tvalidation_0-rmse:0.193672\n",
            "[8]\tvalidation_0-rmse:0.180516\n",
            "[9]\tvalidation_0-rmse:0.167428\n",
            "[10]\tvalidation_0-rmse:0.157014\n",
            "[11]\tvalidation_0-rmse:0.14815\n",
            "[12]\tvalidation_0-rmse:0.140246\n",
            "[13]\tvalidation_0-rmse:0.133241\n",
            "[14]\tvalidation_0-rmse:0.127208\n",
            "[15]\tvalidation_0-rmse:0.121737\n",
            "[16]\tvalidation_0-rmse:0.117435\n",
            "[17]\tvalidation_0-rmse:0.114023\n",
            "[18]\tvalidation_0-rmse:0.111207\n",
            "[19]\tvalidation_0-rmse:0.108522\n",
            "[20]\tvalidation_0-rmse:0.106424\n",
            "[21]\tvalidation_0-rmse:0.104501\n",
            "[22]\tvalidation_0-rmse:0.102754\n",
            "[23]\tvalidation_0-rmse:0.101282\n",
            "[24]\tvalidation_0-rmse:0.099691\n",
            "[25]\tvalidation_0-rmse:0.098397\n",
            "[26]\tvalidation_0-rmse:0.097792\n",
            "[27]\tvalidation_0-rmse:0.096688\n",
            "[28]\tvalidation_0-rmse:0.096113\n",
            "[29]\tvalidation_0-rmse:0.095572\n",
            "[30]\tvalidation_0-rmse:0.095176\n",
            "[31]\tvalidation_0-rmse:0.094428\n",
            "[32]\tvalidation_0-rmse:0.094147\n",
            "[33]\tvalidation_0-rmse:0.093982\n",
            "[34]\tvalidation_0-rmse:0.093713\n",
            "[35]\tvalidation_0-rmse:0.093553\n",
            "[36]\tvalidation_0-rmse:0.09317\n",
            "[37]\tvalidation_0-rmse:0.093265\n",
            "[38]\tvalidation_0-rmse:0.093179\n",
            "Stopping. Best iteration:\n",
            "[36]\tvalidation_0-rmse:0.09317\n",
            "\n"
          ]
        },
        {
          "output_type": "display_data",
          "data": {
            "text/plain": [
              "<Figure size 432x288 with 1 Axes>"
            ],
            "image/png": "[encoded data removed]"
          },
          "metadata": {
            "needs_background": "light"
          }
        }
      ]
    },
    {
      "cell_type": "markdown",
      "source": [
        "# 스태킹 Stacking, stacked generalization\n",
        "* 앙상블에 속한 모든 예측기의 예측을 취합하는 간단한 함수(직접투표같은)를 사용하는 대신 취합하는 모델을 훈련\n",
        "* 그림 7-12, 서로다른 예측기(3.1,2.7,2.9) => 마지막 예측기, 블렌더 Blender, 메타학습기 Meta learner\n",
        "* 블렌더 학습시키는 방법 : 홀드 아웃 Hold-out 세트를 사용\n",
        "* cf) 아웃오브폴드 예측(Out-of-fold): 스태킹, 홀드 아웃: 블렌딩 \n",
        "*     아웃오브폴드 예측은 k-겹 교차검증에서 검증 폴드의 결과를 모두 모은 것, cross_val_predict() 함수 사용\n",
        "* 홀드 아웃 세트 사용 블렌딩 : 훈련세트를 두개의 서브셋으로 나눔 => 첫번째 서브셋은 첫번째 레이어의 예측 훈련 \n",
        "*    => 첫번째 레이어 예측기로 두번째 홀드아웃 세트에 대한 예측 => 훈련동안 서로 보지 못했으므로 완전히 새로운 예측 \n",
        "*    => 홀드아웃세트에 대한 세개의 예측 => 타깃값 + 예측값 을 입력특성으로 사용하는 새로운 훈련세트, 3차원, \n",
        "*    => 블렌더가 새로운 훈련세트로 훈련, 첫번째 예측값을 가지고 타깃값을 예측하도록 학습\n",
        "*    블렌더를 여러 개 훈련시키는 것도 가능(선형회귀+렌덤포레스트회귀) => 블렌더만의 레이어 <= 훈련세트를 세개로 나눔\n",
        "*      => 세번째 세트는 두번째 레이어의 예측기로 세번째 레이어를 훈련시키기 위한 훈련세트를 만드는 데 사용\n",
        "* 사이킷런의 스태킹 ; StackingClassifier와 ~Regressor 또는 DESlib"
      ],
      "metadata": {
        "id": "CcccmNFjARKn"
      }
    },
    {
      "cell_type": "markdown",
      "source": [
        "# 추가활동\n"
      ],
      "metadata": {
        "id": "LLACYcdHx2fy"
      }
    },
    {
      "cell_type": "markdown",
      "source": [
        "## StackingClassifier 하이퍼파라미터 조사\n",
        "* [사이킷런 도큐먼트](https://scikit-learn.org/stable/modules/generated/sklearn.ensemble.StackingClassifier.html)"
      ],
      "metadata": {
        "id": "I1Eii2ZBzboI"
      }
    },
    {
      "cell_type": "markdown",
      "source": [
        "* estimators : 쌓을 추정기 목록을 작성.\n",
        "* fianl_estimator : 마지막으로 기본 추정기를 결합하는 데 사용하는 분류기. 기본 분류자는 LogisticRegression\n",
        "* cv : 교차 검증 생성기\n",
        "* stack_method: 각 기본 추정량에 대해 호출되는 메서드\n",
        "  - {'auto', 'predict_proba', 'decision_function', 'predict'}, defualt='auto'\n",
        "* n_jobs : -1로 입력하면 CPU를 최대로 사용\n",
        "* prassthrough : False이면 추정기의 예측에 대해서만 학습 데이터로 사용. True인 경우 final_estimator에서 원래 훈련 데이터뿐만 아니라 예측에 대해서도 훈련됨.\n",
        "* verbose : 상세 수준\n",
        "\n"
      ],
      "metadata": {
        "id": "pHCzEs7SzhOa"
      }
    },
    {
      "cell_type": "code",
      "source": [
        "from sklearn.ensemble import StackingClassifier"
      ],
      "metadata": {
        "id": "Rsuj9QZg0TMH"
      },
      "execution_count": 1,
      "outputs": []
    },
    {
      "cell_type": "code",
      "source": [
        "from sklearn.datasets import load_iris\n",
        "from sklearn.ensemble import RandomForestClassifier\n",
        "from sklearn.linear_model import LogisticRegression\n",
        "from sklearn.svm import LinearSVC\n",
        "from sklearn.preprocessing import StandardScaler\n",
        "from sklearn.pipeline import make_pipeline\n",
        "\n",
        "X, y = load_iris(return_X_y=True)\n",
        "estimators = [\n",
        "    ('rf', RandomForestClassifier(n_estimators=10, random_state=42)),\n",
        "    ('svr', make_pipeline(StandardScaler(), LinearSVC(random_state=42)))\n",
        "]"
      ],
      "metadata": {
        "id": "JAe9ZnhR2UL-"
      },
      "execution_count": 7,
      "outputs": []
    },
    {
      "cell_type": "code",
      "source": [
        "clf = StackingClassifier(\n",
        "  estimators=estimators, final_estimator=LogisticRegression()\n",
        ")"
      ],
      "metadata": {
        "id": "HqsnxCPz3D7U"
      },
      "execution_count": 8,
      "outputs": []
    },
    {
      "cell_type": "code",
      "source": [
        "from sklearn.model_selection import train_test_split\n",
        "X_train, X_test, y_train, y_test = train_test_split(\n",
        "    X, y, stratify=y, random_state=42 # stratify: 데이터셋을 구성할 때 y 데이터를 기준으로 균등하게 구성\n",
        ")"
      ],
      "metadata": {
        "id": "BmfHnsKp3ZLm"
      },
      "execution_count": 9,
      "outputs": []
    },
    {
      "cell_type": "code",
      "source": [
        "clf.fit(X_train, y_train).score(X_test, y_test)"
      ],
      "metadata": {
        "colab": {
          "base_uri": "https://localhost:8080/"
        },
        "id": "gg1YxELG3sd2",
        "outputId": "e4f3bd71-f2f2-48a5-b318-2f2a9aa63d63"
      },
      "execution_count": 10,
      "outputs": [
        {
          "output_type": "execute_result",
          "data": {
            "text/plain": [
              "0.9473684210526315"
            ]
          },
          "metadata": {},
          "execution_count": 10
        }
      ]
    }
  ],
  "metadata": {
    "kernelspec": {
      "display_name": "Python 3 (ipykernel)",
      "language": "python",
      "name": "python3"
    },
    "language_info": {
      "codemirror_mode": {
        "name": "ipython",
        "version": 3
      },
      "file_extension": ".py",
      "mimetype": "text/x-python",
      "name": "python",
      "nbconvert_exporter": "python",
      "pygments_lexer": "ipython3",
      "version": "3.7.3"
    },
    "nav_menu": {
      "height": "252px",
      "width": "333px"
    },
    "toc": {
      "navigate_menu": true,
      "number_sections": true,
      "sideBar": true,
      "threshold": 6,
      "toc_cell": false,
      "toc_section_display": "block",
      "toc_window_display": false
    },
    "colab": {
      "provenance": []
    }
  },
  "nbformat": 4,
  "nbformat_minor": 0
}